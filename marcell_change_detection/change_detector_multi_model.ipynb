{
 "cells": [
  {
   "cell_type": "code",
   "execution_count": 1,
   "id": "initial_id",
   "metadata": {
    "collapsed": true,
    "ExecuteTime": {
     "end_time": "2023-12-18T07:28:40.670447200Z",
     "start_time": "2023-12-18T07:28:40.152138500Z"
    }
   },
   "outputs": [],
   "source": [
    "import pandas as pd\n",
    "from sklearn.metrics import accuracy_score\n",
    "from drift_detectors.basic_window_ddm import BasicWindowDDM\n",
    "from sklearn.ensemble import RandomForestClassifier\n",
    "from kafka import KafkaConsumer, KafkaProducer\n",
    "import json\n",
    "from static_data_handlers import TrainLoaderPython, ModelTrainerTester\n",
    "from joblib import load"
   ]
  },
  {
   "cell_type": "markdown",
   "source": [
    "0.9854401518483369 attack 0 ratio\n",
    "0.9990180262327277 val. accuracy"
   ],
   "metadata": {
    "collapsed": false
   },
   "id": "aae71e14d1a8ae02"
  },
  {
   "cell_type": "markdown",
   "source": [
    "# Multi Model Drift Detection with Model Selection\n",
    "This is an experiment in which I use multiple classifiers during drift detection.\n",
    "If a drift is detected, I switch to the other model. And vice versa.\n",
    "So not only do I detect drift, but I also adapt to the concept change and switch to a model that is better suited for the new concept."
   ],
   "metadata": {
    "collapsed": false
   },
   "id": "84fff3777960ff16"
  },
  {
   "cell_type": "markdown",
   "source": [
    "## Load the basic model trained on the normal data"
   ],
   "metadata": {
    "collapsed": false
   },
   "id": "2ecad8f5c9bc8dee"
  },
  {
   "cell_type": "code",
   "execution_count": 3,
   "outputs": [],
   "source": [
    "# load the pretrained model\n",
    "clf_normal = load('models/base_model.joblib')"
   ],
   "metadata": {
    "collapsed": false,
    "ExecuteTime": {
     "end_time": "2023-12-18T07:28:45.984446400Z",
     "start_time": "2023-12-18T07:28:45.956380900Z"
    }
   },
   "id": "9b5b22806fec46be"
  },
  {
   "cell_type": "markdown",
   "source": [
    "## Attack only data and attack model\n",
    "- Load data containing attacks\n",
    "- Filter the rows containing attacks\n",
    "- Train a model on the attack data\n",
    "\n",
    "This would of course count as cheating, since we are looking at the test data that we would only access real-time. \n",
    "However, this is only for the purpose of building a demo model that performs well in case of attacks. \n",
    "Using this, we are able to demonstrate a combined drift detection and model selection approach.\n",
    "\n",
    "**I'm only doing it here and not in the pipeline with spark, because this should not be part of the pipeline.**"
   ],
   "metadata": {
    "collapsed": false
   },
   "id": "e998fa867747a7f8"
  },
  {
   "cell_type": "code",
   "execution_count": 4,
   "outputs": [],
   "source": [
    "# import csv training data\n",
    "data_folder = '../../hai_dataset/hai/hai-21.03'\n",
    "data_filenames = ['test1.csv']\n",
    "label_columns = ['attack', 'attack_P1', 'attack_P2', 'attack_P3']\n",
    "\n",
    "# load the data\n",
    "data_loader = TrainLoaderPython(data_folder=data_folder, data_filenames=data_filenames, label_columns=label_columns)\n",
    "df_attack = data_loader.get_data()\n",
    "\n",
    "# filter the rows containing attacks\n",
    "df_attack = df_attack[df_attack['attack'] > 0]\n",
    "\n",
    "# split the data\n",
    "X_train_attack, X_test_attack, y_train_attack, y_test_attack = data_loader.split_data(data_frame=df_attack)"
   ],
   "metadata": {
    "collapsed": false,
    "ExecuteTime": {
     "end_time": "2023-12-18T07:28:46.941885500Z",
     "start_time": "2023-12-18T07:28:46.735122800Z"
    }
   },
   "id": "1cd8c846a7d1a0a9"
  },
  {
   "cell_type": "markdown",
   "source": [
    "### Train the attack model"
   ],
   "metadata": {
    "collapsed": false
   },
   "id": "70cf8ae63e5538a5"
  },
  {
   "cell_type": "code",
   "execution_count": 5,
   "outputs": [
    {
     "name": "stdout",
     "output_type": "stream",
     "text": [
      "Model accuracy: 1.0\n"
     ]
    }
   ],
   "source": [
    "# train the model\n",
    "clf_attack = RandomForestClassifier()\n",
    "model_handler = ModelTrainerTester(classifier=clf_attack, X_train=X_train_attack, y_train=y_train_attack)\n",
    "clf_attack = model_handler.train_model()\n",
    "# test the model\n",
    "_, tr_accuracy = model_handler.test_model(X_test=X_test_attack, y_test=y_test_attack)\n",
    "print('Model accuracy:', tr_accuracy)"
   ],
   "metadata": {
    "collapsed": false,
    "ExecuteTime": {
     "end_time": "2023-12-18T07:28:47.750828500Z",
     "start_time": "2023-12-18T07:28:47.647893800Z"
    }
   },
   "id": "e4d2a5c1827195b5"
  },
  {
   "cell_type": "markdown",
   "source": [
    "### Create the models dictionary"
   ],
   "metadata": {
    "collapsed": false
   },
   "id": "b1f82d6ccaa0af54"
  },
  {
   "cell_type": "code",
   "execution_count": 6,
   "outputs": [],
   "source": [
    "# models\n",
    "clfs = {\n",
    "    'normal': clf_normal, \n",
    "    'attack': clf_attack\n",
    "}"
   ],
   "metadata": {
    "collapsed": false,
    "ExecuteTime": {
     "end_time": "2023-12-18T07:28:50.808868500Z",
     "start_time": "2023-12-18T07:28:50.799733300Z"
    }
   },
   "id": "ccb6744d4385062c"
  },
  {
   "cell_type": "markdown",
   "source": [
    "## Define the Kafka consumer and producer"
   ],
   "metadata": {
    "collapsed": false
   },
   "id": "d45420ce2f7e8e95"
  },
  {
   "cell_type": "code",
   "execution_count": 7,
   "outputs": [],
   "source": [
    "consumer = KafkaConsumer(\n",
    "    'hai-preprocessed',\n",
    "    bootstrap_servers=['localhost:9092'],\n",
    "    auto_offset_reset='earliest',\n",
    "    enable_auto_commit=True,\n",
    "    value_deserializer=lambda x: json.loads(x.decode('utf-8'))\n",
    ")\n",
    "\n",
    "producer = KafkaProducer(\n",
    "    bootstrap_servers=['localhost:9092'],\n",
    "    value_serializer=lambda x: json.dumps(x).encode('utf-8'))"
   ],
   "metadata": {
    "collapsed": false,
    "ExecuteTime": {
     "end_time": "2023-12-18T07:28:51.950372Z",
     "start_time": "2023-12-18T07:28:51.720013100Z"
    }
   },
   "id": "25e65db0229a1b2d"
  },
  {
   "cell_type": "markdown",
   "source": [
    "## Define the drift detector with model selection"
   ],
   "metadata": {
    "collapsed": false
   },
   "id": "c91c2eea04a62151"
  },
  {
   "cell_type": "code",
   "execution_count": 8,
   "outputs": [],
   "source": [
    "def drift_detection_with_model_selection(consumer, producer, clfs, drift_detector, start_model_label='normal'):\n",
    "    # consume the streamed data from kafka and detect drift\n",
    "    model_label = start_model_label\n",
    "    try:\n",
    "        for i, msg in enumerate(consumer):\n",
    "            # get the data from the message\n",
    "            data = msg.value\n",
    "            #print(data['features'])\n",
    "            # convert the dictionary to a dataframe\n",
    "            X = pd.DataFrame(data['features'], index=[0])\n",
    "            # get the labels\n",
    "            y = pd.DataFrame(data['labels'], index=[0])\n",
    "            # predict the labels\n",
    "            y_pred = clfs[model_label].predict(X)\n",
    "            # get the accuracy\n",
    "            accuracy = accuracy_score(y, y_pred)\n",
    "            # detect drift\n",
    "            drift_detector.add_element(accuracy)\n",
    "            warning_detected = drift_detector.detected_warning_zone()\n",
    "            drift_detected = drift_detector.detected_change()\n",
    "            \n",
    "            # send the results\n",
    "            producer.send(\n",
    "                'hai-results', \n",
    "                value={\n",
    "                    'drift_detector': 10,\n",
    "                    'attack': data['labels']['attack'],\n",
    "                    'accuracy': accuracy, \n",
    "                    'warning_detected': int(warning_detected), \n",
    "                    'drift_detected': int(drift_detected),\n",
    "                    'model_id': 0 if model_label == 'normal' else 1\n",
    "                })\n",
    "            \n",
    "            # print the results\n",
    "            '''if accuracy < 0.5:\n",
    "                print('Iteration {}'.format(i), 'Accuracy: {}'.format(accuracy))'''\n",
    "            if (i + 1) % 10000 == 0:\n",
    "                print('Iteration {}'.format(i + 1), 'Accuracy: {}'.format(accuracy))\n",
    "            if drift_detected:\n",
    "                print(f'Iteration {i + 1} Accuracy: {accuracy} - Current label: {model_label} - Drift detected!')\n",
    "                \n",
    "            if drift_detected:\n",
    "                if model_label == 'normal':\n",
    "                    model_label = 'attack'\n",
    "                else:\n",
    "                    model_label = 'normal'\n",
    "                \n",
    "            i += 1\n",
    "    except KeyboardInterrupt:\n",
    "        print(\"Consumer interrupted. Stopping...\")\n",
    "    finally:\n",
    "        consumer.close()\n",
    "        \n",
    "        "
   ],
   "metadata": {
    "collapsed": false,
    "ExecuteTime": {
     "end_time": "2023-12-18T07:28:53.442627800Z",
     "start_time": "2023-12-18T07:28:53.430649Z"
    }
   },
   "id": "b4efe14e9b0383a0"
  },
  {
   "cell_type": "markdown",
   "source": [
    "## Run the drift detection with model selection"
   ],
   "metadata": {
    "collapsed": false
   },
   "id": "8617f4a0e5a95555"
  },
  {
   "cell_type": "code",
   "execution_count": 9,
   "outputs": [
    {
     "name": "stdout",
     "output_type": "stream",
     "text": [
      "Iteration 2121 Accuracy: 0.0 - Current label: normal - Drift detected!\n",
      "Iteration 2313 Accuracy: 0.0 - Current label: attack - Drift detected!\n",
      "Iteration 8901 Accuracy: 0.0 - Current label: normal - Drift detected!\n",
      "Iteration 8999 Accuracy: 0.0 - Current label: attack - Drift detected!\n",
      "Iteration 10000 Accuracy 1.0\n",
      "Iteration 14361 Accuracy: 0.0 - Current label: normal - Drift detected!\n",
      "Iteration 14551 Accuracy: 0.0 - Current label: attack - Drift detected!\n",
      "Iteration 19276 Accuracy: 0.0 - Current label: normal - Drift detected!\n",
      "Iteration 19336 Accuracy: 0.0 - Current label: attack - Drift detected!\n",
      "Iteration 20000 Accuracy 1.0\n",
      "Iteration 21811 Accuracy: 0.0 - Current label: normal - Drift detected!\n",
      "Iteration 21900 Accuracy: 0.0 - Current label: attack - Drift detected!\n",
      "Iteration 30000 Accuracy 1.0\n",
      "Iteration 40000 Accuracy 1.0\n",
      "Iteration 46031 Accuracy: 0.0 - Current label: normal - Drift detected!\n",
      "Iteration 46114 Accuracy: 0.0 - Current label: attack - Drift detected!\n",
      "Iteration 50000 Accuracy 1.0\n",
      "Iteration 52691 Accuracy: 0.0 - Current label: normal - Drift detected!\n",
      "Iteration 53113 Accuracy: 0.0 - Current label: attack - Drift detected!\n",
      "Iteration 57557 Accuracy: 0.0 - Current label: normal - Drift detected!\n",
      "Iteration 57577 Accuracy: 0.0 - Current label: attack - Drift detected!\n",
      "Iteration 60000 Accuracy 1.0\n",
      "Iteration 61811 Accuracy: 0.0 - Current label: normal - Drift detected!\n",
      "Iteration 61831 Accuracy: 1.0 - Current label: attack - Drift detected!\n",
      "Iteration 61851 Accuracy: 0.0 - Current label: normal - Drift detected!\n",
      "Iteration 62070 Accuracy: 0.0 - Current label: attack - Drift detected!\n",
      "Iteration 65711 Accuracy: 0.0 - Current label: normal - Drift detected!\n",
      "Iteration 65731 Accuracy: 0.0 - Current label: attack - Drift detected!\n",
      "Iteration 65751 Accuracy: 0.0 - Current label: normal - Drift detected!\n",
      "Iteration 65771 Accuracy: 0.0 - Current label: attack - Drift detected!\n",
      "Iteration 65791 Accuracy: 0.0 - Current label: normal - Drift detected!\n",
      "Iteration 65811 Accuracy: 0.0 - Current label: attack - Drift detected!\n",
      "Iteration 65831 Accuracy: 1.0 - Current label: normal - Drift detected!\n",
      "Iteration 65851 Accuracy: 0.0 - Current label: attack - Drift detected!\n",
      "Iteration 70000 Accuracy 1.0\n",
      "Iteration 72131 Accuracy: 0.0 - Current label: normal - Drift detected!\n",
      "Iteration 72151 Accuracy: 0.0 - Current label: attack - Drift detected!\n",
      "Iteration 72171 Accuracy: 0.0 - Current label: normal - Drift detected!\n",
      "Iteration 72191 Accuracy: 0.0 - Current label: attack - Drift detected!\n",
      "Iteration 72211 Accuracy: 0.0 - Current label: normal - Drift detected!\n",
      "Iteration 72247 Accuracy: 0.0 - Current label: attack - Drift detected!\n",
      "Iteration 72267 Accuracy: 0.0 - Current label: normal - Drift detected!\n",
      "Iteration 72287 Accuracy: 0.0 - Current label: attack - Drift detected!\n",
      "Iteration 72307 Accuracy: 0.0 - Current label: normal - Drift detected!\n",
      "Iteration 72327 Accuracy: 0.0 - Current label: attack - Drift detected!\n",
      "Iteration 72347 Accuracy: 0.0 - Current label: normal - Drift detected!\n",
      "Iteration 72367 Accuracy: 0.0 - Current label: attack - Drift detected!\n",
      "Iteration 79691 Accuracy: 0.0 - Current label: normal - Drift detected!\n",
      "Iteration 79759 Accuracy: 0.0 - Current label: attack - Drift detected!\n",
      "Iteration 80000 Accuracy 1.0\n",
      "Iteration 81192 Accuracy: 0.0 - Current label: normal - Drift detected!\n",
      "Iteration 81212 Accuracy: 0.0 - Current label: attack - Drift detected!\n",
      "Iteration 81232 Accuracy: 0.0 - Current label: normal - Drift detected!\n",
      "Iteration 81252 Accuracy: 0.0 - Current label: attack - Drift detected!\n",
      "Iteration 81272 Accuracy: 0.0 - Current label: normal - Drift detected!\n",
      "Iteration 81292 Accuracy: 0.0 - Current label: attack - Drift detected!\n",
      "Iteration 81312 Accuracy: 0.0 - Current label: normal - Drift detected!\n",
      "Iteration 81332 Accuracy: 0.0 - Current label: attack - Drift detected!\n",
      "Iteration 81352 Accuracy: 0.0 - Current label: normal - Drift detected!\n",
      "Iteration 81429 Accuracy: 0.0 - Current label: attack - Drift detected!\n",
      "Iteration 81449 Accuracy: 1.0 - Current label: normal - Drift detected!\n",
      "Iteration 81469 Accuracy: 0.0 - Current label: attack - Drift detected!\n",
      "Iteration 86602 Accuracy: 0.0 - Current label: normal - Drift detected!\n",
      "Iteration 86622 Accuracy: 0.0 - Current label: attack - Drift detected!\n",
      "Iteration 86642 Accuracy: 0.0 - Current label: normal - Drift detected!\n",
      "Iteration 86801 Accuracy: 0.0 - Current label: attack - Drift detected!\n",
      "Iteration 90000 Accuracy 1.0\n",
      "Iteration 95351 Accuracy: 0.0 - Current label: normal - Drift detected!\n",
      "Iteration 95371 Accuracy: 0.0 - Current label: attack - Drift detected!\n",
      "Iteration 95391 Accuracy: 0.0 - Current label: normal - Drift detected!\n",
      "Iteration 95411 Accuracy: 0.0 - Current label: attack - Drift detected!\n",
      "Iteration 95431 Accuracy: 0.0 - Current label: normal - Drift detected!\n",
      "Iteration 95451 Accuracy: 0.0 - Current label: attack - Drift detected!\n",
      "Iteration 95471 Accuracy: 0.0 - Current label: normal - Drift detected!\n",
      "Iteration 95491 Accuracy: 0.0 - Current label: attack - Drift detected!\n",
      "Iteration 95511 Accuracy: 0.0 - Current label: normal - Drift detected!\n",
      "Iteration 95531 Accuracy: 0.0 - Current label: attack - Drift detected!\n",
      "Iteration 95551 Accuracy: 0.0 - Current label: normal - Drift detected!\n",
      "Iteration 95571 Accuracy: 0.0 - Current label: attack - Drift detected!\n",
      "Iteration 95591 Accuracy: 0.0 - Current label: normal - Drift detected!\n",
      "Iteration 95611 Accuracy: 0.0 - Current label: attack - Drift detected!\n",
      "Iteration 95631 Accuracy: 0.0 - Current label: normal - Drift detected!\n",
      "Iteration 95651 Accuracy: 0.0 - Current label: attack - Drift detected!\n",
      "Iteration 95671 Accuracy: 0.0 - Current label: normal - Drift detected!\n",
      "Iteration 95691 Accuracy: 0.0 - Current label: attack - Drift detected!\n",
      "Iteration 95711 Accuracy: 0.0 - Current label: normal - Drift detected!\n",
      "Iteration 95731 Accuracy: 0.0 - Current label: attack - Drift detected!\n",
      "Iteration 95751 Accuracy: 0.0 - Current label: normal - Drift detected!\n",
      "Iteration 95771 Accuracy: 0.0 - Current label: attack - Drift detected!\n",
      "Iteration 100000 Accuracy 1.0\n",
      "Iteration 103877 Accuracy: 0.0 - Current label: normal - Drift detected!\n",
      "Iteration 103897 Accuracy: 1.0 - Current label: attack - Drift detected!\n",
      "Iteration 103917 Accuracy: 1.0 - Current label: normal - Drift detected!\n",
      "Iteration 103937 Accuracy: 0.0 - Current label: attack - Drift detected!\n",
      "Iteration 108792 Accuracy: 0.0 - Current label: normal - Drift detected!\n",
      "Iteration 108880 Accuracy: 0.0 - Current label: attack - Drift detected!\n",
      "Iteration 108900 Accuracy: 0.0 - Current label: normal - Drift detected!\n",
      "Iteration 108920 Accuracy: 0.0 - Current label: attack - Drift detected!\n",
      "Iteration 108940 Accuracy: 1.0 - Current label: normal - Drift detected!\n",
      "Iteration 108960 Accuracy: 0.0 - Current label: attack - Drift detected!\n",
      "Iteration 110000 Accuracy 1.0\n",
      "Iteration 114554 Accuracy: 0.0 - Current label: normal - Drift detected!\n",
      "Iteration 114574 Accuracy: 0.0 - Current label: attack - Drift detected!\n",
      "Iteration 114594 Accuracy: 0.0 - Current label: normal - Drift detected!\n",
      "Iteration 114614 Accuracy: 0.0 - Current label: attack - Drift detected!\n",
      "Iteration 114634 Accuracy: 0.0 - Current label: normal - Drift detected!\n",
      "Iteration 114654 Accuracy: 0.0 - Current label: attack - Drift detected!\n",
      "Iteration 114674 Accuracy: 0.0 - Current label: normal - Drift detected!\n",
      "Iteration 114694 Accuracy: 0.0 - Current label: attack - Drift detected!\n",
      "Iteration 114714 Accuracy: 0.0 - Current label: normal - Drift detected!\n",
      "Iteration 114734 Accuracy: 0.0 - Current label: attack - Drift detected!\n",
      "Iteration 114754 Accuracy: 0.0 - Current label: normal - Drift detected!\n",
      "Iteration 114774 Accuracy: 0.0 - Current label: attack - Drift detected!\n",
      "Iteration 114794 Accuracy: 0.0 - Current label: normal - Drift detected!\n",
      "Iteration 114814 Accuracy: 0.0 - Current label: attack - Drift detected!\n",
      "Iteration 120000 Accuracy 1.0\n",
      "Iteration 121882 Accuracy: 0.0 - Current label: normal - Drift detected!\n",
      "Iteration 121902 Accuracy: 0.0 - Current label: attack - Drift detected!\n",
      "Iteration 121922 Accuracy: 0.0 - Current label: normal - Drift detected!\n",
      "Iteration 121942 Accuracy: 0.0 - Current label: attack - Drift detected!\n",
      "Iteration 121962 Accuracy: 0.0 - Current label: normal - Drift detected!\n",
      "Iteration 121982 Accuracy: 0.0 - Current label: attack - Drift detected!\n",
      "Iteration 122002 Accuracy: 0.0 - Current label: normal - Drift detected!\n",
      "Iteration 122022 Accuracy: 0.0 - Current label: attack - Drift detected!\n",
      "Iteration 130000 Accuracy 1.0\n",
      "Iteration 130275 Accuracy: 0.0 - Current label: normal - Drift detected!\n",
      "Iteration 130426 Accuracy: 0.0 - Current label: attack - Drift detected!\n",
      "Iteration 132017 Accuracy: 0.0 - Current label: normal - Drift detected!\n",
      "Iteration 132037 Accuracy: 0.0 - Current label: attack - Drift detected!\n",
      "Iteration 132057 Accuracy: 0.0 - Current label: normal - Drift detected!\n",
      "Iteration 132077 Accuracy: 0.0 - Current label: attack - Drift detected!\n",
      "Iteration 134535 Accuracy: 0.0 - Current label: normal - Drift detected!\n",
      "Iteration 134635 Accuracy: 0.0 - Current label: attack - Drift detected!\n",
      "Iteration 134655 Accuracy: 0.0 - Current label: normal - Drift detected!\n",
      "Iteration 134719 Accuracy: 0.0 - Current label: attack - Drift detected!\n",
      "Iteration 140000 Accuracy 1.0\n",
      "Iteration 141684 Accuracy: 0.0 - Current label: normal - Drift detected!\n",
      "Iteration 141704 Accuracy: 0.0 - Current label: attack - Drift detected!\n",
      "Iteration 141724 Accuracy: 0.0 - Current label: normal - Drift detected!\n",
      "Iteration 141782 Accuracy: 0.0 - Current label: attack - Drift detected!\n",
      "Iteration 150000 Accuracy 1.0\n",
      "Iteration 152714 Accuracy: 0.0 - Current label: normal - Drift detected!\n",
      "Iteration 152734 Accuracy: 0.0 - Current label: attack - Drift detected!\n",
      "Iteration 152754 Accuracy: 0.0 - Current label: normal - Drift detected!\n",
      "Iteration 152774 Accuracy: 0.0 - Current label: attack - Drift detected!\n",
      "Iteration 152794 Accuracy: 0.0 - Current label: normal - Drift detected!\n",
      "Iteration 152814 Accuracy: 0.0 - Current label: attack - Drift detected!\n",
      "Iteration 158174 Accuracy: 0.0 - Current label: normal - Drift detected!\n",
      "Iteration 158194 Accuracy: 0.0 - Current label: attack - Drift detected!\n",
      "Iteration 158214 Accuracy: 0.0 - Current label: normal - Drift detected!\n",
      "Iteration 158234 Accuracy: 0.0 - Current label: attack - Drift detected!\n",
      "Iteration 158254 Accuracy: 0.0 - Current label: normal - Drift detected!\n",
      "Iteration 158274 Accuracy: 0.0 - Current label: attack - Drift detected!\n",
      "Iteration 160000 Accuracy 1.0\n",
      "Iteration 170000 Accuracy 1.0\n",
      "Iteration 180000 Accuracy 1.0\n",
      "Iteration 190000 Accuracy 1.0\n",
      "Iteration 200000 Accuracy 1.0\n",
      "Iteration 210000 Accuracy 1.0\n",
      "Iteration 211878 Accuracy: 0.0 - Current label: normal - Drift detected!\n",
      "Iteration 211977 Accuracy: 0.0 - Current label: attack - Drift detected!\n",
      "Iteration 211997 Accuracy: 0.0 - Current label: normal - Drift detected!\n",
      "Iteration 212017 Accuracy: 0.0 - Current label: attack - Drift detected!\n",
      "Iteration 217272 Accuracy: 0.0 - Current label: normal - Drift detected!\n",
      "Iteration 217693 Accuracy: 0.0 - Current label: attack - Drift detected!\n",
      "Iteration 220000 Accuracy 1.0\n",
      "Iteration 227480 Accuracy: 0.0 - Current label: normal - Drift detected!\n",
      "Iteration 227669 Accuracy: 0.0 - Current label: attack - Drift detected!\n",
      "Iteration 230000 Accuracy 1.0\n",
      "Iteration 237194 Accuracy: 0.0 - Current label: normal - Drift detected!\n",
      "Iteration 237300 Accuracy: 0.0 - Current label: attack - Drift detected!\n",
      "Iteration 238992 Accuracy: 0.0 - Current label: normal - Drift detected!\n",
      "Iteration 239076 Accuracy: 0.0 - Current label: attack - Drift detected!\n",
      "Iteration 240000 Accuracy 1.0\n",
      "Iteration 248123 Accuracy: 0.0 - Current label: normal - Drift detected!\n",
      "Iteration 248143 Accuracy: 0.0 - Current label: attack - Drift detected!\n",
      "Iteration 248163 Accuracy: 0.0 - Current label: normal - Drift detected!\n",
      "Iteration 248183 Accuracy: 0.0 - Current label: attack - Drift detected!\n",
      "Iteration 248203 Accuracy: 0.0 - Current label: normal - Drift detected!\n",
      "Iteration 248223 Accuracy: 0.0 - Current label: attack - Drift detected!\n",
      "Iteration 248243 Accuracy: 0.0 - Current label: normal - Drift detected!\n",
      "Iteration 248263 Accuracy: 0.0 - Current label: attack - Drift detected!\n",
      "Iteration 248283 Accuracy: 0.0 - Current label: normal - Drift detected!\n",
      "Iteration 248303 Accuracy: 0.0 - Current label: attack - Drift detected!\n",
      "Iteration 248323 Accuracy: 0.0 - Current label: normal - Drift detected!\n",
      "Iteration 248343 Accuracy: 0.0 - Current label: attack - Drift detected!\n",
      "Iteration 250000 Accuracy 1.0\n",
      "Iteration 255074 Accuracy: 0.0 - Current label: normal - Drift detected!\n",
      "Iteration 255094 Accuracy: 0.0 - Current label: attack - Drift detected!\n",
      "Iteration 255114 Accuracy: 0.0 - Current label: normal - Drift detected!\n",
      "Iteration 255134 Accuracy: 0.0 - Current label: attack - Drift detected!\n",
      "Iteration 255154 Accuracy: 0.0 - Current label: normal - Drift detected!\n",
      "Iteration 255174 Accuracy: 0.0 - Current label: attack - Drift detected!\n",
      "Iteration 260000 Accuracy 1.0\n",
      "Iteration 262393 Accuracy: 0.0 - Current label: normal - Drift detected!\n",
      "Iteration 262413 Accuracy: 0.0 - Current label: attack - Drift detected!\n",
      "Iteration 262433 Accuracy: 0.0 - Current label: normal - Drift detected!\n",
      "Iteration 262572 Accuracy: 0.0 - Current label: attack - Drift detected!\n",
      "Iteration 262592 Accuracy: 0.0 - Current label: normal - Drift detected!\n",
      "Iteration 262612 Accuracy: 0.0 - Current label: attack - Drift detected!\n",
      "Iteration 262632 Accuracy: 0.0 - Current label: normal - Drift detected!\n",
      "Iteration 262652 Accuracy: 0.0 - Current label: attack - Drift detected!\n",
      "Iteration 270000 Accuracy 1.0\n",
      "Iteration 272596 Accuracy: 0.0 - Current label: normal - Drift detected!\n",
      "Iteration 272850 Accuracy: 0.0 - Current label: attack - Drift detected!\n",
      "Iteration 276313 Accuracy: 0.0 - Current label: normal - Drift detected!\n",
      "Iteration 276333 Accuracy: 0.0 - Current label: attack - Drift detected!\n",
      "Iteration 276353 Accuracy: 0.0 - Current label: normal - Drift detected!\n",
      "Iteration 276373 Accuracy: 0.0 - Current label: attack - Drift detected!\n",
      "Iteration 276393 Accuracy: 0.0 - Current label: normal - Drift detected!\n",
      "Iteration 276413 Accuracy: 0.0 - Current label: attack - Drift detected!\n",
      "Iteration 276433 Accuracy: 0.0 - Current label: normal - Drift detected!\n",
      "Iteration 276575 Accuracy: 0.0 - Current label: attack - Drift detected!\n",
      "Iteration 280000 Accuracy 1.0\n",
      "Iteration 284234 Accuracy: 0.0 - Current label: normal - Drift detected!\n",
      "Iteration 284254 Accuracy: 0.0 - Current label: attack - Drift detected!\n",
      "Iteration 284274 Accuracy: 0.0 - Current label: normal - Drift detected!\n",
      "Iteration 284294 Accuracy: 0.0 - Current label: attack - Drift detected!\n",
      "Iteration 284314 Accuracy: 0.0 - Current label: normal - Drift detected!\n",
      "Iteration 284334 Accuracy: 0.0 - Current label: attack - Drift detected!\n",
      "Iteration 284354 Accuracy: 0.0 - Current label: normal - Drift detected!\n",
      "Iteration 284497 Accuracy: 0.0 - Current label: attack - Drift detected!\n",
      "Iteration 290000 Accuracy 1.0\n",
      "Iteration 290715 Accuracy: 0.0 - Current label: normal - Drift detected!\n",
      "Iteration 290735 Accuracy: 0.0 - Current label: attack - Drift detected!\n",
      "Iteration 290755 Accuracy: 0.0 - Current label: normal - Drift detected!\n",
      "Iteration 290775 Accuracy: 0.0 - Current label: attack - Drift detected!\n",
      "Iteration 290795 Accuracy: 0.0 - Current label: normal - Drift detected!\n",
      "Iteration 290815 Accuracy: 0.0 - Current label: attack - Drift detected!\n",
      "Iteration 290835 Accuracy: 0.0 - Current label: normal - Drift detected!\n",
      "Iteration 290855 Accuracy: 0.0 - Current label: attack - Drift detected!\n",
      "Iteration 290875 Accuracy: 0.0 - Current label: normal - Drift detected!\n",
      "Iteration 290973 Accuracy: 0.0 - Current label: attack - Drift detected!\n",
      "Iteration 300000 Accuracy 1.0\n",
      "Iteration 301634 Accuracy: 0.0 - Current label: normal - Drift detected!\n",
      "Iteration 301654 Accuracy: 0.0 - Current label: attack - Drift detected!\n",
      "Iteration 301674 Accuracy: 0.0 - Current label: normal - Drift detected!\n",
      "Iteration 301694 Accuracy: 0.0 - Current label: attack - Drift detected!\n",
      "Iteration 301714 Accuracy: 0.0 - Current label: normal - Drift detected!\n",
      "Iteration 301734 Accuracy: 0.0 - Current label: attack - Drift detected!\n",
      "Iteration 310000 Accuracy 1.0\n",
      "Iteration 311174 Accuracy: 0.0 - Current label: normal - Drift detected!\n",
      "Iteration 311194 Accuracy: 0.0 - Current label: attack - Drift detected!\n",
      "Iteration 311214 Accuracy: 0.0 - Current label: normal - Drift detected!\n",
      "Iteration 311234 Accuracy: 0.0 - Current label: attack - Drift detected!\n",
      "Iteration 311254 Accuracy: 0.0 - Current label: normal - Drift detected!\n",
      "Iteration 311274 Accuracy: 0.0 - Current label: attack - Drift detected!\n",
      "Iteration 311294 Accuracy: 0.0 - Current label: normal - Drift detected!\n",
      "Iteration 311314 Accuracy: 0.0 - Current label: attack - Drift detected!\n",
      "Iteration 311334 Accuracy: 0.0 - Current label: normal - Drift detected!\n",
      "Iteration 311354 Accuracy: 0.0 - Current label: attack - Drift detected!\n",
      "Iteration 319217 Accuracy: 0.0 - Current label: normal - Drift detected!\n",
      "Iteration 319237 Accuracy: 0.0 - Current label: attack - Drift detected!\n",
      "Iteration 319257 Accuracy: 0.0 - Current label: normal - Drift detected!\n",
      "Iteration 319277 Accuracy: 1.0 - Current label: attack - Drift detected!\n",
      "Iteration 319297 Accuracy: 0.0 - Current label: normal - Drift detected!\n",
      "Iteration 319475 Accuracy: 0.0 - Current label: attack - Drift detected!\n",
      "Iteration 320000 Accuracy 1.0\n",
      "Iteration 328522 Accuracy: 0.0 - Current label: normal - Drift detected!\n",
      "Iteration 328542 Accuracy: 0.0 - Current label: attack - Drift detected!\n",
      "Iteration 328562 Accuracy: 0.0 - Current label: normal - Drift detected!\n",
      "Iteration 328582 Accuracy: 1.0 - Current label: attack - Drift detected!\n",
      "Iteration 328602 Accuracy: 0.0 - Current label: normal - Drift detected!\n",
      "Iteration 328778 Accuracy: 0.0 - Current label: attack - Drift detected!\n",
      "Iteration 330000 Accuracy 1.0\n",
      "Iteration 334514 Accuracy: 0.0 - Current label: normal - Drift detected!\n",
      "Iteration 334534 Accuracy: 0.0 - Current label: attack - Drift detected!\n",
      "Iteration 334554 Accuracy: 0.0 - Current label: normal - Drift detected!\n",
      "Iteration 334574 Accuracy: 0.0 - Current label: attack - Drift detected!\n",
      "Iteration 334594 Accuracy: 0.0 - Current label: normal - Drift detected!\n",
      "Iteration 334614 Accuracy: 0.0 - Current label: attack - Drift detected!\n",
      "Iteration 337703 Accuracy: 0.0 - Current label: normal - Drift detected!\n",
      "Iteration 337906 Accuracy: 0.0 - Current label: attack - Drift detected!\n",
      "Iteration 340000 Accuracy 1.0\n",
      "Iteration 345137 Accuracy: 0.0 - Current label: normal - Drift detected!\n",
      "Iteration 345157 Accuracy: 0.0 - Current label: attack - Drift detected!\n",
      "Iteration 345177 Accuracy: 0.0 - Current label: normal - Drift detected!\n",
      "Iteration 345197 Accuracy: 0.0 - Current label: attack - Drift detected!\n",
      "Iteration 345217 Accuracy: 0.0 - Current label: normal - Drift detected!\n",
      "Iteration 345237 Accuracy: 0.0 - Current label: attack - Drift detected!\n",
      "Iteration 345257 Accuracy: 0.0 - Current label: normal - Drift detected!\n",
      "Iteration 345290 Accuracy: 0.0 - Current label: attack - Drift detected!\n",
      "Iteration 350000 Accuracy 1.0\n",
      "Iteration 354199 Accuracy: 0.0 - Current label: normal - Drift detected!\n",
      "Iteration 354272 Accuracy: 0.0 - Current label: attack - Drift detected!\n",
      "Iteration 360000 Accuracy 1.0\n",
      "Iteration 361520 Accuracy: 0.0 - Current label: normal - Drift detected!\n",
      "Iteration 361540 Accuracy: 0.0 - Current label: attack - Drift detected!\n",
      "Iteration 361560 Accuracy: 0.0 - Current label: normal - Drift detected!\n",
      "Iteration 361580 Accuracy: 0.0 - Current label: attack - Drift detected!\n",
      "Iteration 364285 Accuracy: 0.0 - Current label: normal - Drift detected!\n",
      "Iteration 364305 Accuracy: 0.0 - Current label: attack - Drift detected!\n",
      "Iteration 364325 Accuracy: 0.0 - Current label: normal - Drift detected!\n",
      "Iteration 364345 Accuracy: 0.0 - Current label: attack - Drift detected!\n",
      "Iteration 364365 Accuracy: 0.0 - Current label: normal - Drift detected!\n",
      "Iteration 364385 Accuracy: 0.0 - Current label: attack - Drift detected!\n",
      "Iteration 364405 Accuracy: 0.0 - Current label: normal - Drift detected!\n",
      "Iteration 364425 Accuracy: 0.0 - Current label: attack - Drift detected!\n",
      "Iteration 364445 Accuracy: 0.0 - Current label: normal - Drift detected!\n",
      "Iteration 364465 Accuracy: 0.0 - Current label: attack - Drift detected!\n",
      "Iteration 364485 Accuracy: 0.0 - Current label: normal - Drift detected!\n",
      "Iteration 364505 Accuracy: 0.0 - Current label: attack - Drift detected!\n",
      "Iteration 364525 Accuracy: 1.0 - Current label: normal - Drift detected!\n",
      "Iteration 364545 Accuracy: 0.0 - Current label: attack - Drift detected!\n",
      "Iteration 370000 Accuracy 1.0\n",
      "Iteration 380000 Accuracy 1.0\n",
      "Iteration 390000 Accuracy 1.0\n",
      "Iteration 392655 Accuracy: 0.0 - Current label: normal - Drift detected!\n",
      "Iteration 392917 Accuracy: 0.0 - Current label: attack - Drift detected!\n",
      "Iteration 395414 Accuracy: 0.0 - Current label: normal - Drift detected!\n",
      "Iteration 395434 Accuracy: 0.0 - Current label: attack - Drift detected!\n",
      "Iteration 395454 Accuracy: 0.0 - Current label: normal - Drift detected!\n",
      "Iteration 395474 Accuracy: 0.0 - Current label: attack - Drift detected!\n",
      "Iteration 395494 Accuracy: 0.0 - Current label: normal - Drift detected!\n",
      "Iteration 395514 Accuracy: 0.0 - Current label: attack - Drift detected!\n",
      "Iteration 397873 Accuracy: 0.0 - Current label: normal - Drift detected!\n",
      "Iteration 398135 Accuracy: 0.0 - Current label: attack - Drift detected!\n",
      "Iteration 400000 Accuracy 1.0\n",
      "Consumer interrupted. Stopping...\n"
     ]
    }
   ],
   "source": [
    "drift_detection_with_model_selection(consumer=consumer, producer=producer, clfs=clfs, drift_detector=BasicWindowDDM())"
   ],
   "metadata": {
    "collapsed": false,
    "ExecuteTime": {
     "end_time": "2023-12-18T08:17:34.304073400Z",
     "start_time": "2023-12-18T07:28:54.721810500Z"
    }
   },
   "id": "2fc0c3b38cc8daae"
  },
  {
   "cell_type": "code",
   "execution_count": null,
   "outputs": [],
   "source": [],
   "metadata": {
    "collapsed": false
   },
   "id": "6588fdc053a25aaf"
  }
 ],
 "metadata": {
  "kernelspec": {
   "display_name": "Python 3",
   "language": "python",
   "name": "python3"
  },
  "language_info": {
   "codemirror_mode": {
    "name": "ipython",
    "version": 2
   },
   "file_extension": ".py",
   "mimetype": "text/x-python",
   "name": "python",
   "nbconvert_exporter": "python",
   "pygments_lexer": "ipython2",
   "version": "2.7.6"
  }
 },
 "nbformat": 4,
 "nbformat_minor": 5
}
