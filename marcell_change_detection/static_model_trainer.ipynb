{
 "cells": [
  {
   "cell_type": "code",
   "execution_count": 1,
   "id": "initial_id",
   "metadata": {
    "is_executing": true
   },
   "outputs": [],
   "source": [
    "from static_data_handlers.train_data_loader import TrainLoader\n",
    "from pyspark.sql import SparkSession\n",
    "from pyspark.sql.functions import col\n",
    "from sklearn.ensemble import RandomForestClassifier\n",
    "from joblib import dump\n",
    "from sklearn.metrics import accuracy_score\n",
    "import pandas as pd"
   ]
  },
  {
   "cell_type": "code",
   "execution_count": 2,
   "id": "37b414d4bd10367d",
   "metadata": {
    "ExecuteTime": {
     "end_time": "2023-12-16T11:52:53.765791Z",
     "start_time": "2023-12-16T11:52:53.758777200Z"
    },
    "collapsed": false,
    "jupyter": {
     "outputs_hidden": false
    }
   },
   "outputs": [],
   "source": [
    "# define csv paths\n",
    "data_folder = '../hai_dataset/hai/hai-21.03'\n",
    "data_filenames = ['train1.csv', 'train2.csv', 'train3.csv']\n",
    "label_columns = ['attack', 'attack_P1', 'attack_P2', 'attack_P3']"
   ]
  },
  {
   "cell_type": "code",
   "execution_count": 3,
   "id": "29ba3ff21b90f4e2",
   "metadata": {
    "ExecuteTime": {
     "end_time": "2023-12-16T11:54:32.132249700Z",
     "start_time": "2023-12-16T11:54:31.872524700Z"
    },
    "collapsed": false,
    "jupyter": {
     "outputs_hidden": false
    }
   },
   "outputs": [
    {
     "data": {
      "text/plain": [
       "Row(time=datetime.datetime(2020, 7, 11, 0, 0), P1_B2004=0.10121, P1_B2016=1.29784, P1_B3004=397.63785, P1_B3005=1001.99799, P1_B4002=33.6555, P1_B4005=100.0, P1_B400B=2847.02539, P1_B4022=37.14706, P1_FCV01D=100.0, P1_FCV01Z=100.0, P1_FCV02D=0.0, P1_FCV02Z=-1.87531, P1_FCV03D=51.58201, P1_FCV03Z=52.80456, P1_FT01=166.74039, P1_FT01Z=808.2962, P1_FT02=1973.19031, P1_FT02Z=2847.02539, P1_FT03=246.43968, P1_FT03Z=1000.44769, P1_LCV01D=8.79882, P1_LCV01Z=8.46252, P1_LIT01=395.19528, P1_PCV01D=39.09198, P1_PCV01Z=40.49072, P1_PCV02D=12, P1_PCV02Z=12.01782, P1_PIT01=1.3681, P1_PIT02=0.27786, P1_PP01AD=540833, P1_PP01AR=540833, P1_PP01BD=0, P1_PP01BR=0, P1_PP02D=1, P1_PP02R=1, P1_STSP=1, P1_TIT01=35.437, P1_TIT02=35.74219, P2_24Vdc=28.02645, P2_ASD=0, P2_AutoGO=1, P2_CO_rpm=54074.0, P2_Emerg=0, P2_HILout=712.07275, P2_MSD=763.19324, P2_ManualGO=0, P2_OnOff=1, P2_RTR=2880, P2_SIT01=780.0, P2_SIT02=779.59595, P2_TripEx=1, P2_VT01=11.89504, P2_VTR01=10, P2_VTR02=10, P2_VTR03=10, P2_VTR04=10, P2_VXT02=-3.066, P2_VXT03=-1.2648, P2_VYT02=4.1758, P2_VYT03=6.0951, P3_FIT01=4795.0, P3_LCP01D=10832.0, P3_LCV01D=608.0, P3_LH=70, P3_LIT01=15454.0, P3_LL=20, P3_PIT01=815.0, P4_HT_FD=-0.00072, P4_HT_LD=0.06511, P4_HT_PO=4.01474, P4_HT_PS=0, P4_LD=301.01636, P4_ST_FD=-0.00297, P4_ST_GOV=16495.0, P4_ST_LD=301.35992, P4_ST_PO=305.03113, P4_ST_PS=0, P4_ST_PT01=10052.0, P4_ST_TT01=27610.0, attack=0, attack_P1=0, attack_P2=0, attack_P3=0)"
      ]
     },
     "execution_count": 3,
     "metadata": {},
     "output_type": "execute_result"
    }
   ],
   "source": [
    "# Initialize Spark session\n",
    "spark_session = SparkSession.builder.appName(\"ModerTraining\").getOrCreate()\n",
    "\n",
    "# Load raw training data\n",
    "data_loader = TrainLoader(spark_session, data_folder=data_folder, data_filenames=data_filenames, label_columns=label_columns)\n",
    "df = data_loader.get_data()"
   ]
  },
  {
   "cell_type": "code",
   "execution_count": 4,
   "id": "6ad631b7-1aa2-4cd1-9282-fd2cf41b1e10",
   "metadata": {},
   "outputs": [],
   "source": [
    "# preprocess data\n",
    "df = data_loader.preprocess_data(df)\n",
    "X_train, X_test, y_train, y_test = data_loader.split_data(data_frame=df)"
   ]
  },
  {
   "cell_type": "code",
   "execution_count": 8,
   "id": "20243b0e-c5c2-4a54-b951-aebaba18436a",
   "metadata": {},
   "outputs": [],
   "source": [
    "# convert pyspark dataframe to pandas dataframe\n",
    "X_train=X_train.toPandas()\n",
    "y_train=y_train.toPandas()\n",
    "X_test=X_test.toPandas()\n",
    "y_test=y_test.toPandas()\n",
    "\n",
    "# eliminate time column, it is not needed for prediction\n",
    "X_train=X_train.set_index('time')\n",
    "y_train=y_train.set_index('time')"
   ]
  },
  {
   "cell_type": "code",
   "execution_count": 19,
   "id": "7bb8a143-5dab-4b2f-81bd-920c9dafccf4",
   "metadata": {},
   "outputs": [
    {
     "data": {
      "text/html": [
       "<div>\n",
       "<style scoped>\n",
       "    .dataframe tbody tr th:only-of-type {\n",
       "        vertical-align: middle;\n",
       "    }\n",
       "\n",
       "    .dataframe tbody tr th {\n",
       "        vertical-align: top;\n",
       "    }\n",
       "\n",
       "    .dataframe thead th {\n",
       "        text-align: right;\n",
       "    }\n",
       "</style>\n",
       "<table border=\"1\" class=\"dataframe\">\n",
       "  <thead>\n",
       "    <tr style=\"text-align: right;\">\n",
       "      <th></th>\n",
       "      <th>P1_B2004</th>\n",
       "      <th>P1_B2016</th>\n",
       "      <th>P1_B3004</th>\n",
       "      <th>P1_B3005</th>\n",
       "      <th>P1_B4002</th>\n",
       "      <th>P1_B4005</th>\n",
       "      <th>P1_B400B</th>\n",
       "      <th>P1_B4022</th>\n",
       "      <th>P1_FCV01D</th>\n",
       "      <th>P1_FCV01Z</th>\n",
       "      <th>...</th>\n",
       "      <th>P4_HT_PO</th>\n",
       "      <th>P4_HT_PS</th>\n",
       "      <th>P4_LD</th>\n",
       "      <th>P4_ST_FD</th>\n",
       "      <th>P4_ST_GOV</th>\n",
       "      <th>P4_ST_LD</th>\n",
       "      <th>P4_ST_PO</th>\n",
       "      <th>P4_ST_PS</th>\n",
       "      <th>P4_ST_PT01</th>\n",
       "      <th>P4_ST_TT01</th>\n",
       "    </tr>\n",
       "    <tr>\n",
       "      <th>time</th>\n",
       "      <th></th>\n",
       "      <th></th>\n",
       "      <th></th>\n",
       "      <th></th>\n",
       "      <th></th>\n",
       "      <th></th>\n",
       "      <th></th>\n",
       "      <th></th>\n",
       "      <th></th>\n",
       "      <th></th>\n",
       "      <th></th>\n",
       "      <th></th>\n",
       "      <th></th>\n",
       "      <th></th>\n",
       "      <th></th>\n",
       "      <th></th>\n",
       "      <th></th>\n",
       "      <th></th>\n",
       "      <th></th>\n",
       "      <th></th>\n",
       "      <th></th>\n",
       "    </tr>\n",
       "  </thead>\n",
       "  <tbody>\n",
       "    <tr>\n",
       "      <th>2020-07-11 00:00:00</th>\n",
       "      <td>0.10121</td>\n",
       "      <td>1.29784</td>\n",
       "      <td>397.63785</td>\n",
       "      <td>1001.99799</td>\n",
       "      <td>33.6555</td>\n",
       "      <td>100.0</td>\n",
       "      <td>2847.02539</td>\n",
       "      <td>37.14706</td>\n",
       "      <td>100.0</td>\n",
       "      <td>100.0</td>\n",
       "      <td>...</td>\n",
       "      <td>4.01474</td>\n",
       "      <td>0</td>\n",
       "      <td>301.01636</td>\n",
       "      <td>-0.00297</td>\n",
       "      <td>16495.0</td>\n",
       "      <td>301.35992</td>\n",
       "      <td>305.03113</td>\n",
       "      <td>0</td>\n",
       "      <td>10052.0</td>\n",
       "      <td>27610.0</td>\n",
       "    </tr>\n",
       "    <tr>\n",
       "      <th>2020-07-11 00:00:01</th>\n",
       "      <td>0.10121</td>\n",
       "      <td>1.29692</td>\n",
       "      <td>397.63785</td>\n",
       "      <td>1001.99799</td>\n",
       "      <td>33.6555</td>\n",
       "      <td>100.0</td>\n",
       "      <td>2839.58520</td>\n",
       "      <td>37.14477</td>\n",
       "      <td>100.0</td>\n",
       "      <td>100.0</td>\n",
       "      <td>...</td>\n",
       "      <td>3.74347</td>\n",
       "      <td>0</td>\n",
       "      <td>297.43567</td>\n",
       "      <td>0.00072</td>\n",
       "      <td>16402.0</td>\n",
       "      <td>297.43567</td>\n",
       "      <td>304.27161</td>\n",
       "      <td>0</td>\n",
       "      <td>10052.0</td>\n",
       "      <td>27610.0</td>\n",
       "    </tr>\n",
       "    <tr>\n",
       "      <th>2020-07-11 00:00:03</th>\n",
       "      <td>0.10121</td>\n",
       "      <td>1.28685</td>\n",
       "      <td>397.63785</td>\n",
       "      <td>1001.99799</td>\n",
       "      <td>33.6555</td>\n",
       "      <td>100.0</td>\n",
       "      <td>2834.95264</td>\n",
       "      <td>37.11959</td>\n",
       "      <td>100.0</td>\n",
       "      <td>100.0</td>\n",
       "      <td>...</td>\n",
       "      <td>3.12860</td>\n",
       "      <td>0</td>\n",
       "      <td>297.74310</td>\n",
       "      <td>-0.00318</td>\n",
       "      <td>16422.0</td>\n",
       "      <td>298.06860</td>\n",
       "      <td>303.67474</td>\n",
       "      <td>0</td>\n",
       "      <td>10052.0</td>\n",
       "      <td>27614.0</td>\n",
       "    </tr>\n",
       "    <tr>\n",
       "      <th>2020-07-11 00:00:04</th>\n",
       "      <td>0.10121</td>\n",
       "      <td>1.28807</td>\n",
       "      <td>397.63785</td>\n",
       "      <td>1001.99799</td>\n",
       "      <td>33.6555</td>\n",
       "      <td>100.0</td>\n",
       "      <td>2832.70654</td>\n",
       "      <td>37.12265</td>\n",
       "      <td>100.0</td>\n",
       "      <td>100.0</td>\n",
       "      <td>...</td>\n",
       "      <td>2.87546</td>\n",
       "      <td>0</td>\n",
       "      <td>297.01965</td>\n",
       "      <td>0.00015</td>\n",
       "      <td>16355.0</td>\n",
       "      <td>296.53137</td>\n",
       "      <td>303.22266</td>\n",
       "      <td>0</td>\n",
       "      <td>10052.0</td>\n",
       "      <td>27621.0</td>\n",
       "    </tr>\n",
       "    <tr>\n",
       "      <th>2020-07-11 00:00:05</th>\n",
       "      <td>0.10121</td>\n",
       "      <td>1.28838</td>\n",
       "      <td>397.63785</td>\n",
       "      <td>1001.99799</td>\n",
       "      <td>33.6555</td>\n",
       "      <td>100.0</td>\n",
       "      <td>2840.56763</td>\n",
       "      <td>37.12341</td>\n",
       "      <td>100.0</td>\n",
       "      <td>100.0</td>\n",
       "      <td>...</td>\n",
       "      <td>2.64032</td>\n",
       "      <td>0</td>\n",
       "      <td>296.98346</td>\n",
       "      <td>0.00094</td>\n",
       "      <td>16261.0</td>\n",
       "      <td>296.83881</td>\n",
       "      <td>302.04718</td>\n",
       "      <td>0</td>\n",
       "      <td>10051.0</td>\n",
       "      <td>27610.0</td>\n",
       "    </tr>\n",
       "  </tbody>\n",
       "</table>\n",
       "<p>5 rows × 79 columns</p>\n",
       "</div>"
      ],
      "text/plain": [
       "                     P1_B2004  P1_B2016   P1_B3004    P1_B3005  P1_B4002  \\\n",
       "time                                                                       \n",
       "2020-07-11 00:00:00   0.10121   1.29784  397.63785  1001.99799   33.6555   \n",
       "2020-07-11 00:00:01   0.10121   1.29692  397.63785  1001.99799   33.6555   \n",
       "2020-07-11 00:00:03   0.10121   1.28685  397.63785  1001.99799   33.6555   \n",
       "2020-07-11 00:00:04   0.10121   1.28807  397.63785  1001.99799   33.6555   \n",
       "2020-07-11 00:00:05   0.10121   1.28838  397.63785  1001.99799   33.6555   \n",
       "\n",
       "                     P1_B4005    P1_B400B  P1_B4022  P1_FCV01D  P1_FCV01Z  \\\n",
       "time                                                                        \n",
       "2020-07-11 00:00:00     100.0  2847.02539  37.14706      100.0      100.0   \n",
       "2020-07-11 00:00:01     100.0  2839.58520  37.14477      100.0      100.0   \n",
       "2020-07-11 00:00:03     100.0  2834.95264  37.11959      100.0      100.0   \n",
       "2020-07-11 00:00:04     100.0  2832.70654  37.12265      100.0      100.0   \n",
       "2020-07-11 00:00:05     100.0  2840.56763  37.12341      100.0      100.0   \n",
       "\n",
       "                     ...  P4_HT_PO  P4_HT_PS      P4_LD  P4_ST_FD  P4_ST_GOV  \\\n",
       "time                 ...                                                       \n",
       "2020-07-11 00:00:00  ...   4.01474         0  301.01636  -0.00297    16495.0   \n",
       "2020-07-11 00:00:01  ...   3.74347         0  297.43567   0.00072    16402.0   \n",
       "2020-07-11 00:00:03  ...   3.12860         0  297.74310  -0.00318    16422.0   \n",
       "2020-07-11 00:00:04  ...   2.87546         0  297.01965   0.00015    16355.0   \n",
       "2020-07-11 00:00:05  ...   2.64032         0  296.98346   0.00094    16261.0   \n",
       "\n",
       "                      P4_ST_LD   P4_ST_PO  P4_ST_PS  P4_ST_PT01  P4_ST_TT01  \n",
       "time                                                                         \n",
       "2020-07-11 00:00:00  301.35992  305.03113         0     10052.0     27610.0  \n",
       "2020-07-11 00:00:01  297.43567  304.27161         0     10052.0     27610.0  \n",
       "2020-07-11 00:00:03  298.06860  303.67474         0     10052.0     27614.0  \n",
       "2020-07-11 00:00:04  296.53137  303.22266         0     10052.0     27621.0  \n",
       "2020-07-11 00:00:05  296.83881  302.04718         0     10051.0     27610.0  \n",
       "\n",
       "[5 rows x 79 columns]"
      ]
     },
     "execution_count": 19,
     "metadata": {},
     "output_type": "execute_result"
    }
   ],
   "source": [
    "X_train.head()"
   ]
  },
  {
   "cell_type": "code",
   "execution_count": null,
   "id": "f338f4c0-0076-40dc-95d5-52a6466f05ef",
   "metadata": {},
   "outputs": [],
   "source": [
    "y_train.head()"
   ]
  },
  {
   "cell_type": "code",
   "execution_count": 20,
   "id": "0e4cb1c7-6e05-465c-b095-9ac23ed9b351",
   "metadata": {},
   "outputs": [],
   "source": [
    "# Define and train the model using sklearn\n",
    "clf = RandomForestClassifier()\n",
    "clf = clf.fit(X_train, y_train)"
   ]
  },
  {
   "cell_type": "code",
   "execution_count": null,
   "id": "db86017e-d7f3-426a-a84c-2de50c9dcfbf",
   "metadata": {},
   "outputs": [],
   "source": [
    "# check model accuracy\n",
    "y_pred = clf.predict(X_test)\n",
    "accuracy = accuracy_score(y_test, y_pred)\n",
    "print(f\"Test Accuracy: {accuracy}\")"
   ]
  },
  {
   "cell_type": "code",
   "execution_count": 21,
   "id": "f816132c-f090-40dd-b9a8-f06130cfe359",
   "metadata": {},
   "outputs": [
    {
     "data": {
      "text/plain": [
       "['models/base_model.joblib']"
      ]
     },
     "execution_count": 21,
     "metadata": {},
     "output_type": "execute_result"
    }
   ],
   "source": [
    "# save model\n",
    "dump(clf, 'models/base_model.joblib')"
   ]
  },
  {
   "cell_type": "code",
   "execution_count": null,
   "id": "d3a40f16-5d5f-4c6d-972c-51bdf5fe8c0f",
   "metadata": {},
   "outputs": [],
   "source": [
    "# Stop Spark session\n",
    "spark_session.stop()"
   ]
  }
 ],
 "metadata": {
  "kernelspec": {
   "display_name": "Python 3 (ipykernel)",
   "language": "python",
   "name": "python3"
  },
  "language_info": {
   "codemirror_mode": {
    "name": "ipython",
    "version": 3
   },
   "file_extension": ".py",
   "mimetype": "text/x-python",
   "name": "python",
   "nbconvert_exporter": "python",
   "pygments_lexer": "ipython3",
   "version": "3.11.6"
  }
 },
 "nbformat": 4,
 "nbformat_minor": 5
}
