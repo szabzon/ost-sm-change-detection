{
 "cells": [
  {
   "cell_type": "code",
   "execution_count": 1,
   "id": "initial_id",
   "metadata": {
    "collapsed": true,
    "ExecuteTime": {
     "end_time": "2023-12-16T22:42:42.908617700Z",
     "start_time": "2023-12-16T22:42:42.684148200Z"
    }
   },
   "outputs": [],
   "source": [
    "import os\n",
    "from data_streamers import KafkaDataStreamer"
   ]
  },
  {
   "cell_type": "code",
   "execution_count": 2,
   "id": "30dbb479821b4306",
   "metadata": {
    "collapsed": false,
    "ExecuteTime": {
     "end_time": "2023-12-16T22:43:29.383481700Z",
     "start_time": "2023-12-16T22:42:43.931683300Z"
    }
   },
   "outputs": [
    {
     "name": "stdout",
     "output_type": "stream",
     "text": [
      "Streaming data from ../../hai_dataset/hai/hai-21.03/test1.csv\n",
      "Sent message #0\n",
      "Sent message #10000\n",
      "Sent message #20000\n",
      "Sent message #30000\n",
      "Sent message #40000\n",
      "Streaming data from ../../hai_dataset/hai/hai-21.03/test2.csv\n",
      "Sent message #0\n",
      "Sent message #10000\n",
      "Sent message #20000\n",
      "Sent message #30000\n",
      "Sent message #40000\n",
      "Sent message #50000\n",
      "Sent message #60000\n",
      "Sent message #70000\n",
      "Sent message #80000\n",
      "Sent message #90000\n",
      "Sent message #100000\n",
      "Sent message #110000\n",
      "Streaming data from ../../hai_dataset/hai/hai-21.03/test3.csv\n",
      "Sent message #0\n",
      "Sent message #10000\n",
      "Sent message #20000\n",
      "Sent message #30000\n",
      "Sent message #40000\n",
      "Sent message #50000\n",
      "Sent message #60000\n",
      "Sent message #70000\n",
      "Sent message #80000\n",
      "Sent message #90000\n",
      "Sent message #100000\n",
      "Streaming data from ../../hai_dataset/hai/hai-21.03/test4.csv\n",
      "Sent message #0\n",
      "Sent message #10000\n",
      "Sent message #20000\n",
      "Sent message #30000\n",
      "Streaming data from ../../hai_dataset/hai/hai-21.03/test5.csv\n",
      "Sent message #0\n",
      "Sent message #10000\n",
      "Sent message #20000\n",
      "Sent message #30000\n",
      "Sent message #40000\n",
      "Sent message #50000\n",
      "Sent message #60000\n",
      "Sent message #70000\n",
      "Sent message #80000\n",
      "Sent message #90000\n"
     ]
    }
   ],
   "source": [
    "data_folder = '../../hai_dataset/hai/hai-21.03'\n",
    "test_data_filenames = ['test1.csv', 'test2.csv', 'test3.csv', 'test4.csv', 'test5.csv']\n",
    "data_paths = [os.path.join(data_folder, filename).replace(os.sep, '/') for filename in test_data_filenames]\n",
    "#data_path = os.path.join(data_folder, 'test1.csv').replace(os.sep, '/')\n",
    "bootstrap_servers = ['localhost:9092']  # Update with your Kafka bootstrap servers\n",
    "topic = 'hai-input'\n",
    "\n",
    "# Stream the stored data to Kafka\n",
    "streamer = KafkaDataStreamer(bootstrap_servers, topic)\n",
    "streamer.stream_data(data_paths)"
   ]
  },
  {
   "cell_type": "code",
   "execution_count": 13,
   "id": "3d3330ff35648870",
   "metadata": {
    "collapsed": false,
    "ExecuteTime": {
     "end_time": "2023-12-07T15:24:05.567690100Z",
     "start_time": "2023-12-07T15:24:05.552910800Z"
    }
   },
   "outputs": [],
   "source": []
  },
  {
   "cell_type": "code",
   "execution_count": null,
   "outputs": [],
   "source": [],
   "metadata": {
    "collapsed": false
   },
   "id": "23198354386636aa"
  }
 ],
 "metadata": {
  "kernelspec": {
   "display_name": "Python 3",
   "language": "python",
   "name": "python3"
  },
  "language_info": {
   "codemirror_mode": {
    "name": "ipython",
    "version": 3
   },
   "file_extension": ".py",
   "mimetype": "text/x-python",
   "name": "python",
   "nbconvert_exporter": "python",
   "pygments_lexer": "ipython3",
   "version": "3.10.13"
  }
 },
 "nbformat": 4,
 "nbformat_minor": 5
}
