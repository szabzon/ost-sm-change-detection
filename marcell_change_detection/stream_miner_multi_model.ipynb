{
 "cells": [
  {
   "cell_type": "code",
   "execution_count": 1,
   "id": "initial_id",
   "metadata": {
    "collapsed": true,
    "ExecuteTime": {
     "end_time": "2023-12-16T18:20:41.768625500Z",
     "start_time": "2023-12-16T18:20:39.775415400Z"
    }
   },
   "outputs": [],
   "source": [
    "import pandas as pd\n",
    "from sklearn.metrics import accuracy_score\n",
    "from drift_detectors.basic_window_ddm import BasicWindowDDM\n",
    "from sklearn.ensemble import RandomForestClassifier\n",
    "from kafka import KafkaConsumer, KafkaProducer\n",
    "import json\n",
    "from static_data_handlers import TrainLoaderPython, ModelTrainerTester\n",
    "from joblib import load"
   ]
  },
  {
   "cell_type": "code",
   "execution_count": 12,
   "outputs": [],
   "source": [
    "# 0.9854401518483369 attack 0 ratio\n",
    "# 0.9990180262327277 val. accuracy"
   ],
   "metadata": {
    "collapsed": false,
    "ExecuteTime": {
     "end_time": "2023-12-14T09:11:48.142222800Z",
     "start_time": "2023-12-14T09:11:48.123165400Z"
    }
   },
   "id": "93755aa894b425eb"
  },
  {
   "cell_type": "markdown",
   "source": [
    "# Multi Model Drift Detection with Model Selection\n",
    "This is an experiment in which I use multiple classifiers during drift detection.\n",
    "If a drift is detected, I switch to the other model. And vice versa.\n",
    "So not only do I detect drift, but I also adapt to the concept change and switch to a model that is better suited for the new concept."
   ],
   "metadata": {
    "collapsed": false
   },
   "id": "84fff3777960ff16"
  },
  {
   "cell_type": "markdown",
   "source": [
    "## Load the basic model trained on the normal data"
   ],
   "metadata": {
    "collapsed": false
   },
   "id": "2ecad8f5c9bc8dee"
  },
  {
   "cell_type": "code",
   "execution_count": 13,
   "outputs": [],
   "source": [
    "# load the pretrained model\n",
    "clf_normal = load('models/base_model.joblib')"
   ],
   "metadata": {
    "collapsed": false,
    "ExecuteTime": {
     "end_time": "2023-12-14T09:11:49.795616400Z",
     "start_time": "2023-12-14T09:11:49.791035400Z"
    }
   },
   "id": "9b5b22806fec46be"
  },
  {
   "cell_type": "markdown",
   "source": [
    "## Attack only data and attack model\n",
    "- Load data containing attacks\n",
    "- Filter the rows containing attacks\n",
    "- Train a model on the attack data\n",
    "\n",
    "This would of course count as cheating, since we are looking at the test data that we would only access real-time. \n",
    "However, this is only for the purpose of building a demo model that performs well in case of attacks. \n",
    "Using this, we are able to demonstrate a combined drift detection and model selection approach.\n",
    "\n",
    "**I'm only doing it here and not in the pipeline with spark, because this should not be part of the pipeline.**"
   ],
   "metadata": {
    "collapsed": false
   },
   "id": "e998fa867747a7f8"
  },
  {
   "cell_type": "code",
   "execution_count": 15,
   "outputs": [],
   "source": [
    "# import csv training data\n",
    "data_folder = '../../hai_dataset/hai/hai-21.03'\n",
    "data_filenames = ['test1.csv']\n",
    "label_columns = ['attack', 'attack_P1', 'attack_P2', 'attack_P3']\n",
    "\n",
    "# load the data\n",
    "data_loader = TrainLoaderPython(data_folder=data_folder, data_filenames=data_filenames, label_columns=label_columns)\n",
    "df_attack = data_loader.get_data()\n",
    "\n",
    "# filter the rows containing attacks\n",
    "df_attack = df_attack[df_attack['attack'] > 0]\n",
    "\n",
    "# split the data\n",
    "X_train_attack, X_test_attack, y_train_attack, y_test_attack = data_loader.split_data(data_frame=df_attack)"
   ],
   "metadata": {
    "collapsed": false,
    "ExecuteTime": {
     "end_time": "2023-12-14T09:11:53.146467700Z",
     "start_time": "2023-12-14T09:11:53.136507800Z"
    }
   },
   "id": "1cd8c846a7d1a0a9"
  },
  {
   "cell_type": "markdown",
   "source": [
    "### Train the attack model"
   ],
   "metadata": {
    "collapsed": false
   },
   "id": "70cf8ae63e5538a5"
  },
  {
   "cell_type": "code",
   "execution_count": null,
   "outputs": [],
   "source": [
    "# train the model\n",
    "clf_attack = RandomForestClassifier()\n",
    "model_handler = ModelTrainerTester(classifier=clf_attack, X_train=X_train_attack, y_train=y_train_attack)\n",
    "clf_attack = model_handler.train_model()\n",
    "# test the model\n",
    "_, tr_accuracy = model_handler.test_model(X_test=X_test_attack, y_test=y_test_attack)\n",
    "print('Model accuracy:', tr_accuracy)"
   ],
   "metadata": {
    "collapsed": false
   },
   "id": "e4d2a5c1827195b5"
  },
  {
   "cell_type": "markdown",
   "source": [
    "### Create the models dictionary"
   ],
   "metadata": {
    "collapsed": false
   },
   "id": "b1f82d6ccaa0af54"
  },
  {
   "cell_type": "code",
   "execution_count": null,
   "outputs": [],
   "source": [
    "# models\n",
    "clfs = {\n",
    "    'normal': clf_normal, \n",
    "    'attack': clf_attack\n",
    "}"
   ],
   "metadata": {
    "collapsed": false
   },
   "id": "ccb6744d4385062c"
  },
  {
   "cell_type": "markdown",
   "source": [
    "## Define the Kafka consumer and producer"
   ],
   "metadata": {
    "collapsed": false
   },
   "id": "d45420ce2f7e8e95"
  },
  {
   "cell_type": "code",
   "execution_count": null,
   "outputs": [],
   "source": [
    "consumer = KafkaConsumer(\n",
    "    'hai-preprocessed',\n",
    "    bootstrap_servers=['localhost:9092'],\n",
    "    auto_offset_reset='earliest',\n",
    "    enable_auto_commit=True,\n",
    "    value_deserializer=lambda x: json.loads(x.decode('utf-8'))\n",
    ")\n",
    "\n",
    "producer = KafkaProducer(\n",
    "    bootstrap_servers=['localhost:9092'],\n",
    "    value_serializer=lambda x: json.dumps(x).encode('utf-8'))"
   ],
   "metadata": {
    "collapsed": false
   },
   "id": "25e65db0229a1b2d"
  },
  {
   "cell_type": "markdown",
   "source": [
    "## Define the drift detector with model selection"
   ],
   "metadata": {
    "collapsed": false
   },
   "id": "c91c2eea04a62151"
  },
  {
   "cell_type": "code",
   "execution_count": null,
   "outputs": [],
   "source": [
    "def drift_detection_with_model_selection(consumer, producer, clfs, drift_detector, starting_model='normal'):\n",
    "    # consume the streamed data from kafka and detect drift\n",
    "    # model selection\n",
    "    model_label = starting_model\n",
    "    for i, msg in enumerate(consumer):\n",
    "        # get the data from the message\n",
    "        data = msg.value\n",
    "        #print(data['features'])\n",
    "        # convert the dictionary to a dataframe\n",
    "        X = pd.DataFrame(data['features'], index=[0])\n",
    "        # get the labels\n",
    "        y = pd.DataFrame(data['labels'], index=[0])\n",
    "        # predict the labels\n",
    "        y_pred = clfs[model_label].predict(X)\n",
    "        # get the accuracy\n",
    "        accuracy = accuracy_score(y, y_pred)\n",
    "        # detect drift\n",
    "        drift_detector.add_element(accuracy)\n",
    "        warning_detected = drift_detector.detected_warning_zone()\n",
    "        drift_detected = drift_detector.detected_change()\n",
    "        \n",
    "        # send the results\n",
    "        producer.send(\n",
    "            'hai-results', \n",
    "            value={\n",
    "                'drift_detector': 'multi_model', \n",
    "                'accuracy': accuracy, \n",
    "                'warning_detected': int(warning_detected), \n",
    "                'drift_detected': int(drift_detected)\n",
    "            }\n",
    "        )\n",
    "        \n",
    "        # print the results\n",
    "        if i % 1000 == 0:\n",
    "            print('Iteration {}'.format(i), 'Accuracy {}'.format(accuracy))\n",
    "        if drift_detected:\n",
    "            print(f'Iteration {i} - accuracy: {accuracy} - drift detected: {drift_detected}')\n",
    "        \n",
    "        if drift_detected:\n",
    "            if model_label == 'normal':\n",
    "                model_label = 'attack'\n",
    "            else:\n",
    "                model_label = 'normal'"
   ],
   "metadata": {
    "collapsed": false
   },
   "id": "b4efe14e9b0383a0"
  },
  {
   "cell_type": "markdown",
   "source": [
    "## Run the drift detection with model selection"
   ],
   "metadata": {
    "collapsed": false
   },
   "id": "8617f4a0e5a95555"
  },
  {
   "cell_type": "code",
   "execution_count": null,
   "outputs": [],
   "source": [
    "drift_detection_with_model_selection(consumer=consumer, producer=producer, clfs=clfs, drift_detector=BasicWindowDDM())"
   ],
   "metadata": {
    "collapsed": false,
    "is_executing": true
   },
   "id": "2fc0c3b38cc8daae"
  },
  {
   "cell_type": "code",
   "execution_count": null,
   "outputs": [],
   "source": [],
   "metadata": {
    "collapsed": false
   },
   "id": "6588fdc053a25aaf"
  }
 ],
 "metadata": {
  "kernelspec": {
   "display_name": "Python 3",
   "language": "python",
   "name": "python3"
  },
  "language_info": {
   "codemirror_mode": {
    "name": "ipython",
    "version": 2
   },
   "file_extension": ".py",
   "mimetype": "text/x-python",
   "name": "python",
   "nbconvert_exporter": "python",
   "pygments_lexer": "ipython2",
   "version": "2.7.6"
  }
 },
 "nbformat": 4,
 "nbformat_minor": 5
}
