{
 "cells": [
  {
   "cell_type": "code",
   "execution_count": 11,
   "id": "initial_id",
   "metadata": {
    "collapsed": true,
    "ExecuteTime": {
     "end_time": "2023-12-14T09:11:47.781824800Z",
     "start_time": "2023-12-14T09:11:47.772133900Z"
    }
   },
   "outputs": [],
   "source": [
    "import pandas as pd\n",
    "from sklearn.metrics import accuracy_score\n",
    "from drift_detectors.basic_window_ddm import BasicWindowDDM\n",
    "from model_handlers.model_trainer import ModelTrainerTester\n",
    "from sklearn.ensemble import RandomForestClassifier\n",
    "from kafka import KafkaConsumer, KafkaProducer\n",
    "import json\n",
    "from data_loaders.train_loader import TrainLoader"
   ]
  },
  {
   "cell_type": "code",
   "execution_count": 12,
   "outputs": [],
   "source": [
    "# 0.9854401518483369 attack 0 ratio\n",
    "# 0.9990180262327277 val. accuracy"
   ],
   "metadata": {
    "collapsed": false,
    "ExecuteTime": {
     "end_time": "2023-12-14T09:11:48.142222800Z",
     "start_time": "2023-12-14T09:11:48.123165400Z"
    }
   },
   "id": "93755aa894b425eb"
  },
  {
   "cell_type": "markdown",
   "source": [
    "## Normal data and normal model\n",
    "- Load normal data\n",
    "- Train a model on the normal data"
   ],
   "metadata": {
    "collapsed": false
   },
   "id": "2ecad8f5c9bc8dee"
  },
  {
   "cell_type": "code",
   "execution_count": 13,
   "outputs": [],
   "source": [
    "# import csv training data\n",
    "data_folder = '../../hai_dataset/hai/hai-21.03'\n",
    "data_filenames = ['train1.csv', 'train2.csv', 'train3.csv']\n",
    "label_columns = ['attack', 'attack_P1', 'attack_P2', 'attack_P3']"
   ],
   "metadata": {
    "collapsed": false,
    "ExecuteTime": {
     "end_time": "2023-12-14T09:11:49.795616400Z",
     "start_time": "2023-12-14T09:11:49.791035400Z"
    }
   },
   "id": "9b5b22806fec46be"
  },
  {
   "cell_type": "code",
   "execution_count": 14,
   "outputs": [],
   "source": [
    "data_loader = TrainLoader(data_folder=data_folder, data_filenames=data_filenames, label_columns=label_columns)\n",
    "df_normal = data_loader.get_data()"
   ],
   "metadata": {
    "collapsed": false,
    "ExecuteTime": {
     "end_time": "2023-12-14T09:11:51.746557Z",
     "start_time": "2023-12-14T09:11:51.540524100Z"
    }
   },
   "id": "e45208dd2998d7a2"
  },
  {
   "cell_type": "code",
   "execution_count": 16,
   "outputs": [],
   "source": [
    "X_train_normal, X_test_normal, y_train_normal, y_test_normal = data_loader.split_data(data_frame=df_normal)"
   ],
   "metadata": {
    "collapsed": false,
    "ExecuteTime": {
     "end_time": "2023-12-14T09:12:03.691672200Z",
     "start_time": "2023-12-14T09:12:03.681207900Z"
    }
   },
   "id": "42f50e63d20fa9af"
  },
  {
   "cell_type": "code",
   "execution_count": 17,
   "outputs": [],
   "source": [
    "clf_normal = RandomForestClassifier()\n",
    "model_handler = ModelTrainerTester(classifier=clf_normal, X_train=X_train_normal, y_train=y_train_normal)\n",
    "clf_normal = model_handler.train_model()\n",
    "_, tr_accuracy = model_handler.test_model(X_test=X_test_normal, y_test=y_test_normal)\n",
    "\n",
    "tr_accuracy"
   ],
   "metadata": {
    "collapsed": false,
    "ExecuteTime": {
     "end_time": "2023-12-14T09:12:06.385367Z",
     "start_time": "2023-12-14T09:12:06.296258200Z"
    }
   },
   "id": "db6e008b2f0777a7"
  },
  {
   "cell_type": "markdown",
   "source": [
    "## Attack only data and attack model\n",
    "- Load data containing attacks\n",
    "- Filter the rows containing attacks\n",
    "- Train a model on the attack data"
   ],
   "metadata": {
    "collapsed": false
   },
   "id": "e998fa867747a7f8"
  },
  {
   "cell_type": "code",
   "execution_count": 15,
   "outputs": [],
   "source": [
    "# import csv training data\n",
    "data_folder = '../../hai_dataset/hai/hai-21.03'\n",
    "data_filenames = ['test1.csv']\n",
    "label_columns = ['attack', 'attack_P1', 'attack_P2', 'attack_P3']\n",
    "\n",
    "data_loader = TrainLoader(data_folder=data_folder, data_filenames=data_filenames, label_columns=label_columns)\n",
    "df_attack = data_loader.get_data()\n",
    "\n",
    "df_attack = df_attack[df_attack['attack'] > 0]\n",
    "\n",
    "X_train_attack, X_test_attack, y_train_attack, y_test_attack = data_loader.split_data(data_frame=df_attack)"
   ],
   "metadata": {
    "collapsed": false,
    "ExecuteTime": {
     "end_time": "2023-12-14T09:11:53.146467700Z",
     "start_time": "2023-12-14T09:11:53.136507800Z"
    }
   },
   "id": "1cd8c846a7d1a0a9"
  },
  {
   "cell_type": "code",
   "execution_count": null,
   "outputs": [],
   "source": [
    "clf_attack = RandomForestClassifier()\n",
    "model_handler = ModelTrainerTester(classifier=clf_attack, X_train=X_train_attack, y_train=y_train_attack)\n",
    "clf_attack = model_handler.train_model()\n",
    "_, tr_accuracy = model_handler.test_model(X_test=X_test_attack, y_test=y_test_attack)\n",
    "tr_accuracy"
   ],
   "metadata": {
    "collapsed": false
   },
   "id": "e4d2a5c1827195b5"
  },
  {
   "cell_type": "code",
   "execution_count": null,
   "outputs": [],
   "source": [
    "consumer = KafkaConsumer(\n",
    "    'hai-preprocessed',\n",
    "    bootstrap_servers=['localhost:9092'],\n",
    "    auto_offset_reset='earliest',\n",
    "    enable_auto_commit=True,\n",
    "    value_deserializer=lambda x: json.loads(x.decode('utf-8'))\n",
    ")\n",
    "\n",
    "producer = KafkaProducer(\n",
    "    bootstrap_servers=['localhost:9092'],\n",
    "    value_serializer=lambda x: json.dumps(x).encode('utf-8'))"
   ],
   "metadata": {
    "collapsed": false
   },
   "id": "25e65db0229a1b2d"
  },
  {
   "cell_type": "code",
   "execution_count": null,
   "outputs": [],
   "source": [
    "ddm = BasicWindowDDM()"
   ],
   "metadata": {
    "collapsed": false
   },
   "id": "ee2d554d0091cceb"
  },
  {
   "cell_type": "code",
   "execution_count": null,
   "outputs": [],
   "source": [
    "# models\n",
    "clfs = {\n",
    "    'normal': clf_normal, \n",
    "    'attack': clf_attack\n",
    "}"
   ],
   "metadata": {
    "collapsed": false
   },
   "id": "ccb6744d4385062c"
  },
  {
   "cell_type": "code",
   "execution_count": null,
   "outputs": [],
   "source": [
    "# consume the streamed data from kafka and detect drift\n",
    "# model selection\n",
    "model_label = 'normal'\n",
    "for i, msg in enumerate(consumer):\n",
    "    # get the data from the message\n",
    "    data = msg.value\n",
    "    #print(data['features'])\n",
    "    # convert the dictionary to a dataframe\n",
    "    X = pd.DataFrame(data['features'], index=[0])\n",
    "    # get the labels\n",
    "    y = pd.DataFrame(data['labels'], index=[0])\n",
    "    # predict the labels\n",
    "    y_pred = clfs[model_label].predict(X)\n",
    "    # get the accuracy\n",
    "    accuracy = accuracy_score(y, y_pred)\n",
    "    # detect drift\n",
    "    ddm.add_element(accuracy)\n",
    "    warning_detected = ddm.detected_warning_zone()\n",
    "    drift_detected = ddm.detected_change()\n",
    "    \n",
    "    # send the results\n",
    "    producer.send('hai-results', value={'accuracy': accuracy, 'warning_detected': int(warning_detected), 'drift_detected': int(drift_detected)})\n",
    "    \n",
    "    # print the results\n",
    "    '''if accuracy < 0.5:\n",
    "        print('Iteration {}'.format(i), 'Accuracy {}'.format(accuracy))'''\n",
    "    if i % 1000 == 0:\n",
    "        print('Iteration {}'.format(i), 'Accuracy {}'.format(accuracy))\n",
    "    if drift_detected:\n",
    "        print(f'Iteration {i} - accuracy: {accuracy} - drift detected: {drift_detected}')\n",
    "    \n",
    "    if drift_detected:\n",
    "        if model_label == 'normal':\n",
    "            model_label = 'attack'\n",
    "        else:\n",
    "            model_label = 'normal'"
   ],
   "metadata": {
    "collapsed": false
   },
   "id": "b4efe14e9b0383a0"
  },
  {
   "cell_type": "code",
   "execution_count": null,
   "outputs": [],
   "source": [],
   "metadata": {
    "collapsed": false
   },
   "id": "2fc0c3b38cc8daae"
  }
 ],
 "metadata": {
  "kernelspec": {
   "display_name": "Python 3",
   "language": "python",
   "name": "python3"
  },
  "language_info": {
   "codemirror_mode": {
    "name": "ipython",
    "version": 2
   },
   "file_extension": ".py",
   "mimetype": "text/x-python",
   "name": "python",
   "nbconvert_exporter": "python",
   "pygments_lexer": "ipython2",
   "version": "2.7.6"
  }
 },
 "nbformat": 4,
 "nbformat_minor": 5
}
