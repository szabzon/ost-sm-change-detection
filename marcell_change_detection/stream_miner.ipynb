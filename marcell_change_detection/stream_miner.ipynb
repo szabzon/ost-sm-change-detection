{
 "cells": [
  {
   "cell_type": "code",
   "execution_count": 1,
   "outputs": [],
   "source": [
    "import pandas as pd\n",
    "from sklearn.metrics import accuracy_score\n",
    "from drift_detectors.ddm import DDM\n",
    "from drift_detectors.basic_window_ddm import BasicWindowDDM\n",
    "from model_handlers.model_trainer import ModelTrainerTester\n",
    "from sklearn.ensemble import RandomForestClassifier\n",
    "from kafka import KafkaConsumer, KafkaProducer\n",
    "import json\n",
    "from data_loaders.train_loader import TrainLoader"
   ],
   "metadata": {
    "collapsed": false,
    "ExecuteTime": {
     "end_time": "2023-12-13T18:37:49.109276Z",
     "start_time": "2023-12-13T18:37:48.398339100Z"
    }
   },
   "id": "ee7707ada443c47c"
  },
  {
   "cell_type": "code",
   "execution_count": 2,
   "outputs": [],
   "source": [
    "# import csv training data\n",
    "data_folder = '../../hai_dataset/hai/hai-21.03'\n",
    "data_filenames = ['train1.csv', 'train2.csv', 'train3.csv']\n",
    "label_columns = ['attack', 'attack_P1', 'attack_P2', 'attack_P3']"
   ],
   "metadata": {
    "collapsed": false,
    "ExecuteTime": {
     "end_time": "2023-12-13T18:37:49.281868200Z",
     "start_time": "2023-12-13T18:37:49.273794700Z"
    }
   },
   "id": "4463243f408da323"
  },
  {
   "cell_type": "code",
   "execution_count": 3,
   "outputs": [],
   "source": [
    "data_loader = TrainLoader(data_folder=data_folder, data_filenames=data_filenames, label_columns=label_columns)\n",
    "df = data_loader.get_data()\n",
    "X_train, X_test, y_train, y_test = data_loader.split_data(data_frame=df)"
   ],
   "metadata": {
    "collapsed": false,
    "ExecuteTime": {
     "end_time": "2023-12-13T18:37:55.251850300Z",
     "start_time": "2023-12-13T18:37:50.403207100Z"
    }
   },
   "id": "2a733904aa1eadba"
  },
  {
   "cell_type": "code",
   "execution_count": 4,
   "outputs": [],
   "source": [
    "clf = RandomForestClassifier()\n",
    "model_handler = ModelTrainerTester(classifier=clf, X_train=X_train, y_train=y_train)\n",
    "clf = model_handler.train_model()\n",
    "_, tr_accuracy = model_handler.test_model(X_test=X_test, y_test=y_test)"
   ],
   "metadata": {
    "collapsed": false,
    "ExecuteTime": {
     "end_time": "2023-12-13T18:38:06.920794900Z",
     "start_time": "2023-12-13T18:37:55.252850500Z"
    }
   },
   "id": "1bde6d9dbdab845b"
  },
  {
   "cell_type": "code",
   "execution_count": 9,
   "outputs": [
    {
     "data": {
      "text/plain": "1.0"
     },
     "execution_count": 9,
     "metadata": {},
     "output_type": "execute_result"
    }
   ],
   "source": [
    "tr_accuracy"
   ],
   "metadata": {
    "collapsed": false,
    "ExecuteTime": {
     "end_time": "2023-12-13T20:28:53.394167200Z",
     "start_time": "2023-12-13T20:28:53.361244700Z"
    }
   },
   "id": "32832d5682b9430f"
  },
  {
   "cell_type": "code",
   "execution_count": 10,
   "outputs": [
    {
     "data": {
      "text/plain": "Empty DataFrame\nColumns: [P1_B2004, P1_B2016, P1_B3004, P1_B3005, P1_B4002, P1_B4005, P1_B400B, P1_B4022, P1_FCV01D, P1_FCV01Z, P1_FCV02D, P1_FCV02Z, P1_FCV03D, P1_FCV03Z, P1_FT01, P1_FT01Z, P1_FT02, P1_FT02Z, P1_FT03, P1_FT03Z, P1_LCV01D, P1_LCV01Z, P1_LIT01, P1_PCV01D, P1_PCV01Z, P1_PCV02D, P1_PCV02Z, P1_PIT01, P1_PIT02, P1_PP01AD, P1_PP01AR, P1_PP01BD, P1_PP01BR, P1_PP02D, P1_PP02R, P1_STSP, P1_TIT01, P1_TIT02, P2_24Vdc, P2_ASD, P2_AutoGO, P2_CO_rpm, P2_Emerg, P2_HILout, P2_MSD, P2_ManualGO, P2_OnOff, P2_RTR, P2_SIT01, P2_SIT02, P2_TripEx, P2_VT01, P2_VTR01, P2_VTR02, P2_VTR03, P2_VTR04, P2_VXT02, P2_VXT03, P2_VYT02, P2_VYT03, P3_FIT01, P3_LCP01D, P3_LCV01D, P3_LH, P3_LIT01, P3_LL, P3_PIT01, P4_HT_FD, P4_HT_LD, P4_HT_PO, P4_HT_PS, P4_LD, P4_ST_FD, P4_ST_GOV, P4_ST_LD, P4_ST_PO, P4_ST_PS, P4_ST_PT01, P4_ST_TT01, attack, attack_P1, attack_P2, attack_P3]\nIndex: []\n\n[0 rows x 83 columns]",
      "text/html": "<div>\n<style scoped>\n    .dataframe tbody tr th:only-of-type {\n        vertical-align: middle;\n    }\n\n    .dataframe tbody tr th {\n        vertical-align: top;\n    }\n\n    .dataframe thead th {\n        text-align: right;\n    }\n</style>\n<table border=\"1\" class=\"dataframe\">\n  <thead>\n    <tr style=\"text-align: right;\">\n      <th></th>\n      <th>P1_B2004</th>\n      <th>P1_B2016</th>\n      <th>P1_B3004</th>\n      <th>P1_B3005</th>\n      <th>P1_B4002</th>\n      <th>P1_B4005</th>\n      <th>P1_B400B</th>\n      <th>P1_B4022</th>\n      <th>P1_FCV01D</th>\n      <th>P1_FCV01Z</th>\n      <th>...</th>\n      <th>P4_ST_GOV</th>\n      <th>P4_ST_LD</th>\n      <th>P4_ST_PO</th>\n      <th>P4_ST_PS</th>\n      <th>P4_ST_PT01</th>\n      <th>P4_ST_TT01</th>\n      <th>attack</th>\n      <th>attack_P1</th>\n      <th>attack_P2</th>\n      <th>attack_P3</th>\n    </tr>\n  </thead>\n  <tbody>\n  </tbody>\n</table>\n<p>0 rows × 83 columns</p>\n</div>"
     },
     "execution_count": 10,
     "metadata": {},
     "output_type": "execute_result"
    }
   ],
   "source": [
    "# filter df attack == 1\n",
    "df[df['attack'] > 0]\n",
    "# there are no attacks in the training data -> impossible to train a model"
   ],
   "metadata": {
    "collapsed": false,
    "ExecuteTime": {
     "end_time": "2023-12-13T20:30:01.338984300Z",
     "start_time": "2023-12-13T20:30:01.327703500Z"
    }
   },
   "id": "e81758eb71fbe847"
  },
  {
   "cell_type": "code",
   "execution_count": 5,
   "outputs": [],
   "source": [
    "consumer = KafkaConsumer(\n",
    "    'hai-preprocessed',\n",
    "    bootstrap_servers=['localhost:9092'],\n",
    "    auto_offset_reset='earliest',\n",
    "    enable_auto_commit=True,\n",
    "    value_deserializer=lambda x: json.loads(x.decode('utf-8'))\n",
    ")\n",
    "\n",
    "producer = KafkaProducer(\n",
    "    bootstrap_servers=['localhost:9092'],\n",
    "    value_serializer=lambda x: json.dumps(x).encode('utf-8'))"
   ],
   "metadata": {
    "collapsed": false,
    "ExecuteTime": {
     "end_time": "2023-12-13T18:38:07.153276400Z",
     "start_time": "2023-12-13T18:38:06.921795100Z"
    }
   },
   "id": "6052f67c10b98a71"
  },
  {
   "cell_type": "code",
   "execution_count": 6,
   "outputs": [],
   "source": [
    "# ddm = DDM()"
   ],
   "metadata": {
    "collapsed": false,
    "ExecuteTime": {
     "end_time": "2023-12-13T18:38:07.168992300Z",
     "start_time": "2023-12-13T18:38:07.154351200Z"
    }
   },
   "id": "7216b813210f24ba"
  },
  {
   "cell_type": "code",
   "execution_count": 7,
   "outputs": [],
   "source": [
    "ddm = BasicWindowDDM()"
   ],
   "metadata": {
    "collapsed": false,
    "ExecuteTime": {
     "end_time": "2023-12-13T18:38:07.184499800Z",
     "start_time": "2023-12-13T18:38:07.168992300Z"
    }
   },
   "id": "4985defdb2246367"
  },
  {
   "cell_type": "code",
   "execution_count": 8,
   "outputs": [
    {
     "name": "stdout",
     "output_type": "stream",
     "text": [
      "Iteration 0 Accuracy 1.0\n",
      "Iteration 1000 Accuracy 1.0\n",
      "Iteration 2000 Accuracy 1.0\n",
      "Iteration 2120 - accuracy: 0.0 - drift detected: True\n",
      "Iteration 2140 - accuracy: 0.0 - drift detected: True\n",
      "Iteration 2160 - accuracy: 0.0 - drift detected: True\n",
      "Iteration 2180 - accuracy: 0.0 - drift detected: True\n",
      "Iteration 2200 - accuracy: 0.0 - drift detected: True\n",
      "Iteration 2220 - accuracy: 0.0 - drift detected: True\n",
      "Iteration 2240 - accuracy: 0.0 - drift detected: True\n",
      "Iteration 2260 - accuracy: 0.0 - drift detected: True\n",
      "Iteration 2280 - accuracy: 0.0 - drift detected: True\n",
      "Iteration 2300 - accuracy: 0.0 - drift detected: True\n",
      "Iteration 3000 Accuracy 1.0\n",
      "Iteration 4000 Accuracy 1.0\n",
      "Iteration 5000 Accuracy 1.0\n",
      "Iteration 6000 Accuracy 1.0\n",
      "Iteration 7000 Accuracy 1.0\n",
      "Iteration 8000 Accuracy 1.0\n",
      "Iteration 8900 - accuracy: 0.0 - drift detected: True\n",
      "Iteration 8920 - accuracy: 0.0 - drift detected: True\n",
      "Iteration 8940 - accuracy: 0.0 - drift detected: True\n",
      "Iteration 8960 - accuracy: 0.0 - drift detected: True\n",
      "Iteration 8980 - accuracy: 0.0 - drift detected: True\n",
      "Iteration 9000 Accuracy 1.0\n",
      "Iteration 10000 Accuracy 1.0\n",
      "Iteration 11000 Accuracy 1.0\n",
      "Iteration 12000 Accuracy 1.0\n",
      "Iteration 13000 Accuracy 1.0\n",
      "Iteration 14000 Accuracy 1.0\n",
      "Iteration 14360 - accuracy: 0.0 - drift detected: True\n",
      "Iteration 14380 - accuracy: 0.0 - drift detected: True\n",
      "Iteration 14400 - accuracy: 0.0 - drift detected: True\n",
      "Iteration 14420 - accuracy: 0.0 - drift detected: True\n",
      "Iteration 14440 - accuracy: 0.0 - drift detected: True\n",
      "Iteration 14460 - accuracy: 0.0 - drift detected: True\n",
      "Iteration 14480 - accuracy: 0.0 - drift detected: True\n",
      "Iteration 14500 - accuracy: 0.0 - drift detected: True\n",
      "Iteration 14520 - accuracy: 0.0 - drift detected: True\n",
      "Iteration 14540 - accuracy: 0.0 - drift detected: True\n",
      "Iteration 15000 Accuracy 1.0\n",
      "Iteration 16000 Accuracy 1.0\n",
      "Iteration 17000 Accuracy 1.0\n",
      "Iteration 18000 Accuracy 1.0\n",
      "Iteration 19000 Accuracy 1.0\n",
      "Iteration 19275 - accuracy: 0.0 - drift detected: True\n",
      "Iteration 19295 - accuracy: 0.0 - drift detected: True\n",
      "Iteration 19315 - accuracy: 0.0 - drift detected: True\n",
      "Iteration 20000 Accuracy 1.0\n",
      "Iteration 21000 Accuracy 1.0\n",
      "Iteration 21810 - accuracy: 0.0 - drift detected: True\n",
      "Iteration 21830 - accuracy: 0.0 - drift detected: True\n",
      "Iteration 21850 - accuracy: 0.0 - drift detected: True\n",
      "Iteration 21870 - accuracy: 0.0 - drift detected: True\n",
      "Iteration 21890 - accuracy: 1.0 - drift detected: True\n",
      "Iteration 22000 Accuracy 1.0\n",
      "Iteration 23000 Accuracy 1.0\n",
      "Iteration 24000 Accuracy 1.0\n",
      "Iteration 25000 Accuracy 1.0\n",
      "Iteration 26000 Accuracy 1.0\n",
      "Iteration 27000 Accuracy 1.0\n",
      "Iteration 28000 Accuracy 1.0\n",
      "Iteration 29000 Accuracy 1.0\n",
      "Iteration 30000 Accuracy 1.0\n",
      "Iteration 31000 Accuracy 1.0\n",
      "Iteration 32000 Accuracy 1.0\n",
      "Iteration 33000 Accuracy 1.0\n",
      "Iteration 34000 Accuracy 1.0\n",
      "Iteration 35000 Accuracy 1.0\n",
      "Iteration 36000 Accuracy 1.0\n",
      "Iteration 37000 Accuracy 1.0\n",
      "Iteration 38000 Accuracy 1.0\n",
      "Iteration 39000 Accuracy 1.0\n",
      "Iteration 40000 Accuracy 1.0\n",
      "Iteration 41000 Accuracy 1.0\n",
      "Iteration 42000 Accuracy 1.0\n",
      "Iteration 43000 Accuracy 1.0\n"
     ]
    },
    {
     "ename": "KeyboardInterrupt",
     "evalue": "",
     "output_type": "error",
     "traceback": [
      "\u001B[1;31m---------------------------------------------------------------------------\u001B[0m",
      "\u001B[1;31mKeyboardInterrupt\u001B[0m                         Traceback (most recent call last)",
      "Cell \u001B[1;32mIn[8], line 2\u001B[0m\n\u001B[0;32m      1\u001B[0m \u001B[38;5;66;03m# consume the streamed data from kafka and detect drift\u001B[39;00m\n\u001B[1;32m----> 2\u001B[0m \u001B[38;5;28;01mfor\u001B[39;00m i, msg \u001B[38;5;129;01min\u001B[39;00m \u001B[38;5;28menumerate\u001B[39m(consumer):\n\u001B[0;32m      3\u001B[0m     \u001B[38;5;66;03m# get the data from the message\u001B[39;00m\n\u001B[0;32m      4\u001B[0m     data \u001B[38;5;241m=\u001B[39m msg\u001B[38;5;241m.\u001B[39mvalue\n\u001B[0;32m      5\u001B[0m     \u001B[38;5;66;03m#print(data['features'])\u001B[39;00m\n\u001B[0;32m      6\u001B[0m     \u001B[38;5;66;03m# convert the dictionary to a dataframe\u001B[39;00m\n",
      "File \u001B[1;32m~\\Documents\\Egyetem\\Open Source Technologies\\ost-sm-change-detection\\venv\\lib\\site-packages\\kafka\\consumer\\group.py:1193\u001B[0m, in \u001B[0;36mKafkaConsumer.__next__\u001B[1;34m(self)\u001B[0m\n\u001B[0;32m   1191\u001B[0m     \u001B[38;5;28;01mreturn\u001B[39;00m \u001B[38;5;28mself\u001B[39m\u001B[38;5;241m.\u001B[39mnext_v1()\n\u001B[0;32m   1192\u001B[0m \u001B[38;5;28;01melse\u001B[39;00m:\n\u001B[1;32m-> 1193\u001B[0m     \u001B[38;5;28;01mreturn\u001B[39;00m \u001B[38;5;28;43mself\u001B[39;49m\u001B[38;5;241;43m.\u001B[39;49m\u001B[43mnext_v2\u001B[49m\u001B[43m(\u001B[49m\u001B[43m)\u001B[49m\n",
      "File \u001B[1;32m~\\Documents\\Egyetem\\Open Source Technologies\\ost-sm-change-detection\\venv\\lib\\site-packages\\kafka\\consumer\\group.py:1201\u001B[0m, in \u001B[0;36mKafkaConsumer.next_v2\u001B[1;34m(self)\u001B[0m\n\u001B[0;32m   1199\u001B[0m     \u001B[38;5;28mself\u001B[39m\u001B[38;5;241m.\u001B[39m_iterator \u001B[38;5;241m=\u001B[39m \u001B[38;5;28mself\u001B[39m\u001B[38;5;241m.\u001B[39m_message_generator_v2()\n\u001B[0;32m   1200\u001B[0m \u001B[38;5;28;01mtry\u001B[39;00m:\n\u001B[1;32m-> 1201\u001B[0m     \u001B[38;5;28;01mreturn\u001B[39;00m \u001B[38;5;28;43mnext\u001B[39;49m\u001B[43m(\u001B[49m\u001B[38;5;28;43mself\u001B[39;49m\u001B[38;5;241;43m.\u001B[39;49m\u001B[43m_iterator\u001B[49m\u001B[43m)\u001B[49m\n\u001B[0;32m   1202\u001B[0m \u001B[38;5;28;01mexcept\u001B[39;00m \u001B[38;5;167;01mStopIteration\u001B[39;00m:\n\u001B[0;32m   1203\u001B[0m     \u001B[38;5;28mself\u001B[39m\u001B[38;5;241m.\u001B[39m_iterator \u001B[38;5;241m=\u001B[39m \u001B[38;5;28;01mNone\u001B[39;00m\n",
      "File \u001B[1;32m~\\Documents\\Egyetem\\Open Source Technologies\\ost-sm-change-detection\\venv\\lib\\site-packages\\kafka\\consumer\\group.py:1116\u001B[0m, in \u001B[0;36mKafkaConsumer._message_generator_v2\u001B[1;34m(self)\u001B[0m\n\u001B[0;32m   1114\u001B[0m \u001B[38;5;28;01mdef\u001B[39;00m \u001B[38;5;21m_message_generator_v2\u001B[39m(\u001B[38;5;28mself\u001B[39m):\n\u001B[0;32m   1115\u001B[0m     timeout_ms \u001B[38;5;241m=\u001B[39m \u001B[38;5;241m1000\u001B[39m \u001B[38;5;241m*\u001B[39m (\u001B[38;5;28mself\u001B[39m\u001B[38;5;241m.\u001B[39m_consumer_timeout \u001B[38;5;241m-\u001B[39m time\u001B[38;5;241m.\u001B[39mtime())\n\u001B[1;32m-> 1116\u001B[0m     record_map \u001B[38;5;241m=\u001B[39m \u001B[38;5;28;43mself\u001B[39;49m\u001B[38;5;241;43m.\u001B[39;49m\u001B[43mpoll\u001B[49m\u001B[43m(\u001B[49m\u001B[43mtimeout_ms\u001B[49m\u001B[38;5;241;43m=\u001B[39;49m\u001B[43mtimeout_ms\u001B[49m\u001B[43m,\u001B[49m\u001B[43m \u001B[49m\u001B[43mupdate_offsets\u001B[49m\u001B[38;5;241;43m=\u001B[39;49m\u001B[38;5;28;43;01mFalse\u001B[39;49;00m\u001B[43m)\u001B[49m\n\u001B[0;32m   1117\u001B[0m     \u001B[38;5;28;01mfor\u001B[39;00m tp, records \u001B[38;5;129;01min\u001B[39;00m six\u001B[38;5;241m.\u001B[39miteritems(record_map):\n\u001B[0;32m   1118\u001B[0m         \u001B[38;5;66;03m# Generators are stateful, and it is possible that the tp / records\u001B[39;00m\n\u001B[0;32m   1119\u001B[0m         \u001B[38;5;66;03m# here may become stale during iteration -- i.e., we seek to a\u001B[39;00m\n\u001B[0;32m   1120\u001B[0m         \u001B[38;5;66;03m# different offset, pause consumption, or lose assignment.\u001B[39;00m\n\u001B[0;32m   1121\u001B[0m         \u001B[38;5;28;01mfor\u001B[39;00m record \u001B[38;5;129;01min\u001B[39;00m records:\n\u001B[0;32m   1122\u001B[0m             \u001B[38;5;66;03m# is_fetchable(tp) should handle assignment changes and offset\u001B[39;00m\n\u001B[0;32m   1123\u001B[0m             \u001B[38;5;66;03m# resets; for all other changes (e.g., seeks) we'll rely on the\u001B[39;00m\n\u001B[0;32m   1124\u001B[0m             \u001B[38;5;66;03m# outer function destroying the existing iterator/generator\u001B[39;00m\n\u001B[0;32m   1125\u001B[0m             \u001B[38;5;66;03m# via self._iterator = None\u001B[39;00m\n",
      "File \u001B[1;32m~\\Documents\\Egyetem\\Open Source Technologies\\ost-sm-change-detection\\venv\\lib\\site-packages\\kafka\\consumer\\group.py:655\u001B[0m, in \u001B[0;36mKafkaConsumer.poll\u001B[1;34m(self, timeout_ms, max_records, update_offsets)\u001B[0m\n\u001B[0;32m    653\u001B[0m remaining \u001B[38;5;241m=\u001B[39m timeout_ms\n\u001B[0;32m    654\u001B[0m \u001B[38;5;28;01mwhile\u001B[39;00m \u001B[38;5;28;01mTrue\u001B[39;00m:\n\u001B[1;32m--> 655\u001B[0m     records \u001B[38;5;241m=\u001B[39m \u001B[38;5;28;43mself\u001B[39;49m\u001B[38;5;241;43m.\u001B[39;49m\u001B[43m_poll_once\u001B[49m\u001B[43m(\u001B[49m\u001B[43mremaining\u001B[49m\u001B[43m,\u001B[49m\u001B[43m \u001B[49m\u001B[43mmax_records\u001B[49m\u001B[43m,\u001B[49m\u001B[43m \u001B[49m\u001B[43mupdate_offsets\u001B[49m\u001B[38;5;241;43m=\u001B[39;49m\u001B[43mupdate_offsets\u001B[49m\u001B[43m)\u001B[49m\n\u001B[0;32m    656\u001B[0m     \u001B[38;5;28;01mif\u001B[39;00m records:\n\u001B[0;32m    657\u001B[0m         \u001B[38;5;28;01mreturn\u001B[39;00m records\n",
      "File \u001B[1;32m~\\Documents\\Egyetem\\Open Source Technologies\\ost-sm-change-detection\\venv\\lib\\site-packages\\kafka\\consumer\\group.py:702\u001B[0m, in \u001B[0;36mKafkaConsumer._poll_once\u001B[1;34m(self, timeout_ms, max_records, update_offsets)\u001B[0m\n\u001B[0;32m    699\u001B[0m     \u001B[38;5;28mself\u001B[39m\u001B[38;5;241m.\u001B[39m_client\u001B[38;5;241m.\u001B[39mpoll(timeout_ms\u001B[38;5;241m=\u001B[39m\u001B[38;5;241m0\u001B[39m)\n\u001B[0;32m    701\u001B[0m timeout_ms \u001B[38;5;241m=\u001B[39m \u001B[38;5;28mmin\u001B[39m(timeout_ms, \u001B[38;5;28mself\u001B[39m\u001B[38;5;241m.\u001B[39m_coordinator\u001B[38;5;241m.\u001B[39mtime_to_next_poll() \u001B[38;5;241m*\u001B[39m \u001B[38;5;241m1000\u001B[39m)\n\u001B[1;32m--> 702\u001B[0m \u001B[38;5;28;43mself\u001B[39;49m\u001B[38;5;241;43m.\u001B[39;49m\u001B[43m_client\u001B[49m\u001B[38;5;241;43m.\u001B[39;49m\u001B[43mpoll\u001B[49m\u001B[43m(\u001B[49m\u001B[43mtimeout_ms\u001B[49m\u001B[38;5;241;43m=\u001B[39;49m\u001B[43mtimeout_ms\u001B[49m\u001B[43m)\u001B[49m\n\u001B[0;32m    703\u001B[0m \u001B[38;5;66;03m# after the long poll, we should check whether the group needs to rebalance\u001B[39;00m\n\u001B[0;32m    704\u001B[0m \u001B[38;5;66;03m# prior to returning data so that the group can stabilize faster\u001B[39;00m\n\u001B[0;32m    705\u001B[0m \u001B[38;5;28;01mif\u001B[39;00m \u001B[38;5;28mself\u001B[39m\u001B[38;5;241m.\u001B[39m_coordinator\u001B[38;5;241m.\u001B[39mneed_rejoin():\n",
      "File \u001B[1;32m~\\Documents\\Egyetem\\Open Source Technologies\\ost-sm-change-detection\\venv\\lib\\site-packages\\kafka\\client_async.py:602\u001B[0m, in \u001B[0;36mKafkaClient.poll\u001B[1;34m(self, timeout_ms, future)\u001B[0m\n\u001B[0;32m    599\u001B[0m             timeout \u001B[38;5;241m=\u001B[39m \u001B[38;5;28mmin\u001B[39m(timeout, \u001B[38;5;28mself\u001B[39m\u001B[38;5;241m.\u001B[39mconfig[\u001B[38;5;124m'\u001B[39m\u001B[38;5;124mretry_backoff_ms\u001B[39m\u001B[38;5;124m'\u001B[39m])\n\u001B[0;32m    600\u001B[0m         timeout \u001B[38;5;241m=\u001B[39m \u001B[38;5;28mmax\u001B[39m(\u001B[38;5;241m0\u001B[39m, timeout)  \u001B[38;5;66;03m# avoid negative timeouts\u001B[39;00m\n\u001B[1;32m--> 602\u001B[0m     \u001B[38;5;28;43mself\u001B[39;49m\u001B[38;5;241;43m.\u001B[39;49m\u001B[43m_poll\u001B[49m\u001B[43m(\u001B[49m\u001B[43mtimeout\u001B[49m\u001B[43m \u001B[49m\u001B[38;5;241;43m/\u001B[39;49m\u001B[43m \u001B[49m\u001B[38;5;241;43m1000\u001B[39;49m\u001B[43m)\u001B[49m\n\u001B[0;32m    604\u001B[0m \u001B[38;5;66;03m# called without the lock to avoid deadlock potential\u001B[39;00m\n\u001B[0;32m    605\u001B[0m \u001B[38;5;66;03m# if handlers need to acquire locks\u001B[39;00m\n\u001B[0;32m    606\u001B[0m responses\u001B[38;5;241m.\u001B[39mextend(\u001B[38;5;28mself\u001B[39m\u001B[38;5;241m.\u001B[39m_fire_pending_completed_requests())\n",
      "File \u001B[1;32m~\\Documents\\Egyetem\\Open Source Technologies\\ost-sm-change-detection\\venv\\lib\\site-packages\\kafka\\client_async.py:634\u001B[0m, in \u001B[0;36mKafkaClient._poll\u001B[1;34m(self, timeout)\u001B[0m\n\u001B[0;32m    631\u001B[0m \u001B[38;5;28mself\u001B[39m\u001B[38;5;241m.\u001B[39m_register_send_sockets()\n\u001B[0;32m    633\u001B[0m start_select \u001B[38;5;241m=\u001B[39m time\u001B[38;5;241m.\u001B[39mtime()\n\u001B[1;32m--> 634\u001B[0m ready \u001B[38;5;241m=\u001B[39m \u001B[38;5;28;43mself\u001B[39;49m\u001B[38;5;241;43m.\u001B[39;49m\u001B[43m_selector\u001B[49m\u001B[38;5;241;43m.\u001B[39;49m\u001B[43mselect\u001B[49m\u001B[43m(\u001B[49m\u001B[43mtimeout\u001B[49m\u001B[43m)\u001B[49m\n\u001B[0;32m    635\u001B[0m end_select \u001B[38;5;241m=\u001B[39m time\u001B[38;5;241m.\u001B[39mtime()\n\u001B[0;32m    636\u001B[0m \u001B[38;5;28;01mif\u001B[39;00m \u001B[38;5;28mself\u001B[39m\u001B[38;5;241m.\u001B[39m_sensors:\n",
      "File \u001B[1;32m~\\AppData\\Local\\Programs\\Python\\Python310\\lib\\selectors.py:324\u001B[0m, in \u001B[0;36mSelectSelector.select\u001B[1;34m(self, timeout)\u001B[0m\n\u001B[0;32m    322\u001B[0m ready \u001B[38;5;241m=\u001B[39m []\n\u001B[0;32m    323\u001B[0m \u001B[38;5;28;01mtry\u001B[39;00m:\n\u001B[1;32m--> 324\u001B[0m     r, w, _ \u001B[38;5;241m=\u001B[39m \u001B[38;5;28;43mself\u001B[39;49m\u001B[38;5;241;43m.\u001B[39;49m\u001B[43m_select\u001B[49m\u001B[43m(\u001B[49m\u001B[38;5;28;43mself\u001B[39;49m\u001B[38;5;241;43m.\u001B[39;49m\u001B[43m_readers\u001B[49m\u001B[43m,\u001B[49m\u001B[43m \u001B[49m\u001B[38;5;28;43mself\u001B[39;49m\u001B[38;5;241;43m.\u001B[39;49m\u001B[43m_writers\u001B[49m\u001B[43m,\u001B[49m\u001B[43m \u001B[49m\u001B[43m[\u001B[49m\u001B[43m]\u001B[49m\u001B[43m,\u001B[49m\u001B[43m \u001B[49m\u001B[43mtimeout\u001B[49m\u001B[43m)\u001B[49m\n\u001B[0;32m    325\u001B[0m \u001B[38;5;28;01mexcept\u001B[39;00m \u001B[38;5;167;01mInterruptedError\u001B[39;00m:\n\u001B[0;32m    326\u001B[0m     \u001B[38;5;28;01mreturn\u001B[39;00m ready\n",
      "File \u001B[1;32m~\\AppData\\Local\\Programs\\Python\\Python310\\lib\\selectors.py:315\u001B[0m, in \u001B[0;36mSelectSelector._select\u001B[1;34m(self, r, w, _, timeout)\u001B[0m\n\u001B[0;32m    314\u001B[0m \u001B[38;5;28;01mdef\u001B[39;00m \u001B[38;5;21m_select\u001B[39m(\u001B[38;5;28mself\u001B[39m, r, w, _, timeout\u001B[38;5;241m=\u001B[39m\u001B[38;5;28;01mNone\u001B[39;00m):\n\u001B[1;32m--> 315\u001B[0m     r, w, x \u001B[38;5;241m=\u001B[39m \u001B[43mselect\u001B[49m\u001B[38;5;241;43m.\u001B[39;49m\u001B[43mselect\u001B[49m\u001B[43m(\u001B[49m\u001B[43mr\u001B[49m\u001B[43m,\u001B[49m\u001B[43m \u001B[49m\u001B[43mw\u001B[49m\u001B[43m,\u001B[49m\u001B[43m \u001B[49m\u001B[43mw\u001B[49m\u001B[43m,\u001B[49m\u001B[43m \u001B[49m\u001B[43mtimeout\u001B[49m\u001B[43m)\u001B[49m\n\u001B[0;32m    316\u001B[0m     \u001B[38;5;28;01mreturn\u001B[39;00m r, w \u001B[38;5;241m+\u001B[39m x, []\n",
      "\u001B[1;31mKeyboardInterrupt\u001B[0m: "
     ]
    }
   ],
   "source": [
    "# consume the streamed data from kafka and detect drift\n",
    "for i, msg in enumerate(consumer):\n",
    "    # get the data from the message\n",
    "    data = msg.value\n",
    "    #print(data['features'])\n",
    "    # convert the dictionary to a dataframe\n",
    "    X = pd.DataFrame(data['features'], index=[0])\n",
    "    # get the labels\n",
    "    y = pd.DataFrame(data['labels'], index=[0])\n",
    "    # predict the labels\n",
    "    y_pred = clf.predict(X)\n",
    "    # get the accuracy\n",
    "    accuracy = accuracy_score(y, y_pred)\n",
    "    # detect drift\n",
    "    ddm.add_element(accuracy)\n",
    "    warning_detected = ddm.detected_warning_zone()\n",
    "    drift_detected = ddm.detected_change()\n",
    "    \n",
    "    # send the results\n",
    "    producer.send('hai-results', value={'accuracy': accuracy, 'warning_detected': int(warning_detected), 'drift_detected': int(drift_detected)})\n",
    "    \n",
    "    # print the results\n",
    "    '''if accuracy < 0.5:\n",
    "        print('Iteration {}'.format(i), 'Accuracy {}'.format(accuracy))'''\n",
    "    if i % 1000 == 0:\n",
    "        print('Iteration {}'.format(i), 'Accuracy {}'.format(accuracy))\n",
    "    if drift_detected:\n",
    "        print(f'Iteration {i} - accuracy: {accuracy} - drift detected: {drift_detected}')\n",
    "    i += 1"
   ],
   "metadata": {
    "collapsed": false,
    "ExecuteTime": {
     "end_time": "2023-12-13T18:44:07.331616Z",
     "start_time": "2023-12-13T18:38:30.638987300Z"
    }
   },
   "id": "893e32027f59f79b"
  },
  {
   "cell_type": "code",
   "execution_count": null,
   "outputs": [],
   "source": [
    "'''\n",
    "from(bucket: \"mema_bucket\")\n",
    "  |> range(start: v.timeRangeStart, stop:v.timeRangeStop)\n",
    "  |> filter(fn: (r) => r._measurement == \"hai_results\" and r._field == \"accuracy\" and r._value < 0.5)\n",
    "\n",
    "'''"
   ],
   "metadata": {
    "collapsed": false,
    "ExecuteTime": {
     "end_time": "2023-12-13T13:47:59.041669600Z",
     "start_time": "2023-12-13T13:47:59.041669600Z"
    }
   },
   "id": "a7a0ad572c8f6bc7"
  },
  {
   "cell_type": "code",
   "execution_count": null,
   "outputs": [],
   "source": [],
   "metadata": {
    "collapsed": false
   },
   "id": "c5ff823bbcce30ec"
  }
 ],
 "metadata": {
  "kernelspec": {
   "display_name": "Python 3",
   "language": "python",
   "name": "python3"
  },
  "language_info": {
   "codemirror_mode": {
    "name": "ipython",
    "version": 2
   },
   "file_extension": ".py",
   "mimetype": "text/x-python",
   "name": "python",
   "nbconvert_exporter": "python",
   "pygments_lexer": "ipython2",
   "version": "2.7.6"
  }
 },
 "nbformat": 4,
 "nbformat_minor": 5
}
