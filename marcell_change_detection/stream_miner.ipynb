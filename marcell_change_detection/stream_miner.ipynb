{
 "cells": [
  {
   "cell_type": "code",
   "execution_count": 5,
   "outputs": [],
   "source": [
    "import pandas as pd\n",
    "from sklearn.metrics import accuracy_score\n",
    "from drift_detectors import DDM, BasicWindowDDM, HDDM_W, ECDD\n",
    "from kafka import KafkaConsumer, KafkaProducer\n",
    "import json\n",
    "from joblib import load"
   ],
   "metadata": {
    "collapsed": false,
    "ExecuteTime": {
     "end_time": "2023-12-15T09:58:38.618196200Z",
     "start_time": "2023-12-15T09:58:38.604016500Z"
    }
   },
   "id": "ee7707ada443c47c"
  },
  {
   "cell_type": "markdown",
   "source": [
    "## Define the Kafka consumer and producer\n",
    "The consumer consumes the preprocessed data from the topic `hai-preprocessed` and the producer sends the drift detection results to the topic `hai-results`."
   ],
   "metadata": {
    "collapsed": false
   },
   "id": "30bbc5d89e10d9b"
  },
  {
   "cell_type": "code",
   "execution_count": 11,
   "outputs": [],
   "source": [
    "consumer = KafkaConsumer(\n",
    "    'hai-preprocessed',\n",
    "    bootstrap_servers=['localhost:9092'],\n",
    "    auto_offset_reset='earliest',\n",
    "    enable_auto_commit=True,\n",
    "    value_deserializer=lambda x: json.loads(x.decode('utf-8'))\n",
    ")\n",
    "\n",
    "producer = KafkaProducer(\n",
    "    bootstrap_servers=['localhost:9092'],\n",
    "    value_serializer=lambda x: json.dumps(x).encode('utf-8'))"
   ],
   "metadata": {
    "collapsed": false,
    "ExecuteTime": {
     "end_time": "2023-12-15T09:58:59.593763600Z",
     "start_time": "2023-12-15T09:58:59.362183100Z"
    }
   },
   "id": "6052f67c10b98a71"
  },
  {
   "cell_type": "markdown",
   "source": [
    "## Import the model"
   ],
   "metadata": {
    "collapsed": false
   },
   "id": "56209def7273392d"
  },
  {
   "cell_type": "code",
   "execution_count": null,
   "outputs": [],
   "source": [
    "clf = load('models/base_model.joblib')"
   ],
   "metadata": {
    "collapsed": false
   },
   "id": "9fc5b319812fef36"
  },
  {
   "cell_type": "markdown",
   "source": [
    "## Drift detection function"
   ],
   "metadata": {
    "collapsed": false
   },
   "id": "65a7dfa1f3610a41"
  },
  {
   "cell_type": "code",
   "execution_count": null,
   "outputs": [],
   "source": [
    "def drift_detection(consumer, producer, clf, drift_detector):\n",
    "    # consume the streamed data from kafka and detect drift\n",
    "    for i, msg in enumerate(consumer):\n",
    "        # get the data from the message\n",
    "        data = msg.value\n",
    "        #print(data['features'])\n",
    "        # convert the dictionary to a dataframe\n",
    "        X = pd.DataFrame(data['features'], index=[0])\n",
    "        # get the labels\n",
    "        y = pd.DataFrame(data['labels'], index=[0])\n",
    "        # predict the labels\n",
    "        y_pred = clf.predict(X)\n",
    "        # get the accuracy\n",
    "        accuracy = accuracy_score(y, y_pred)\n",
    "        # detect drift\n",
    "        drift_detector.add_element(accuracy)\n",
    "        warning_detected = drift_detector.detected_warning_zone()\n",
    "        drift_detected = drift_detector.detected_change()\n",
    "        \n",
    "        # send the results\n",
    "        producer.send(\n",
    "            'hai-results', \n",
    "            value={\n",
    "                'drift_detector': drift_detector.get_name(), \n",
    "                'accuracy': accuracy, \n",
    "                'warning_detected': int(warning_detected), \n",
    "                'drift_detected': int(drift_detected)\n",
    "            })\n",
    "        \n",
    "        # print the results\n",
    "        '''if accuracy < 0.5:\n",
    "            print('Iteration {}'.format(i), 'Accuracy {}'.format(accuracy))'''\n",
    "        if i % 1000 == 0:\n",
    "            print('Iteration {}'.format(i), 'Accuracy {}'.format(accuracy))\n",
    "        if drift_detected:\n",
    "            print(f'Iteration {i} Accuracy: {accuracy} - drift detected!')\n",
    "        i += 1"
   ],
   "metadata": {
    "collapsed": false
   },
   "id": "893e32027f59f79b"
  },
  {
   "cell_type": "markdown",
   "source": [
    "## Drift detection with DDM"
   ],
   "metadata": {
    "collapsed": false
   },
   "id": "abbe96969bbc4db0"
  },
  {
   "cell_type": "code",
   "execution_count": null,
   "outputs": [],
   "source": [
    "# Do the drift detection using DDM\n",
    "drift_detector = DDM()\n",
    "drift_detection(consumer, producer, clf, drift_detector)"
   ],
   "metadata": {
    "collapsed": false
   },
   "id": "b27caeb6add19aec"
  },
  {
   "cell_type": "markdown",
   "source": [
    "## Drift detection with HDDM_W"
   ],
   "metadata": {
    "collapsed": false
   },
   "id": "5ebaa401dee7a89f"
  },
  {
   "cell_type": "code",
   "execution_count": null,
   "outputs": [],
   "source": [
    "# Do the drift detection using HDDM_W\n",
    "drift_detector = HDDM_W()\n",
    "drift_detection(consumer, producer, clf, drift_detector)"
   ],
   "metadata": {
    "collapsed": false
   },
   "id": "19b4f821a374a826"
  },
  {
   "cell_type": "markdown",
   "source": [
    "## Drift detection with BasicWindowDDM"
   ],
   "metadata": {
    "collapsed": false
   },
   "id": "16b9bffdaf2df3a6"
  },
  {
   "cell_type": "code",
   "execution_count": null,
   "outputs": [],
   "source": [
    "# Do the drift detection using BasicWindowDDM\n",
    "drift_detector = BasicWindowDDM()\n",
    "drift_detection(consumer, producer, clf, drift_detector)"
   ],
   "metadata": {
    "collapsed": false
   },
   "id": "738bd2b9e63eddee"
  },
  {
   "cell_type": "markdown",
   "source": [
    "## Drift detection with ECDD"
   ],
   "metadata": {
    "collapsed": false
   },
   "id": "b182ed7058374ea5"
  },
  {
   "cell_type": "code",
   "execution_count": null,
   "outputs": [],
   "source": [
    "# Do the drift detection using ECDD\n",
    "drift_detector = ECDD()\n",
    "drift_detection(consumer, producer, clf, drift_detector)"
   ],
   "metadata": {
    "collapsed": false
   },
   "id": "c3bd0a96179c7869"
  },
  {
   "cell_type": "markdown",
   "source": [
    "## Other, not important things"
   ],
   "metadata": {
    "collapsed": false
   },
   "id": "50b941f363d96b2f"
  },
  {
   "cell_type": "code",
   "execution_count": null,
   "outputs": [],
   "source": [
    "'''\n",
    "from(bucket: \"mema_bucket\")\n",
    "  |> range(start: v.timeRangeStart, stop:v.timeRangeStop)\n",
    "  |> filter(fn: (r) => r._measurement == \"hai_results\" and r._field == \"accuracy\" and r._value < 0.5)\n",
    "\n",
    "'''"
   ],
   "metadata": {
    "collapsed": false,
    "ExecuteTime": {
     "end_time": "2023-12-13T13:47:59.041669600Z",
     "start_time": "2023-12-13T13:47:59.041669600Z"
    }
   },
   "id": "a7a0ad572c8f6bc7"
  },
  {
   "cell_type": "code",
   "execution_count": null,
   "outputs": [],
   "source": [],
   "metadata": {
    "collapsed": false
   },
   "id": "c5ff823bbcce30ec"
  }
 ],
 "metadata": {
  "kernelspec": {
   "display_name": "Python 3",
   "language": "python",
   "name": "python3"
  },
  "language_info": {
   "codemirror_mode": {
    "name": "ipython",
    "version": 2
   },
   "file_extension": ".py",
   "mimetype": "text/x-python",
   "name": "python",
   "nbconvert_exporter": "python",
   "pygments_lexer": "ipython2",
   "version": "2.7.6"
  }
 },
 "nbformat": 4,
 "nbformat_minor": 5
}
