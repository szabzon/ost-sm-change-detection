{
 "cells": [
  {
   "cell_type": "code",
   "execution_count": 8,
   "outputs": [],
   "source": [
    "import os\n",
    "import pandas as pd\n",
    "from sklearn.metrics import accuracy_score\n",
    "from sklearn.model_selection import train_test_split\n",
    "from drift_detectors.ddm import DDM\n",
    "from model_trainer import DataLoaderProcessor, ModelTrainerTester\n",
    "from sklearn.ensemble import RandomForestClassifier\n",
    "from kafka import KafkaConsumer, KafkaProducer\n",
    "import json\n",
    "from datetime import datetime"
   ],
   "metadata": {
    "collapsed": false,
    "ExecuteTime": {
     "end_time": "2023-12-12T19:00:35.850369700Z",
     "start_time": "2023-12-12T19:00:35.842860900Z"
    }
   },
   "id": "ee7707ada443c47c"
  },
  {
   "cell_type": "code",
   "execution_count": 9,
   "outputs": [],
   "source": [
    "# import csv training data\n",
    "data_folder = '../../hai_dataset/hai/hai-21.03'\n",
    "data_filenames = ['train1.csv', 'train2.csv', 'train3.csv']\n",
    "label_columns = ['attack', 'attack_P1', 'attack_P2', 'attack_P3']"
   ],
   "metadata": {
    "collapsed": false,
    "ExecuteTime": {
     "end_time": "2023-12-12T19:00:36.312500700Z",
     "start_time": "2023-12-12T19:00:36.298766700Z"
    }
   },
   "id": "4463243f408da323"
  },
  {
   "cell_type": "code",
   "execution_count": 10,
   "outputs": [],
   "source": [
    "data_loader = DataLoaderProcessor(data_folder=data_folder, data_filenames=data_filenames, label_columns=label_columns)\n",
    "df = data_loader.get_data()\n",
    "X_train, X_test, y_train, y_test = data_loader.split_data(data_frame=df)"
   ],
   "metadata": {
    "collapsed": false,
    "ExecuteTime": {
     "end_time": "2023-12-12T19:00:41.348540Z",
     "start_time": "2023-12-12T19:00:36.717237900Z"
    }
   },
   "id": "2a733904aa1eadba"
  },
  {
   "cell_type": "code",
   "execution_count": 4,
   "outputs": [],
   "source": [
    "clf = RandomForestClassifier()\n",
    "model_handler = ModelTrainerTester(classifier=clf, X_train=X_train, y_train=y_train)\n",
    "clf = model_handler.train_model()\n",
    "_, tr_accuracy = model_handler.test_model(X_test=X_test, y_test=y_test)"
   ],
   "metadata": {
    "collapsed": false,
    "ExecuteTime": {
     "end_time": "2023-12-12T17:32:09.414829800Z",
     "start_time": "2023-12-12T17:31:57.916467200Z"
    }
   },
   "id": "1bde6d9dbdab845b"
  },
  {
   "cell_type": "code",
   "execution_count": 5,
   "outputs": [],
   "source": [
    "consumer = KafkaConsumer(\n",
    "    'hai-preprocessed',\n",
    "    bootstrap_servers=['localhost:9092'],\n",
    "    auto_offset_reset='earliest',\n",
    "    enable_auto_commit=True,\n",
    "    value_deserializer=lambda x: json.loads(x.decode('utf-8'))\n",
    ")\n",
    "\n",
    "producer = KafkaProducer(\n",
    "    bootstrap_servers=['localhost:9092'],\n",
    "    value_serializer=lambda x: json.dumps(x).encode('utf-8'))"
   ],
   "metadata": {
    "collapsed": false,
    "ExecuteTime": {
     "end_time": "2023-12-12T17:32:09.648175200Z",
     "start_time": "2023-12-12T17:32:09.415947600Z"
    }
   },
   "id": "6052f67c10b98a71"
  },
  {
   "cell_type": "code",
   "execution_count": 6,
   "outputs": [],
   "source": [
    "ddm = DDM()"
   ],
   "metadata": {
    "collapsed": false,
    "ExecuteTime": {
     "end_time": "2023-12-12T17:32:28.933846200Z",
     "start_time": "2023-12-12T17:32:28.926854Z"
    }
   },
   "id": "7216b813210f24ba"
  },
  {
   "cell_type": "code",
   "execution_count": 7,
   "outputs": [
    {
     "name": "stdout",
     "output_type": "stream",
     "text": [
      "Iteration 0 Accuracy 1.0\n",
      "Iteration 1000 Accuracy 1.0\n",
      "Iteration 2000 Accuracy 1.0\n",
      "2023-12-12 18:32:45.829148 - accuracy: 1.0 - drift detected: True\n",
      "Iteration 3000 Accuracy 1.0\n",
      "Iteration 4000 Accuracy 1.0\n",
      "Iteration 5000 Accuracy 1.0\n",
      "Iteration 6000 Accuracy 1.0\n",
      "Iteration 7000 Accuracy 1.0\n",
      "Iteration 8000 Accuracy 1.0\n",
      "Iteration 9000 Accuracy 1.0\n",
      "Iteration 10000 Accuracy 1.0\n",
      "2023-12-12 18:33:35.785936 - accuracy: 1.0 - drift detected: True\n",
      "Iteration 11000 Accuracy 1.0\n",
      "Iteration 12000 Accuracy 1.0\n",
      "Iteration 13000 Accuracy 1.0\n",
      "Iteration 14000 Accuracy 1.0\n",
      "Iteration 15000 Accuracy 1.0\n",
      "2023-12-12 18:34:05.319353 - accuracy: 1.0 - drift detected: True\n",
      "Iteration 16000 Accuracy 1.0\n",
      "Iteration 17000 Accuracy 1.0\n",
      "Iteration 18000 Accuracy 1.0\n",
      "Iteration 19000 Accuracy 1.0\n",
      "Iteration 20000 Accuracy 1.0\n",
      "Iteration 21000 Accuracy 1.0\n",
      "2023-12-12 18:34:47.555024 - accuracy: 1.0 - drift detected: True\n",
      "Iteration 22000 Accuracy 1.0\n",
      "2023-12-12 18:34:54.804034 - accuracy: 1.0 - drift detected: True\n",
      "Iteration 23000 Accuracy 1.0\n",
      "Iteration 24000 Accuracy 1.0\n",
      "Iteration 25000 Accuracy 1.0\n",
      "Iteration 26000 Accuracy 1.0\n",
      "Iteration 27000 Accuracy 1.0\n",
      "Iteration 28000 Accuracy 1.0\n",
      "Iteration 29000 Accuracy 1.0\n",
      "Iteration 30000 Accuracy 1.0\n",
      "Iteration 31000 Accuracy 1.0\n",
      "Iteration 32000 Accuracy 1.0\n",
      "Iteration 33000 Accuracy 1.0\n",
      "Iteration 34000 Accuracy 1.0\n",
      "Iteration 35000 Accuracy 1.0\n",
      "Iteration 36000 Accuracy 1.0\n",
      "Iteration 37000 Accuracy 1.0\n",
      "Iteration 38000 Accuracy 1.0\n",
      "Iteration 39000 Accuracy 1.0\n",
      "Iteration 40000 Accuracy 1.0\n",
      "Iteration 41000 Accuracy 1.0\n",
      "Iteration 42000 Accuracy 1.0\n",
      "Iteration 43000 Accuracy 1.0\n",
      "Iteration 44000 Accuracy 1.0\n",
      "Iteration 45000 Accuracy 1.0\n",
      "Iteration 46000 Accuracy 1.0\n",
      "Iteration 47000 Accuracy 1.0\n",
      "Iteration 48000 Accuracy 1.0\n",
      "Iteration 49000 Accuracy 1.0\n",
      "Iteration 50000 Accuracy 1.0\n",
      "Iteration 51000 Accuracy 1.0\n",
      "Iteration 52000 Accuracy 1.0\n",
      "Iteration 53000 Accuracy 0.0\n",
      "Iteration 54000 Accuracy 1.0\n",
      "Iteration 55000 Accuracy 1.0\n",
      "Iteration 56000 Accuracy 1.0\n",
      "2023-12-12 18:38:34.000570 - accuracy: 1.0 - drift detected: True\n",
      "Iteration 57000 Accuracy 1.0\n",
      "Iteration 58000 Accuracy 1.0\n",
      "Iteration 59000 Accuracy 1.0\n",
      "2023-12-12 18:38:59.046952 - accuracy: 1.0 - drift detected: True\n",
      "Iteration 60000 Accuracy 1.0\n",
      "Iteration 61000 Accuracy 1.0\n",
      "Iteration 62000 Accuracy 0.0\n",
      "2023-12-12 18:39:17.674496 - accuracy: 1.0 - drift detected: True\n",
      "Iteration 63000 Accuracy 1.0\n",
      "Iteration 64000 Accuracy 1.0\n",
      "Iteration 65000 Accuracy 1.0\n",
      "Iteration 66000 Accuracy 1.0\n",
      "2023-12-12 18:39:49.022345 - accuracy: 1.0 - drift detected: True\n",
      "Iteration 67000 Accuracy 1.0\n",
      "Iteration 68000 Accuracy 1.0\n",
      "Iteration 69000 Accuracy 1.0\n",
      "Iteration 70000 Accuracy 1.0\n",
      "Iteration 71000 Accuracy 1.0\n",
      "Iteration 72000 Accuracy 1.0\n",
      "Iteration 73000 Accuracy 1.0\n",
      "2023-12-12 18:40:34.326994 - accuracy: 1.0 - drift detected: True\n",
      "Iteration 74000 Accuracy 1.0\n",
      "Iteration 75000 Accuracy 1.0\n",
      "Iteration 76000 Accuracy 1.0\n",
      "Iteration 77000 Accuracy 1.0\n",
      "Iteration 78000 Accuracy 1.0\n",
      "Iteration 79000 Accuracy 1.0\n",
      "Iteration 80000 Accuracy 1.0\n",
      "Iteration 81000 Accuracy 1.0\n",
      "Iteration 82000 Accuracy 1.0\n",
      "2023-12-12 18:41:45.028204 - accuracy: 1.0 - drift detected: True\n",
      "Iteration 83000 Accuracy 1.0\n",
      "Iteration 84000 Accuracy 1.0\n",
      "Iteration 85000 Accuracy 1.0\n",
      "Iteration 86000 Accuracy 1.0\n",
      "Iteration 87000 Accuracy 1.0\n",
      "2023-12-12 18:42:24.437851 - accuracy: 1.0 - drift detected: True\n",
      "Iteration 88000 Accuracy 1.0\n",
      "Iteration 89000 Accuracy 1.0\n",
      "Iteration 90000 Accuracy 1.0\n",
      "Iteration 91000 Accuracy 1.0\n",
      "Iteration 92000 Accuracy 1.0\n",
      "Iteration 93000 Accuracy 1.0\n",
      "Iteration 94000 Accuracy 1.0\n",
      "Iteration 95000 Accuracy 1.0\n",
      "Iteration 96000 Accuracy 1.0\n",
      "2023-12-12 18:43:37.514879 - accuracy: 1.0 - drift detected: True\n",
      "Iteration 97000 Accuracy 1.0\n",
      "Iteration 98000 Accuracy 1.0\n",
      "Iteration 99000 Accuracy 1.0\n",
      "Iteration 100000 Accuracy 1.0\n",
      "Iteration 101000 Accuracy 1.0\n",
      "Iteration 102000 Accuracy 1.0\n",
      "Iteration 103000 Accuracy 1.0\n",
      "Iteration 104000 Accuracy 1.0\n",
      "Iteration 105000 Accuracy 1.0\n",
      "Iteration 106000 Accuracy 1.0\n",
      "Iteration 107000 Accuracy 1.0\n",
      "2023-12-12 18:45:02.655936 - accuracy: 1.0 - drift detected: True\n",
      "Iteration 108000 Accuracy 1.0\n",
      "Iteration 109000 Accuracy 1.0\n",
      "2023-12-12 18:45:10.876688 - accuracy: 1.0 - drift detected: True\n",
      "Iteration 110000 Accuracy 1.0\n",
      "Iteration 111000 Accuracy 1.0\n",
      "Iteration 112000 Accuracy 1.0\n",
      "Iteration 113000 Accuracy 1.0\n",
      "Iteration 114000 Accuracy 1.0\n",
      "Iteration 115000 Accuracy 1.0\n",
      "2023-12-12 18:45:53.165103 - accuracy: 1.0 - drift detected: True\n",
      "Iteration 116000 Accuracy 1.0\n",
      "Iteration 117000 Accuracy 1.0\n",
      "Iteration 118000 Accuracy 1.0\n",
      "Iteration 119000 Accuracy 1.0\n",
      "Iteration 120000 Accuracy 1.0\n",
      "Iteration 121000 Accuracy 1.0\n",
      "Iteration 122000 Accuracy 0.0\n",
      "Iteration 123000 Accuracy 1.0\n",
      "2023-12-12 18:46:38.782667 - accuracy: 1.0 - drift detected: True\n",
      "Iteration 124000 Accuracy 1.0\n"
     ]
    },
    {
     "ename": "KeyboardInterrupt",
     "evalue": "",
     "output_type": "error",
     "traceback": [
      "\u001B[1;31m---------------------------------------------------------------------------\u001B[0m",
      "\u001B[1;31mKeyboardInterrupt\u001B[0m                         Traceback (most recent call last)",
      "Cell \u001B[1;32mIn[7], line 7\u001B[0m\n\u001B[0;32m      4\u001B[0m data \u001B[38;5;241m=\u001B[39m msg\u001B[38;5;241m.\u001B[39mvalue\n\u001B[0;32m      5\u001B[0m \u001B[38;5;66;03m#print(data['features'])\u001B[39;00m\n\u001B[0;32m      6\u001B[0m \u001B[38;5;66;03m# convert the dictionary to a dataframe\u001B[39;00m\n\u001B[1;32m----> 7\u001B[0m X \u001B[38;5;241m=\u001B[39m \u001B[43mpd\u001B[49m\u001B[38;5;241;43m.\u001B[39;49m\u001B[43mDataFrame\u001B[49m\u001B[43m(\u001B[49m\u001B[43mdata\u001B[49m\u001B[43m[\u001B[49m\u001B[38;5;124;43m'\u001B[39;49m\u001B[38;5;124;43mfeatures\u001B[39;49m\u001B[38;5;124;43m'\u001B[39;49m\u001B[43m]\u001B[49m\u001B[43m,\u001B[49m\u001B[43m \u001B[49m\u001B[43mindex\u001B[49m\u001B[38;5;241;43m=\u001B[39;49m\u001B[43m[\u001B[49m\u001B[38;5;241;43m0\u001B[39;49m\u001B[43m]\u001B[49m\u001B[43m)\u001B[49m\n\u001B[0;32m      8\u001B[0m \u001B[38;5;66;03m# get the labels\u001B[39;00m\n\u001B[0;32m      9\u001B[0m y \u001B[38;5;241m=\u001B[39m pd\u001B[38;5;241m.\u001B[39mDataFrame(data[\u001B[38;5;124m'\u001B[39m\u001B[38;5;124mlabels\u001B[39m\u001B[38;5;124m'\u001B[39m], index\u001B[38;5;241m=\u001B[39m[\u001B[38;5;241m0\u001B[39m])\n",
      "File \u001B[1;32m~\\Documents\\Egyetem\\Open Source Technologies\\ost-sm-change-detection\\venv\\lib\\site-packages\\pandas\\core\\frame.py:733\u001B[0m, in \u001B[0;36mDataFrame.__init__\u001B[1;34m(self, data, index, columns, dtype, copy)\u001B[0m\n\u001B[0;32m    727\u001B[0m     mgr \u001B[38;5;241m=\u001B[39m \u001B[38;5;28mself\u001B[39m\u001B[38;5;241m.\u001B[39m_init_mgr(\n\u001B[0;32m    728\u001B[0m         data, axes\u001B[38;5;241m=\u001B[39m{\u001B[38;5;124m\"\u001B[39m\u001B[38;5;124mindex\u001B[39m\u001B[38;5;124m\"\u001B[39m: index, \u001B[38;5;124m\"\u001B[39m\u001B[38;5;124mcolumns\u001B[39m\u001B[38;5;124m\"\u001B[39m: columns}, dtype\u001B[38;5;241m=\u001B[39mdtype, copy\u001B[38;5;241m=\u001B[39mcopy\n\u001B[0;32m    729\u001B[0m     )\n\u001B[0;32m    731\u001B[0m \u001B[38;5;28;01melif\u001B[39;00m \u001B[38;5;28misinstance\u001B[39m(data, \u001B[38;5;28mdict\u001B[39m):\n\u001B[0;32m    732\u001B[0m     \u001B[38;5;66;03m# GH#38939 de facto copy defaults to False only in non-dict cases\u001B[39;00m\n\u001B[1;32m--> 733\u001B[0m     mgr \u001B[38;5;241m=\u001B[39m \u001B[43mdict_to_mgr\u001B[49m\u001B[43m(\u001B[49m\u001B[43mdata\u001B[49m\u001B[43m,\u001B[49m\u001B[43m \u001B[49m\u001B[43mindex\u001B[49m\u001B[43m,\u001B[49m\u001B[43m \u001B[49m\u001B[43mcolumns\u001B[49m\u001B[43m,\u001B[49m\u001B[43m \u001B[49m\u001B[43mdtype\u001B[49m\u001B[38;5;241;43m=\u001B[39;49m\u001B[43mdtype\u001B[49m\u001B[43m,\u001B[49m\u001B[43m \u001B[49m\u001B[43mcopy\u001B[49m\u001B[38;5;241;43m=\u001B[39;49m\u001B[43mcopy\u001B[49m\u001B[43m,\u001B[49m\u001B[43m \u001B[49m\u001B[43mtyp\u001B[49m\u001B[38;5;241;43m=\u001B[39;49m\u001B[43mmanager\u001B[49m\u001B[43m)\u001B[49m\n\u001B[0;32m    734\u001B[0m \u001B[38;5;28;01melif\u001B[39;00m \u001B[38;5;28misinstance\u001B[39m(data, ma\u001B[38;5;241m.\u001B[39mMaskedArray):\n\u001B[0;32m    735\u001B[0m     \u001B[38;5;28;01mfrom\u001B[39;00m \u001B[38;5;21;01mnumpy\u001B[39;00m\u001B[38;5;21;01m.\u001B[39;00m\u001B[38;5;21;01mma\u001B[39;00m \u001B[38;5;28;01mimport\u001B[39;00m mrecords\n",
      "File \u001B[1;32m~\\Documents\\Egyetem\\Open Source Technologies\\ost-sm-change-detection\\venv\\lib\\site-packages\\pandas\\core\\internals\\construction.py:503\u001B[0m, in \u001B[0;36mdict_to_mgr\u001B[1;34m(data, index, columns, dtype, typ, copy)\u001B[0m\n\u001B[0;32m    499\u001B[0m     \u001B[38;5;28;01melse\u001B[39;00m:\n\u001B[0;32m    500\u001B[0m         \u001B[38;5;66;03m# dtype check to exclude e.g. range objects, scalars\u001B[39;00m\n\u001B[0;32m    501\u001B[0m         arrays \u001B[38;5;241m=\u001B[39m [x\u001B[38;5;241m.\u001B[39mcopy() \u001B[38;5;28;01mif\u001B[39;00m \u001B[38;5;28mhasattr\u001B[39m(x, \u001B[38;5;124m\"\u001B[39m\u001B[38;5;124mdtype\u001B[39m\u001B[38;5;124m\"\u001B[39m) \u001B[38;5;28;01melse\u001B[39;00m x \u001B[38;5;28;01mfor\u001B[39;00m x \u001B[38;5;129;01min\u001B[39;00m arrays]\n\u001B[1;32m--> 503\u001B[0m \u001B[38;5;28;01mreturn\u001B[39;00m \u001B[43marrays_to_mgr\u001B[49m\u001B[43m(\u001B[49m\u001B[43marrays\u001B[49m\u001B[43m,\u001B[49m\u001B[43m \u001B[49m\u001B[43mcolumns\u001B[49m\u001B[43m,\u001B[49m\u001B[43m \u001B[49m\u001B[43mindex\u001B[49m\u001B[43m,\u001B[49m\u001B[43m \u001B[49m\u001B[43mdtype\u001B[49m\u001B[38;5;241;43m=\u001B[39;49m\u001B[43mdtype\u001B[49m\u001B[43m,\u001B[49m\u001B[43m \u001B[49m\u001B[43mtyp\u001B[49m\u001B[38;5;241;43m=\u001B[39;49m\u001B[43mtyp\u001B[49m\u001B[43m,\u001B[49m\u001B[43m \u001B[49m\u001B[43mconsolidate\u001B[49m\u001B[38;5;241;43m=\u001B[39;49m\u001B[43mcopy\u001B[49m\u001B[43m)\u001B[49m\n",
      "File \u001B[1;32m~\\Documents\\Egyetem\\Open Source Technologies\\ost-sm-change-detection\\venv\\lib\\site-packages\\pandas\\core\\internals\\construction.py:152\u001B[0m, in \u001B[0;36marrays_to_mgr\u001B[1;34m(arrays, columns, index, dtype, verify_integrity, typ, consolidate)\u001B[0m\n\u001B[0;32m    149\u001B[0m axes \u001B[38;5;241m=\u001B[39m [columns, index]\n\u001B[0;32m    151\u001B[0m \u001B[38;5;28;01mif\u001B[39;00m typ \u001B[38;5;241m==\u001B[39m \u001B[38;5;124m\"\u001B[39m\u001B[38;5;124mblock\u001B[39m\u001B[38;5;124m\"\u001B[39m:\n\u001B[1;32m--> 152\u001B[0m     \u001B[38;5;28;01mreturn\u001B[39;00m \u001B[43mcreate_block_manager_from_column_arrays\u001B[49m\u001B[43m(\u001B[49m\n\u001B[0;32m    153\u001B[0m \u001B[43m        \u001B[49m\u001B[43marrays\u001B[49m\u001B[43m,\u001B[49m\u001B[43m \u001B[49m\u001B[43maxes\u001B[49m\u001B[43m,\u001B[49m\u001B[43m \u001B[49m\u001B[43mconsolidate\u001B[49m\u001B[38;5;241;43m=\u001B[39;49m\u001B[43mconsolidate\u001B[49m\u001B[43m,\u001B[49m\u001B[43m \u001B[49m\u001B[43mrefs\u001B[49m\u001B[38;5;241;43m=\u001B[39;49m\u001B[43mrefs\u001B[49m\n\u001B[0;32m    154\u001B[0m \u001B[43m    \u001B[49m\u001B[43m)\u001B[49m\n\u001B[0;32m    155\u001B[0m \u001B[38;5;28;01melif\u001B[39;00m typ \u001B[38;5;241m==\u001B[39m \u001B[38;5;124m\"\u001B[39m\u001B[38;5;124marray\u001B[39m\u001B[38;5;124m\"\u001B[39m:\n\u001B[0;32m    156\u001B[0m     \u001B[38;5;28;01mreturn\u001B[39;00m ArrayManager(arrays, [index, columns])\n",
      "File \u001B[1;32m~\\Documents\\Egyetem\\Open Source Technologies\\ost-sm-change-detection\\venv\\lib\\site-packages\\pandas\\core\\internals\\managers.py:2091\u001B[0m, in \u001B[0;36mcreate_block_manager_from_column_arrays\u001B[1;34m(arrays, axes, consolidate, refs)\u001B[0m\n\u001B[0;32m   2089\u001B[0m     raise_construction_error(\u001B[38;5;28mlen\u001B[39m(arrays), arrays[\u001B[38;5;241m0\u001B[39m]\u001B[38;5;241m.\u001B[39mshape, axes, e)\n\u001B[0;32m   2090\u001B[0m \u001B[38;5;28;01mif\u001B[39;00m consolidate:\n\u001B[1;32m-> 2091\u001B[0m     \u001B[43mmgr\u001B[49m\u001B[38;5;241;43m.\u001B[39;49m\u001B[43m_consolidate_inplace\u001B[49m\u001B[43m(\u001B[49m\u001B[43m)\u001B[49m\n\u001B[0;32m   2092\u001B[0m \u001B[38;5;28;01mreturn\u001B[39;00m mgr\n",
      "File \u001B[1;32m~\\Documents\\Egyetem\\Open Source Technologies\\ost-sm-change-detection\\venv\\lib\\site-packages\\pandas\\core\\internals\\managers.py:1750\u001B[0m, in \u001B[0;36mBlockManager._consolidate_inplace\u001B[1;34m(self)\u001B[0m\n\u001B[0;32m   1744\u001B[0m \u001B[38;5;28;01mdef\u001B[39;00m \u001B[38;5;21m_consolidate_inplace\u001B[39m(\u001B[38;5;28mself\u001B[39m) \u001B[38;5;241m-\u001B[39m\u001B[38;5;241m>\u001B[39m \u001B[38;5;28;01mNone\u001B[39;00m:\n\u001B[0;32m   1745\u001B[0m     \u001B[38;5;66;03m# In general, _consolidate_inplace should only be called via\u001B[39;00m\n\u001B[0;32m   1746\u001B[0m     \u001B[38;5;66;03m#  DataFrame._consolidate_inplace, otherwise we will fail to invalidate\u001B[39;00m\n\u001B[0;32m   1747\u001B[0m     \u001B[38;5;66;03m#  the DataFrame's _item_cache. The exception is for newly-created\u001B[39;00m\n\u001B[0;32m   1748\u001B[0m     \u001B[38;5;66;03m#  BlockManager objects not yet attached to a DataFrame.\u001B[39;00m\n\u001B[0;32m   1749\u001B[0m     \u001B[38;5;28;01mif\u001B[39;00m \u001B[38;5;129;01mnot\u001B[39;00m \u001B[38;5;28mself\u001B[39m\u001B[38;5;241m.\u001B[39mis_consolidated():\n\u001B[1;32m-> 1750\u001B[0m         \u001B[38;5;28mself\u001B[39m\u001B[38;5;241m.\u001B[39mblocks \u001B[38;5;241m=\u001B[39m \u001B[43m_consolidate\u001B[49m\u001B[43m(\u001B[49m\u001B[38;5;28;43mself\u001B[39;49m\u001B[38;5;241;43m.\u001B[39;49m\u001B[43mblocks\u001B[49m\u001B[43m)\u001B[49m\n\u001B[0;32m   1751\u001B[0m         \u001B[38;5;28mself\u001B[39m\u001B[38;5;241m.\u001B[39m_is_consolidated \u001B[38;5;241m=\u001B[39m \u001B[38;5;28;01mTrue\u001B[39;00m\n\u001B[0;32m   1752\u001B[0m         \u001B[38;5;28mself\u001B[39m\u001B[38;5;241m.\u001B[39m_known_consolidated \u001B[38;5;241m=\u001B[39m \u001B[38;5;28;01mTrue\u001B[39;00m\n",
      "File \u001B[1;32m~\\Documents\\Egyetem\\Open Source Technologies\\ost-sm-change-detection\\venv\\lib\\site-packages\\pandas\\core\\internals\\managers.py:2217\u001B[0m, in \u001B[0;36m_consolidate\u001B[1;34m(blocks)\u001B[0m\n\u001B[0;32m   2215\u001B[0m new_blocks: \u001B[38;5;28mlist\u001B[39m[Block] \u001B[38;5;241m=\u001B[39m []\n\u001B[0;32m   2216\u001B[0m \u001B[38;5;28;01mfor\u001B[39;00m (_can_consolidate, dtype), group_blocks \u001B[38;5;129;01min\u001B[39;00m grouper:\n\u001B[1;32m-> 2217\u001B[0m     merged_blocks, _ \u001B[38;5;241m=\u001B[39m \u001B[43m_merge_blocks\u001B[49m\u001B[43m(\u001B[49m\n\u001B[0;32m   2218\u001B[0m \u001B[43m        \u001B[49m\u001B[38;5;28;43mlist\u001B[39;49m\u001B[43m(\u001B[49m\u001B[43mgroup_blocks\u001B[49m\u001B[43m)\u001B[49m\u001B[43m,\u001B[49m\u001B[43m \u001B[49m\u001B[43mdtype\u001B[49m\u001B[38;5;241;43m=\u001B[39;49m\u001B[43mdtype\u001B[49m\u001B[43m,\u001B[49m\u001B[43m \u001B[49m\u001B[43mcan_consolidate\u001B[49m\u001B[38;5;241;43m=\u001B[39;49m\u001B[43m_can_consolidate\u001B[49m\n\u001B[0;32m   2219\u001B[0m \u001B[43m    \u001B[49m\u001B[43m)\u001B[49m\n\u001B[0;32m   2220\u001B[0m     new_blocks \u001B[38;5;241m=\u001B[39m extend_blocks(merged_blocks, new_blocks)\n\u001B[0;32m   2221\u001B[0m \u001B[38;5;28;01mreturn\u001B[39;00m \u001B[38;5;28mtuple\u001B[39m(new_blocks)\n",
      "File \u001B[1;32m~\\Documents\\Egyetem\\Open Source Technologies\\ost-sm-change-detection\\venv\\lib\\site-packages\\pandas\\core\\internals\\managers.py:2242\u001B[0m, in \u001B[0;36m_merge_blocks\u001B[1;34m(blocks, dtype, can_consolidate)\u001B[0m\n\u001B[0;32m   2235\u001B[0m new_values: ArrayLike\n\u001B[0;32m   2237\u001B[0m \u001B[38;5;28;01mif\u001B[39;00m \u001B[38;5;28misinstance\u001B[39m(blocks[\u001B[38;5;241m0\u001B[39m]\u001B[38;5;241m.\u001B[39mdtype, np\u001B[38;5;241m.\u001B[39mdtype):\n\u001B[0;32m   2238\u001B[0m     \u001B[38;5;66;03m# error: List comprehension has incompatible type List[Union[ndarray,\u001B[39;00m\n\u001B[0;32m   2239\u001B[0m     \u001B[38;5;66;03m# ExtensionArray]]; expected List[Union[complex, generic,\u001B[39;00m\n\u001B[0;32m   2240\u001B[0m     \u001B[38;5;66;03m# Sequence[Union[int, float, complex, str, bytes, generic]],\u001B[39;00m\n\u001B[0;32m   2241\u001B[0m     \u001B[38;5;66;03m# Sequence[Sequence[Any]], SupportsArray]]\u001B[39;00m\n\u001B[1;32m-> 2242\u001B[0m     new_values \u001B[38;5;241m=\u001B[39m \u001B[43mnp\u001B[49m\u001B[38;5;241;43m.\u001B[39;49m\u001B[43mvstack\u001B[49m\u001B[43m(\u001B[49m\u001B[43m[\u001B[49m\u001B[43mb\u001B[49m\u001B[38;5;241;43m.\u001B[39;49m\u001B[43mvalues\u001B[49m\u001B[43m \u001B[49m\u001B[38;5;28;43;01mfor\u001B[39;49;00m\u001B[43m \u001B[49m\u001B[43mb\u001B[49m\u001B[43m \u001B[49m\u001B[38;5;129;43;01min\u001B[39;49;00m\u001B[43m \u001B[49m\u001B[43mblocks\u001B[49m\u001B[43m]\u001B[49m\u001B[43m)\u001B[49m  \u001B[38;5;66;03m# type: ignore[misc]\u001B[39;00m\n\u001B[0;32m   2243\u001B[0m \u001B[38;5;28;01melse\u001B[39;00m:\n\u001B[0;32m   2244\u001B[0m     bvals \u001B[38;5;241m=\u001B[39m [blk\u001B[38;5;241m.\u001B[39mvalues \u001B[38;5;28;01mfor\u001B[39;00m blk \u001B[38;5;129;01min\u001B[39;00m blocks]\n",
      "File \u001B[1;32m<__array_function__ internals>:200\u001B[0m, in \u001B[0;36mvstack\u001B[1;34m(*args, **kwargs)\u001B[0m\n",
      "File \u001B[1;32m~\\Documents\\Egyetem\\Open Source Technologies\\ost-sm-change-detection\\venv\\lib\\site-packages\\numpy\\core\\shape_base.py:296\u001B[0m, in \u001B[0;36mvstack\u001B[1;34m(tup, dtype, casting)\u001B[0m\n\u001B[0;32m    294\u001B[0m \u001B[38;5;28;01mif\u001B[39;00m \u001B[38;5;129;01mnot\u001B[39;00m \u001B[38;5;28misinstance\u001B[39m(arrs, \u001B[38;5;28mlist\u001B[39m):\n\u001B[0;32m    295\u001B[0m     arrs \u001B[38;5;241m=\u001B[39m [arrs]\n\u001B[1;32m--> 296\u001B[0m \u001B[38;5;28;01mreturn\u001B[39;00m \u001B[43m_nx\u001B[49m\u001B[38;5;241;43m.\u001B[39;49m\u001B[43mconcatenate\u001B[49m\u001B[43m(\u001B[49m\u001B[43marrs\u001B[49m\u001B[43m,\u001B[49m\u001B[43m \u001B[49m\u001B[38;5;241;43m0\u001B[39;49m\u001B[43m,\u001B[49m\u001B[43m \u001B[49m\u001B[43mdtype\u001B[49m\u001B[38;5;241;43m=\u001B[39;49m\u001B[43mdtype\u001B[49m\u001B[43m,\u001B[49m\u001B[43m \u001B[49m\u001B[43mcasting\u001B[49m\u001B[38;5;241;43m=\u001B[39;49m\u001B[43mcasting\u001B[49m\u001B[43m)\u001B[49m\n",
      "File \u001B[1;32m<__array_function__ internals>:200\u001B[0m, in \u001B[0;36mconcatenate\u001B[1;34m(*args, **kwargs)\u001B[0m\n",
      "\u001B[1;31mKeyboardInterrupt\u001B[0m: "
     ]
    }
   ],
   "source": [
    "# consume the streamed data from kafka and detect drift\n",
    "for i, msg in enumerate(consumer):\n",
    "    # get the data from the message\n",
    "    data = msg.value\n",
    "    #print(data['features'])\n",
    "    # convert the dictionary to a dataframe\n",
    "    X = pd.DataFrame(data['features'], index=[0])\n",
    "    # get the labels\n",
    "    y = pd.DataFrame(data['labels'], index=[0])\n",
    "    # predict the labels\n",
    "    y_pred = clf.predict(X)\n",
    "    # get the accuracy\n",
    "    accuracy = accuracy_score(y, y_pred)\n",
    "    # detect drift\n",
    "    ddm.add_element(accuracy)\n",
    "    warning_detected = ddm.detected_warning_zone()\n",
    "    drift_detected = ddm.detected_change()\n",
    "    \n",
    "    # send the results\n",
    "    producer.send('hai-results', value={'accuracy': accuracy, 'warning_detected': warning_detected, 'drift_detected': drift_detected})\n",
    "    \n",
    "    # print the results\n",
    "    '''if accuracy < 0.5:\n",
    "        print('Iteration {}'.format(i), 'Accuracy {}'.format(accuracy))'''\n",
    "    if i % 1000 == 0:\n",
    "        print('Iteration {}'.format(i), 'Accuracy {}'.format(accuracy))\n",
    "    if drift_detected:\n",
    "        print(f'{datetime.now()} - accuracy: {accuracy} - drift detected: {drift_detected}')\n",
    "    i += 1"
   ],
   "metadata": {
    "collapsed": false,
    "ExecuteTime": {
     "end_time": "2023-12-12T17:46:45.471332300Z",
     "start_time": "2023-12-12T17:32:29.151238200Z"
    }
   },
   "id": "893e32027f59f79b"
  },
  {
   "cell_type": "code",
   "execution_count": null,
   "outputs": [],
   "source": [],
   "metadata": {
    "collapsed": false,
    "ExecuteTime": {
     "start_time": "2023-12-12T17:46:45.468350800Z"
    }
   },
   "id": "a7a0ad572c8f6bc7"
  },
  {
   "cell_type": "code",
   "execution_count": null,
   "outputs": [],
   "source": [],
   "metadata": {
    "collapsed": false
   },
   "id": "c5ff823bbcce30ec"
  }
 ],
 "metadata": {
  "kernelspec": {
   "display_name": "Python 3",
   "language": "python",
   "name": "python3"
  },
  "language_info": {
   "codemirror_mode": {
    "name": "ipython",
    "version": 2
   },
   "file_extension": ".py",
   "mimetype": "text/x-python",
   "name": "python",
   "nbconvert_exporter": "python",
   "pygments_lexer": "ipython2",
   "version": "2.7.6"
  }
 },
 "nbformat": 4,
 "nbformat_minor": 5
}
