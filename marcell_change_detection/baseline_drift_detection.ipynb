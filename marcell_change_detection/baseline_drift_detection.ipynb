{
 "cells": [
  {
   "cell_type": "code",
   "execution_count": 1,
   "id": "initial_id",
   "metadata": {
    "collapsed": true,
    "ExecuteTime": {
     "end_time": "2023-12-12T17:20:26.181386500Z",
     "start_time": "2023-12-12T17:20:25.600568600Z"
    }
   },
   "outputs": [],
   "source": [
    "import os\n",
    "import pandas as pd\n",
    "from kafka import KafkaConsumer, KafkaProducer\n",
    "#from skmultiflow.drift_detection import DDM\n",
    "from sklearn.ensemble import RandomForestClassifier\n",
    "from sklearn.metrics import accuracy_score\n",
    "from datetime import datetime\n",
    "from sklearn.model_selection import train_test_split\n",
    "import json\n",
    "from drift_detectors.ddm import DDM"
   ]
  },
  {
   "cell_type": "code",
   "execution_count": 2,
   "outputs": [],
   "source": [
    "def get_data(data_folder, data_filenames):\n",
    "    \"\"\"\n",
    "    Get the training data from the csv files in the data folder\n",
    "    Join the dataframes from the different files\n",
    "    \"\"\"\n",
    "    data_list = list()\n",
    "    for data_filename in data_filenames: \n",
    "        data_path = os.path.join(data_folder, data_filename).replace(os.sep, '/')\n",
    "        data_list.append(pd.read_csv(data_path, index_col=0))  \n",
    "        \n",
    "    data_frame = pd.concat(data_list, axis=0, ignore_index=True)\n",
    "        \n",
    "    return data_frame"
   ],
   "metadata": {
    "collapsed": false,
    "ExecuteTime": {
     "end_time": "2023-12-12T17:20:26.194675600Z",
     "start_time": "2023-12-12T17:20:26.180469400Z"
    }
   },
   "id": "82ae94dd94c0ddbc"
  },
  {
   "cell_type": "code",
   "execution_count": 3,
   "outputs": [],
   "source": [
    "# import csv training data\n",
    "data_folder = '../../hai_dataset/hai/hai-21.03'\n",
    "data_filenames = ['train1.csv', 'train2.csv', 'train3.csv']\n",
    "df = get_data(data_folder, data_filenames)"
   ],
   "metadata": {
    "collapsed": false,
    "ExecuteTime": {
     "end_time": "2023-12-12T17:20:29.976254Z",
     "start_time": "2023-12-12T17:20:26.198327800Z"
    }
   },
   "id": "4d7f3986657880ba"
  },
  {
   "cell_type": "code",
   "execution_count": 4,
   "outputs": [],
   "source": [
    "# split into train and test\n",
    "label_columns = ['attack', 'attack_P1', 'attack_P2', 'attack_P3']\n",
    "X_train, X_test, y_train, y_test = train_test_split(df.drop(label_columns, axis=1), df[label_columns], test_size=0.33, random_state=42)"
   ],
   "metadata": {
    "collapsed": false,
    "ExecuteTime": {
     "end_time": "2023-12-12T17:20:30.580423100Z",
     "start_time": "2023-12-12T17:20:29.976254Z"
    }
   },
   "id": "31ad2cdcbef1dd01"
  },
  {
   "cell_type": "code",
   "execution_count": 5,
   "outputs": [
    {
     "data": {
      "text/plain": "        P1_B2004  P1_B2016   P1_B3004    P1_B3005  P1_B4002   P1_B4005  \\\n640671   0.03005   1.23308  393.59396  1086.62048  32.00000   19.02375   \n251080   0.10087   1.40980  405.06735   993.95294  33.46030  100.00000   \n94824    0.10099   1.33851  404.36404  1093.57519  32.58360   28.80751   \n690119   0.09835   1.44070  400.49872  1005.13696  32.47603  100.00000   \n232306   0.10087   1.52539  405.06735   993.95294  33.46030  100.00000   \n\n          P1_B400B  P1_B4022  P1_FCV01D  P1_FCV01Z  ...  P4_HT_PO  P4_HT_PS  \\\n640671   519.58618  35.50758   16.89631   14.29901  ...   1.41061         0   \n251080  2825.54712  37.23263  100.00000   99.91608  ...  29.80322         0   \n94824    919.18939  36.17739   16.07068   13.61999  ...   0.61487         0   \n690119  2826.38940  36.33189  100.00000   99.34450  ...   0.07236         0   \n232306  2826.38940  37.52159  100.00000   99.91608  ...  68.90192         0   \n\n            P4_LD  P4_ST_FD  P4_ST_GOV   P4_ST_LD   P4_ST_PO  P4_ST_PS  \\\n640671  309.60651  -0.00492    16728.0  307.81610  308.53949         0   \n251080  376.82654   0.00072    17934.0  324.05597  332.12164         0   \n94824   354.96240   0.00058    17509.0  354.90808  324.07410         0   \n690119  353.02734  -0.00159    18671.0  352.71991  344.88934         0   \n232306  441.38818   0.00347    19607.0  369.80975  363.26318         0   \n\n        P4_ST_PT01  P4_ST_TT01  \n640671     10026.0     27625.0  \n251080     10016.0     27627.0  \n94824      10053.0     27627.0  \n690119     10026.0     27627.0  \n232306     10029.0     27584.0  \n\n[5 rows x 79 columns]",
      "text/html": "<div>\n<style scoped>\n    .dataframe tbody tr th:only-of-type {\n        vertical-align: middle;\n    }\n\n    .dataframe tbody tr th {\n        vertical-align: top;\n    }\n\n    .dataframe thead th {\n        text-align: right;\n    }\n</style>\n<table border=\"1\" class=\"dataframe\">\n  <thead>\n    <tr style=\"text-align: right;\">\n      <th></th>\n      <th>P1_B2004</th>\n      <th>P1_B2016</th>\n      <th>P1_B3004</th>\n      <th>P1_B3005</th>\n      <th>P1_B4002</th>\n      <th>P1_B4005</th>\n      <th>P1_B400B</th>\n      <th>P1_B4022</th>\n      <th>P1_FCV01D</th>\n      <th>P1_FCV01Z</th>\n      <th>...</th>\n      <th>P4_HT_PO</th>\n      <th>P4_HT_PS</th>\n      <th>P4_LD</th>\n      <th>P4_ST_FD</th>\n      <th>P4_ST_GOV</th>\n      <th>P4_ST_LD</th>\n      <th>P4_ST_PO</th>\n      <th>P4_ST_PS</th>\n      <th>P4_ST_PT01</th>\n      <th>P4_ST_TT01</th>\n    </tr>\n  </thead>\n  <tbody>\n    <tr>\n      <th>640671</th>\n      <td>0.03005</td>\n      <td>1.23308</td>\n      <td>393.59396</td>\n      <td>1086.62048</td>\n      <td>32.00000</td>\n      <td>19.02375</td>\n      <td>519.58618</td>\n      <td>35.50758</td>\n      <td>16.89631</td>\n      <td>14.29901</td>\n      <td>...</td>\n      <td>1.41061</td>\n      <td>0</td>\n      <td>309.60651</td>\n      <td>-0.00492</td>\n      <td>16728.0</td>\n      <td>307.81610</td>\n      <td>308.53949</td>\n      <td>0</td>\n      <td>10026.0</td>\n      <td>27625.0</td>\n    </tr>\n    <tr>\n      <th>251080</th>\n      <td>0.10087</td>\n      <td>1.40980</td>\n      <td>405.06735</td>\n      <td>993.95294</td>\n      <td>33.46030</td>\n      <td>100.00000</td>\n      <td>2825.54712</td>\n      <td>37.23263</td>\n      <td>100.00000</td>\n      <td>99.91608</td>\n      <td>...</td>\n      <td>29.80322</td>\n      <td>0</td>\n      <td>376.82654</td>\n      <td>0.00072</td>\n      <td>17934.0</td>\n      <td>324.05597</td>\n      <td>332.12164</td>\n      <td>0</td>\n      <td>10016.0</td>\n      <td>27627.0</td>\n    </tr>\n    <tr>\n      <th>94824</th>\n      <td>0.10099</td>\n      <td>1.33851</td>\n      <td>404.36404</td>\n      <td>1093.57519</td>\n      <td>32.58360</td>\n      <td>28.80751</td>\n      <td>919.18939</td>\n      <td>36.17739</td>\n      <td>16.07068</td>\n      <td>13.61999</td>\n      <td>...</td>\n      <td>0.61487</td>\n      <td>0</td>\n      <td>354.96240</td>\n      <td>0.00058</td>\n      <td>17509.0</td>\n      <td>354.90808</td>\n      <td>324.07410</td>\n      <td>0</td>\n      <td>10053.0</td>\n      <td>27627.0</td>\n    </tr>\n    <tr>\n      <th>690119</th>\n      <td>0.09835</td>\n      <td>1.44070</td>\n      <td>400.49872</td>\n      <td>1005.13696</td>\n      <td>32.47603</td>\n      <td>100.00000</td>\n      <td>2826.38940</td>\n      <td>36.33189</td>\n      <td>100.00000</td>\n      <td>99.34450</td>\n      <td>...</td>\n      <td>0.07236</td>\n      <td>0</td>\n      <td>353.02734</td>\n      <td>-0.00159</td>\n      <td>18671.0</td>\n      <td>352.71991</td>\n      <td>344.88934</td>\n      <td>0</td>\n      <td>10026.0</td>\n      <td>27627.0</td>\n    </tr>\n    <tr>\n      <th>232306</th>\n      <td>0.10087</td>\n      <td>1.52539</td>\n      <td>405.06735</td>\n      <td>993.95294</td>\n      <td>33.46030</td>\n      <td>100.00000</td>\n      <td>2826.38940</td>\n      <td>37.52159</td>\n      <td>100.00000</td>\n      <td>99.91608</td>\n      <td>...</td>\n      <td>68.90192</td>\n      <td>0</td>\n      <td>441.38818</td>\n      <td>0.00347</td>\n      <td>19607.0</td>\n      <td>369.80975</td>\n      <td>363.26318</td>\n      <td>0</td>\n      <td>10029.0</td>\n      <td>27584.0</td>\n    </tr>\n  </tbody>\n</table>\n<p>5 rows × 79 columns</p>\n</div>"
     },
     "execution_count": 5,
     "metadata": {},
     "output_type": "execute_result"
    }
   ],
   "source": [
    "X_train.head()"
   ],
   "metadata": {
    "collapsed": false,
    "ExecuteTime": {
     "end_time": "2023-12-12T17:20:32.882348700Z",
     "start_time": "2023-12-12T17:20:32.851305Z"
    }
   },
   "id": "74295ab608f7243b"
  },
  {
   "cell_type": "code",
   "execution_count": 9,
   "outputs": [
    {
     "name": "stdout",
     "output_type": "stream",
     "text": [
      "['P1_B2004', 'P1_B2016', 'P1_B3004', 'P1_B3005', 'P1_B4002', 'P1_B4005', 'P1_B400B', 'P1_B4022', 'P1_FCV01D', 'P1_FCV01Z', 'P1_FCV02D', 'P1_FCV02Z', 'P1_FCV03D', 'P1_FCV03Z', 'P1_FT01', 'P1_FT01Z', 'P1_FT02', 'P1_FT02Z', 'P1_FT03', 'P1_FT03Z', 'P1_LCV01D', 'P1_LCV01Z', 'P1_LIT01', 'P1_PCV01D', 'P1_PCV01Z', 'P1_PCV02D', 'P1_PCV02Z', 'P1_PIT01', 'P1_PIT02', 'P1_PP01AD', 'P1_PP01AR', 'P1_PP01BD', 'P1_PP01BR', 'P1_PP02D', 'P1_PP02R', 'P1_STSP', 'P1_TIT01', 'P1_TIT02', 'P2_24Vdc', 'P2_ASD', 'P2_AutoGO', 'P2_CO_rpm', 'P2_Emerg', 'P2_HILout', 'P2_MSD', 'P2_ManualGO', 'P2_OnOff', 'P2_RTR', 'P2_SIT01', 'P2_SIT02', 'P2_TripEx', 'P2_VT01', 'P2_VTR01', 'P2_VTR02', 'P2_VTR03', 'P2_VTR04', 'P2_VXT02', 'P2_VXT03', 'P2_VYT02', 'P2_VYT03', 'P3_FIT01', 'P3_LCP01D', 'P3_LCV01D', 'P3_LH', 'P3_LIT01', 'P3_LL', 'P3_PIT01', 'P4_HT_FD', 'P4_HT_LD', 'P4_HT_PO', 'P4_HT_PS', 'P4_LD', 'P4_ST_FD', 'P4_ST_GOV', 'P4_ST_LD', 'P4_ST_PO', 'P4_ST_PS', 'P4_ST_PT01', 'P4_ST_TT01']\n"
     ]
    }
   ],
   "source": [
    "# save the column names to a list\n",
    "column_names = X_train.columns.tolist()\n",
    "print(column_names)"
   ],
   "metadata": {
    "collapsed": false,
    "ExecuteTime": {
     "end_time": "2023-12-12T13:47:22.780811400Z",
     "start_time": "2023-12-12T13:47:22.766466800Z"
    }
   },
   "id": "b5bbaabb5584011"
  },
  {
   "cell_type": "code",
   "execution_count": 10,
   "outputs": [
    {
     "data": {
      "text/plain": "        attack  attack_P1  attack_P2  attack_P3\n640671       0          0          0          0\n251080       0          0          0          0\n94824        0          0          0          0\n690119       0          0          0          0\n232306       0          0          0          0",
      "text/html": "<div>\n<style scoped>\n    .dataframe tbody tr th:only-of-type {\n        vertical-align: middle;\n    }\n\n    .dataframe tbody tr th {\n        vertical-align: top;\n    }\n\n    .dataframe thead th {\n        text-align: right;\n    }\n</style>\n<table border=\"1\" class=\"dataframe\">\n  <thead>\n    <tr style=\"text-align: right;\">\n      <th></th>\n      <th>attack</th>\n      <th>attack_P1</th>\n      <th>attack_P2</th>\n      <th>attack_P3</th>\n    </tr>\n  </thead>\n  <tbody>\n    <tr>\n      <th>640671</th>\n      <td>0</td>\n      <td>0</td>\n      <td>0</td>\n      <td>0</td>\n    </tr>\n    <tr>\n      <th>251080</th>\n      <td>0</td>\n      <td>0</td>\n      <td>0</td>\n      <td>0</td>\n    </tr>\n    <tr>\n      <th>94824</th>\n      <td>0</td>\n      <td>0</td>\n      <td>0</td>\n      <td>0</td>\n    </tr>\n    <tr>\n      <th>690119</th>\n      <td>0</td>\n      <td>0</td>\n      <td>0</td>\n      <td>0</td>\n    </tr>\n    <tr>\n      <th>232306</th>\n      <td>0</td>\n      <td>0</td>\n      <td>0</td>\n      <td>0</td>\n    </tr>\n  </tbody>\n</table>\n</div>"
     },
     "execution_count": 10,
     "metadata": {},
     "output_type": "execute_result"
    }
   ],
   "source": [
    "y_train.head()"
   ],
   "metadata": {
    "collapsed": false,
    "ExecuteTime": {
     "end_time": "2023-12-12T13:47:22.825924900Z",
     "start_time": "2023-12-12T13:47:22.780811400Z"
    }
   },
   "id": "a2797e60f7f9910a"
  },
  {
   "cell_type": "code",
   "execution_count": 11,
   "outputs": [],
   "source": [
    "# initialize classifier\n",
    "clf = RandomForestClassifier()"
   ],
   "metadata": {
    "collapsed": false,
    "ExecuteTime": {
     "end_time": "2023-12-12T13:47:22.847688400Z",
     "start_time": "2023-12-12T13:47:22.798213Z"
    }
   },
   "id": "1234c2a14feb9bbe"
  },
  {
   "cell_type": "code",
   "execution_count": 12,
   "outputs": [
    {
     "data": {
      "text/plain": "RandomForestClassifier()",
      "text/html": "<style>#sk-container-id-1 {color: black;}#sk-container-id-1 pre{padding: 0;}#sk-container-id-1 div.sk-toggleable {background-color: white;}#sk-container-id-1 label.sk-toggleable__label {cursor: pointer;display: block;width: 100%;margin-bottom: 0;padding: 0.3em;box-sizing: border-box;text-align: center;}#sk-container-id-1 label.sk-toggleable__label-arrow:before {content: \"▸\";float: left;margin-right: 0.25em;color: #696969;}#sk-container-id-1 label.sk-toggleable__label-arrow:hover:before {color: black;}#sk-container-id-1 div.sk-estimator:hover label.sk-toggleable__label-arrow:before {color: black;}#sk-container-id-1 div.sk-toggleable__content {max-height: 0;max-width: 0;overflow: hidden;text-align: left;background-color: #f0f8ff;}#sk-container-id-1 div.sk-toggleable__content pre {margin: 0.2em;color: black;border-radius: 0.25em;background-color: #f0f8ff;}#sk-container-id-1 input.sk-toggleable__control:checked~div.sk-toggleable__content {max-height: 200px;max-width: 100%;overflow: auto;}#sk-container-id-1 input.sk-toggleable__control:checked~label.sk-toggleable__label-arrow:before {content: \"▾\";}#sk-container-id-1 div.sk-estimator input.sk-toggleable__control:checked~label.sk-toggleable__label {background-color: #d4ebff;}#sk-container-id-1 div.sk-label input.sk-toggleable__control:checked~label.sk-toggleable__label {background-color: #d4ebff;}#sk-container-id-1 input.sk-hidden--visually {border: 0;clip: rect(1px 1px 1px 1px);clip: rect(1px, 1px, 1px, 1px);height: 1px;margin: -1px;overflow: hidden;padding: 0;position: absolute;width: 1px;}#sk-container-id-1 div.sk-estimator {font-family: monospace;background-color: #f0f8ff;border: 1px dotted black;border-radius: 0.25em;box-sizing: border-box;margin-bottom: 0.5em;}#sk-container-id-1 div.sk-estimator:hover {background-color: #d4ebff;}#sk-container-id-1 div.sk-parallel-item::after {content: \"\";width: 100%;border-bottom: 1px solid gray;flex-grow: 1;}#sk-container-id-1 div.sk-label:hover label.sk-toggleable__label {background-color: #d4ebff;}#sk-container-id-1 div.sk-serial::before {content: \"\";position: absolute;border-left: 1px solid gray;box-sizing: border-box;top: 0;bottom: 0;left: 50%;z-index: 0;}#sk-container-id-1 div.sk-serial {display: flex;flex-direction: column;align-items: center;background-color: white;padding-right: 0.2em;padding-left: 0.2em;position: relative;}#sk-container-id-1 div.sk-item {position: relative;z-index: 1;}#sk-container-id-1 div.sk-parallel {display: flex;align-items: stretch;justify-content: center;background-color: white;position: relative;}#sk-container-id-1 div.sk-item::before, #sk-container-id-1 div.sk-parallel-item::before {content: \"\";position: absolute;border-left: 1px solid gray;box-sizing: border-box;top: 0;bottom: 0;left: 50%;z-index: -1;}#sk-container-id-1 div.sk-parallel-item {display: flex;flex-direction: column;z-index: 1;position: relative;background-color: white;}#sk-container-id-1 div.sk-parallel-item:first-child::after {align-self: flex-end;width: 50%;}#sk-container-id-1 div.sk-parallel-item:last-child::after {align-self: flex-start;width: 50%;}#sk-container-id-1 div.sk-parallel-item:only-child::after {width: 0;}#sk-container-id-1 div.sk-dashed-wrapped {border: 1px dashed gray;margin: 0 0.4em 0.5em 0.4em;box-sizing: border-box;padding-bottom: 0.4em;background-color: white;}#sk-container-id-1 div.sk-label label {font-family: monospace;font-weight: bold;display: inline-block;line-height: 1.2em;}#sk-container-id-1 div.sk-label-container {text-align: center;}#sk-container-id-1 div.sk-container {/* jupyter's `normalize.less` sets `[hidden] { display: none; }` but bootstrap.min.css set `[hidden] { display: none !important; }` so we also need the `!important` here to be able to override the default hidden behavior on the sphinx rendered scikit-learn.org. See: https://github.com/scikit-learn/scikit-learn/issues/21755 */display: inline-block !important;position: relative;}#sk-container-id-1 div.sk-text-repr-fallback {display: none;}</style><div id=\"sk-container-id-1\" class=\"sk-top-container\"><div class=\"sk-text-repr-fallback\"><pre>RandomForestClassifier()</pre><b>In a Jupyter environment, please rerun this cell to show the HTML representation or trust the notebook. <br />On GitHub, the HTML representation is unable to render, please try loading this page with nbviewer.org.</b></div><div class=\"sk-container\" hidden><div class=\"sk-item\"><div class=\"sk-estimator sk-toggleable\"><input class=\"sk-toggleable__control sk-hidden--visually\" id=\"sk-estimator-id-1\" type=\"checkbox\" checked><label for=\"sk-estimator-id-1\" class=\"sk-toggleable__label sk-toggleable__label-arrow\">RandomForestClassifier</label><div class=\"sk-toggleable__content\"><pre>RandomForestClassifier()</pre></div></div></div></div></div>"
     },
     "execution_count": 12,
     "metadata": {},
     "output_type": "execute_result"
    }
   ],
   "source": [
    "# do the initial training\n",
    "clf.fit(X_train, y_train)"
   ],
   "metadata": {
    "collapsed": false,
    "ExecuteTime": {
     "end_time": "2023-12-12T13:47:33.819964600Z",
     "start_time": "2023-12-12T13:47:22.813534900Z"
    }
   },
   "id": "bbe43d8c6a09d16d"
  },
  {
   "cell_type": "code",
   "execution_count": 13,
   "outputs": [
    {
     "data": {
      "text/plain": "1.0"
     },
     "execution_count": 13,
     "metadata": {},
     "output_type": "execute_result"
    }
   ],
   "source": [
    "# get the initial accuracy\n",
    "y_pred = clf.predict(X_test)\n",
    "accuracy_score(y_test, y_pred)"
   ],
   "metadata": {
    "collapsed": false,
    "ExecuteTime": {
     "end_time": "2023-12-12T13:47:34.815568300Z",
     "start_time": "2023-12-12T13:47:33.819964600Z"
    }
   },
   "id": "e1fa91a80c425c2c"
  },
  {
   "cell_type": "code",
   "execution_count": 14,
   "outputs": [],
   "source": [
    "class StreamConsumer:\n",
    "    def __init__(self, topic, bootstrap_servers):\n",
    "        self.topic = topic\n",
    "        self.bootstrap_servers = bootstrap_servers\n",
    "        self.consumer = KafkaConsumer(\n",
    "            self.topic,\n",
    "            bootstrap_servers=self.bootstrap_servers,\n",
    "            auto_offset_reset='earliest',\n",
    "            enable_auto_commit=True,\n",
    "            value_deserializer=lambda x: json.loads(x.decode('utf-8')))\n",
    "    def consume_next(self):\n",
    "        # consume the next message\n",
    "        return next(self.consumer)"
   ],
   "metadata": {
    "collapsed": false,
    "ExecuteTime": {
     "end_time": "2023-12-12T13:47:34.829606200Z",
     "start_time": "2023-12-12T13:47:34.815568300Z"
    }
   },
   "id": "fe3c2d1485c8f52a"
  },
  {
   "cell_type": "code",
   "execution_count": 15,
   "outputs": [],
   "source": [
    "class ResultsProducer:\n",
    "    def __init__(self, topic, bootstrap_servers):\n",
    "        self.topic = topic\n",
    "        self.bootstrap_servers = bootstrap_servers\n",
    "        self.producer = KafkaProducer(\n",
    "            bootstrap_servers=self.bootstrap_servers,\n",
    "            value_serializer=lambda x: json.dumps(x).encode('utf-8'))\n",
    "    def send(self, data):\n",
    "        # send the data\n",
    "        self.producer.send(self.topic, value=data)"
   ],
   "metadata": {
    "collapsed": false,
    "ExecuteTime": {
     "end_time": "2023-12-12T13:47:34.874416800Z",
     "start_time": "2023-12-12T13:47:34.832627800Z"
    }
   },
   "id": "41f6e8173e16a890"
  },
  {
   "cell_type": "code",
   "execution_count": 16,
   "outputs": [],
   "source": [
    "input_topic = 'hai-preprocessed'\n",
    "input_bootstrap_servers = ['localhost:9092']\n",
    "consumer = StreamConsumer(input_topic, input_bootstrap_servers)"
   ],
   "metadata": {
    "collapsed": false,
    "ExecuteTime": {
     "end_time": "2023-12-12T13:47:34.969680700Z",
     "start_time": "2023-12-12T13:47:34.846907400Z"
    }
   },
   "id": "6acd82af6f73ce1"
  },
  {
   "cell_type": "code",
   "execution_count": 17,
   "outputs": [],
   "source": [
    "output_topic = 'hai-results'\n",
    "output_bootstrap_servers = ['localhost:9092']\n",
    "producer = ResultsProducer(output_topic, output_bootstrap_servers)"
   ],
   "metadata": {
    "collapsed": false,
    "ExecuteTime": {
     "end_time": "2023-12-12T13:47:35.094666600Z",
     "start_time": "2023-12-12T13:47:34.971616800Z"
    }
   },
   "id": "e531003384b6a712"
  },
  {
   "cell_type": "code",
   "execution_count": 18,
   "outputs": [
    {
     "name": "stdout",
     "output_type": "stream",
     "text": [
      "Iteration 0 Accuracy 1.0\n",
      "Iteration 1000 Accuracy 1.0\n",
      "Iteration 2000 Accuracy 1.0\n",
      "2023-12-12 14:47:57.032501 - accuracy: 1.0 - drift detected: True\n",
      "Iteration 3000 Accuracy 1.0\n",
      "Iteration 4000 Accuracy 1.0\n",
      "Iteration 5000 Accuracy 1.0\n",
      "Iteration 6000 Accuracy 1.0\n",
      "Iteration 7000 Accuracy 1.0\n",
      "Iteration 8000 Accuracy 1.0\n",
      "Iteration 9000 Accuracy 1.0\n",
      "Iteration 10000 Accuracy 1.0\n",
      "2023-12-12 14:48:48.964099 - accuracy: 1.0 - drift detected: True\n",
      "Iteration 11000 Accuracy 1.0\n",
      "Iteration 12000 Accuracy 1.0\n",
      "Iteration 13000 Accuracy 1.0\n",
      "Iteration 14000 Accuracy 1.0\n",
      "Iteration 15000 Accuracy 1.0\n",
      "2023-12-12 14:49:17.080489 - accuracy: 1.0 - drift detected: True\n",
      "Iteration 16000 Accuracy 1.0\n",
      "Iteration 17000 Accuracy 1.0\n",
      "Iteration 18000 Accuracy 1.0\n",
      "Iteration 19000 Accuracy 1.0\n",
      "Iteration 20000 Accuracy 1.0\n",
      "Iteration 21000 Accuracy 1.0\n",
      "2023-12-12 14:49:51.864497 - accuracy: 1.0 - drift detected: True\n",
      "Iteration 22000 Accuracy 1.0\n",
      "2023-12-12 14:49:58.281225 - accuracy: 1.0 - drift detected: True\n",
      "Iteration 23000 Accuracy 1.0\n",
      "Iteration 24000 Accuracy 1.0\n",
      "Iteration 25000 Accuracy 1.0\n",
      "Iteration 26000 Accuracy 1.0\n",
      "Iteration 27000 Accuracy 1.0\n",
      "Iteration 28000 Accuracy 1.0\n",
      "Iteration 29000 Accuracy 1.0\n",
      "Iteration 30000 Accuracy 1.0\n",
      "Iteration 31000 Accuracy 1.0\n",
      "Iteration 32000 Accuracy 1.0\n",
      "Iteration 33000 Accuracy 1.0\n",
      "Iteration 34000 Accuracy 1.0\n",
      "Iteration 35000 Accuracy 1.0\n",
      "Iteration 36000 Accuracy 1.0\n",
      "Iteration 37000 Accuracy 1.0\n",
      "Iteration 38000 Accuracy 1.0\n",
      "Iteration 39000 Accuracy 1.0\n",
      "Iteration 40000 Accuracy 1.0\n",
      "Iteration 41000 Accuracy 1.0\n",
      "Iteration 42000 Accuracy 1.0\n",
      "Iteration 43000 Accuracy 1.0\n",
      "Iteration 44000 Accuracy 1.0\n",
      "Iteration 45000 Accuracy 1.0\n",
      "Iteration 46000 Accuracy 1.0\n",
      "Iteration 47000 Accuracy 1.0\n",
      "Iteration 48000 Accuracy 1.0\n",
      "Iteration 49000 Accuracy 1.0\n",
      "Iteration 50000 Accuracy 1.0\n",
      "Iteration 51000 Accuracy 1.0\n",
      "Iteration 52000 Accuracy 1.0\n",
      "Iteration 53000 Accuracy 0.0\n",
      "Iteration 54000 Accuracy 1.0\n",
      "Iteration 55000 Accuracy 1.0\n",
      "Iteration 56000 Accuracy 1.0\n",
      "2023-12-12 14:53:33.460811 - accuracy: 1.0 - drift detected: True\n",
      "Iteration 57000 Accuracy 1.0\n",
      "Iteration 58000 Accuracy 1.0\n",
      "Iteration 59000 Accuracy 1.0\n",
      "2023-12-12 14:53:55.235502 - accuracy: 1.0 - drift detected: True\n",
      "Iteration 60000 Accuracy 1.0\n",
      "Iteration 61000 Accuracy 1.0\n",
      "Iteration 62000 Accuracy 0.0\n",
      "2023-12-12 14:54:11.317162 - accuracy: 1.0 - drift detected: True\n",
      "Iteration 63000 Accuracy 1.0\n",
      "Iteration 64000 Accuracy 1.0\n",
      "Iteration 65000 Accuracy 1.0\n",
      "Iteration 66000 Accuracy 1.0\n",
      "2023-12-12 14:54:37.428594 - accuracy: 1.0 - drift detected: True\n",
      "Iteration 67000 Accuracy 1.0\n",
      "Iteration 68000 Accuracy 1.0\n",
      "Iteration 69000 Accuracy 1.0\n",
      "Iteration 70000 Accuracy 1.0\n",
      "Iteration 71000 Accuracy 1.0\n",
      "Iteration 72000 Accuracy 1.0\n",
      "Iteration 73000 Accuracy 1.0\n",
      "2023-12-12 14:55:18.314874 - accuracy: 1.0 - drift detected: True\n",
      "Iteration 74000 Accuracy 1.0\n",
      "Iteration 75000 Accuracy 1.0\n",
      "Iteration 76000 Accuracy 1.0\n",
      "Iteration 77000 Accuracy 1.0\n",
      "Iteration 78000 Accuracy 1.0\n",
      "Iteration 79000 Accuracy 1.0\n",
      "Iteration 80000 Accuracy 1.0\n",
      "Iteration 81000 Accuracy 1.0\n",
      "Iteration 82000 Accuracy 1.0\n",
      "2023-12-12 14:56:15.456400 - accuracy: 1.0 - drift detected: True\n",
      "Iteration 83000 Accuracy 1.0\n",
      "Iteration 84000 Accuracy 1.0\n",
      "Iteration 85000 Accuracy 1.0\n",
      "Iteration 86000 Accuracy 1.0\n",
      "Iteration 87000 Accuracy 1.0\n",
      "2023-12-12 14:56:47.184890 - accuracy: 1.0 - drift detected: True\n",
      "Iteration 88000 Accuracy 1.0\n",
      "Iteration 89000 Accuracy 1.0\n",
      "Iteration 90000 Accuracy 1.0\n",
      "Iteration 91000 Accuracy 1.0\n",
      "Iteration 92000 Accuracy 1.0\n",
      "Iteration 93000 Accuracy 1.0\n",
      "Iteration 94000 Accuracy 1.0\n",
      "Iteration 95000 Accuracy 1.0\n",
      "Iteration 96000 Accuracy 1.0\n",
      "2023-12-12 14:57:44.203628 - accuracy: 1.0 - drift detected: True\n",
      "Iteration 97000 Accuracy 1.0\n",
      "Iteration 98000 Accuracy 1.0\n",
      "Iteration 99000 Accuracy 1.0\n",
      "Iteration 100000 Accuracy 1.0\n",
      "Iteration 101000 Accuracy 1.0\n",
      "Iteration 102000 Accuracy 1.0\n",
      "Iteration 103000 Accuracy 1.0\n",
      "Iteration 104000 Accuracy 1.0\n",
      "Iteration 105000 Accuracy 1.0\n",
      "Iteration 106000 Accuracy 1.0\n",
      "Iteration 107000 Accuracy 1.0\n",
      "2023-12-12 14:58:52.251235 - accuracy: 1.0 - drift detected: True\n",
      "Iteration 108000 Accuracy 1.0\n",
      "Iteration 109000 Accuracy 1.0\n",
      "2023-12-12 14:59:00.538132 - accuracy: 1.0 - drift detected: True\n",
      "Iteration 110000 Accuracy 1.0\n",
      "Iteration 111000 Accuracy 1.0\n",
      "Iteration 112000 Accuracy 1.0\n",
      "Iteration 113000 Accuracy 1.0\n",
      "Iteration 114000 Accuracy 1.0\n",
      "Iteration 115000 Accuracy 1.0\n",
      "2023-12-12 14:59:41.696561 - accuracy: 1.0 - drift detected: True\n",
      "Iteration 116000 Accuracy 1.0\n",
      "Iteration 117000 Accuracy 1.0\n",
      "Iteration 118000 Accuracy 1.0\n",
      "Iteration 119000 Accuracy 1.0\n",
      "Iteration 120000 Accuracy 1.0\n",
      "Iteration 121000 Accuracy 1.0\n",
      "Iteration 122000 Accuracy 0.0\n",
      "Iteration 123000 Accuracy 1.0\n",
      "2023-12-12 15:00:29.454552 - accuracy: 1.0 - drift detected: True\n",
      "Iteration 124000 Accuracy 1.0\n",
      "Iteration 125000 Accuracy 1.0\n",
      "Iteration 126000 Accuracy 1.0\n",
      "Iteration 127000 Accuracy 1.0\n",
      "Iteration 128000 Accuracy 1.0\n",
      "Iteration 129000 Accuracy 1.0\n",
      "Iteration 130000 Accuracy 1.0\n",
      "Iteration 131000 Accuracy 1.0\n",
      "2023-12-12 15:01:24.184193 - accuracy: 1.0 - drift detected: True\n",
      "Iteration 132000 Accuracy 1.0\n",
      "2023-12-12 15:01:25.430658 - accuracy: 1.0 - drift detected: True\n",
      "Iteration 133000 Accuracy 1.0\n",
      "Iteration 134000 Accuracy 1.0\n",
      "Iteration 135000 Accuracy 1.0\n",
      "2023-12-12 15:01:44.234605 - accuracy: 1.0 - drift detected: True\n",
      "Iteration 136000 Accuracy 1.0\n",
      "Iteration 137000 Accuracy 1.0\n",
      "Iteration 138000 Accuracy 1.0\n",
      "Iteration 139000 Accuracy 1.0\n",
      "Iteration 140000 Accuracy 1.0\n",
      "Iteration 141000 Accuracy 1.0\n",
      "Iteration 142000 Accuracy 1.0\n",
      "Iteration 143000 Accuracy 1.0\n",
      "2023-12-12 15:02:40.774467 - accuracy: 1.0 - drift detected: True\n",
      "Iteration 144000 Accuracy 1.0\n",
      "Iteration 145000 Accuracy 1.0\n",
      "Iteration 146000 Accuracy 1.0\n",
      "Iteration 147000 Accuracy 1.0\n",
      "Iteration 148000 Accuracy 1.0\n",
      "Iteration 149000 Accuracy 1.0\n",
      "Iteration 150000 Accuracy 1.0\n",
      "Iteration 151000 Accuracy 1.0\n",
      "Iteration 152000 Accuracy 1.0\n",
      "Iteration 153000 Accuracy 1.0\n",
      "Iteration 154000 Accuracy 1.0\n",
      "Iteration 155000 Accuracy 1.0\n",
      "2023-12-12 15:03:52.397320 - accuracy: 1.0 - drift detected: True\n",
      "Iteration 156000 Accuracy 1.0\n",
      "Iteration 157000 Accuracy 1.0\n",
      "Iteration 158000 Accuracy 1.0\n",
      "Iteration 159000 Accuracy 1.0\n",
      "2023-12-12 15:04:17.097068 - accuracy: 1.0 - drift detected: True\n",
      "Iteration 160000 Accuracy 1.0\n",
      "Iteration 161000 Accuracy 1.0\n",
      "Iteration 162000 Accuracy 1.0\n",
      "Iteration 163000 Accuracy 1.0\n",
      "Iteration 164000 Accuracy 1.0\n",
      "Iteration 165000 Accuracy 1.0\n",
      "Iteration 166000 Accuracy 1.0\n",
      "Iteration 167000 Accuracy 1.0\n",
      "Iteration 168000 Accuracy 1.0\n",
      "Iteration 169000 Accuracy 1.0\n",
      "Iteration 170000 Accuracy 1.0\n",
      "Iteration 171000 Accuracy 1.0\n",
      "Iteration 172000 Accuracy 1.0\n",
      "Iteration 173000 Accuracy 1.0\n",
      "Iteration 174000 Accuracy 1.0\n",
      "Iteration 175000 Accuracy 1.0\n",
      "Iteration 176000 Accuracy 1.0\n",
      "Iteration 177000 Accuracy 1.0\n",
      "Iteration 178000 Accuracy 1.0\n",
      "Iteration 179000 Accuracy 1.0\n",
      "Iteration 180000 Accuracy 1.0\n",
      "Iteration 181000 Accuracy 1.0\n",
      "Iteration 182000 Accuracy 1.0\n",
      "Iteration 183000 Accuracy 1.0\n",
      "Iteration 184000 Accuracy 1.0\n",
      "Iteration 185000 Accuracy 1.0\n",
      "Iteration 186000 Accuracy 1.0\n",
      "Iteration 187000 Accuracy 1.0\n",
      "Iteration 188000 Accuracy 1.0\n",
      "Iteration 189000 Accuracy 1.0\n",
      "Iteration 190000 Accuracy 1.0\n",
      "Iteration 191000 Accuracy 1.0\n",
      "Iteration 192000 Accuracy 1.0\n",
      "Iteration 193000 Accuracy 1.0\n",
      "Iteration 194000 Accuracy 1.0\n",
      "Iteration 195000 Accuracy 1.0\n",
      "Iteration 196000 Accuracy 1.0\n",
      "Iteration 197000 Accuracy 1.0\n",
      "Iteration 198000 Accuracy 1.0\n",
      "Iteration 199000 Accuracy 1.0\n",
      "Iteration 200000 Accuracy 1.0\n",
      "Iteration 201000 Accuracy 1.0\n",
      "Iteration 202000 Accuracy 1.0\n",
      "Iteration 203000 Accuracy 1.0\n",
      "Iteration 204000 Accuracy 1.0\n",
      "Iteration 205000 Accuracy 1.0\n",
      "Iteration 206000 Accuracy 1.0\n",
      "Iteration 207000 Accuracy 1.0\n",
      "Iteration 208000 Accuracy 1.0\n",
      "Iteration 209000 Accuracy 1.0\n",
      "Iteration 210000 Accuracy 1.0\n",
      "Iteration 211000 Accuracy 1.0\n",
      "Iteration 212000 Accuracy 1.0\n",
      "Iteration 213000 Accuracy 1.0\n",
      "Iteration 214000 Accuracy 1.0\n",
      "Iteration 215000 Accuracy 1.0\n",
      "Iteration 216000 Accuracy 1.0\n",
      "Iteration 217000 Accuracy 1.0\n",
      "Iteration 218000 Accuracy 1.0\n",
      "Iteration 219000 Accuracy 1.0\n",
      "Iteration 220000 Accuracy 1.0\n",
      "Iteration 221000 Accuracy 1.0\n",
      "Iteration 222000 Accuracy 1.0\n",
      "Iteration 223000 Accuracy 1.0\n",
      "2023-12-12 15:11:21.071849 - accuracy: 1.0 - drift detected: True\n",
      "Iteration 224000 Accuracy 1.0\n",
      "Iteration 225000 Accuracy 1.0\n",
      "Iteration 226000 Accuracy 1.0\n",
      "Iteration 227000 Accuracy 1.0\n",
      "Iteration 228000 Accuracy 1.0\n",
      "2023-12-12 15:11:54.332463 - accuracy: 1.0 - drift detected: True\n",
      "Iteration 229000 Accuracy 1.0\n",
      "Iteration 230000 Accuracy 1.0\n",
      "Iteration 231000 Accuracy 1.0\n",
      "Iteration 232000 Accuracy 1.0\n",
      "Iteration 233000 Accuracy 1.0\n",
      "Iteration 234000 Accuracy 1.0\n",
      "Iteration 235000 Accuracy 1.0\n",
      "Iteration 236000 Accuracy 1.0\n",
      "Iteration 237000 Accuracy 1.0\n",
      "Iteration 238000 Accuracy 1.0\n",
      "Iteration 239000 Accuracy 0.0\n",
      "Iteration 240000 Accuracy 1.0\n",
      "Iteration 241000 Accuracy 1.0\n",
      "2023-12-12 15:13:13.831968 - accuracy: 1.0 - drift detected: True\n",
      "Iteration 242000 Accuracy 1.0\n",
      "Iteration 243000 Accuracy 1.0\n",
      "Iteration 244000 Accuracy 1.0\n",
      "Iteration 245000 Accuracy 1.0\n",
      "Iteration 246000 Accuracy 1.0\n",
      "Iteration 247000 Accuracy 1.0\n",
      "Iteration 248000 Accuracy 1.0\n",
      "Iteration 249000 Accuracy 1.0\n",
      "2023-12-12 15:14:07.851596 - accuracy: 1.0 - drift detected: True\n",
      "Iteration 250000 Accuracy 1.0\n",
      "Iteration 251000 Accuracy 1.0\n",
      "Iteration 252000 Accuracy 1.0\n",
      "Iteration 253000 Accuracy 1.0\n",
      "Iteration 254000 Accuracy 1.0\n",
      "Iteration 255000 Accuracy 1.0\n",
      "Iteration 256000 Accuracy 1.0\n",
      "2023-12-12 15:14:51.848323 - accuracy: 1.0 - drift detected: True\n",
      "Iteration 257000 Accuracy 1.0\n",
      "Iteration 258000 Accuracy 1.0\n",
      "Iteration 259000 Accuracy 1.0\n",
      "Iteration 260000 Accuracy 1.0\n",
      "Iteration 261000 Accuracy 1.0\n",
      "Iteration 262000 Accuracy 1.0\n",
      "Iteration 263000 Accuracy 1.0\n",
      "2023-12-12 15:15:35.000294 - accuracy: 1.0 - drift detected: True\n",
      "Iteration 264000 Accuracy 1.0\n",
      "Iteration 265000 Accuracy 1.0\n",
      "Iteration 266000 Accuracy 1.0\n",
      "Iteration 267000 Accuracy 1.0\n",
      "Iteration 268000 Accuracy 1.0\n",
      "Iteration 269000 Accuracy 1.0\n",
      "Iteration 270000 Accuracy 1.0\n",
      "Iteration 271000 Accuracy 1.0\n",
      "Iteration 272000 Accuracy 1.0\n",
      "Iteration 273000 Accuracy 1.0\n",
      "Iteration 274000 Accuracy 1.0\n",
      "2023-12-12 15:16:41.645481 - accuracy: 1.0 - drift detected: True\n",
      "Iteration 275000 Accuracy 1.0\n",
      "Iteration 276000 Accuracy 1.0\n",
      "2023-12-12 15:16:58.378861 - accuracy: 1.0 - drift detected: True\n",
      "Iteration 277000 Accuracy 1.0\n",
      "Iteration 278000 Accuracy 1.0\n",
      "Iteration 279000 Accuracy 1.0\n",
      "Iteration 280000 Accuracy 1.0\n",
      "Iteration 281000 Accuracy 1.0\n",
      "Iteration 282000 Accuracy 1.0\n",
      "Iteration 283000 Accuracy 1.0\n",
      "Iteration 284000 Accuracy 1.0\n",
      "Iteration 285000 Accuracy 1.0\n",
      "2023-12-12 15:17:54.334069 - accuracy: 1.0 - drift detected: True\n",
      "Iteration 286000 Accuracy 1.0\n",
      "Iteration 287000 Accuracy 1.0\n",
      "Iteration 288000 Accuracy 1.0\n",
      "Iteration 289000 Accuracy 1.0\n",
      "Iteration 290000 Accuracy 1.0\n",
      "Iteration 291000 Accuracy 1.0\n",
      "2023-12-12 15:18:33.537099 - accuracy: 1.0 - drift detected: True\n",
      "Iteration 292000 Accuracy 1.0\n",
      "Iteration 293000 Accuracy 1.0\n",
      "Iteration 294000 Accuracy 1.0\n",
      "Iteration 295000 Accuracy 1.0\n",
      "Iteration 296000 Accuracy 1.0\n",
      "Iteration 297000 Accuracy 1.0\n",
      "Iteration 298000 Accuracy 1.0\n",
      "Iteration 299000 Accuracy 1.0\n",
      "Iteration 300000 Accuracy 1.0\n",
      "Iteration 301000 Accuracy 1.0\n",
      "Iteration 302000 Accuracy 1.0\n",
      "Iteration 303000 Accuracy 1.0\n",
      "Iteration 304000 Accuracy 1.0\n",
      "2023-12-12 15:19:52.000960 - accuracy: 1.0 - drift detected: True\n",
      "Iteration 305000 Accuracy 1.0\n",
      "Iteration 306000 Accuracy 1.0\n",
      "Iteration 307000 Accuracy 1.0\n",
      "Iteration 308000 Accuracy 1.0\n",
      "Iteration 309000 Accuracy 1.0\n",
      "Iteration 310000 Accuracy 1.0\n",
      "Iteration 311000 Accuracy 1.0\n",
      "Iteration 312000 Accuracy 1.0\n",
      "2023-12-12 15:20:44.096915 - accuracy: 1.0 - drift detected: True\n",
      "Iteration 313000 Accuracy 1.0\n",
      "Iteration 314000 Accuracy 1.0\n",
      "Iteration 315000 Accuracy 1.0\n",
      "Iteration 316000 Accuracy 1.0\n",
      "Iteration 317000 Accuracy 1.0\n",
      "Iteration 318000 Accuracy 1.0\n",
      "Iteration 319000 Accuracy 1.0\n",
      "Iteration 320000 Accuracy 1.0\n",
      "2023-12-12 15:21:45.406349 - accuracy: 1.0 - drift detected: True\n",
      "Iteration 321000 Accuracy 1.0\n",
      "Iteration 322000 Accuracy 1.0\n",
      "Iteration 323000 Accuracy 1.0\n",
      "Iteration 324000 Accuracy 1.0\n",
      "Iteration 325000 Accuracy 1.0\n",
      "Iteration 326000 Accuracy 1.0\n",
      "Iteration 327000 Accuracy 1.0\n",
      "Iteration 328000 Accuracy 1.0\n",
      "Iteration 329000 Accuracy 1.0\n",
      "Iteration 330000 Accuracy 1.0\n",
      "2023-12-12 15:22:54.236469 - accuracy: 1.0 - drift detected: True\n",
      "Iteration 331000 Accuracy 1.0\n",
      "Iteration 332000 Accuracy 1.0\n",
      "Iteration 333000 Accuracy 1.0\n",
      "Iteration 334000 Accuracy 1.0\n",
      "Iteration 335000 Accuracy 1.0\n",
      "2023-12-12 15:23:30.950329 - accuracy: 1.0 - drift detected: True\n",
      "Iteration 336000 Accuracy 1.0\n",
      "Iteration 337000 Accuracy 1.0\n",
      "Iteration 338000 Accuracy 1.0\n",
      "2023-12-12 15:23:46.898804 - accuracy: 1.0 - drift detected: True\n",
      "Iteration 339000 Accuracy 1.0\n",
      "Iteration 340000 Accuracy 1.0\n",
      "Iteration 341000 Accuracy 1.0\n",
      "Iteration 342000 Accuracy 1.0\n",
      "Iteration 343000 Accuracy 1.0\n",
      "Iteration 344000 Accuracy 1.0\n",
      "Iteration 345000 Accuracy 1.0\n",
      "Iteration 346000 Accuracy 1.0\n",
      "2023-12-12 15:24:40.535687 - accuracy: 1.0 - drift detected: True\n",
      "Iteration 347000 Accuracy 1.0\n",
      "Iteration 348000 Accuracy 1.0\n",
      "Iteration 349000 Accuracy 1.0\n",
      "Iteration 350000 Accuracy 1.0\n",
      "Iteration 351000 Accuracy 1.0\n",
      "Iteration 352000 Accuracy 1.0\n",
      "Iteration 353000 Accuracy 1.0\n",
      "Iteration 354000 Accuracy 1.0\n",
      "Iteration 355000 Accuracy 1.0\n",
      "Iteration 356000 Accuracy 1.0\n",
      "2023-12-12 15:25:45.976305 - accuracy: 1.0 - drift detected: True\n",
      "Iteration 357000 Accuracy 1.0\n",
      "Iteration 358000 Accuracy 1.0\n",
      "Iteration 359000 Accuracy 1.0\n",
      "Iteration 360000 Accuracy 1.0\n",
      "Iteration 361000 Accuracy 1.0\n",
      "Iteration 362000 Accuracy 1.0\n",
      "Iteration 363000 Accuracy 1.0\n",
      "2023-12-12 15:26:33.345955 - accuracy: 1.0 - drift detected: True\n",
      "Iteration 364000 Accuracy 1.0\n",
      "2023-12-12 15:26:38.823320 - accuracy: 1.0 - drift detected: True\n",
      "Iteration 365000 Accuracy 1.0\n",
      "Iteration 366000 Accuracy 1.0\n",
      "Iteration 367000 Accuracy 1.0\n",
      "Iteration 368000 Accuracy 1.0\n",
      "Iteration 369000 Accuracy 1.0\n",
      "Iteration 370000 Accuracy 1.0\n",
      "Iteration 371000 Accuracy 1.0\n",
      "Iteration 372000 Accuracy 1.0\n",
      "Iteration 373000 Accuracy 1.0\n",
      "Iteration 374000 Accuracy 1.0\n",
      "Iteration 375000 Accuracy 1.0\n",
      "Iteration 376000 Accuracy 1.0\n",
      "Iteration 377000 Accuracy 1.0\n",
      "Iteration 378000 Accuracy 1.0\n",
      "Iteration 379000 Accuracy 1.0\n",
      "Iteration 380000 Accuracy 1.0\n",
      "Iteration 381000 Accuracy 1.0\n",
      "Iteration 382000 Accuracy 1.0\n",
      "Iteration 383000 Accuracy 1.0\n",
      "Iteration 384000 Accuracy 1.0\n",
      "Iteration 385000 Accuracy 1.0\n",
      "Iteration 386000 Accuracy 1.0\n",
      "Iteration 387000 Accuracy 1.0\n",
      "Iteration 388000 Accuracy 1.0\n",
      "Iteration 389000 Accuracy 1.0\n",
      "Iteration 390000 Accuracy 1.0\n",
      "Iteration 391000 Accuracy 1.0\n",
      "Iteration 392000 Accuracy 1.0\n",
      "Iteration 393000 Accuracy 1.0\n",
      "Iteration 394000 Accuracy 1.0\n",
      "Iteration 395000 Accuracy 1.0\n",
      "Iteration 396000 Accuracy 1.0\n",
      "Iteration 397000 Accuracy 1.0\n",
      "Iteration 398000 Accuracy 0.0\n",
      "Iteration 399000 Accuracy 1.0\n",
      "Iteration 400000 Accuracy 1.0\n",
      "Iteration 401000 Accuracy 1.0\n",
      "2023-12-12 15:31:03.793514 - accuracy: 1.0 - drift detected: True\n",
      "Iteration 402000 Accuracy 1.0\n"
     ]
    },
    {
     "ename": "KeyboardInterrupt",
     "evalue": "",
     "output_type": "error",
     "traceback": [
      "\u001B[1;31m---------------------------------------------------------------------------\u001B[0m",
      "\u001B[1;31mKeyboardInterrupt\u001B[0m                         Traceback (most recent call last)",
      "Cell \u001B[1;32mIn[18], line 35\u001B[0m\n\u001B[0;32m     33\u001B[0m     \u001B[38;5;28mprint\u001B[39m(\u001B[38;5;124mf\u001B[39m\u001B[38;5;124m'\u001B[39m\u001B[38;5;132;01m{\u001B[39;00mdatetime\u001B[38;5;241m.\u001B[39mnow()\u001B[38;5;132;01m}\u001B[39;00m\u001B[38;5;124m - accuracy: \u001B[39m\u001B[38;5;132;01m{\u001B[39;00maccuracy\u001B[38;5;132;01m}\u001B[39;00m\u001B[38;5;124m - drift detected: \u001B[39m\u001B[38;5;132;01m{\u001B[39;00mdrift_detected\u001B[38;5;132;01m}\u001B[39;00m\u001B[38;5;124m'\u001B[39m)\n\u001B[0;32m     34\u001B[0m \u001B[38;5;66;03m# get the next message\u001B[39;00m\n\u001B[1;32m---> 35\u001B[0m msg \u001B[38;5;241m=\u001B[39m \u001B[43mconsumer\u001B[49m\u001B[38;5;241;43m.\u001B[39;49m\u001B[43mconsume_next\u001B[49m\u001B[43m(\u001B[49m\u001B[43m)\u001B[49m\n\u001B[0;32m     36\u001B[0m i \u001B[38;5;241m+\u001B[39m\u001B[38;5;241m=\u001B[39m \u001B[38;5;241m1\u001B[39m\n",
      "Cell \u001B[1;32mIn[14], line 13\u001B[0m, in \u001B[0;36mStreamConsumer.consume_next\u001B[1;34m(self)\u001B[0m\n\u001B[0;32m     11\u001B[0m \u001B[38;5;28;01mdef\u001B[39;00m \u001B[38;5;21mconsume_next\u001B[39m(\u001B[38;5;28mself\u001B[39m):\n\u001B[0;32m     12\u001B[0m     \u001B[38;5;66;03m# consume the next message\u001B[39;00m\n\u001B[1;32m---> 13\u001B[0m     \u001B[38;5;28;01mreturn\u001B[39;00m \u001B[38;5;28;43mnext\u001B[39;49m\u001B[43m(\u001B[49m\u001B[38;5;28;43mself\u001B[39;49m\u001B[38;5;241;43m.\u001B[39;49m\u001B[43mconsumer\u001B[49m\u001B[43m)\u001B[49m\n",
      "File \u001B[1;32m~\\Documents\\Egyetem\\Open Source Technologies\\ost-sm-change-detection\\venv\\lib\\site-packages\\kafka\\consumer\\group.py:1193\u001B[0m, in \u001B[0;36mKafkaConsumer.__next__\u001B[1;34m(self)\u001B[0m\n\u001B[0;32m   1191\u001B[0m     \u001B[38;5;28;01mreturn\u001B[39;00m \u001B[38;5;28mself\u001B[39m\u001B[38;5;241m.\u001B[39mnext_v1()\n\u001B[0;32m   1192\u001B[0m \u001B[38;5;28;01melse\u001B[39;00m:\n\u001B[1;32m-> 1193\u001B[0m     \u001B[38;5;28;01mreturn\u001B[39;00m \u001B[38;5;28;43mself\u001B[39;49m\u001B[38;5;241;43m.\u001B[39;49m\u001B[43mnext_v2\u001B[49m\u001B[43m(\u001B[49m\u001B[43m)\u001B[49m\n",
      "File \u001B[1;32m~\\Documents\\Egyetem\\Open Source Technologies\\ost-sm-change-detection\\venv\\lib\\site-packages\\kafka\\consumer\\group.py:1201\u001B[0m, in \u001B[0;36mKafkaConsumer.next_v2\u001B[1;34m(self)\u001B[0m\n\u001B[0;32m   1199\u001B[0m     \u001B[38;5;28mself\u001B[39m\u001B[38;5;241m.\u001B[39m_iterator \u001B[38;5;241m=\u001B[39m \u001B[38;5;28mself\u001B[39m\u001B[38;5;241m.\u001B[39m_message_generator_v2()\n\u001B[0;32m   1200\u001B[0m \u001B[38;5;28;01mtry\u001B[39;00m:\n\u001B[1;32m-> 1201\u001B[0m     \u001B[38;5;28;01mreturn\u001B[39;00m \u001B[38;5;28;43mnext\u001B[39;49m\u001B[43m(\u001B[49m\u001B[38;5;28;43mself\u001B[39;49m\u001B[38;5;241;43m.\u001B[39;49m\u001B[43m_iterator\u001B[49m\u001B[43m)\u001B[49m\n\u001B[0;32m   1202\u001B[0m \u001B[38;5;28;01mexcept\u001B[39;00m \u001B[38;5;167;01mStopIteration\u001B[39;00m:\n\u001B[0;32m   1203\u001B[0m     \u001B[38;5;28mself\u001B[39m\u001B[38;5;241m.\u001B[39m_iterator \u001B[38;5;241m=\u001B[39m \u001B[38;5;28;01mNone\u001B[39;00m\n",
      "File \u001B[1;32m~\\Documents\\Egyetem\\Open Source Technologies\\ost-sm-change-detection\\venv\\lib\\site-packages\\kafka\\consumer\\group.py:1116\u001B[0m, in \u001B[0;36mKafkaConsumer._message_generator_v2\u001B[1;34m(self)\u001B[0m\n\u001B[0;32m   1114\u001B[0m \u001B[38;5;28;01mdef\u001B[39;00m \u001B[38;5;21m_message_generator_v2\u001B[39m(\u001B[38;5;28mself\u001B[39m):\n\u001B[0;32m   1115\u001B[0m     timeout_ms \u001B[38;5;241m=\u001B[39m \u001B[38;5;241m1000\u001B[39m \u001B[38;5;241m*\u001B[39m (\u001B[38;5;28mself\u001B[39m\u001B[38;5;241m.\u001B[39m_consumer_timeout \u001B[38;5;241m-\u001B[39m time\u001B[38;5;241m.\u001B[39mtime())\n\u001B[1;32m-> 1116\u001B[0m     record_map \u001B[38;5;241m=\u001B[39m \u001B[38;5;28;43mself\u001B[39;49m\u001B[38;5;241;43m.\u001B[39;49m\u001B[43mpoll\u001B[49m\u001B[43m(\u001B[49m\u001B[43mtimeout_ms\u001B[49m\u001B[38;5;241;43m=\u001B[39;49m\u001B[43mtimeout_ms\u001B[49m\u001B[43m,\u001B[49m\u001B[43m \u001B[49m\u001B[43mupdate_offsets\u001B[49m\u001B[38;5;241;43m=\u001B[39;49m\u001B[38;5;28;43;01mFalse\u001B[39;49;00m\u001B[43m)\u001B[49m\n\u001B[0;32m   1117\u001B[0m     \u001B[38;5;28;01mfor\u001B[39;00m tp, records \u001B[38;5;129;01min\u001B[39;00m six\u001B[38;5;241m.\u001B[39miteritems(record_map):\n\u001B[0;32m   1118\u001B[0m         \u001B[38;5;66;03m# Generators are stateful, and it is possible that the tp / records\u001B[39;00m\n\u001B[0;32m   1119\u001B[0m         \u001B[38;5;66;03m# here may become stale during iteration -- i.e., we seek to a\u001B[39;00m\n\u001B[0;32m   1120\u001B[0m         \u001B[38;5;66;03m# different offset, pause consumption, or lose assignment.\u001B[39;00m\n\u001B[0;32m   1121\u001B[0m         \u001B[38;5;28;01mfor\u001B[39;00m record \u001B[38;5;129;01min\u001B[39;00m records:\n\u001B[0;32m   1122\u001B[0m             \u001B[38;5;66;03m# is_fetchable(tp) should handle assignment changes and offset\u001B[39;00m\n\u001B[0;32m   1123\u001B[0m             \u001B[38;5;66;03m# resets; for all other changes (e.g., seeks) we'll rely on the\u001B[39;00m\n\u001B[0;32m   1124\u001B[0m             \u001B[38;5;66;03m# outer function destroying the existing iterator/generator\u001B[39;00m\n\u001B[0;32m   1125\u001B[0m             \u001B[38;5;66;03m# via self._iterator = None\u001B[39;00m\n",
      "File \u001B[1;32m~\\Documents\\Egyetem\\Open Source Technologies\\ost-sm-change-detection\\venv\\lib\\site-packages\\kafka\\consumer\\group.py:655\u001B[0m, in \u001B[0;36mKafkaConsumer.poll\u001B[1;34m(self, timeout_ms, max_records, update_offsets)\u001B[0m\n\u001B[0;32m    653\u001B[0m remaining \u001B[38;5;241m=\u001B[39m timeout_ms\n\u001B[0;32m    654\u001B[0m \u001B[38;5;28;01mwhile\u001B[39;00m \u001B[38;5;28;01mTrue\u001B[39;00m:\n\u001B[1;32m--> 655\u001B[0m     records \u001B[38;5;241m=\u001B[39m \u001B[38;5;28;43mself\u001B[39;49m\u001B[38;5;241;43m.\u001B[39;49m\u001B[43m_poll_once\u001B[49m\u001B[43m(\u001B[49m\u001B[43mremaining\u001B[49m\u001B[43m,\u001B[49m\u001B[43m \u001B[49m\u001B[43mmax_records\u001B[49m\u001B[43m,\u001B[49m\u001B[43m \u001B[49m\u001B[43mupdate_offsets\u001B[49m\u001B[38;5;241;43m=\u001B[39;49m\u001B[43mupdate_offsets\u001B[49m\u001B[43m)\u001B[49m\n\u001B[0;32m    656\u001B[0m     \u001B[38;5;28;01mif\u001B[39;00m records:\n\u001B[0;32m    657\u001B[0m         \u001B[38;5;28;01mreturn\u001B[39;00m records\n",
      "File \u001B[1;32m~\\Documents\\Egyetem\\Open Source Technologies\\ost-sm-change-detection\\venv\\lib\\site-packages\\kafka\\consumer\\group.py:702\u001B[0m, in \u001B[0;36mKafkaConsumer._poll_once\u001B[1;34m(self, timeout_ms, max_records, update_offsets)\u001B[0m\n\u001B[0;32m    699\u001B[0m     \u001B[38;5;28mself\u001B[39m\u001B[38;5;241m.\u001B[39m_client\u001B[38;5;241m.\u001B[39mpoll(timeout_ms\u001B[38;5;241m=\u001B[39m\u001B[38;5;241m0\u001B[39m)\n\u001B[0;32m    701\u001B[0m timeout_ms \u001B[38;5;241m=\u001B[39m \u001B[38;5;28mmin\u001B[39m(timeout_ms, \u001B[38;5;28mself\u001B[39m\u001B[38;5;241m.\u001B[39m_coordinator\u001B[38;5;241m.\u001B[39mtime_to_next_poll() \u001B[38;5;241m*\u001B[39m \u001B[38;5;241m1000\u001B[39m)\n\u001B[1;32m--> 702\u001B[0m \u001B[38;5;28;43mself\u001B[39;49m\u001B[38;5;241;43m.\u001B[39;49m\u001B[43m_client\u001B[49m\u001B[38;5;241;43m.\u001B[39;49m\u001B[43mpoll\u001B[49m\u001B[43m(\u001B[49m\u001B[43mtimeout_ms\u001B[49m\u001B[38;5;241;43m=\u001B[39;49m\u001B[43mtimeout_ms\u001B[49m\u001B[43m)\u001B[49m\n\u001B[0;32m    703\u001B[0m \u001B[38;5;66;03m# after the long poll, we should check whether the group needs to rebalance\u001B[39;00m\n\u001B[0;32m    704\u001B[0m \u001B[38;5;66;03m# prior to returning data so that the group can stabilize faster\u001B[39;00m\n\u001B[0;32m    705\u001B[0m \u001B[38;5;28;01mif\u001B[39;00m \u001B[38;5;28mself\u001B[39m\u001B[38;5;241m.\u001B[39m_coordinator\u001B[38;5;241m.\u001B[39mneed_rejoin():\n",
      "File \u001B[1;32m~\\Documents\\Egyetem\\Open Source Technologies\\ost-sm-change-detection\\venv\\lib\\site-packages\\kafka\\client_async.py:602\u001B[0m, in \u001B[0;36mKafkaClient.poll\u001B[1;34m(self, timeout_ms, future)\u001B[0m\n\u001B[0;32m    599\u001B[0m             timeout \u001B[38;5;241m=\u001B[39m \u001B[38;5;28mmin\u001B[39m(timeout, \u001B[38;5;28mself\u001B[39m\u001B[38;5;241m.\u001B[39mconfig[\u001B[38;5;124m'\u001B[39m\u001B[38;5;124mretry_backoff_ms\u001B[39m\u001B[38;5;124m'\u001B[39m])\n\u001B[0;32m    600\u001B[0m         timeout \u001B[38;5;241m=\u001B[39m \u001B[38;5;28mmax\u001B[39m(\u001B[38;5;241m0\u001B[39m, timeout)  \u001B[38;5;66;03m# avoid negative timeouts\u001B[39;00m\n\u001B[1;32m--> 602\u001B[0m     \u001B[38;5;28;43mself\u001B[39;49m\u001B[38;5;241;43m.\u001B[39;49m\u001B[43m_poll\u001B[49m\u001B[43m(\u001B[49m\u001B[43mtimeout\u001B[49m\u001B[43m \u001B[49m\u001B[38;5;241;43m/\u001B[39;49m\u001B[43m \u001B[49m\u001B[38;5;241;43m1000\u001B[39;49m\u001B[43m)\u001B[49m\n\u001B[0;32m    604\u001B[0m \u001B[38;5;66;03m# called without the lock to avoid deadlock potential\u001B[39;00m\n\u001B[0;32m    605\u001B[0m \u001B[38;5;66;03m# if handlers need to acquire locks\u001B[39;00m\n\u001B[0;32m    606\u001B[0m responses\u001B[38;5;241m.\u001B[39mextend(\u001B[38;5;28mself\u001B[39m\u001B[38;5;241m.\u001B[39m_fire_pending_completed_requests())\n",
      "File \u001B[1;32m~\\Documents\\Egyetem\\Open Source Technologies\\ost-sm-change-detection\\venv\\lib\\site-packages\\kafka\\client_async.py:634\u001B[0m, in \u001B[0;36mKafkaClient._poll\u001B[1;34m(self, timeout)\u001B[0m\n\u001B[0;32m    631\u001B[0m \u001B[38;5;28mself\u001B[39m\u001B[38;5;241m.\u001B[39m_register_send_sockets()\n\u001B[0;32m    633\u001B[0m start_select \u001B[38;5;241m=\u001B[39m time\u001B[38;5;241m.\u001B[39mtime()\n\u001B[1;32m--> 634\u001B[0m ready \u001B[38;5;241m=\u001B[39m \u001B[38;5;28;43mself\u001B[39;49m\u001B[38;5;241;43m.\u001B[39;49m\u001B[43m_selector\u001B[49m\u001B[38;5;241;43m.\u001B[39;49m\u001B[43mselect\u001B[49m\u001B[43m(\u001B[49m\u001B[43mtimeout\u001B[49m\u001B[43m)\u001B[49m\n\u001B[0;32m    635\u001B[0m end_select \u001B[38;5;241m=\u001B[39m time\u001B[38;5;241m.\u001B[39mtime()\n\u001B[0;32m    636\u001B[0m \u001B[38;5;28;01mif\u001B[39;00m \u001B[38;5;28mself\u001B[39m\u001B[38;5;241m.\u001B[39m_sensors:\n",
      "File \u001B[1;32m~\\AppData\\Local\\Programs\\Python\\Python310\\lib\\selectors.py:324\u001B[0m, in \u001B[0;36mSelectSelector.select\u001B[1;34m(self, timeout)\u001B[0m\n\u001B[0;32m    322\u001B[0m ready \u001B[38;5;241m=\u001B[39m []\n\u001B[0;32m    323\u001B[0m \u001B[38;5;28;01mtry\u001B[39;00m:\n\u001B[1;32m--> 324\u001B[0m     r, w, _ \u001B[38;5;241m=\u001B[39m \u001B[38;5;28;43mself\u001B[39;49m\u001B[38;5;241;43m.\u001B[39;49m\u001B[43m_select\u001B[49m\u001B[43m(\u001B[49m\u001B[38;5;28;43mself\u001B[39;49m\u001B[38;5;241;43m.\u001B[39;49m\u001B[43m_readers\u001B[49m\u001B[43m,\u001B[49m\u001B[43m \u001B[49m\u001B[38;5;28;43mself\u001B[39;49m\u001B[38;5;241;43m.\u001B[39;49m\u001B[43m_writers\u001B[49m\u001B[43m,\u001B[49m\u001B[43m \u001B[49m\u001B[43m[\u001B[49m\u001B[43m]\u001B[49m\u001B[43m,\u001B[49m\u001B[43m \u001B[49m\u001B[43mtimeout\u001B[49m\u001B[43m)\u001B[49m\n\u001B[0;32m    325\u001B[0m \u001B[38;5;28;01mexcept\u001B[39;00m \u001B[38;5;167;01mInterruptedError\u001B[39;00m:\n\u001B[0;32m    326\u001B[0m     \u001B[38;5;28;01mreturn\u001B[39;00m ready\n",
      "File \u001B[1;32m~\\AppData\\Local\\Programs\\Python\\Python310\\lib\\selectors.py:315\u001B[0m, in \u001B[0;36mSelectSelector._select\u001B[1;34m(self, r, w, _, timeout)\u001B[0m\n\u001B[0;32m    314\u001B[0m \u001B[38;5;28;01mdef\u001B[39;00m \u001B[38;5;21m_select\u001B[39m(\u001B[38;5;28mself\u001B[39m, r, w, _, timeout\u001B[38;5;241m=\u001B[39m\u001B[38;5;28;01mNone\u001B[39;00m):\n\u001B[1;32m--> 315\u001B[0m     r, w, x \u001B[38;5;241m=\u001B[39m \u001B[43mselect\u001B[49m\u001B[38;5;241;43m.\u001B[39;49m\u001B[43mselect\u001B[49m\u001B[43m(\u001B[49m\u001B[43mr\u001B[49m\u001B[43m,\u001B[49m\u001B[43m \u001B[49m\u001B[43mw\u001B[49m\u001B[43m,\u001B[49m\u001B[43m \u001B[49m\u001B[43mw\u001B[49m\u001B[43m,\u001B[49m\u001B[43m \u001B[49m\u001B[43mtimeout\u001B[49m\u001B[43m)\u001B[49m\n\u001B[0;32m    316\u001B[0m     \u001B[38;5;28;01mreturn\u001B[39;00m r, w \u001B[38;5;241m+\u001B[39m x, []\n",
      "\u001B[1;31mKeyboardInterrupt\u001B[0m: "
     ]
    }
   ],
   "source": [
    "# initialize drift detector\n",
    "ddm = DDM()\n",
    "\n",
    "# consume the streamed data from kafka and detect drift\n",
    "msg = consumer.consume_next()\n",
    "i = 0\n",
    "while msg:\n",
    "    # get the data from the message\n",
    "    data = msg.value\n",
    "    #print(data['features'])\n",
    "    # convert the dictionary to a dataframe\n",
    "    X = pd.DataFrame(data['features'], index=[0])\n",
    "    # get the labels\n",
    "    y = pd.DataFrame(data['labels'], index=[0])\n",
    "    # predict the labels\n",
    "    y_pred = clf.predict(X)\n",
    "    # get the accuracy\n",
    "    accuracy = accuracy_score(y, y_pred)\n",
    "    # detect drift\n",
    "    ddm.add_element(accuracy)\n",
    "    warning_detected = ddm.detected_warning_zone()\n",
    "    drift_detected = ddm.detected_change()\n",
    "    \n",
    "    # send the results\n",
    "    producer.send({'accuracy': accuracy, 'warning_detected': warning_detected, 'drift_detected': drift_detected})\n",
    "    \n",
    "    # print the results\n",
    "    '''if accuracy < 0.5:\n",
    "        print('Iteration {}'.format(i), 'Accuracy {}'.format(accuracy))'''\n",
    "    if i % 1000 == 0:\n",
    "        print('Iteration {}'.format(i), 'Accuracy {}'.format(accuracy))\n",
    "    if drift_detected:\n",
    "        print(f'{datetime.now()} - accuracy: {accuracy} - drift detected: {drift_detected}')\n",
    "    # get the next message\n",
    "    msg = consumer.consume_next()\n",
    "    i += 1"
   ],
   "metadata": {
    "collapsed": false,
    "ExecuteTime": {
     "end_time": "2023-12-12T15:20:56.651029200Z",
     "start_time": "2023-12-12T13:47:35.095671200Z"
    }
   },
   "id": "91b44ebf083030a9"
  },
  {
   "cell_type": "code",
   "execution_count": null,
   "outputs": [],
   "source": [
    "# TODO: implement error counting drift detector\n",
    "# TODO: implement complex drift detector\n",
    "# TODO: implement 2 models, for the no attack and attack case, use them accordingly\n",
    "# TODO: implement model retraining\n",
    "# TODO: implement flink job"
   ],
   "metadata": {
    "collapsed": false,
    "ExecuteTime": {
     "end_time": "2023-12-12T15:20:56.653401200Z",
     "start_time": "2023-12-12T15:20:56.653401200Z"
    }
   },
   "id": "25dec58a90558dc3"
  },
  {
   "cell_type": "code",
   "execution_count": null,
   "outputs": [],
   "source": [],
   "metadata": {
    "collapsed": false,
    "ExecuteTime": {
     "end_time": "2023-12-12T15:20:56.653401200Z",
     "start_time": "2023-12-12T15:20:56.653401200Z"
    }
   },
   "id": "39769820f08d2291"
  },
  {
   "cell_type": "code",
   "execution_count": null,
   "outputs": [],
   "source": [],
   "metadata": {
    "collapsed": false
   },
   "id": "fc7105c397c269a3"
  }
 ],
 "metadata": {
  "kernelspec": {
   "display_name": "Python 3",
   "language": "python",
   "name": "python3"
  },
  "language_info": {
   "codemirror_mode": {
    "name": "ipython",
    "version": 2
   },
   "file_extension": ".py",
   "mimetype": "text/x-python",
   "name": "python",
   "nbconvert_exporter": "python",
   "pygments_lexer": "ipython2",
   "version": "2.7.6"
  }
 },
 "nbformat": 4,
 "nbformat_minor": 5
}
