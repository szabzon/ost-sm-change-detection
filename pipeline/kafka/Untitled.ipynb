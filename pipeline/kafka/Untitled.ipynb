{
 "cells": [
  {
   "cell_type": "code",
   "execution_count": 1,
   "id": "973c754b-41ac-49e8-b4a8-0c627fc4d6b1",
   "metadata": {},
   "outputs": [
    {
     "name": "stdout",
     "output_type": "stream",
     "text": [
      "Collecting kafka-python\n",
      "  Using cached kafka_python-2.0.2-py2.py3-none-any.whl (246 kB)\n",
      "Installing collected packages: kafka-python\n",
      "Successfully installed kafka-python-2.0.2\n",
      "Note: you may need to restart the kernel to use updated packages.\n"
     ]
    }
   ],
   "source": [
    "pip install kafka-python"
   ]
  },
  {
   "cell_type": "code",
   "execution_count": 1,
   "id": "e75c5f43-b254-4ed3-a3e5-cb46ae908e76",
   "metadata": {},
   "outputs": [],
   "source": [
    "from kafka import KafkaProducer\n",
    "import json"
   ]
  },
  {
   "cell_type": "code",
   "execution_count": 2,
   "id": "9abe7e8f-d677-43d1-9df8-d66269e8fbf0",
   "metadata": {},
   "outputs": [],
   "source": [
    "def json_serializer(data):\n",
    "    return json.dumps(data).encode(\"utf-8\")"
   ]
  },
  {
   "cell_type": "code",
   "execution_count": 4,
   "id": "026d4a3b-049a-4241-8f17-ca374e9e489f",
   "metadata": {},
   "outputs": [],
   "source": [
    "producer = KafkaProducer (bootstrap_servers=[\"localhost:9092\"],api_version=(0,10,1)) # creating a kafka producer and connecting to kafka"
   ]
  },
  {
   "cell_type": "code",
   "execution_count": 5,
   "id": "b312eaee-c954-4d6e-8b34-7c1e9bd0d2c9",
   "metadata": {},
   "outputs": [
    {
     "data": {
      "text/plain": [
       "<kafka.producer.future.FutureRecordMetadata at 0x27cf54e19d0>"
      ]
     },
     "execution_count": 5,
     "metadata": {},
     "output_type": "execute_result"
    }
   ],
   "source": [
    "producer.send ('hai_input',b'hello this is jiyan im sending this from python!')"
   ]
  },
  {
   "cell_type": "code",
   "execution_count": 6,
   "id": "666a747d-7a5b-464a-b7c2-f07e96a8cfaf",
   "metadata": {},
   "outputs": [
    {
     "data": {
      "text/plain": [
       "<kafka.producer.future.FutureRecordMetadata at 0x27cf5b52490>"
      ]
     },
     "execution_count": 6,
     "metadata": {},
     "output_type": "execute_result"
    }
   ],
   "source": [
    "producer.send ('hai_input',b'hello albert baba!')"
   ]
  },
  {
   "cell_type": "code",
   "execution_count": null,
   "id": "0942660b-1049-427c-931e-ea36ba94b71b",
   "metadata": {},
   "outputs": [],
   "source": []
  }
 ],
 "metadata": {
  "kernelspec": {
   "display_name": "Python 3 (ipykernel)",
   "language": "python",
   "name": "python3"
  },
  "language_info": {
   "codemirror_mode": {
    "name": "ipython",
    "version": 3
   },
   "file_extension": ".py",
   "mimetype": "text/x-python",
   "name": "python",
   "nbconvert_exporter": "python",
   "pygments_lexer": "ipython3",
   "version": "3.11.5"
  }
 },
 "nbformat": 4,
 "nbformat_minor": 5
}
