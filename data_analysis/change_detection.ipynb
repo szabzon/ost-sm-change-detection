{
 "cells": [
  {
   "cell_type": "markdown",
   "metadata": {},
   "source": [
    "# Baseline implementation of relevant error rate-based change-detection algorithms"
   ]
  },
  {
   "cell_type": "code",
   "execution_count": 2,
   "metadata": {},
   "outputs": [],
   "source": [
    "import pandas as pd\n",
    "import numpy as np\n",
    "import matplotlib.pyplot as plt\n",
    "import seaborn as sns\n",
    "\n",
    "import plotly.graph_objects as go\n",
    "from plotly.subplots import make_subplots\n",
    "import plotly.express as px\n",
    "\n",
    "from sklearn.ensemble import RandomForestClassifier\n",
    "from sklearn.cluster import KMeans\n",
    "from sklearn.model_selection import train_test_split\n",
    "from sklearn.metrics import accuracy_score"
   ]
  },
  {
   "cell_type": "markdown",
   "metadata": {},
   "source": [
    "# Data Loading"
   ]
  },
  {
   "cell_type": "code",
   "execution_count": 3,
   "metadata": {},
   "outputs": [],
   "source": [
    "# Load data\n",
    "train1 = pd.read_csv(\"/Users/emmatosato/Documents/UNI Locale/Erasmus/OST/ost-sm-change-detection/data_analysis/preprocessed_data/train1.csv\")\n",
    "train2 = pd.read_csv(\"/Users/emmatosato/Documents/UNI Locale/Erasmus/OST/ost-sm-change-detection/data_analysis/preprocessed_data/train2.csv\")\n",
    "test1 = pd.read_csv(\"/Users/emmatosato/Documents/UNI Locale/Erasmus/OST/ost-sm-change-detection/data_analysis/preprocessed_data/test1.csv\")\n",
    "test2 = pd.read_csv(\"/Users/emmatosato/Documents/UNI Locale/Erasmus/OST/ost-sm-change-detection/data_analysis/preprocessed_data/test2.csv\")\n",
    "label1 = pd.read_csv(\"/Users/emmatosato/Documents/UNI Locale/Erasmus/OST/ost-sm-change-detection/data_analysis/preprocessed_data/label1.csv\")\n",
    "label2 = pd.read_csv(\"/Users/emmatosato/Documents/UNI Locale/Erasmus/OST/ost-sm-change-detection/data_analysis/preprocessed_data/label2.csv\")"
   ]
  },
  {
   "cell_type": "markdown",
   "metadata": {},
   "source": [
    "## Functions"
   ]
  },
  {
   "cell_type": "markdown",
   "metadata": {},
   "source": [
    "### Evaluation"
   ]
  },
  {
   "cell_type": "code",
   "execution_count": null,
   "metadata": {},
   "outputs": [],
   "source": [
    "# Definitions of functions\n",
    "def calculate_delay_of_detection(true_change_indexes, detected_indexes):\n",
    "    delays = [index - detected_index for detected_index, index in zip(detected_indexes, true_change_indexes)]\n",
    "    average_delay = sum(delays) / len(delays)\n",
    "    return average_delay\n",
    "\n",
    "def calculate_false_detection_rate(true_change_indexes, detected_indexes):\n",
    "    total_drifts = len(true_change_indexes)\n",
    "    total_detected = len(detected_indexes)\n",
    "    false_detections = total_detected - total_drifts\n",
    "    fdr = false_detections / total_drifts\n",
    "    return fdr\n",
    "\n",
    "def calculate_miss_detection_rate(true_change_indexes, detected_indexes):\n",
    "    total_drifts = len(true_change_indexes)\n",
    "    total_detected = len(detected_indexes)\n",
    "    mdr = (total_drifts - total_detected) / total_drifts\n",
    "    return mdr\n",
    "\n",
    "def calculate_rate_of_drift(detected_indexes, total_time):\n",
    "    total_detected = len(detected_indexes)\n",
    "    rod = total_detected / total_time\n",
    "    return rod"
   ]
  },
  {
   "cell_type": "markdown",
   "metadata": {},
   "source": [
    "## Classification model"
   ]
  },
  {
   "cell_type": "code",
   "execution_count": 23,
   "metadata": {},
   "outputs": [],
   "source": [
    "# Split the data into training and test sets\n",
    "train_data, test_data, train_labels, test_labels = train_test_split(test1.iloc[:,1:], label1['label'], test_size=0.2, random_state=42)\n",
    "stream_size = test_data.shape[0]\n",
    "true_attack_indexes = indices_of_ones = test_labels[test_labels['labels'] == 1].index.values\n",
    "\n",
    "# Train a Random Forest model\n",
    "rf_model = RandomForestClassifier(n_estimators=100, random_state=42)\n",
    "rf_model.fit(train_data, train_labels)\n",
    "\n",
    "# Make predictions on the test set\n",
    "rf_model_predictions = rf_model.predict(test_data)"
   ]
  },
  {
   "cell_type": "code",
   "execution_count": null,
   "metadata": {},
   "outputs": [],
   "source": [
    "true_attack_indexes = indices_of_ones = test_labels[test_labels['labels'] == 1].index.values"
   ]
  },
  {
   "cell_type": "markdown",
   "metadata": {},
   "source": [
    "## CUMSUM Algorithm"
   ]
  },
  {
   "cell_type": "markdown",
   "metadata": {},
   "source": [
    "The cumulative sum (CUSUM) test is designed to give an alarm when the mean of the input data significantly deviates from its previous value.\n",
    "\n",
    "*References :*\n",
    "- Machine Learning for Data Streams book\n",
    "- Thomas Flynn and Shinjae Yoo. *Change Detection with the Kernel Cumulative Sum Algorithm*"
   ]
  },
  {
   "cell_type": "code",
   "execution_count": 22,
   "metadata": {},
   "outputs": [],
   "source": [
    "class CUSUM:\n",
    "    def __init__(self, k=0.5, h=5):\n",
    "        self.k = k\n",
    "        self.h = h\n",
    "        self.g = 0\n",
    "\n",
    "    def add_element(self, error):\n",
    "        zt = error\n",
    "        self.g = max(0, self.g + zt - self.k)\n",
    "\n",
    "    def check_drift(self):\n",
    "        return self.g > self.h\n"
   ]
  },
  {
   "cell_type": "code",
   "execution_count": null,
   "metadata": {},
   "outputs": [],
   "source": [
    "# Initialize CUSUM for change detection\n",
    "cusum = CUSUM()  \n",
    "\n",
    "detected_indexes_cusum = []\n",
    "\n",
    "for i in range(stream_size):\n",
    "    prediction = 0 if i < stream_size // 2 else 1\n",
    "    error = int(prediction != test_labels[i])\n",
    "\n",
    "   # Update CUSUM with the error signal\n",
    "    cusum.add_element(error)\n",
    "\n",
    "    # Check for change detection\n",
    "    if cusum.detected_change():\n",
    "        detected_indexes_cusum.append(i)\n"
   ]
  },
  {
   "cell_type": "code",
   "execution_count": null,
   "metadata": {},
   "outputs": [],
   "source": [
    "# Evaluate change detection performance using CUSUM\n",
    "average_delay_cusum = calculate_delay_of_detection(true_change_indexes, detected_indexes_cusum)\n",
    "fdr_cusum = calculate_false_detection_rate(true_change_indexes, detected_indexes_cusum)\n",
    "mdr_cusum = calculate_miss_detection_rate(true_change_indexes, detected_indexes_cusum)\n",
    "rod_cusum = calculate_rate_of_drift(detected_indexes_cusum, total_time=stream_size - 500)\n"
   ]
  },
  {
   "cell_type": "markdown",
   "metadata": {},
   "source": [
    "## ADaptive WINdowing (ADWIN)"
   ]
  },
  {
   "cell_type": "markdown",
   "metadata": {},
   "source": [
    "**ADWIN (ADaptive WINdowing)** is an adaptive sliding window algorithm for detecting change, and keeping updated statistics about a data stream.\n",
    "ADWIN allows algorithms not adapted for drifting data, to be resistant to this phenomenon.\n",
    "\n",
    "The general idea is to keep statistics from a window of variable size while detecting concept drift.\n",
    "\n",
    "The algorithm will decide the size of the window by cutting the statistics' window at different points and analysing the average of some statistic over these two windows. If the absolute value of the difference between the two averages surpasses a pre-defined threshold, change is detected at that point and all data before that time is discarded.\n",
    "\n",
    "*References*: \n",
    "Thomas, Flynn, and Yoo Shinjae. Change Detection with the Kernel Cumulative Sum Algorithm. ArXiv E-prints, 2017, https://doi.org/10.48550/arXiv.1903.01661."
   ]
  },
  {
   "cell_type": "code",
   "execution_count": 33,
   "metadata": {},
   "outputs": [],
   "source": [
    "class ADWIN:\n",
    "    def __init__(self, delta=0.002):\n",
    "        self.delta = delta\n",
    "        self.window = []\n",
    "        self.total_count = 0\n",
    "\n",
    "    def add_element(self, error):\n",
    "        self.window.append(error)\n",
    "        self.total_count += 1\n",
    "\n",
    "        if len(self.window) > 1:\n",
    "            self.check_drift()\n",
    "\n",
    "    def check_drift(self):\n",
    "        num_buckets = len(self.window)\n",
    "\n",
    "        for i in range(1, num_buckets):\n",
    "            w0 = self.window[:i]\n",
    "            w1 = self.window[i:]\n",
    "\n",
    "            if self.test(w0, w1):\n",
    "                self.window.pop(0)\n",
    "                break\n",
    "\n",
    "    def test(self, w0, w1):\n",
    "        mean_w0 = sum(w0) / len(w0) if len(w0) > 0 else 0\n",
    "        mean_w1 = sum(w1) / len(w1) if len(w1) > 0 else 0\n",
    "\n",
    "        var_w0 = sum((x - mean_w0) ** 2 for x in w0) / len(w0) if len(w0) > 1 else 0\n",
    "        var_w1 = sum((x - mean_w1) ** 2 for x in w1) / len(w1) if len(w1) > 1 else 0\n",
    "\n",
    "        if mean_w1 == 0:\n",
    "            return False\n",
    "\n",
    "        p_value = (mean_w0 + 2 * (var_w0 ** 0.5)) / (mean_w1 + 2 * (var_w1 ** 0.5))\n",
    "        \n",
    "        return p_value < self.delta\n",
    "\n"
   ]
  },
  {
   "cell_type": "code",
   "execution_count": 34,
   "metadata": {},
   "outputs": [
    {
     "ename": "KeyboardInterrupt",
     "evalue": "",
     "output_type": "error",
     "traceback": [
      "\u001b[0;31m---------------------------------------------------------------------------\u001b[0m",
      "\u001b[0;31mKeyboardInterrupt\u001b[0m                         Traceback (most recent call last)",
      "\u001b[1;32m/Users/emmatosato/Documents/UNI Locale/Erasmus/OST/ost-sm-change-detection/data_analysis/change_detection.ipynb Cella 19\u001b[0m line \u001b[0;36m1\n\u001b[1;32m     <a href='vscode-notebook-cell:/Users/emmatosato/Documents/UNI%20Locale/Erasmus/OST/ost-sm-change-detection/data_analysis/change_detection.ipynb#X32sZmlsZQ%3D%3D?line=10'>11</a>\u001b[0m adwin\u001b[39m.\u001b[39madd_element(error)\n\u001b[1;32m     <a href='vscode-notebook-cell:/Users/emmatosato/Documents/UNI%20Locale/Erasmus/OST/ost-sm-change-detection/data_analysis/change_detection.ipynb#X32sZmlsZQ%3D%3D?line=12'>13</a>\u001b[0m \u001b[39m# Check for change detection\u001b[39;00m\n\u001b[0;32m---> <a href='vscode-notebook-cell:/Users/emmatosato/Documents/UNI%20Locale/Erasmus/OST/ost-sm-change-detection/data_analysis/change_detection.ipynb#X32sZmlsZQ%3D%3D?line=13'>14</a>\u001b[0m \u001b[39mif\u001b[39;00m adwin\u001b[39m.\u001b[39;49mcheck_drift():\n\u001b[1;32m     <a href='vscode-notebook-cell:/Users/emmatosato/Documents/UNI%20Locale/Erasmus/OST/ost-sm-change-detection/data_analysis/change_detection.ipynb#X32sZmlsZQ%3D%3D?line=14'>15</a>\u001b[0m     detected_indexes_adwin\u001b[39m.\u001b[39mappend(i)\n",
      "\u001b[1;32m/Users/emmatosato/Documents/UNI Locale/Erasmus/OST/ost-sm-change-detection/data_analysis/change_detection.ipynb Cella 19\u001b[0m line \u001b[0;36m2\n\u001b[1;32m     <a href='vscode-notebook-cell:/Users/emmatosato/Documents/UNI%20Locale/Erasmus/OST/ost-sm-change-detection/data_analysis/change_detection.ipynb#X32sZmlsZQ%3D%3D?line=17'>18</a>\u001b[0m w0 \u001b[39m=\u001b[39m \u001b[39mself\u001b[39m\u001b[39m.\u001b[39mwindow[:i]\n\u001b[1;32m     <a href='vscode-notebook-cell:/Users/emmatosato/Documents/UNI%20Locale/Erasmus/OST/ost-sm-change-detection/data_analysis/change_detection.ipynb#X32sZmlsZQ%3D%3D?line=18'>19</a>\u001b[0m w1 \u001b[39m=\u001b[39m \u001b[39mself\u001b[39m\u001b[39m.\u001b[39mwindow[i:]\n\u001b[0;32m---> <a href='vscode-notebook-cell:/Users/emmatosato/Documents/UNI%20Locale/Erasmus/OST/ost-sm-change-detection/data_analysis/change_detection.ipynb#X32sZmlsZQ%3D%3D?line=20'>21</a>\u001b[0m \u001b[39mif\u001b[39;00m \u001b[39mself\u001b[39;49m\u001b[39m.\u001b[39;49mtest(w0, w1):\n\u001b[1;32m     <a href='vscode-notebook-cell:/Users/emmatosato/Documents/UNI%20Locale/Erasmus/OST/ost-sm-change-detection/data_analysis/change_detection.ipynb#X32sZmlsZQ%3D%3D?line=21'>22</a>\u001b[0m     \u001b[39mself\u001b[39m\u001b[39m.\u001b[39mwindow\u001b[39m.\u001b[39mpop(\u001b[39m0\u001b[39m)\n\u001b[1;32m     <a href='vscode-notebook-cell:/Users/emmatosato/Documents/UNI%20Locale/Erasmus/OST/ost-sm-change-detection/data_analysis/change_detection.ipynb#X32sZmlsZQ%3D%3D?line=22'>23</a>\u001b[0m     \u001b[39mbreak\u001b[39;00m\n",
      "\u001b[1;32m/Users/emmatosato/Documents/UNI Locale/Erasmus/OST/ost-sm-change-detection/data_analysis/change_detection.ipynb Cella 19\u001b[0m line \u001b[0;36m2\n\u001b[1;32m     <a href='vscode-notebook-cell:/Users/emmatosato/Documents/UNI%20Locale/Erasmus/OST/ost-sm-change-detection/data_analysis/change_detection.ipynb#X32sZmlsZQ%3D%3D?line=25'>26</a>\u001b[0m mean_w0 \u001b[39m=\u001b[39m \u001b[39msum\u001b[39m(w0) \u001b[39m/\u001b[39m \u001b[39mlen\u001b[39m(w0) \u001b[39mif\u001b[39;00m \u001b[39mlen\u001b[39m(w0) \u001b[39m>\u001b[39m \u001b[39m0\u001b[39m \u001b[39melse\u001b[39;00m \u001b[39m0\u001b[39m\n\u001b[1;32m     <a href='vscode-notebook-cell:/Users/emmatosato/Documents/UNI%20Locale/Erasmus/OST/ost-sm-change-detection/data_analysis/change_detection.ipynb#X32sZmlsZQ%3D%3D?line=26'>27</a>\u001b[0m mean_w1 \u001b[39m=\u001b[39m \u001b[39msum\u001b[39m(w1) \u001b[39m/\u001b[39m \u001b[39mlen\u001b[39m(w1) \u001b[39mif\u001b[39;00m \u001b[39mlen\u001b[39m(w1) \u001b[39m>\u001b[39m \u001b[39m0\u001b[39m \u001b[39melse\u001b[39;00m \u001b[39m0\u001b[39m\n\u001b[0;32m---> <a href='vscode-notebook-cell:/Users/emmatosato/Documents/UNI%20Locale/Erasmus/OST/ost-sm-change-detection/data_analysis/change_detection.ipynb#X32sZmlsZQ%3D%3D?line=28'>29</a>\u001b[0m var_w0 \u001b[39m=\u001b[39m \u001b[39msum\u001b[39;49m((x \u001b[39m-\u001b[39;49m mean_w0) \u001b[39m*\u001b[39;49m\u001b[39m*\u001b[39;49m \u001b[39m2\u001b[39;49m \u001b[39mfor\u001b[39;49;00m x \u001b[39min\u001b[39;49;00m w0) \u001b[39m/\u001b[39m \u001b[39mlen\u001b[39m(w0) \u001b[39mif\u001b[39;00m \u001b[39mlen\u001b[39m(w0) \u001b[39m>\u001b[39m \u001b[39m1\u001b[39m \u001b[39melse\u001b[39;00m \u001b[39m0\u001b[39m\n\u001b[1;32m     <a href='vscode-notebook-cell:/Users/emmatosato/Documents/UNI%20Locale/Erasmus/OST/ost-sm-change-detection/data_analysis/change_detection.ipynb#X32sZmlsZQ%3D%3D?line=29'>30</a>\u001b[0m var_w1 \u001b[39m=\u001b[39m \u001b[39msum\u001b[39m((x \u001b[39m-\u001b[39m mean_w1) \u001b[39m*\u001b[39m\u001b[39m*\u001b[39m \u001b[39m2\u001b[39m \u001b[39mfor\u001b[39;00m x \u001b[39min\u001b[39;00m w1) \u001b[39m/\u001b[39m \u001b[39mlen\u001b[39m(w1) \u001b[39mif\u001b[39;00m \u001b[39mlen\u001b[39m(w1) \u001b[39m>\u001b[39m \u001b[39m1\u001b[39m \u001b[39melse\u001b[39;00m \u001b[39m0\u001b[39m\n\u001b[1;32m     <a href='vscode-notebook-cell:/Users/emmatosato/Documents/UNI%20Locale/Erasmus/OST/ost-sm-change-detection/data_analysis/change_detection.ipynb#X32sZmlsZQ%3D%3D?line=31'>32</a>\u001b[0m \u001b[39mif\u001b[39;00m mean_w1 \u001b[39m==\u001b[39m \u001b[39m0\u001b[39m:\n",
      "\u001b[1;32m/Users/emmatosato/Documents/UNI Locale/Erasmus/OST/ost-sm-change-detection/data_analysis/change_detection.ipynb Cella 19\u001b[0m line \u001b[0;36m2\n\u001b[1;32m     <a href='vscode-notebook-cell:/Users/emmatosato/Documents/UNI%20Locale/Erasmus/OST/ost-sm-change-detection/data_analysis/change_detection.ipynb#X32sZmlsZQ%3D%3D?line=25'>26</a>\u001b[0m mean_w0 \u001b[39m=\u001b[39m \u001b[39msum\u001b[39m(w0) \u001b[39m/\u001b[39m \u001b[39mlen\u001b[39m(w0) \u001b[39mif\u001b[39;00m \u001b[39mlen\u001b[39m(w0) \u001b[39m>\u001b[39m \u001b[39m0\u001b[39m \u001b[39melse\u001b[39;00m \u001b[39m0\u001b[39m\n\u001b[1;32m     <a href='vscode-notebook-cell:/Users/emmatosato/Documents/UNI%20Locale/Erasmus/OST/ost-sm-change-detection/data_analysis/change_detection.ipynb#X32sZmlsZQ%3D%3D?line=26'>27</a>\u001b[0m mean_w1 \u001b[39m=\u001b[39m \u001b[39msum\u001b[39m(w1) \u001b[39m/\u001b[39m \u001b[39mlen\u001b[39m(w1) \u001b[39mif\u001b[39;00m \u001b[39mlen\u001b[39m(w1) \u001b[39m>\u001b[39m \u001b[39m0\u001b[39m \u001b[39melse\u001b[39;00m \u001b[39m0\u001b[39m\n\u001b[0;32m---> <a href='vscode-notebook-cell:/Users/emmatosato/Documents/UNI%20Locale/Erasmus/OST/ost-sm-change-detection/data_analysis/change_detection.ipynb#X32sZmlsZQ%3D%3D?line=28'>29</a>\u001b[0m var_w0 \u001b[39m=\u001b[39m \u001b[39msum\u001b[39m((x \u001b[39m-\u001b[39m mean_w0) \u001b[39m*\u001b[39m\u001b[39m*\u001b[39m \u001b[39m2\u001b[39m \u001b[39mfor\u001b[39;00m x \u001b[39min\u001b[39;00m w0) \u001b[39m/\u001b[39m \u001b[39mlen\u001b[39m(w0) \u001b[39mif\u001b[39;00m \u001b[39mlen\u001b[39m(w0) \u001b[39m>\u001b[39m \u001b[39m1\u001b[39m \u001b[39melse\u001b[39;00m \u001b[39m0\u001b[39m\n\u001b[1;32m     <a href='vscode-notebook-cell:/Users/emmatosato/Documents/UNI%20Locale/Erasmus/OST/ost-sm-change-detection/data_analysis/change_detection.ipynb#X32sZmlsZQ%3D%3D?line=29'>30</a>\u001b[0m var_w1 \u001b[39m=\u001b[39m \u001b[39msum\u001b[39m((x \u001b[39m-\u001b[39m mean_w1) \u001b[39m*\u001b[39m\u001b[39m*\u001b[39m \u001b[39m2\u001b[39m \u001b[39mfor\u001b[39;00m x \u001b[39min\u001b[39;00m w1) \u001b[39m/\u001b[39m \u001b[39mlen\u001b[39m(w1) \u001b[39mif\u001b[39;00m \u001b[39mlen\u001b[39m(w1) \u001b[39m>\u001b[39m \u001b[39m1\u001b[39m \u001b[39melse\u001b[39;00m \u001b[39m0\u001b[39m\n\u001b[1;32m     <a href='vscode-notebook-cell:/Users/emmatosato/Documents/UNI%20Locale/Erasmus/OST/ost-sm-change-detection/data_analysis/change_detection.ipynb#X32sZmlsZQ%3D%3D?line=31'>32</a>\u001b[0m \u001b[39mif\u001b[39;00m mean_w1 \u001b[39m==\u001b[39m \u001b[39m0\u001b[39m:\n",
      "\u001b[0;31mKeyboardInterrupt\u001b[0m: "
     ]
    }
   ],
   "source": [
    "# Initialize ADWIN for change detection\n",
    "adwin = ADWIN(delta=0.002)\n",
    "\n",
    "# List detected change points\n",
    "detected_indexes_adwin = []\n",
    "\n",
    "for i in range(stream_size):\n",
    "    error = int(rf_model_predictions[i] != test_labels.iloc[i])\n",
    "\n",
    "    # Update ADWIN with the error signal\n",
    "    adwin.add_element(error)\n",
    "\n",
    "    # Check for change detection\n",
    "    if adwin.check_drift():\n",
    "        detected_indexes_adwin.append(i)"
   ]
  },
  {
   "cell_type": "code",
   "execution_count": null,
   "metadata": {},
   "outputs": [],
   "source": [
    "# Evaluate change detection performance using ADWIN\n",
    "average_delay_adwin = calculate_delay_of_detection(true_attack_indexes, detected_indexes_adwin)\n",
    "fdr_adwin = calculate_false_detection_rate(true_attack_indexes, detected_indexes_adwin)\n",
    "mdr_adwin = calculate_miss_detection_rate(true_attack_indexes, detected_indexes_adwin)\n",
    "#rod_adwin = calculate_rate_of_drift(detected_indexes_adwin, total_time=stream_size - 500)"
   ]
  },
  {
   "cell_type": "markdown",
   "metadata": {},
   "source": [
    "## Early Drift Detection Method (EDDM)"
   ]
  },
  {
   "cell_type": "markdown",
   "metadata": {},
   "source": [
    "This method works by keeping track of the average distance between two errors instead of only the error rate. For this, it is necessary to keep track of the running average distance and the running standard deviation, as well as the maximum distance and the maximum standard deviation.\n",
    "\n",
    "The algorithm works similarly to the DDM algorithm. Like DDM, there are two threshold values that define the borderline between no change, warning zone, and drift detected.\n",
    "These are as follows:\n",
    "\n",
    "**Warning zone**\n",
    "$$ \\frac{(p_i + 2 * s_i)}{(p_{max} + 2 * s_{max})} < \\alpha $$ \n",
    "\n",
    "**Change detected**\n",
    "\n",
    "$$\\frac{(p_i + 2 * s_i)}{(p_{max} + 2 * s_{max})} < \\beta $$ \n",
    "\n",
    "\n",
    "\n",
    "\n",
    "$\\alpha$ and  $\\beta$ are set to 0.95 and 0.9, respectively.\n",
    "\n",
    "\n",
    "<br><br>\n",
    "\n",
    "*References:*\n",
    "Early Drift Detection Method. Manuel Baena-Garcia, Jose Del Campo-Avila, Raúl Fidalgo, Albert Bifet, Ricard Gavalda, Rafael Morales-Bueno. In Fourth International Workshop on Knowledge Discovery from Data Streams, 2006."
   ]
  },
  {
   "cell_type": "code",
   "execution_count": 1,
   "metadata": {},
   "outputs": [],
   "source": [
    "class EDDM:\n",
    "    def __init__(self, alpha=0.95, beta=0.9, min_num_instances=30):\n",
    "        self.alpha = alpha\n",
    "        self.beta = beta\n",
    "        self.min_num_instances = min_num_instances\n",
    "\n",
    "    def add_element(self, prediction):\n",
    "        self.in_concept_change = 0\n",
    "        self.n += 1\n",
    "\n",
    "        if prediction == 1.0:\n",
    "            self.in_warning_zone = 0\n",
    "            self.delay = 0\n",
    "            self.num_errors += 1\n",
    "            self.last_d = self.d\n",
    "            self.d = self.n - 1\n",
    "            distance = self.d - self.last_d\n",
    "            old_mean = self.mean\n",
    "            self.mean = self.mean + (float(distance) - self.mean) / self.num_errors\n",
    "            self.estimation = self.mean\n",
    "            self.std_temp = self.std_temp + (distance - self.mean) * (distance - old_mean)\n",
    "            std = np.sqrt(self.std_temp / self.num_errors)\n",
    "            m2s = self.mean + 2 * std\n",
    "\n",
    "            if self.n < self.min_num_instances:\n",
    "                return\n",
    "\n",
    "            if m2s > self.m2s_max:\n",
    "                self.m2s_max = m2s\n",
    "            else:\n",
    "                p = m2s / self.m2s_max\n",
    "                if (self.num_errors > self.min_num_instances) and (p < self.alpha):\n",
    "                    self.in_concept_change = 1\n",
    "\n",
    "                elif (self.num_errors > self.min_num_instances) and (p < self.beta):\n",
    "                    self.in_warning_zone = 1\n",
    "\n",
    "                else:\n",
    "                    self.in_warning_zone = 0\n",
    "\n",
    "    def detected_warning_zone(self):\n",
    "        return self.in_warning_zone\n",
    "\n",
    "    def detected_change(self):\n",
    "        return self.in_concept_change\n"
   ]
  },
  {
   "cell_type": "code",
   "execution_count": null,
   "metadata": {},
   "outputs": [],
   "source": [
    "# Initialize EDDM for change detection\n",
    "eddm = EDDM()\n",
    "\n",
    "# List to store detected change points using EDDM\n",
    "detected_indexes_eddm = []\n",
    "\n",
    "for i in range(stream_size):\n",
    "    prediction = 0 if i < stream_size // 2 else 1\n",
    "    error = int(prediction != stream_labels[i])\n",
    "\n",
    "    # Update EDDM\n",
    "    eddm.add_element(error)\n",
    "\n",
    "    # Check for change detection\n",
    "    if eddm.detected_change():\n",
    "        detected_indexes_eddm.append(i)"
   ]
  },
  {
   "cell_type": "code",
   "execution_count": null,
   "metadata": {},
   "outputs": [],
   "source": [
    "# Evaluate change detection performance using EDDM\n",
    "average_delay_eddm = calculate_delay_of_detection(true_change_indexes, detected_indexes_eddm)\n",
    "fdr_eddm = calculate_false_detection_rate(true_change_indexes, detected_indexes_eddm)\n",
    "mdr_eddm = calculate_miss_detection_rate(true_change_indexes, detected_indexes_eddm)\n",
    "rod_eddm = calculate_rate_of_drift(detected_indexes_eddm, total_time=stream_size - 500)"
   ]
  }
 ],
 "metadata": {
  "kernelspec": {
   "display_name": "Python 3 (ipykernel)",
   "language": "python",
   "name": "python3"
  },
  "language_info": {
   "codemirror_mode": {
    "name": "ipython",
    "version": 3
   },
   "file_extension": ".py",
   "mimetype": "text/x-python",
   "name": "python",
   "nbconvert_exporter": "python",
   "pygments_lexer": "ipython3",
   "version": "3.10.3"
  }
 },
 "nbformat": 4,
 "nbformat_minor": 4
}
