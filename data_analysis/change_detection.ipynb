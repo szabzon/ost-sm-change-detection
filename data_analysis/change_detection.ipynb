{
 "cells": [
  {
   "cell_type": "markdown",
   "metadata": {},
   "source": [
    "# Baseline implementation of relevant error rate-based change-detection algorithms"
   ]
  },
  {
   "cell_type": "code",
   "execution_count": 55,
   "metadata": {},
   "outputs": [],
   "source": [
    "import pandas as pd\n",
    "import numpy as np\n",
    "import matplotlib.pyplot as plt\n",
    "import seaborn as sns\n",
    "\n",
    "import plotly.graph_objects as go\n",
    "from plotly.subplots import make_subplots\n",
    "import plotly.express as px\n",
    "\n",
    "from sklearn.ensemble import RandomForestClassifier\n",
    "from sklearn.cluster import KMeans\n",
    "from sklearn.model_selection import train_test_split\n",
    "from sklearn.metrics import accuracy_score"
   ]
  },
  {
   "cell_type": "markdown",
   "metadata": {},
   "source": [
    "# Data Loading"
   ]
  },
  {
   "cell_type": "code",
   "execution_count": 2,
   "metadata": {},
   "outputs": [],
   "source": [
    "# Load data\n",
    "train1 = pd.read_csv(\"/Users/emmatosato/Documents/UNI_Locale/Erasmus/OST/ost-sm-change-detection/data_analysis/preprocessed_data/train1.csv\")\n",
    "train2 = pd.read_csv(\"/Users/emmatosato/Documents/UNI_Locale/Erasmus/OST/ost-sm-change-detection/data_analysis/preprocessed_data/train2.csv\")\n",
    "test1 = pd.read_csv(\"/Users/emmatosato/Documents/UNI_Locale/Erasmus/OST/ost-sm-change-detection/data_analysis/preprocessed_data/test1.csv\")\n",
    "test2 = pd.read_csv(\"/Users/emmatosato/Documents/UNI_Locale/Erasmus/OST/ost-sm-change-detection/data_analysis/preprocessed_data/test2.csv\")\n",
    "label1 = pd.read_csv(\"/Users/emmatosato/Documents/UNI_Locale/Erasmus/OST/ost-sm-change-detection/data_analysis/preprocessed_data/label1.csv\")\n",
    "label2 = pd.read_csv(\"/Users/emmatosato/Documents/UNI_Locale/Erasmus/OST/ost-sm-change-detection/data_analysis/preprocessed_data/label2.csv\")"
   ]
  },
  {
   "cell_type": "markdown",
   "metadata": {},
   "source": [
    "## Functions"
   ]
  },
  {
   "cell_type": "markdown",
   "metadata": {},
   "source": [
    "### Evaluation"
   ]
  },
  {
   "cell_type": "code",
   "execution_count": 58,
   "metadata": {},
   "outputs": [],
   "source": [
    "# Definitions of functions\n",
    "def calculate_delay_of_detection(true_change_indexes, detected_indexes):\n",
    "    delays = [index - detected_index for detected_index, index in zip(detected_indexes, true_change_indexes)]\n",
    "\n",
    "    if len(delays) > 0:\n",
    "        average_delay = sum(delays) / len(delays)\n",
    "        return average_delay\n",
    "    else:\n",
    "        return 0  \n",
    "\n",
    "def calculate_false_detection_rate(true_change_indexes, detected_indexes):\n",
    "    total_drifts = len(true_change_indexes)\n",
    "    total_detected = len(detected_indexes)\n",
    "    false_detections = total_detected - total_drifts\n",
    "    fdr = false_detections / total_drifts\n",
    "    return fdr\n",
    "\n",
    "def calculate_miss_detection_rate(true_change_indexes, detected_indexes):\n",
    "    total_drifts = len(true_change_indexes)\n",
    "    total_detected = len(detected_indexes)\n",
    "    mdr = (total_drifts - total_detected) / total_drifts\n",
    "    return mdr\n",
    "\n",
    "def calculate_rate_of_drift(detected_indexes, total_time):\n",
    "    total_detected = len(detected_indexes)\n",
    "    rod = total_detected / total_time\n",
    "    return rod"
   ]
  },
  {
   "cell_type": "code",
   "execution_count": null,
   "metadata": {},
   "source": [
    "## Classification model"
   ]
  },
  {
   "cell_type": "code",
   "execution_count": 47,
   "metadata": {},
   "outputs": [
    {
     "name": "stderr",
     "output_type": "stream",
     "text": [
      "/var/folders/07/b_mqfzkn0fzbvjz9y6nbfyf40000gn/T/ipykernel_58583/369244361.py:13: DataConversionWarning: A column-vector y was passed when a 1d array was expected. Please change the shape of y to (n_samples,), for example using ravel().\n",
      "  rf_model.fit(train_data, train_labels)\n"
     ]
    }
   ],
   "source": [
    "# Split the data into training and test sets\n",
    "train_data, test_data, train_labels, test_labels = train_test_split(test1.iloc[:,1:], label1['label'], test_size=0.2, random_state=42)\n",
    "\n",
    "# rename\n",
    "train_labels = pd.DataFrame({'label': train_labels})\n",
    "test_labels = pd.DataFrame({'label': test_labels})\n",
    "\n",
    "stream_size = test_data.shape[0]\n",
    "true_attack_indexes = test_labels[test_labels['label'] == 1].index.values\n",
    "\n",
    "# Train a Random Forest model\n",
    "rf_model = RandomForestClassifier(n_estimators=100, random_state=42)\n",
    "rf_model.fit(train_data, train_labels)\n",
    "\n",
    "# Make predictions on the test set\n",
    "rf_model_predictions = rf_model.predict(test_data)"
   ]
  },
  {
   "cell_type": "markdown",
   "metadata": {},
   "source": [
    "## CUMSUM Algorithm"
   ]
  },
  {
   "cell_type": "markdown",
   "metadata": {},
   "source": [
    "The cumulative sum (CUSUM) test is designed to give an alarm when the mean of the input data significantly deviates from its previous value.\n",
    "\n",
    "*References :*\n",
    "- Machine Learning for Data Streams book\n",
    "- Thomas, Flynn, and Yoo Shinjae. Change Detection with the Kernel Cumulative Sum Algorithm. ArXiv E-prints, 2017, https://doi.org/10.48550/arXiv.1903.01661."
   ]
  },
  {
   "cell_type": "code",
   "execution_count": 27,
   "metadata": {},
   "outputs": [],
   "source": [
    "class CUSUM:\n",
    "    def __init__(self, k=0.5, h=5):\n",
    "        self.k = k\n",
    "        self.h = h\n",
    "        self.g = 0\n",
    "\n",
    "    def add_element(self, error):\n",
    "        zt = error\n",
    "        self.g = max(0, self.g + zt - self.k)\n",
    "\n",
    "    def check_drift(self):\n",
    "        return self.g > self.h\n"
   ]
  },
  {
   "cell_type": "code",
   "execution_count": 80,
   "metadata": {},
   "outputs": [
    {
     "name": "stdout",
     "output_type": "stream",
     "text": [
      "Detected Change Points (CUSUM): [157, 158, 390, 391, 392, 393, 394, 395, 396, 397, 398, 399, 400, 401, 402, 403, 1060, 1061, 1062, 1063, 1064, 1065, 1066, 1067, 1068, 1069, 1070, 1071, 1072, 1073, 1154, 1155, 1156, 1157, 1158, 1248, 1249, 1250, 1260, 1267, 1268, 1269, 1270, 1482, 1483, 1484, 1485, 1486, 1487, 1798, 1799, 1804, 1805, 1806, 1807, 1808, 1809, 1815, 1816, 1817, 1818, 1819, 1820, 1821, 1822, 1823, 1824, 1825, 1826, 1827, 1828, 1829, 1830, 1831, 1832, 1833, 1834, 1835, 1836, 1837, 1838, 1839, 1893, 1894, 1895, 1999, 2000, 2001, 2002, 2005, 2006, 2007, 2008, 2009, 2010, 2011, 2012, 2019, 2020, 2021, 2022, 2431, 2432, 2462, 2471, 2472, 2473, 2474, 2475, 2476, 2477, 2478, 2479, 2480, 2481, 2482, 2502, 3559, 3560, 3561, 3562, 3563, 3564, 3565, 3566, 3567, 3568, 3569, 3570, 3578, 3579, 3580, 3608, 3609, 3610, 3638, 3639, 3640, 3725, 3726, 3727, 3728, 3729, 3730, 3731, 3732, 3733, 3734, 3735, 3738, 3739, 3740, 3741, 3742, 3743, 3744, 3745, 3746, 3747, 3748, 3749, 3750, 3751, 3752, 3753, 3754, 3755, 3756, 3757, 3758, 3759, 3760, 3761, 3762, 3763, 3764, 3765, 3766, 3767, 3768, 3769, 3770, 3771, 3772, 3773, 3774, 3775, 3776, 3777, 3778, 3779, 3780, 3781, 3782, 3783, 3784, 3785, 3786, 3787, 3788, 3789, 3790, 3791, 3792, 3793, 3794, 3795, 3796, 3797, 3798, 3799, 3800, 3801, 3802, 3803, 3804, 3805, 3806, 3807, 3808, 3809, 3810, 3811, 3812, 3813, 3814, 3815, 3816, 3817, 3818, 3819, 3820, 3821, 3822, 3823, 3824, 3825, 3826, 3827, 3828, 3829, 3830, 3831, 3832, 3833, 3834, 3835, 3836, 3842, 3843, 3844, 3845, 3846, 4296, 4401, 4402, 4403, 4404, 4405, 4406, 4407, 4411, 4412, 4413, 4414, 4415, 4416, 4417, 4467, 4468, 4469, 4474, 4475, 4476, 4477, 4478, 4479, 4480, 4481, 4482, 4483, 4484, 4485, 4486, 4487, 4488, 4489, 4494, 4495, 4496, 4497, 4498, 4499, 4505, 4506, 4507, 4508, 4509, 4598, 4599, 4600, 4601, 4823, 5008, 5009, 5010, 5013, 5014, 5015, 5016, 5017, 5018, 5019, 5020, 5452, 5453, 5454, 5455, 5461, 5462, 5463, 5464, 5465, 5473, 5474, 5475, 5480, 5481, 5482, 5483, 5484, 5485, 5492, 5493, 5494, 5495, 5496, 5497, 5498, 5499, 5500, 5501, 5502, 5503, 5504, 5505, 5506, 5507, 5508, 5509, 5510, 5511, 5512, 5513, 5514, 5515, 5516, 5517, 5518, 5519, 5520, 5521, 5522, 5523, 5524, 5525, 5526, 5527, 5528, 5529, 5530, 5531, 5532, 5533, 5534, 5535, 5536, 5537, 5538, 5539, 5540, 5541, 5542, 5543, 5544, 5545, 5747, 5748, 5749, 5750, 5751, 5752, 5753, 5754, 5755, 5756, 5757, 5758, 5759, 5760, 5761, 5762, 5763, 5764, 5765, 5766, 5767, 5768, 5958, 5959, 5960, 5961, 5970, 5971, 6121, 6122, 6626, 6627, 6628, 6629, 6630, 6631, 6632, 6633, 6634, 6635, 6636, 6637, 6638, 6639, 6857, 6858, 6859, 6860, 6861, 6862, 6863, 6864, 6868, 6869, 6870, 6871, 6872, 6873, 6874, 6875, 6876, 6877, 6878, 6879, 6880, 6881, 6882, 6883, 6884, 7041, 7042, 7043, 7044, 7045, 7055, 7288, 7289, 7290, 7293, 7294, 7295, 7296, 7297, 7298, 7299, 7300, 7322, 7323, 7324, 7325, 7326, 7327, 7328, 7329, 7330, 7331, 7332, 7333, 7334, 7335, 7336, 7337, 7338, 7339, 7340, 7341, 7342, 7343, 7344, 7345, 7346, 7347, 7348, 7349, 7350, 7351, 7352, 7353, 7354, 7355, 7356, 7357, 7358, 7359, 7360, 7361, 7362, 7363, 7364, 7365, 7366, 7367, 7368, 7369, 7370, 7371, 7372, 7373, 7374, 7375, 7376, 7377, 7378, 7379, 7380, 7381, 7382, 7383, 7384, 7385, 7386, 7387, 7388, 7389, 7390, 7391, 7392, 7393, 7394, 7395, 7396, 7397, 7398, 7399, 7400, 7401, 7402, 7403, 7404, 7405, 7406, 7407, 7408, 7409, 7410, 7411, 7412, 7413, 7414, 7415, 7416, 7417, 7418, 7419, 7420, 7421, 7423, 7424, 7425, 7426, 7427, 7428, 7429, 7430, 7431, 7432, 7433, 7434, 7435, 7436, 7437, 7438, 7439, 7440, 7441, 7442, 7443, 7444, 7445, 7446, 7447, 7448, 7449, 7450, 7451, 7452, 7453, 7454, 7455, 7456, 7457, 7458, 7459, 7460, 7461, 7528, 7650, 7651, 7652, 7653, 7654, 7660, 7661, 7662, 7663, 7664, 7846, 7847, 7855, 7856, 7857, 7967, 7980, 7981, 7982, 7983, 7984, 7985, 7986, 7987, 8188, 8299, 8300, 8301, 8302, 8303, 8304, 8305, 8306, 8307, 8308, 8309, 8310, 8311, 8312, 8313, 8314, 8315, 8320, 8321, 8322, 8323, 8324, 8325, 8543, 8544, 8545, 8546, 8547, 8548, 8549, 8550, 8551, 8552, 8553, 8554, 8559, 8560, 8561, 8562, 8563, 8564, 8567, 8568, 8569, 8570, 8571, 8572, 8573, 8574, 8575, 8576, 8577, 8578, 8579, 8580, 8581, 8582, 8583, 8584, 8585, 8586, 8587, 8588, 8589, 8590, 8591, 8592, 8593, 8594, 8595, 8596, 8597, 8598, 8599, 8600, 8601, 8602, 8603, 8604, 8605, 8606, 8607, 8608, 8609, 8610, 8611, 8612, 8613, 8614, 8936, 8941, 8942, 8943, 8944, 8945, 8946, 8947, 8948, 8949, 8950, 8951, 8952, 8953, 8954, 8955, 8956, 8957, 8958, 8959, 8960, 8961, 8962, 8963, 8964, 8965, 8966, 9304, 9305, 9306, 9307, 9308, 9310, 9311, 9312, 9313, 9314, 9315, 9316, 9317, 9318, 9319, 9320, 9321, 9322, 9323, 9324, 9325, 9326, 9327, 9328, 9329, 9330, 9331, 9332, 9333, 9334, 9335, 9336, 9337, 9338, 9540, 9541, 9542, 9543, 9544, 9545, 9546, 9547, 9548, 9549, 9550, 9551, 9552, 9553, 9554, 9555, 9556, 9557, 9558, 9559, 9560, 9561, 9562, 9563, 9564, 9863, 9864, 9865, 9951, 10274, 10307, 10310, 10311, 10312, 10313, 10314, 10315, 10316, 10317, 10318, 10319, 10320, 10321, 10322, 10323, 10324, 10325, 10326, 10327, 10328, 10329, 10330, 10331, 10332, 10333, 10334, 10335, 10336, 10337, 10544, 10545, 10546, 10547, 10548, 10549, 10550, 10551, 10552, 10553, 10554, 10555, 10556, 10557, 10558, 10559, 10610, 10611, 10612, 10613, 10616, 10617, 10618, 10619, 10620, 10621, 10622, 10623, 10624, 10625, 10626, 10627, 10628, 10629, 10630, 10631, 10632, 10633, 10634, 10635, 10636, 10637, 10638, 10639, 10640, 10641, 10642, 10643, 10644, 10645, 10646, 10647, 10648, 10649, 10650, 10651, 10652, 10653]\n"
     ]
    }
   ],
   "source": [
    "# Create an instance of the CUSUM class\n",
    "cusum_detector = CUSUM(k=0.1, h=2)  \n",
    "\n",
    "# List to store detected change points using CUSUM\n",
    "detected_indexes_cusum = []\n",
    "\n",
    "# Iterate through the DataFrame and apply CUSUM\n",
    "for i in range(stream_size):\n",
    "    prediction = rf_model_predictions[i]\n",
    "    label = test_labels['label'].iloc[i]\n",
    "\n",
    "    # Update CUSUM with the label (1 for anomaly, 0 for normal)\n",
    "    cusum_detector.add_element(label)\n",
    "\n",
    "    # Check for drift detection after processing each element\n",
    "    if cusum_detector.check_drift():\n",
    "        detected_indexes_cusum.append(i)\n",
    "\n",
    "# Print or use the detected change points\n",
    "print(\"Detected Change Points (CUSUM):\", detected_indexes_cusum)"
   ]
  },
  {
   "cell_type": "code",
   "execution_count": 81,
   "metadata": {},
   "outputs": [],
   "source": [
    "# Evaluate change detection performance using CUSUM\n",
    "average_delay_cusum = calculate_delay_of_detection(true_attack_indexes, detected_indexes_cusum)\n",
    "fdr_cusum = calculate_false_detection_rate(true_attack_indexes, detected_indexes_cusum)\n",
    "mdr_cusum = calculate_miss_detection_rate(true_attack_indexes, detected_indexes_cusum)\n",
    "rod_cusum = calculate_rate_of_drift(detected_indexes_cusum, total_time=stream_size - 500)"
   ]
  },
  {
   "cell_type": "code",
   "execution_count": 82,
   "metadata": {},
   "outputs": [
    {
     "name": "stdout",
     "output_type": "stream",
     "text": [
      "EDDM Metrics:\n",
      "Average Delay: 21011.28503937008\n",
      "False Detection Rate (FDR): 0.42362204724409447\n",
      "Miss Detection Rate (MDR): -0.42362204724409447\n",
      "Rate of Drift (ROD): 0.08776699029126214\n"
     ]
    }
   ],
   "source": [
    "# Print evaluation metrics for EDDM\n",
    "print(\"EDDM Metrics:\")\n",
    "print(\"Average Delay:\", average_delay_cusum)\n",
    "print(\"False Detection Rate (FDR):\", fdr_cusum)\n",
    "print(\"Miss Detection Rate (MDR):\", mdr_cusum)\n",
    "print(\"Rate of Drift (ROD):\", rod_cusum)"
   ]
  },
  {
   "cell_type": "markdown",
   "metadata": {},
   "source": [
    "## ADaptive WINdowing (ADWIN)"
   ]
  },
  {
   "cell_type": "markdown",
   "metadata": {},
   "source": [
    "**ADWIN (ADaptive WINdowing)** is an adaptive sliding window algorithm for detecting change, and keeping updated statistics about a data stream.\n",
    "ADWIN allows algorithms not adapted for drifting data, to be resistant to this phenomenon.\n",
    "\n",
    "The general idea is to keep statistics from a window of variable size while detecting concept drift.\n",
    "\n",
    "The algorithm will decide the size of the window by cutting the statistics' window at different points and analysing the average of some statistic over these two windows. If the absolute value of the difference between the two averages surpasses a pre-defined threshold, change is detected at that point and all data before that time is discarded.\n"
   ]
  },
  {
   "cell_type": "code",
   "execution_count": 53,
   "metadata": {},
   "outputs": [],
   "source": [
    "class ADWIN:\n",
    "    def __init__(self, delta=0.002):\n",
    "        self.delta = delta\n",
    "        self.window = []\n",
    "        self.total_count = 0\n",
    "\n",
    "    def add_element(self, error):\n",
    "        self.window.append(error)\n",
    "        self.total_count += 1\n",
    "\n",
    "        if len(self.window) > 1:\n",
    "            self.check_drift()\n",
    "\n",
    "    def check_drift(self):\n",
    "        num_buckets = len(self.window)\n",
    "\n",
    "        for i in range(1, num_buckets):\n",
    "            w0 = self.window[:i]\n",
    "            w1 = self.window[i:]\n",
    "\n",
    "            if self.test(w0, w1):\n",
    "                self.window.pop(0)\n",
    "                break\n",
    "\n",
    "    def test(self, w0, w1):\n",
    "        mean_w0 = sum(w0) / len(w0) if len(w0) > 0 else 0\n",
    "        mean_w1 = sum(w1) / len(w1) if len(w1) > 0 else 0\n",
    "\n",
    "        var_w0 = sum((x - mean_w0) ** 2 for x in w0) / len(w0) if len(w0) > 1 else 0\n",
    "        var_w1 = sum((x - mean_w1) ** 2 for x in w1) / len(w1) if len(w1) > 1 else 0\n",
    "\n",
    "        if mean_w1 == 0:\n",
    "            return False\n",
    "\n",
    "        p_value = (mean_w0 + 2 * (var_w0 ** 0.5)) / (mean_w1 + 2 * (var_w1 ** 0.5))\n",
    "        \n",
    "        return p_value < self.delta\n",
    "\n"
   ]
  },
  {
   "cell_type": "code",
   "execution_count": null,
   "metadata": {},
   "outputs": [],
   "source": [
    "# Initialize ADWIN for change detection\n",
    "adwin = ADWIN(delta=0.002)\n",
    "\n",
    "# List detected change points\n",
    "detected_indexes_adwin = []\n",
    "\n",
    "for i in range(stream_size):\n",
    "    error = int(rf_model_predictions[i] != test_labels.iloc[i])\n",
    "\n",
    "    # Update ADWIN with the error signal\n",
    "    adwin.add_element(error)\n",
    "\n",
    "    # Check for change detection\n",
    "    if adwin.check_drift():\n",
    "        detected_indexes_adwin.append(i)"
   ]
  },
  {
   "cell_type": "code",
   "execution_count": null,
   "metadata": {},
   "outputs": [],
   "source": [
    "# Evaluate change detection performance using ADWIN\n",
    "average_delay_adwin = calculate_delay_of_detection(true_attack_indexes, detected_indexes_adwin)\n",
    "fdr_adwin = calculate_false_detection_rate(true_attack_indexes, detected_indexes_adwin)\n",
    "mdr_adwin = calculate_miss_detection_rate(true_attack_indexes, detected_indexes_adwin)\n",
    "rod_adwin = calculate_rate_of_drift(detected_indexes_adwin, total_time=stream_size - 500)"
   ]
  },
  {
   "cell_type": "markdown",
   "metadata": {},
   "source": [
    "## Early Drift Detection Method (EDDM)"
   ]
  },
  {
   "cell_type": "markdown",
   "metadata": {},
   "source": [
    "This method works by keeping track of the average distance between two errors instead of only the error rate. For this, it is necessary to keep track of the running average distance and the running standard deviation, as well as the maximum distance and the maximum standard deviation.\n",
    "\n",
    "The algorithm works similarly to the DDM algorithm. Like DDM, there are two threshold values that define the borderline between no change, warning zone, and drift detected.\n",
    "These are as follows:\n",
    "\n",
    "**Warning zone**\n",
    "$$ \\frac{(p_i + 2 * s_i)}{(p_{max} + 2 * s_{max})} < \\alpha $$ \n",
    "\n",
    "**Change detected**\n",
    "\n",
    "$$\\frac{(p_i + 2 * s_i)}{(p_{max} + 2 * s_{max})} < \\beta $$ \n",
    "\n",
    "\n",
    "\n",
    "\n",
    "$\\alpha$ and  $\\beta$ are set to 0.95 and 0.9, respectively.\n",
    "\n",
    "\n",
    "<br><br>\n",
    "\n",
    "*References:*\n",
    "Early Drift Detection Method. Manuel Baena-Garcia, Jose Del Campo-Avila, Raúl Fidalgo, Albert Bifet, Ricard Gavalda, Rafael Morales-Bueno. In Fourth International Workshop on Knowledge Discovery from Data Streams, 2006."
   ]
  },
  {
   "cell_type": "code",
   "execution_count": 62,
   "metadata": {},
   "outputs": [],
   "source": [
    "import numpy as np\n",
    "\n",
    "class EDDM:\n",
    "    def __init__(self, alpha=0.95, beta=0.9, min_num_instances=30):\n",
    "        self.alpha = alpha\n",
    "        self.beta = beta\n",
    "        self.min_num_instances = min_num_instances\n",
    "\n",
    "        # Initialize attributes\n",
    "        self.n = 0\n",
    "        self.in_concept_change = 0\n",
    "        self.in_warning_zone = 0\n",
    "        self.delay = 0\n",
    "        self.num_errors = 0\n",
    "        self.last_d = 0\n",
    "        self.d = 0\n",
    "        self.mean = 0\n",
    "        self.std_temp = 0\n",
    "        self.estimation = 0\n",
    "        self.m2s_max = 0\n",
    "\n",
    "    def add_element(self, prediction):\n",
    "        self.in_concept_change = 0\n",
    "        self.n += 1\n",
    "\n",
    "        if prediction == 1.0:\n",
    "            self.in_warning_zone = 0\n",
    "            self.delay = 0\n",
    "            self.num_errors += 1\n",
    "            self.last_d = self.d\n",
    "            self.d = self.n - 1\n",
    "            distance = self.d - self.last_d\n",
    "            old_mean = self.mean\n",
    "            self.mean = self.mean + (float(distance) - self.mean) / self.num_errors\n",
    "            self.estimation = self.mean\n",
    "            self.std_temp = self.std_temp + (distance - self.mean) * (distance - old_mean)\n",
    "            std = np.sqrt(self.std_temp / self.num_errors)\n",
    "            m2s = self.mean + 2 * std\n",
    "\n",
    "            if self.n < self.min_num_instances:\n",
    "                return\n",
    "\n",
    "            if m2s > self.m2s_max:\n",
    "                self.m2s_max = m2s\n",
    "            else:\n",
    "                p = m2s / self.m2s_max\n",
    "                threshold_warning = (self.mean + 2 * std) / (self.m2s_max + 2 * np.sqrt(self.std_temp))\n",
    "                threshold_drift = threshold_warning * self.beta\n",
    "\n",
    "                if (self.num_errors > self.min_num_instances) and (p < self.alpha):\n",
    "                    self.in_concept_change = 1\n",
    "                elif (self.num_errors > self.min_num_instances) and (p < self.beta):\n",
    "                    self.in_warning_zone = 1\n",
    "\n",
    "                else:\n",
    "                    self.in_warning_zone = 0\n",
    "\n",
    "    def detected_warning_zone(self):\n",
    "        return self.in_warning_zone\n",
    "\n",
    "    def detected_change(self):\n",
    "        return self.in_concept_change"
   ]
  },
  {
   "cell_type": "code",
   "execution_count": 76,
   "metadata": {},
   "outputs": [
    {
     "name": "stdout",
     "output_type": "stream",
     "text": [
      "Detected Change Points (EDDM): [555, 574, 640, 648, 661, 664, 683, 689, 693, 712, 730, 771, 779, 833, 846, 1104, 1108, 1128, 1150, 1151, 1154, 1179, 1192, 1222, 1227, 1238, 1242, 1248, 1260, 1267, 1318, 1375, 1481, 1482, 1815, 1818, 1826, 1889, 1893, 1909, 1925, 1928, 1966, 1968, 1994, 1997, 1999, 2005, 2019, 2045, 2055, 2056, 2077, 2094, 2108, 2129, 2131, 2152, 2164, 2177, 2194, 2217, 2227, 2245, 2279, 2291, 2299, 2316, 2344, 2359, 2383, 2386, 2405, 2424, 2426, 2431, 2451, 2453, 2462, 2471, 2473, 2497, 2502, 2526, 2543, 2584, 2593, 2596, 2604, 2615, 2627, 2634, 2673, 2696, 2720, 2726, 2742, 2756, 2758, 2773, 2800, 2818, 2825, 2866, 2877, 2881, 2899, 2914, 2918, 2931, 2936, 2973, 3013, 3018, 3024, 3114, 3125, 3154, 3162, 3206, 3225, 3235, 3236, 3249, 3285, 3309, 3323, 3325, 3339, 3352, 3354, 3382, 3395, 3410, 3416, 3485, 3511, 3518, 3526, 3542, 3543, 3553, 3559, 3561, 3578, 3591, 3602, 3608, 3630, 3633, 3638, 3656, 3685, 3688, 3717, 3724, 3725, 3726, 3738, 3739, 3740, 3741, 3745, 3746, 3787, 3793, 3794, 3817, 3842, 3876, 3879, 3885, 3959, 3960, 3986, 4002, 4006, 4035, 4051, 4054, 4068, 4092, 4096, 4109, 4165, 4187, 4203, 4225, 4230, 4246, 4254, 4265, 4268, 4288, 4293, 4296, 4369, 4399, 4400, 4401, 4411, 4461, 4466, 4467, 4474, 4480, 4494, 4505, 4520, 4536, 4553, 4563, 4566, 4572, 4588, 4596, 4598, 4621, 4633, 4650, 4681, 4696, 4703, 4721, 4728, 4747, 4765, 4794, 4805, 4810, 4819, 4823, 4874, 4885, 4908, 4918, 4966, 4992, 5000, 5004, 5008, 5013, 5034, 5056, 5061, 5128, 5154, 5168, 5188, 5203, 5207, 5217, 5263, 5319, 5322, 5348, 5384, 5389, 5393, 5437, 5441, 5450, 5452, 5461, 5473, 5480, 5492, 5494, 5499, 5506, 5507, 5517, 5578, 5580, 5620, 5651, 5674, 5713, 5740, 5741, 5747, 5749, 5757, 5799, 5841, 5858, 5871, 5882, 5901, 5909, 5920, 5939, 5953, 5957, 5958, 5970, 6003, 6024, 6063, 6070, 6085, 6104, 6112, 6120, 6121, 6153, 6176, 6177, 6187, 6209, 6223, 6237, 6344, 6352, 6368, 6415, 6485, 6494, 6527, 6534, 6541, 6552, 6582, 6586, 6606, 6621, 6625, 6626, 6629, 6667, 6695, 6703, 6734, 6743, 6760, 6763, 6803, 6814, 6822, 6846, 6851, 6856, 6857, 6868, 6875, 6933, 6971, 6997, 7003, 7037, 7039, 7041, 7055, 7094, 7108, 7110, 7164, 7174, 7207, 7252, 7257, 7282, 7283, 7288, 7293, 7315, 7321, 7322, 7323, 7324, 7336, 7337, 7347, 7369, 7378, 7381, 7400, 7423, 7426, 7432, 7449, 7520, 7524, 7528, 7581, 7646, 7647, 7650, 7660, 7701, 7710, 7728, 7731, 7758, 7766, 7776, 7801, 7819, 7823, 7833, 7840, 7846, 7855, 7897, 7927, 7932, 7959, 7961, 7967, 7978, 7980, 8017, 8018, 8057, 8125, 8129, 8180, 8187, 8188, 8200, 8210, 8236, 8254, 8287, 8295, 8298, 8299, 8302, 8320, 8381, 8397, 8409, 8465, 8469, 8480, 8484, 8536, 8540, 8543, 8545, 8559, 8567, 8572, 8578, 8581, 8587, 8633, 8637, 8736, 8757, 8759, 8788, 8844, 8855, 8888, 8892, 8928, 8930, 8936, 8941, 8946, 8948, 8985, 9002, 9020, 9038, 9041, 9060, 9076, 9126, 9134, 9173, 9232, 9237, 9249, 9258, 9290, 9296, 9299, 9304, 9310, 9319, 9329, 9358, 9360, 9369, 9427, 9440]\n"
     ]
    }
   ],
   "source": [
    "# Create an instance of the EDDM class\n",
    "eddm_detector = EDDM()\n",
    "\n",
    "# List to store detected change points using EDDM\n",
    "detected_indexes_eddm = []\n",
    "\n",
    "# Iterate through the DataFrame and apply EDDM\n",
    "for i in range(stream_size):\n",
    "    prediction = rf_model_predictions[i]\n",
    "    label = test_labels['label'].iloc[i]\n",
    "\n",
    "    # Update EDDM with the label (1 for anomaly, 0 for normal)\n",
    "    eddm_detector.add_element(label)\n",
    "\n",
    "    # Check for change detection after processing each element\n",
    "    if eddm_detector.detected_change():\n",
    "        detected_indexes_eddm.append(i)\n",
    "\n",
    "# Print or use the detected change points\n",
    "print(\"Detected Change Points (EDDM):\", detected_indexes_eddm)"
   ]
  },
  {
   "cell_type": "code",
   "execution_count": 77,
   "metadata": {},
   "outputs": [],
   "source": [
    "# Evaluate change detection performance using EDDM\n",
    "average_delay_eddm = calculate_delay_of_detection(true_attack_indexes, detected_indexes_eddm)\n",
    "fdr_eddm = calculate_false_detection_rate(true_attack_indexes, detected_indexes_eddm)\n",
    "mdr_eddm = calculate_miss_detection_rate(true_attack_indexes, detected_indexes_eddm)\n",
    "rod_eddm = calculate_rate_of_drift(detected_indexes_eddm, total_time=stream_size - 500)"
   ]
  },
  {
   "cell_type": "code",
   "execution_count": 78,
   "metadata": {},
   "outputs": [
    {
     "name": "stdout",
     "output_type": "stream",
     "text": [
      "EDDM Metrics:\n",
      "Average Delay: 20736.112704918032\n",
      "False Detection Rate (FDR): -0.231496062992126\n",
      "Miss Detection Rate (MDR): 0.231496062992126\n",
      "Rate of Drift (ROD): 0.04737864077669903\n"
     ]
    }
   ],
   "source": [
    "# Print evaluation metrics for EDDM\n",
    "print(\"EDDM Metrics:\")\n",
    "print(\"Average Delay:\", average_delay_eddm)\n",
    "print(\"False Detection Rate (FDR):\", fdr_eddm)\n",
    "print(\"Miss Detection Rate (MDR):\", mdr_eddm)\n",
    "print(\"Rate of Drift (ROD):\", rod_eddm)"
   ]
  }
 ],
 "metadata": {
  "kernelspec": {
   "display_name": "Python 3 (ipykernel)",
   "language": "python",
   "name": "python3"
  },
  "language_info": {
   "codemirror_mode": {
    "name": "ipython",
    "version": 3
   },
   "file_extension": ".py",
   "mimetype": "text/x-python",
   "name": "python",
   "nbconvert_exporter": "python",
   "pygments_lexer": "ipython3",
   "version": "3.10.3"
  }
 },
 "nbformat": 4,
 "nbformat_minor": 4
}
