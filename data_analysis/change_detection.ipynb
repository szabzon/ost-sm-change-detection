{
 "cells": [
  {
   "cell_type": "markdown",
   "metadata": {},
   "source": [
    "# Baseline implementation of relevant error rate-based change-detection algorithms"
   ]
  },
  {
   "cell_type": "code",
   "execution_count": 1,
   "metadata": {},
   "outputs": [],
   "source": [
    "import pandas as pd\n",
    "import numpy as np\n",
    "import matplotlib.pyplot as plt\n",
    "import seaborn as sns\n",
    "\n",
    "import plotly.graph_objects as go\n",
    "from plotly.subplots import make_subplots\n",
    "import plotly.express as px\n",
    "\n",
    "from sklearn.cluster import KMeans\n",
    "from sklearn.model_selection import train_test_split\n",
    "from sklearn.metrics import accuracy_score"
   ]
  },
  {
   "cell_type": "markdown",
   "metadata": {},
   "source": [
    "# Data Loading"
   ]
  },
  {
   "cell_type": "code",
   "execution_count": 2,
   "metadata": {},
   "outputs": [],
   "source": [
    "# Load data\n",
    "train1 = pd.read_csv(\"/Users/emmatosato/Documents/UNI Locale/Erasmus/OST/ost-sm-change-detection/data_analysis/preprocessed_data/train1.csv\")\n",
    "train2 = pd.read_csv(\"/Users/emmatosato/Documents/UNI Locale/Erasmus/OST/ost-sm-change-detection/data_analysis/preprocessed_data/train2.csv\")\n",
    "test1 = pd.read_csv(\"/Users/emmatosato/Documents/UNI Locale/Erasmus/OST/ost-sm-change-detection/data_analysis/preprocessed_data/test1.csv\")\n",
    "test2 = pd.read_csv(\"/Users/emmatosato/Documents/UNI Locale/Erasmus/OST/ost-sm-change-detection/data_analysis/preprocessed_data/test2.csv\")\n",
    "label1 = pd.read_csv(\"/Users/emmatosato/Documents/UNI Locale/Erasmus/OST/ost-sm-change-detection/data_analysis/preprocessed_data/label1.csv\")\n",
    "label2 = pd.read_csv(\"/Users/emmatosato/Documents/UNI Locale/Erasmus/OST/ost-sm-change-detection/data_analysis/preprocessed_data/label2.csv\")"
   ]
  },
  {
   "cell_type": "code",
   "execution_count": null,
   "metadata": {},
   "outputs": [],
   "source": [
    "# Definitions of functions\n",
    "def calculate_delay_of_detection(true_change_indexes, detected_indexes):\n",
    "    delays = [index - detected_index for detected_index, index in zip(detected_indexes, true_change_indexes)]\n",
    "    average_delay = sum(delays) / len(delays)\n",
    "    return average_delay\n",
    "\n",
    "def calculate_false_detection_rate(true_change_indexes, detected_indexes):\n",
    "    total_drifts = len(true_change_indexes)\n",
    "    total_detected = len(detected_indexes)\n",
    "    false_detections = total_detected - total_drifts\n",
    "    fdr = false_detections / total_drifts\n",
    "    return fdr\n",
    "\n",
    "def calculate_miss_detection_rate(true_change_indexes, detected_indexes):\n",
    "    total_drifts = len(true_change_indexes)\n",
    "    total_detected = len(detected_indexes)\n",
    "    mdr = (total_drifts - total_detected) / total_drifts\n",
    "    return mdr\n",
    "\n",
    "def calculate_rate_of_drift(detected_indexes, total_time):\n",
    "    total_detected = len(detected_indexes)\n",
    "    rod = total_detected / total_time\n",
    "    return rod"
   ]
  },
  {
   "cell_type": "markdown",
   "metadata": {},
   "source": [
    "## CUMSUM Algorithm"
   ]
  },
  {
   "cell_type": "markdown",
   "metadata": {},
   "source": [
    "Pseudocode used as reference in the below article.\n",
    "\n",
    "Reference : Thomas Flynn and Shinjae Yoo. *Change Detection with the Kernel Cumulative Sum Algorithm*"
   ]
  },
  {
   "cell_type": "code",
   "execution_count": 22,
   "metadata": {},
   "outputs": [],
   "source": [
    "def cusum_algorithm(data, threshold, drift, reference_values):\n",
    "    n = len(data)\n",
    "    cumulative_sum = np.zeros(n)\n",
    "\n",
    "    for i in range(1, n):\n",
    "        log_likelihood_ratio = np.log(data.iloc[i] / reference_values.iloc[i - 1])\n",
    "        cumulative_sum[i] = max(0, cumulative_sum[i - 1] + log_likelihood_ratio.iloc[i] - drift)\n",
    "        \n",
    "\n",
    "    change_points = np.where(cumulative_sum > threshold)[0]\n",
    "\n",
    "    return cumulative_sum, change_points"
   ]
  },
  {
   "cell_type": "code",
   "execution_count": 23,
   "metadata": {},
   "outputs": [
    {
     "name": "stderr",
     "output_type": "stream",
     "text": [
      "/var/folders/07/b_mqfzkn0fzbvjz9y6nbfyf40000gn/T/ipykernel_5214/600903035.py:7: RuntimeWarning: invalid value encountered in scalar add\n",
      "  cumulative_sum[i] = max(0, cumulative_sum[i - 1] + log_likelihood_ratio.iloc[i] - drift)\n"
     ]
    },
    {
     "ename": "IndexError",
     "evalue": "single positional indexer is out-of-bounds",
     "output_type": "error",
     "traceback": [
      "\u001b[0;31m---------------------------------------------------------------------------\u001b[0m",
      "\u001b[0;31mIndexError\u001b[0m                                Traceback (most recent call last)",
      "\u001b[1;32m/Users/emmatosato/Documents/UNI Locale/Erasmus/OST/ost-sm-change-detection/data_analysis/change_detection.ipynb Cella 9\u001b[0m line \u001b[0;36m1\n\u001b[1;32m      <a href='vscode-notebook-cell:/Users/emmatosato/Documents/UNI%20Locale/Erasmus/OST/ost-sm-change-detection/data_analysis/change_detection.ipynb#X31sZmlsZQ%3D%3D?line=8'>9</a>\u001b[0m threshold_value \u001b[39m=\u001b[39m \u001b[39m10\u001b[39m  \n\u001b[1;32m     <a href='vscode-notebook-cell:/Users/emmatosato/Documents/UNI%20Locale/Erasmus/OST/ost-sm-change-detection/data_analysis/change_detection.ipynb#X31sZmlsZQ%3D%3D?line=9'>10</a>\u001b[0m drift_value \u001b[39m=\u001b[39m \u001b[39m0.5\u001b[39m     \n\u001b[0;32m---> <a href='vscode-notebook-cell:/Users/emmatosato/Documents/UNI%20Locale/Erasmus/OST/ost-sm-change-detection/data_analysis/change_detection.ipynb#X31sZmlsZQ%3D%3D?line=11'>12</a>\u001b[0m cumulative_sum, _ \u001b[39m=\u001b[39m cusum_algorithm(features_train, threshold_value, drift_value, reference_values)\n",
      "\u001b[1;32m/Users/emmatosato/Documents/UNI Locale/Erasmus/OST/ost-sm-change-detection/data_analysis/change_detection.ipynb Cella 9\u001b[0m line \u001b[0;36m7\n\u001b[1;32m      <a href='vscode-notebook-cell:/Users/emmatosato/Documents/UNI%20Locale/Erasmus/OST/ost-sm-change-detection/data_analysis/change_detection.ipynb#X31sZmlsZQ%3D%3D?line=4'>5</a>\u001b[0m \u001b[39mfor\u001b[39;00m i \u001b[39min\u001b[39;00m \u001b[39mrange\u001b[39m(\u001b[39m1\u001b[39m, n):\n\u001b[1;32m      <a href='vscode-notebook-cell:/Users/emmatosato/Documents/UNI%20Locale/Erasmus/OST/ost-sm-change-detection/data_analysis/change_detection.ipynb#X31sZmlsZQ%3D%3D?line=5'>6</a>\u001b[0m     log_likelihood_ratio \u001b[39m=\u001b[39m np\u001b[39m.\u001b[39mlog(data\u001b[39m.\u001b[39miloc[i] \u001b[39m/\u001b[39m reference_values\u001b[39m.\u001b[39miloc[i \u001b[39m-\u001b[39m \u001b[39m1\u001b[39m])\n\u001b[0;32m----> <a href='vscode-notebook-cell:/Users/emmatosato/Documents/UNI%20Locale/Erasmus/OST/ost-sm-change-detection/data_analysis/change_detection.ipynb#X31sZmlsZQ%3D%3D?line=6'>7</a>\u001b[0m     cumulative_sum[i] \u001b[39m=\u001b[39m \u001b[39mmax\u001b[39m(\u001b[39m0\u001b[39m, cumulative_sum[i \u001b[39m-\u001b[39m \u001b[39m1\u001b[39m] \u001b[39m+\u001b[39m log_likelihood_ratio\u001b[39m.\u001b[39;49miloc[i] \u001b[39m-\u001b[39m drift)\n\u001b[1;32m     <a href='vscode-notebook-cell:/Users/emmatosato/Documents/UNI%20Locale/Erasmus/OST/ost-sm-change-detection/data_analysis/change_detection.ipynb#X31sZmlsZQ%3D%3D?line=9'>10</a>\u001b[0m change_points \u001b[39m=\u001b[39m np\u001b[39m.\u001b[39mwhere(cumulative_sum \u001b[39m>\u001b[39m threshold)[\u001b[39m0\u001b[39m]\n\u001b[1;32m     <a href='vscode-notebook-cell:/Users/emmatosato/Documents/UNI%20Locale/Erasmus/OST/ost-sm-change-detection/data_analysis/change_detection.ipynb#X31sZmlsZQ%3D%3D?line=11'>12</a>\u001b[0m \u001b[39mreturn\u001b[39;00m cumulative_sum, change_points\n",
      "File \u001b[0;32m/Library/Frameworks/Python.framework/Versions/3.10/lib/python3.10/site-packages/pandas/core/indexing.py:1073\u001b[0m, in \u001b[0;36m_LocationIndexer.__getitem__\u001b[0;34m(self, key)\u001b[0m\n\u001b[1;32m   1070\u001b[0m axis \u001b[39m=\u001b[39m \u001b[39mself\u001b[39m\u001b[39m.\u001b[39maxis \u001b[39mor\u001b[39;00m \u001b[39m0\u001b[39m\n\u001b[1;32m   1072\u001b[0m maybe_callable \u001b[39m=\u001b[39m com\u001b[39m.\u001b[39mapply_if_callable(key, \u001b[39mself\u001b[39m\u001b[39m.\u001b[39mobj)\n\u001b[0;32m-> 1073\u001b[0m \u001b[39mreturn\u001b[39;00m \u001b[39mself\u001b[39;49m\u001b[39m.\u001b[39;49m_getitem_axis(maybe_callable, axis\u001b[39m=\u001b[39;49maxis)\n",
      "File \u001b[0;32m/Library/Frameworks/Python.framework/Versions/3.10/lib/python3.10/site-packages/pandas/core/indexing.py:1625\u001b[0m, in \u001b[0;36m_iLocIndexer._getitem_axis\u001b[0;34m(self, key, axis)\u001b[0m\n\u001b[1;32m   1622\u001b[0m     \u001b[39mraise\u001b[39;00m \u001b[39mTypeError\u001b[39;00m(\u001b[39m\"\u001b[39m\u001b[39mCannot index by location index with a non-integer key\u001b[39m\u001b[39m\"\u001b[39m)\n\u001b[1;32m   1624\u001b[0m \u001b[39m# validate the location\u001b[39;00m\n\u001b[0;32m-> 1625\u001b[0m \u001b[39mself\u001b[39;49m\u001b[39m.\u001b[39;49m_validate_integer(key, axis)\n\u001b[1;32m   1627\u001b[0m \u001b[39mreturn\u001b[39;00m \u001b[39mself\u001b[39m\u001b[39m.\u001b[39mobj\u001b[39m.\u001b[39m_ixs(key, axis\u001b[39m=\u001b[39maxis)\n",
      "File \u001b[0;32m/Library/Frameworks/Python.framework/Versions/3.10/lib/python3.10/site-packages/pandas/core/indexing.py:1557\u001b[0m, in \u001b[0;36m_iLocIndexer._validate_integer\u001b[0;34m(self, key, axis)\u001b[0m\n\u001b[1;32m   1555\u001b[0m len_axis \u001b[39m=\u001b[39m \u001b[39mlen\u001b[39m(\u001b[39mself\u001b[39m\u001b[39m.\u001b[39mobj\u001b[39m.\u001b[39m_get_axis(axis))\n\u001b[1;32m   1556\u001b[0m \u001b[39mif\u001b[39;00m key \u001b[39m>\u001b[39m\u001b[39m=\u001b[39m len_axis \u001b[39mor\u001b[39;00m key \u001b[39m<\u001b[39m \u001b[39m-\u001b[39mlen_axis:\n\u001b[0;32m-> 1557\u001b[0m     \u001b[39mraise\u001b[39;00m \u001b[39mIndexError\u001b[39;00m(\u001b[39m\"\u001b[39m\u001b[39msingle positional indexer is out-of-bounds\u001b[39m\u001b[39m\"\u001b[39m)\n",
      "\u001b[0;31mIndexError\u001b[0m: single positional indexer is out-of-bounds"
     ]
    }
   ],
   "source": [
    "# Extract relevant features for training and testing\n",
    "features_train = train1.iloc[:, 1:]  \n",
    "features_test = test1.iloc[:, 1:]\n",
    "# Label vector\n",
    "true_labels = label1[\"label\"]\n",
    "reference_values = features_train.mean()\n",
    "\n",
    "# Train the CUSUM detector on the normal behavior\n",
    "threshold_value = 10  \n",
    "drift_value = 0.5     \n",
    "\n",
    "cumulative_sum, _ = cusum_algorithm(features_train, threshold_value, drift_value, reference_values)\n"
   ]
  },
  {
   "cell_type": "code",
   "execution_count": null,
   "metadata": {},
   "outputs": [],
   "source": [
    "# Apply CUSUM detector on the test set\n",
    "_, change_points = cusum_algorithm(features_test, threshold_value, drift_value, reference_values)"
   ]
  },
  {
   "cell_type": "code",
   "execution_count": null,
   "metadata": {},
   "outputs": [],
   "source": [
    "# Evaluate Performance\n",
    "average_delay = calculate_delay_of_detection(np.where(true_labels == 1)[0], change_points)\n",
    "false_detection_rate = calculate_false_detection_rate(np.where(true_labels == 1)[0], change_points)\n",
    "miss_detection_rate = calculate_miss_detection_rate(np.where(true_labels == 1)[0], change_points)\n",
    "\n",
    "# Assuming total_time is the total duration of your test set\n",
    "rate_of_drift = calculate_rate_of_drift(change_points, len(df_test))\n",
    "\n",
    "# Print or use the metrics as needed\n",
    "print(f\"Average Delay of Detection: {average_delay}\")\n",
    "print(f\"False Detection Rate: {false_detection_rate}\")\n",
    "print(f\"Miss Detection Rate: {miss_detection_rate}\")\n",
    "print(f\"Rate of Drift: {rate_of_drift}\")"
   ]
  },
  {
   "cell_type": "markdown",
   "metadata": {},
   "source": [
    "## ADaptive WINdowing (ADWIN)"
   ]
  },
  {
   "cell_type": "markdown",
   "metadata": {},
   "source": [
    "**ADWIN (ADaptive WINdowing)** is an adaptive sliding window algorithm for detecting change, and keeping updated statistics about a data stream.\n",
    "ADWIN allows algorithms not adapted for drifting data, to be resistant to this phenomenon.\n",
    "\n",
    "The general idea is to keep statistics from a window of variable size while detecting concept drift.\n",
    "\n",
    "The algorithm will decide the size of the window by cutting the statistics' window at different points and analysing the average of some statistic over these two windows. If the absolute value of the difference between the two averages surpasses a pre-defined threshold, change is detected at that point and all data before that time is discarded.\n",
    "\n",
    "*References*: \n",
    "Thomas, Flynn, and Yoo Shinjae. Change Detection with the Kernel Cumulative Sum Algorithm. ArXiv E-prints, 2017, https://doi.org/10.48550/arXiv.1903.01661."
   ]
  },
  {
   "cell_type": "code",
   "execution_count": null,
   "metadata": {},
   "outputs": [],
   "source": []
  },
  {
   "cell_type": "code",
   "execution_count": null,
   "metadata": {},
   "outputs": [],
   "source": [
    "adwin = ADWIN(delta=0.002)\n",
    "data = train1['P1_FCV01D']\n",
    "\n",
    "\n",
    "for value in data:\n",
    "    estimated_mean = adwin.add_element(value)\n",
    "    print(f\"Estimated mean: {estimated_mean}\")"
   ]
  },
  {
   "cell_type": "markdown",
   "metadata": {},
   "source": [
    "## Early Drift Detection Method (EDDM)"
   ]
  },
  {
   "cell_type": "markdown",
   "metadata": {},
   "source": [
    "This method works by keeping track of the average distance between two errors instead of only the error rate. For this, it is necessary to keep track of the running average distance and the running standard deviation, as well as the maximum distance and the maximum standard deviation.\n",
    "\n",
    "The algorithm works similarly to the DDM algorithm. Like DDM, there are two threshold values that define the borderline between no change, warning zone, and drift detected.\n",
    "These are as follows:\n",
    "\n",
    "**Warning zone**\n",
    "$$ \\frac{(p_i + 2 * s_i)}{(p_{max} + 2 * s_{max})} < \\alpha $$ \n",
    "\n",
    "**Change detected**\n",
    "\n",
    "$$\\frac{(p_i + 2 * s_i)}{(p_{max} + 2 * s_{max})} < \\beta $$ \n",
    "\n",
    "\n",
    "\n",
    "\n",
    "$\\alpha$ and  $\\beta$ are set to 0.95 and 0.9, respectively.\n",
    "\n",
    "\n",
    "<br><br>\n",
    "\n",
    "*References:*\n",
    "Early Drift Detection Method. Manuel Baena-Garcia, Jose Del Campo-Avila, Raúl Fidalgo, Albert Bifet, Ricard Gavalda, Rafael Morales-Bueno. In Fourth International Workshop on Knowledge Discovery from Data Streams, 2006."
   ]
  },
  {
   "cell_type": "code",
   "execution_count": 27,
   "metadata": {},
   "outputs": [],
   "source": [
    "class ErrorBasedChangeDetection:\n",
    "    def __init__(self, alpha=0.95, beta=0.9, min_num_instances=30):\n",
    "        self.alpha = alpha\n",
    "        self.beta = beta\n",
    "        self.min_num_instances = min_num_instances\n",
    "        self.reset()\n",
    "\n",
    "    def reset(self):\n",
    "        self.n = 1\n",
    "        self.num_errors = 0\n",
    "        self.d = 0\n",
    "        self.last_d = 0\n",
    "        self.mean = 0.0\n",
    "        self.std_temp = 0.0\n",
    "        self.m2s_max = 0.0\n",
    "        self.estimation = 0.0\n",
    "        self.in_concept_change = 0\n",
    "        self.in_warning_zone = 0\n",
    "        self.delay = 0\n",
    "\n",
    "    def add_element(self, prediction):\n",
    "        if self.in_concept_change:\n",
    "            self.reset()\n",
    "\n",
    "        self.in_concept_change = 0\n",
    "        self.n += 1\n",
    "\n",
    "        if prediction == 1.0:\n",
    "            self.in_warning_zone = 0\n",
    "            self.delay = 0\n",
    "            self.num_errors += 1\n",
    "            self.last_d = self.d\n",
    "            self.d = self.n - 1\n",
    "            distance = self.d - self.last_d\n",
    "            old_mean = self.mean\n",
    "            self.mean = self.mean + (float(distance) - self.mean) / self.num_errors\n",
    "            self.estimation = self.mean\n",
    "            self.std_temp = self.std_temp + (distance - self.mean) * (distance - old_mean)\n",
    "            std = np.sqrt(self.std_temp / self.num_errors)\n",
    "            m2s = self.mean + 2 * std\n",
    "\n",
    "            if self.n < self.min_num_instances:\n",
    "                return\n",
    "\n",
    "            if m2s > self.m2s_max:\n",
    "                self.m2s_max = m2s\n",
    "            else:\n",
    "                p = m2s / self.m2s_max\n",
    "                if (self.num_errors > self.min_num_instances) and (p < self.alpha):\n",
    "                    self.in_concept_change = 1\n",
    "\n",
    "                elif (self.num_errors > self.min_num_instances) and (p < self.beta):\n",
    "                    self.in_warning_zone = 1\n",
    "\n",
    "                else:\n",
    "                    self.in_warning_zone = 0\n",
    "\n",
    "    def detected_warning_zone(self):\n",
    "        return self.in_warning_zone\n",
    "\n",
    "    def detected_change(self):\n",
    "        return self.in_concept_change\n"
   ]
  },
  {
   "cell_type": "code",
   "execution_count": 46,
   "metadata": {},
   "outputs": [],
   "source": [
    "eddm = ErrorBasedChangeDetection()"
   ]
  },
  {
   "cell_type": "code",
   "execution_count": null,
   "metadata": {},
   "outputs": [],
   "source": [
    "train1.iloc[1:]"
   ]
  },
  {
   "cell_type": "code",
   "execution_count": 51,
   "metadata": {},
   "outputs": [
    {
     "ename": "IndexError",
     "evalue": "index 86 is out of bounds for axis 0 with size 86",
     "output_type": "error",
     "traceback": [
      "\u001b[0;31m---------------------------------------------------------------------------\u001b[0m",
      "\u001b[0;31mIndexError\u001b[0m                                Traceback (most recent call last)",
      "\u001b[1;32m/Users/emmatosato/Documents/UNI Locale/Erasmus/OST/ost-sm-change-detection/data_analysis/change_detection.ipynb Cella 21\u001b[0m line \u001b[0;36m4\n\u001b[1;32m      <a href='vscode-notebook-cell:/Users/emmatosato/Documents/UNI%20Locale/Erasmus/OST/ost-sm-change-detection/data_analysis/change_detection.ipynb#X53sZmlsZQ%3D%3D?line=1'>2</a>\u001b[0m \u001b[39mfor\u001b[39;00m c \u001b[39min\u001b[39;00m \u001b[39mrange\u001b[39m(train1\u001b[39m.\u001b[39mshape[\u001b[39m1\u001b[39m]\u001b[39m+\u001b[39m\u001b[39m1\u001b[39m):\n\u001b[1;32m      <a href='vscode-notebook-cell:/Users/emmatosato/Documents/UNI%20Locale/Erasmus/OST/ost-sm-change-detection/data_analysis/change_detection.ipynb#X53sZmlsZQ%3D%3D?line=2'>3</a>\u001b[0m     \u001b[39mfor\u001b[39;00m r \u001b[39min\u001b[39;00m \u001b[39mrange\u001b[39m(train1\u001b[39m.\u001b[39mshape[\u001b[39m0\u001b[39m]):\n\u001b[0;32m----> <a href='vscode-notebook-cell:/Users/emmatosato/Documents/UNI%20Locale/Erasmus/OST/ost-sm-change-detection/data_analysis/change_detection.ipynb#X53sZmlsZQ%3D%3D?line=3'>4</a>\u001b[0m         eddm\u001b[39m.\u001b[39madd_element(train1\u001b[39m.\u001b[39;49miloc[r,c])\n\u001b[1;32m      <a href='vscode-notebook-cell:/Users/emmatosato/Documents/UNI%20Locale/Erasmus/OST/ost-sm-change-detection/data_analysis/change_detection.ipynb#X53sZmlsZQ%3D%3D?line=4'>5</a>\u001b[0m         \u001b[39mif\u001b[39;00m eddm\u001b[39m.\u001b[39mdetected_warning_zone():\n\u001b[1;32m      <a href='vscode-notebook-cell:/Users/emmatosato/Documents/UNI%20Locale/Erasmus/OST/ost-sm-change-detection/data_analysis/change_detection.ipynb#X53sZmlsZQ%3D%3D?line=5'>6</a>\u001b[0m             \u001b[39mprint\u001b[39m(\u001b[39m'\u001b[39m\u001b[39mWarning zone has been detected in data: \u001b[39m\u001b[39m'\u001b[39m \u001b[39m+\u001b[39m \u001b[39mstr\u001b[39m(train1\u001b[39m.\u001b[39miloc[r,c]) \u001b[39m+\u001b[39m \u001b[39m'\u001b[39m\u001b[39m - of index: \u001b[39m\u001b[39m'\u001b[39m \u001b[39m+\u001b[39m \u001b[39mstr\u001b[39m(r))\n",
      "File \u001b[0;32m/Library/Frameworks/Python.framework/Versions/3.10/lib/python3.10/site-packages/pandas/core/indexing.py:1066\u001b[0m, in \u001b[0;36m_LocationIndexer.__getitem__\u001b[0;34m(self, key)\u001b[0m\n\u001b[1;32m   1064\u001b[0m     key \u001b[39m=\u001b[39m \u001b[39mtuple\u001b[39m(com\u001b[39m.\u001b[39mapply_if_callable(x, \u001b[39mself\u001b[39m\u001b[39m.\u001b[39mobj) \u001b[39mfor\u001b[39;00m x \u001b[39min\u001b[39;00m key)\n\u001b[1;32m   1065\u001b[0m     \u001b[39mif\u001b[39;00m \u001b[39mself\u001b[39m\u001b[39m.\u001b[39m_is_scalar_access(key):\n\u001b[0;32m-> 1066\u001b[0m         \u001b[39mreturn\u001b[39;00m \u001b[39mself\u001b[39;49m\u001b[39m.\u001b[39;49mobj\u001b[39m.\u001b[39;49m_get_value(\u001b[39m*\u001b[39;49mkey, takeable\u001b[39m=\u001b[39;49m\u001b[39mself\u001b[39;49m\u001b[39m.\u001b[39;49m_takeable)\n\u001b[1;32m   1067\u001b[0m     \u001b[39mreturn\u001b[39;00m \u001b[39mself\u001b[39m\u001b[39m.\u001b[39m_getitem_tuple(key)\n\u001b[1;32m   1068\u001b[0m \u001b[39melse\u001b[39;00m:\n\u001b[1;32m   1069\u001b[0m     \u001b[39m# we by definition only have the 0th axis\u001b[39;00m\n",
      "File \u001b[0;32m/Library/Frameworks/Python.framework/Versions/3.10/lib/python3.10/site-packages/pandas/core/frame.py:3912\u001b[0m, in \u001b[0;36mDataFrame._get_value\u001b[0;34m(self, index, col, takeable)\u001b[0m\n\u001b[1;32m   3893\u001b[0m \u001b[39m\"\"\"\u001b[39;00m\n\u001b[1;32m   3894\u001b[0m \u001b[39mQuickly retrieve single value at passed column and index.\u001b[39;00m\n\u001b[1;32m   3895\u001b[0m \n\u001b[0;32m   (...)\u001b[0m\n\u001b[1;32m   3909\u001b[0m \u001b[39m`self.columns._index_as_unique`; Caller is responsible for checking.\u001b[39;00m\n\u001b[1;32m   3910\u001b[0m \u001b[39m\"\"\"\u001b[39;00m\n\u001b[1;32m   3911\u001b[0m \u001b[39mif\u001b[39;00m takeable:\n\u001b[0;32m-> 3912\u001b[0m     series \u001b[39m=\u001b[39m \u001b[39mself\u001b[39;49m\u001b[39m.\u001b[39;49m_ixs(col, axis\u001b[39m=\u001b[39;49m\u001b[39m1\u001b[39;49m)\n\u001b[1;32m   3913\u001b[0m     \u001b[39mreturn\u001b[39;00m series\u001b[39m.\u001b[39m_values[index]\n\u001b[1;32m   3915\u001b[0m series \u001b[39m=\u001b[39m \u001b[39mself\u001b[39m\u001b[39m.\u001b[39m_get_item_cache(col)\n",
      "File \u001b[0;32m/Library/Frameworks/Python.framework/Versions/3.10/lib/python3.10/site-packages/pandas/core/frame.py:3726\u001b[0m, in \u001b[0;36mDataFrame._ixs\u001b[0;34m(self, i, axis)\u001b[0m\n\u001b[1;32m   3722\u001b[0m     \u001b[39mreturn\u001b[39;00m result\n\u001b[1;32m   3724\u001b[0m \u001b[39m# icol\u001b[39;00m\n\u001b[1;32m   3725\u001b[0m \u001b[39melse\u001b[39;00m:\n\u001b[0;32m-> 3726\u001b[0m     label \u001b[39m=\u001b[39m \u001b[39mself\u001b[39;49m\u001b[39m.\u001b[39;49mcolumns[i]\n\u001b[1;32m   3728\u001b[0m     col_mgr \u001b[39m=\u001b[39m \u001b[39mself\u001b[39m\u001b[39m.\u001b[39m_mgr\u001b[39m.\u001b[39miget(i)\n\u001b[1;32m   3729\u001b[0m     result \u001b[39m=\u001b[39m \u001b[39mself\u001b[39m\u001b[39m.\u001b[39m_box_col_values(col_mgr, i)\n",
      "File \u001b[0;32m/Library/Frameworks/Python.framework/Versions/3.10/lib/python3.10/site-packages/pandas/core/indexes/base.py:5363\u001b[0m, in \u001b[0;36mIndex.__getitem__\u001b[0;34m(self, key)\u001b[0m\n\u001b[1;32m   5360\u001b[0m \u001b[39mif\u001b[39;00m is_integer(key) \u001b[39mor\u001b[39;00m is_float(key):\n\u001b[1;32m   5361\u001b[0m     \u001b[39m# GH#44051 exclude bool, which would return a 2d ndarray\u001b[39;00m\n\u001b[1;32m   5362\u001b[0m     key \u001b[39m=\u001b[39m com\u001b[39m.\u001b[39mcast_scalar_indexer(key, warn_float\u001b[39m=\u001b[39m\u001b[39mTrue\u001b[39;00m)\n\u001b[0;32m-> 5363\u001b[0m     \u001b[39mreturn\u001b[39;00m getitem(key)\n\u001b[1;32m   5365\u001b[0m \u001b[39mif\u001b[39;00m \u001b[39misinstance\u001b[39m(key, \u001b[39mslice\u001b[39m):\n\u001b[1;32m   5366\u001b[0m     \u001b[39m# This case is separated from the conditional above to avoid\u001b[39;00m\n\u001b[1;32m   5367\u001b[0m     \u001b[39m# pessimization com.is_bool_indexer and ndim checks.\u001b[39;00m\n\u001b[1;32m   5368\u001b[0m     result \u001b[39m=\u001b[39m getitem(key)\n",
      "\u001b[0;31mIndexError\u001b[0m: index 86 is out of bounds for axis 0 with size 86"
     ]
    }
   ],
   "source": [
    "# Training\n",
    "for c in range(train1.shape[1]+1):\n",
    "    for r in range(train1.shape[0]):\n",
    "        eddm.add_element(train1.iloc[r,c])\n",
    "        if eddm.detected_warning_zone():\n",
    "            print('Warning zone has been detected in data: ' + str(train1.iloc[r,c]) + ' - of index: ' + str(r))\n",
    "        if eddm.detected_change():\n",
    "            print('Change has been detected in data: ' + str(train1.iloc[r,c]) + ' - of index: ' + str(r))"
   ]
  }
 ],
 "metadata": {
  "kernelspec": {
   "display_name": "Python 3 (ipykernel)",
   "language": "python",
   "name": "python3"
  },
  "language_info": {
   "codemirror_mode": {
    "name": "ipython",
    "version": 3
   },
   "file_extension": ".py",
   "mimetype": "text/x-python",
   "name": "python",
   "nbconvert_exporter": "python",
   "pygments_lexer": "ipython3",
   "version": "3.10.3"
  }
 },
 "nbformat": 4,
 "nbformat_minor": 4
}
