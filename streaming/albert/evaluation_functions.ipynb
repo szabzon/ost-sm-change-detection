{
 "cells": [
  {
   "cell_type": "code",
   "execution_count": 1,
   "metadata": {},
   "outputs": [],
   "source": [
    "# Definitions of functions\n",
    "def calculate_delay_of_detection(true_change_indexes, detected_indexes):\n",
    "    delays = [index - detected_index for detected_index, index in zip(detected_indexes, true_change_indexes)]\n",
    "\n",
    "    if len(delays) > 0:\n",
    "        average_delay = sum(delays) / len(delays)\n",
    "        return average_delay\n",
    "    else:\n",
    "        return 0  "
   ]
  },
  {
   "cell_type": "code",
   "execution_count": 2,
   "metadata": {},
   "outputs": [],
   "source": [
    "\n",
    "def calculate_false_detection_rate(true_change_indexes, detected_indexes):\n",
    "    total_drifts = len(true_change_indexes)\n",
    "    total_detected = len(detected_indexes)\n",
    "    false_detections = total_detected - total_drifts\n",
    "    fdr = false_detections / total_drifts\n",
    "    return fdr"
   ]
  },
  {
   "cell_type": "code",
   "execution_count": 3,
   "metadata": {},
   "outputs": [],
   "source": [
    "\n",
    "def calculate_miss_detection_rate(true_change_indexes, detected_indexes):\n",
    "    total_drifts = len(true_change_indexes)\n",
    "    total_detected = len(detected_indexes)\n",
    "    mdr = (total_drifts - total_detected) / total_drifts\n",
    "    return mdr\n"
   ]
  },
  {
   "cell_type": "code",
   "execution_count": 4,
   "metadata": {},
   "outputs": [],
   "source": [
    "\n",
    "def calculate_rate_of_drift(detected_indexes, total_time):\n",
    "    total_detected = len(detected_indexes)\n",
    "    rod = total_detected / total_time\n",
    "    return rod"
   ]
  },
  {
   "cell_type": "code",
   "execution_count": null,
   "metadata": {},
   "outputs": [],
   "source": []
  }
 ],
 "metadata": {
  "kernelspec": {
   "display_name": "base",
   "language": "python",
   "name": "python3"
  },
  "language_info": {
   "codemirror_mode": {
    "name": "ipython",
    "version": 3
   },
   "file_extension": ".py",
   "mimetype": "text/x-python",
   "name": "python",
   "nbconvert_exporter": "python",
   "pygments_lexer": "ipython3",
   "version": "3.11.5"
  }
 },
 "nbformat": 4,
 "nbformat_minor": 2
}
