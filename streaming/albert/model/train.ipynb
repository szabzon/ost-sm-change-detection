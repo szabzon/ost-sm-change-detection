{
 "cells": [
  {
   "cell_type": "code",
   "execution_count": 3,
   "metadata": {},
   "outputs": [
    {
     "name": "stdout",
     "output_type": "stream",
     "text": [
      "Requirement already satisfied: joblib in c:\\users\\gjirafa\\anaconda3\\lib\\site-packages (1.2.0)\n",
      "Note: you may need to restart the kernel to use updated packages.\n"
     ]
    }
   ],
   "source": [
    "pip install joblib"
   ]
  },
  {
   "cell_type": "code",
   "execution_count": 2,
   "metadata": {},
   "outputs": [],
   "source": [
    "import pandas as pd\n",
    "import numpy as np\n",
    "import matplotlib.pyplot as plt\n",
    "import seaborn as sns\n",
    "\n",
    "import plotly.graph_objects as go\n",
    "from plotly.subplots import make_subplots\n",
    "import plotly.express as px\n",
    "\n",
    "from sklearn.ensemble import RandomForestClassifier\n",
    "from sklearn.cluster import KMeans\n",
    "from sklearn.model_selection import train_test_split\n",
    "from sklearn.metrics import accuracy_score\n",
    "import joblib"
   ]
  },
  {
   "cell_type": "code",
   "execution_count": 40,
   "metadata": {},
   "outputs": [],
   "source": [
    "df = pd.read_csv(\"../../../data_loading/hai-23_05/train1.csv\", sep=';')"
   ]
  },
  {
   "cell_type": "code",
   "execution_count": 41,
   "metadata": {},
   "outputs": [
    {
     "data": {
      "text/html": [
       "<div>\n",
       "<style scoped>\n",
       "    .dataframe tbody tr th:only-of-type {\n",
       "        vertical-align: middle;\n",
       "    }\n",
       "\n",
       "    .dataframe tbody tr th {\n",
       "        vertical-align: top;\n",
       "    }\n",
       "\n",
       "    .dataframe thead th {\n",
       "        text-align: right;\n",
       "    }\n",
       "</style>\n",
       "<table border=\"1\" class=\"dataframe\">\n",
       "  <thead>\n",
       "    <tr style=\"text-align: right;\">\n",
       "      <th></th>\n",
       "      <th>time</th>\n",
       "      <th>P1_B2004</th>\n",
       "      <th>P1_B2016</th>\n",
       "      <th>P1_B3004</th>\n",
       "      <th>P1_B3005</th>\n",
       "      <th>P1_B4002</th>\n",
       "      <th>P1_B4005</th>\n",
       "      <th>P1_B400B</th>\n",
       "      <th>P1_B4022</th>\n",
       "      <th>P1_FCV01D</th>\n",
       "      <th>...</th>\n",
       "      <th>P4_ST_FD</th>\n",
       "      <th>P4_ST_LD</th>\n",
       "      <th>P4_ST_PO</th>\n",
       "      <th>P4_ST_PS</th>\n",
       "      <th>P4_ST_PT01</th>\n",
       "      <th>P4_ST_TT01</th>\n",
       "      <th>attack</th>\n",
       "      <th>attack_P1</th>\n",
       "      <th>attack_P2</th>\n",
       "      <th>attack_P3</th>\n",
       "    </tr>\n",
       "  </thead>\n",
       "  <tbody>\n",
       "    <tr>\n",
       "      <th>0</th>\n",
       "      <td>2019-09-11 20:00:00</td>\n",
       "      <td>0.0983</td>\n",
       "      <td>1.0702</td>\n",
       "      <td>399.2321</td>\n",
       "      <td>1110.3986</td>\n",
       "      <td>32.0</td>\n",
       "      <td>0.0</td>\n",
       "      <td>28.9981</td>\n",
       "      <td>35.7395</td>\n",
       "      <td>0.0</td>\n",
       "      <td>...</td>\n",
       "      <td>-0.0004</td>\n",
       "      <td>330.6568</td>\n",
       "      <td>328.9388</td>\n",
       "      <td>50.9871</td>\n",
       "      <td>9973.0</td>\n",
       "      <td>27629.0</td>\n",
       "      <td>0</td>\n",
       "      <td>0</td>\n",
       "      <td>0</td>\n",
       "      <td>0</td>\n",
       "    </tr>\n",
       "    <tr>\n",
       "      <th>1</th>\n",
       "      <td>2019-09-11 20:00:01</td>\n",
       "      <td>0.0983</td>\n",
       "      <td>1.0699</td>\n",
       "      <td>399.2321</td>\n",
       "      <td>1110.3986</td>\n",
       "      <td>32.0</td>\n",
       "      <td>0.0</td>\n",
       "      <td>29.9914</td>\n",
       "      <td>35.7388</td>\n",
       "      <td>0.0</td>\n",
       "      <td>...</td>\n",
       "      <td>-0.0012</td>\n",
       "      <td>330.2228</td>\n",
       "      <td>329.3728</td>\n",
       "      <td>50.9871</td>\n",
       "      <td>9973.0</td>\n",
       "      <td>27629.0</td>\n",
       "      <td>0</td>\n",
       "      <td>0</td>\n",
       "      <td>0</td>\n",
       "      <td>0</td>\n",
       "    </tr>\n",
       "    <tr>\n",
       "      <th>2</th>\n",
       "      <td>2019-09-11 20:00:02</td>\n",
       "      <td>0.0983</td>\n",
       "      <td>1.0703</td>\n",
       "      <td>399.2321</td>\n",
       "      <td>1110.3986</td>\n",
       "      <td>32.0</td>\n",
       "      <td>0.0</td>\n",
       "      <td>27.0122</td>\n",
       "      <td>35.7399</td>\n",
       "      <td>0.0</td>\n",
       "      <td>...</td>\n",
       "      <td>0.0018</td>\n",
       "      <td>332.0493</td>\n",
       "      <td>329.7526</td>\n",
       "      <td>50.9871</td>\n",
       "      <td>9973.0</td>\n",
       "      <td>27629.0</td>\n",
       "      <td>0</td>\n",
       "      <td>0</td>\n",
       "      <td>0</td>\n",
       "      <td>0</td>\n",
       "    </tr>\n",
       "    <tr>\n",
       "      <th>3</th>\n",
       "      <td>2019-09-11 20:00:03</td>\n",
       "      <td>0.0983</td>\n",
       "      <td>1.0719</td>\n",
       "      <td>399.2321</td>\n",
       "      <td>1110.3986</td>\n",
       "      <td>32.0</td>\n",
       "      <td>0.0</td>\n",
       "      <td>32.9705</td>\n",
       "      <td>35.7452</td>\n",
       "      <td>0.0</td>\n",
       "      <td>...</td>\n",
       "      <td>0.0033</td>\n",
       "      <td>331.5249</td>\n",
       "      <td>331.0547</td>\n",
       "      <td>50.9871</td>\n",
       "      <td>9973.0</td>\n",
       "      <td>27629.0</td>\n",
       "      <td>0</td>\n",
       "      <td>0</td>\n",
       "      <td>0</td>\n",
       "      <td>0</td>\n",
       "    </tr>\n",
       "    <tr>\n",
       "      <th>4</th>\n",
       "      <td>2019-09-11 20:00:04</td>\n",
       "      <td>0.0983</td>\n",
       "      <td>1.0710</td>\n",
       "      <td>399.2321</td>\n",
       "      <td>1110.3986</td>\n",
       "      <td>32.0</td>\n",
       "      <td>0.0</td>\n",
       "      <td>30.9843</td>\n",
       "      <td>35.7422</td>\n",
       "      <td>0.0</td>\n",
       "      <td>...</td>\n",
       "      <td>0.0015</td>\n",
       "      <td>333.1706</td>\n",
       "      <td>331.1631</td>\n",
       "      <td>50.9871</td>\n",
       "      <td>9973.0</td>\n",
       "      <td>27629.0</td>\n",
       "      <td>0</td>\n",
       "      <td>0</td>\n",
       "      <td>0</td>\n",
       "      <td>0</td>\n",
       "    </tr>\n",
       "  </tbody>\n",
       "</table>\n",
       "<p>5 rows × 64 columns</p>\n",
       "</div>"
      ],
      "text/plain": [
       "                  time  P1_B2004  P1_B2016  P1_B3004   P1_B3005  P1_B4002  \\\n",
       "0  2019-09-11 20:00:00    0.0983    1.0702  399.2321  1110.3986      32.0   \n",
       "1  2019-09-11 20:00:01    0.0983    1.0699  399.2321  1110.3986      32.0   \n",
       "2  2019-09-11 20:00:02    0.0983    1.0703  399.2321  1110.3986      32.0   \n",
       "3  2019-09-11 20:00:03    0.0983    1.0719  399.2321  1110.3986      32.0   \n",
       "4  2019-09-11 20:00:04    0.0983    1.0710  399.2321  1110.3986      32.0   \n",
       "\n",
       "   P1_B4005  P1_B400B  P1_B4022  P1_FCV01D  ...  P4_ST_FD  P4_ST_LD  P4_ST_PO  \\\n",
       "0       0.0   28.9981   35.7395        0.0  ...   -0.0004  330.6568  328.9388   \n",
       "1       0.0   29.9914   35.7388        0.0  ...   -0.0012  330.2228  329.3728   \n",
       "2       0.0   27.0122   35.7399        0.0  ...    0.0018  332.0493  329.7526   \n",
       "3       0.0   32.9705   35.7452        0.0  ...    0.0033  331.5249  331.0547   \n",
       "4       0.0   30.9843   35.7422        0.0  ...    0.0015  333.1706  331.1631   \n",
       "\n",
       "   P4_ST_PS  P4_ST_PT01  P4_ST_TT01  attack  attack_P1  attack_P2  attack_P3  \n",
       "0   50.9871      9973.0     27629.0       0          0          0          0  \n",
       "1   50.9871      9973.0     27629.0       0          0          0          0  \n",
       "2   50.9871      9973.0     27629.0       0          0          0          0  \n",
       "3   50.9871      9973.0     27629.0       0          0          0          0  \n",
       "4   50.9871      9973.0     27629.0       0          0          0          0  \n",
       "\n",
       "[5 rows x 64 columns]"
      ]
     },
     "execution_count": 41,
     "metadata": {},
     "output_type": "execute_result"
    }
   ],
   "source": [
    "df.head()"
   ]
  },
  {
   "cell_type": "code",
   "execution_count": 42,
   "metadata": {},
   "outputs": [
    {
     "data": {
      "text/plain": [
       "time           object\n",
       "P1_B2004      float64\n",
       "P1_B2016      float64\n",
       "P1_B3004      float64\n",
       "P1_B3005      float64\n",
       "               ...   \n",
       "P4_ST_TT01    float64\n",
       "attack          int64\n",
       "attack_P1       int64\n",
       "attack_P2       int64\n",
       "attack_P3       int64\n",
       "Length: 64, dtype: object"
      ]
     },
     "execution_count": 42,
     "metadata": {},
     "output_type": "execute_result"
    }
   ],
   "source": [
    "df.dtypes"
   ]
  },
  {
   "cell_type": "code",
   "execution_count": 43,
   "metadata": {},
   "outputs": [
    {
     "data": {
      "text/plain": [
       "Index(['time', 'P1_B2004', 'P1_B2016', 'P1_B3004', 'P1_B3005', 'P1_B4002',\n",
       "       'P1_B4005', 'P1_B400B', 'P1_B4022', 'P1_FCV01D', 'P1_FCV01Z',\n",
       "       'P1_FCV02D', 'P1_FCV02Z', 'P1_FCV03D', 'P1_FCV03Z', 'P1_FT01',\n",
       "       'P1_FT01Z', 'P1_FT02', 'P1_FT02Z', 'P1_FT03', 'P1_FT03Z', 'P1_LCV01D',\n",
       "       'P1_LCV01Z', 'P1_LIT01', 'P1_PCV01D', 'P1_PCV01Z', 'P1_PCV02D',\n",
       "       'P1_PCV02Z', 'P1_PIT01', 'P1_PIT02', 'P1_TIT01', 'P1_TIT02', 'P2_24Vdc',\n",
       "       'P2_Auto', 'P2_Emgy', 'P2_On', 'P2_SD01', 'P2_SIT01', 'P2_TripEx',\n",
       "       'P2_VT01e', 'P2_VXT02', 'P2_VXT03', 'P2_VYT02', 'P2_VYT03', 'P3_LCP01D',\n",
       "       'P3_LCV01D', 'P3_LH', 'P3_LL', 'P3_LT01', 'P4_HT_FD', 'P4_HT_LD',\n",
       "       'P4_HT_PO', 'P4_HT_PS', 'P4_LD', 'P4_ST_FD', 'P4_ST_LD', 'P4_ST_PO',\n",
       "       'P4_ST_PS', 'P4_ST_PT01', 'P4_ST_TT01', 'attack', 'attack_P1',\n",
       "       'attack_P2', 'attack_P3'],\n",
       "      dtype='object')"
      ]
     },
     "execution_count": 43,
     "metadata": {},
     "output_type": "execute_result"
    }
   ],
   "source": [
    "df.columns"
   ]
  },
  {
   "cell_type": "code",
   "execution_count": 44,
   "metadata": {},
   "outputs": [],
   "source": [
    "# Since attack column is aggregation of attack_P1, attack_P2 and attack_P3, we are dropping those three columns and using only attack col as label\n",
    "\n",
    "col_to_drop = ['time','attack_P1', 'attack_P2', 'attack_P3']\n",
    "df = df.drop(columns=col_to_drop)"
   ]
  },
  {
   "cell_type": "code",
   "execution_count": 45,
   "metadata": {},
   "outputs": [],
   "source": [
    "labels = df['attack']"
   ]
  },
  {
   "cell_type": "code",
   "execution_count": 46,
   "metadata": {},
   "outputs": [],
   "source": [
    "df = df.drop(columns=['attack'])"
   ]
  },
  {
   "cell_type": "code",
   "execution_count": 48,
   "metadata": {},
   "outputs": [],
   "source": [
    "# Split the data into training and test sets\n",
    "train_data, test_data, train_labels, test_labels = train_test_split(df, labels, test_size=0.2, random_state=42)\n",
    "\n",
    "stream_size = test_data.shape[0]\n",
    "# true_attack_indexes = test_labels[test_labels['label'] == 1].index.values\n",
    "\n",
    "# Train a Random Forest model\n",
    "rf_model = RandomForestClassifier(n_estimators=100, random_state=42)\n",
    "rf_model.fit(train_data, train_labels)\n",
    "\n",
    "# Make predictions on the test set\n",
    "rf_model_predictions = rf_model.predict(test_data)"
   ]
  },
  {
   "cell_type": "code",
   "execution_count": 49,
   "metadata": {},
   "outputs": [
    {
     "data": {
      "text/plain": [
       "['../../albert/model/random_forest_model.joblib']"
      ]
     },
     "execution_count": 49,
     "metadata": {},
     "output_type": "execute_result"
    }
   ],
   "source": [
    "# Save the model to a file\n",
    "joblib.dump(rf_model, '../../albert/model/random_forest_model.joblib')"
   ]
  },
  {
   "cell_type": "code",
   "execution_count": 50,
   "metadata": {},
   "outputs": [
    {
     "name": "stdout",
     "output_type": "stream",
     "text": [
      "[0 0 0 ... 0 0 0]\n"
     ]
    }
   ],
   "source": [
    "print(rf_model_predictions)"
   ]
  },
  {
   "cell_type": "code",
   "execution_count": 51,
   "metadata": {},
   "outputs": [],
   "source": [
    "# Page-Hinkley Test Implementation\n",
    "class PageHinkley:\n",
    "    def __init__(self, min_instances=30, delta=0.005, threshold=50, alpha=1-0.0001):\n",
    "        self.min_instances = min_instances\n",
    "        self.delta = delta\n",
    "        self.threshold = threshold\n",
    "        self.alpha = alpha\n",
    "        self.cum_sum = 0\n",
    "        self.mean = 0\n",
    "        self.n = 0\n",
    "\n",
    "    def add_element(self, value):\n",
    "        if self.n < self.min_instances:\n",
    "            self.n += 1\n",
    "            self.mean = self.mean + (value - self.mean) / self.n\n",
    "            return False\n",
    "\n",
    "        self.cum_sum = max(0, self.alpha * self.cum_sum + (value - self.mean - self.delta))\n",
    "\n",
    "        self.mean = self.mean + (value - self.mean) / self.n\n",
    "        self.n += 1\n",
    "\n",
    "        if self.cum_sum > self.threshold:\n",
    "            self.cum_sum = 0\n",
    "            return True\n",
    "\n",
    "        return False"
   ]
  },
  {
   "cell_type": "code",
   "execution_count": 52,
   "metadata": {},
   "outputs": [],
   "source": [
    "# Initialize Page-Hinkley detector\n",
    "page_hinkley = PageHinkley(min_instances=30, delta=0.005, threshold=50, alpha=1-0.0001)\n"
   ]
  },
  {
   "cell_type": "code",
   "execution_count": 53,
   "metadata": {},
   "outputs": [
    {
     "name": "stdout",
     "output_type": "stream",
     "text": [
      "(61920,)\n"
     ]
    }
   ],
   "source": [
    "print(test_labels.shape)"
   ]
  },
  {
   "cell_type": "code",
   "execution_count": 54,
   "metadata": {},
   "outputs": [
    {
     "name": "stdout",
     "output_type": "stream",
     "text": [
      "209649    0\n",
      "192094    0\n",
      "108535    0\n",
      "220258    0\n",
      "172977    0\n",
      "         ..\n",
      "165574    0\n",
      "119995    0\n",
      "154949    0\n",
      "41643     0\n",
      "181600    0\n",
      "Name: attack, Length: 61920, dtype: int64\n"
     ]
    }
   ],
   "source": [
    "print(test_labels)"
   ]
  },
  {
   "cell_type": "code",
   "execution_count": 57,
   "metadata": {},
   "outputs": [],
   "source": [
    "# Perform change detection on the test set\n",
    "change_points = []\n",
    "accuracies = []\n",
    "\n",
    "for i in range(len(test_data)):\n",
    "    x_i = test_data.iloc[i:i + 1]\n",
    "    y_i = test_labels.iloc[i]\n",
    "    # Predict using the RandomForest model\n",
    "    pred = rf_model.predict(x_i)\n",
    "\n",
    "    # Check for a change point\n",
    "    if page_hinkley.add_element(pred == y_i):\n",
    "        change_points.append(i)\n",
    "\n",
    "    # Calculate accuracy at each step\n",
    "    accuracy = rf_model.score(test_data.iloc[:i + 1], test_labels.iloc[:i + 1])\n",
    "    accuracies.append(accuracy)"
   ]
  },
  {
   "cell_type": "code",
   "execution_count": 58,
   "metadata": {},
   "outputs": [
    {
     "data": {
      "image/png": "[encoded data removed]",
      "text/plain": [
       "<Figure size 1000x500 with 1 Axes>"
      ]
     },
     "metadata": {},
     "output_type": "display_data"
    }
   ],
   "source": [
    "# Plotting\n",
    "plt.figure(figsize=(10, 5))\n",
    "plt.plot(range(len(test_data)), accuracies, label='Accuracy')\n",
    "plt.scatter(change_points, [accuracies[i] for i in change_points], color='red', marker='x', label='Change Point')\n",
    "plt.title('Change Detection using Page-Hinkley with RandomForest')\n",
    "plt.xlabel('Time Step')\n",
    "plt.ylabel('Accuracy')\n",
    "plt.legend()\n",
    "plt.show()"
   ]
  },
  {
   "cell_type": "code",
   "execution_count": null,
   "metadata": {},
   "outputs": [],
   "source": []
  }
 ],
 "metadata": {
  "kernelspec": {
   "display_name": "base",
   "language": "python",
   "name": "python3"
  },
  "language_info": {
   "codemirror_mode": {
    "name": "ipython",
    "version": 3
   },
   "file_extension": ".py",
   "mimetype": "text/x-python",
   "name": "python",
   "nbconvert_exporter": "python",
   "pygments_lexer": "ipython3",
   "version": "3.11.5"
  }
 },
 "nbformat": 4,
 "nbformat_minor": 2
}
