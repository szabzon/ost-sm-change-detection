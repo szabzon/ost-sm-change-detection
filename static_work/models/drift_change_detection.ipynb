{
 "cells": [
  {
   "cell_type": "markdown",
   "metadata": {},
   "source": [
    "# Baseline implementation of relevant error rate-based change-detection algorithms"
   ]
  },
  {
   "cell_type": "code",
   "execution_count": 1,
   "metadata": {},
   "outputs": [],
   "source": [
    "import pandas as pd\n",
    "import numpy as np\n",
    "import matplotlib.pyplot as plt\n",
    "import seaborn as sns\n",
    "\n",
    "import plotly.graph_objects as go\n",
    "from plotly.subplots import make_subplots\n",
    "import plotly.express as px\n",
    "from dash import Dash, html, dcc, callback, Output, Input\n",
    "\n",
    "from sklearn.ensemble import RandomForestClassifier\n",
    "from sklearn.cluster import KMeans\n",
    "from sklearn.model_selection import train_test_split\n",
    "from sklearn.metrics import accuracy_score, confusion_matrix"
   ]
  },
  {
   "cell_type": "markdown",
   "metadata": {},
   "source": [
    "## Data Loading"
   ]
  },
  {
   "cell_type": "markdown",
   "metadata": {},
   "source": [
    "Loading the needed datasets. "
   ]
  },
  {
   "cell_type": "code",
   "execution_count": 2,
   "metadata": {},
   "outputs": [
    {
     "ename": "FileNotFoundError",
     "evalue": "[Errno 2] No such file or directory: '/Users/emmatosato/Documents/UNI_Locale/Erasmus/OST/ost-sm-change-detection/data_analysis/merged_data/test_pd1.csv'",
     "output_type": "error",
     "traceback": [
      "\u001b[0;31m---------------------------------------------------------------------------\u001b[0m",
      "\u001b[0;31mFileNotFoundError\u001b[0m                         Traceback (most recent call last)",
      "Cell \u001b[0;32mIn[2], line 2\u001b[0m\n\u001b[1;32m      1\u001b[0m \u001b[38;5;66;03m# Load data\u001b[39;00m\n\u001b[0;32m----> 2\u001b[0m test1 \u001b[38;5;241m=\u001b[39m \u001b[43mpd\u001b[49m\u001b[38;5;241;43m.\u001b[39;49m\u001b[43mread_csv\u001b[49m\u001b[43m(\u001b[49m\u001b[38;5;124;43m\"\u001b[39;49m\u001b[38;5;124;43m/Users/emmatosato/Documents/UNI_Locale/Erasmus/OST/ost-sm-change-detection/data_analysis/merged_data/test_pd1.csv\u001b[39;49m\u001b[38;5;124;43m\"\u001b[39;49m\u001b[43m)\u001b[49m\n\u001b[1;32m      3\u001b[0m test2\u001b[38;5;241m=\u001b[39m pd\u001b[38;5;241m.\u001b[39mread_csv(\u001b[38;5;124m\"\u001b[39m\u001b[38;5;124m/Users/emmatosato/Documents/UNI_Locale/Erasmus/OST/ost-sm-change-detection/data_analysis/merged_data/test_pd2.csv\u001b[39m\u001b[38;5;124m\"\u001b[39m)\n",
      "File \u001b[0;32m/Library/Frameworks/Python.framework/Versions/3.10/lib/python3.10/site-packages/pandas/util/_decorators.py:211\u001b[0m, in \u001b[0;36mdeprecate_kwarg.<locals>._deprecate_kwarg.<locals>.wrapper\u001b[0;34m(*args, **kwargs)\u001b[0m\n\u001b[1;32m    209\u001b[0m     \u001b[38;5;28;01melse\u001b[39;00m:\n\u001b[1;32m    210\u001b[0m         kwargs[new_arg_name] \u001b[38;5;241m=\u001b[39m new_arg_value\n\u001b[0;32m--> 211\u001b[0m \u001b[38;5;28;01mreturn\u001b[39;00m \u001b[43mfunc\u001b[49m\u001b[43m(\u001b[49m\u001b[38;5;241;43m*\u001b[39;49m\u001b[43margs\u001b[49m\u001b[43m,\u001b[49m\u001b[43m \u001b[49m\u001b[38;5;241;43m*\u001b[39;49m\u001b[38;5;241;43m*\u001b[39;49m\u001b[43mkwargs\u001b[49m\u001b[43m)\u001b[49m\n",
      "File \u001b[0;32m/Library/Frameworks/Python.framework/Versions/3.10/lib/python3.10/site-packages/pandas/util/_decorators.py:331\u001b[0m, in \u001b[0;36mdeprecate_nonkeyword_arguments.<locals>.decorate.<locals>.wrapper\u001b[0;34m(*args, **kwargs)\u001b[0m\n\u001b[1;32m    325\u001b[0m \u001b[38;5;28;01mif\u001b[39;00m \u001b[38;5;28mlen\u001b[39m(args) \u001b[38;5;241m>\u001b[39m num_allow_args:\n\u001b[1;32m    326\u001b[0m     warnings\u001b[38;5;241m.\u001b[39mwarn(\n\u001b[1;32m    327\u001b[0m         msg\u001b[38;5;241m.\u001b[39mformat(arguments\u001b[38;5;241m=\u001b[39m_format_argument_list(allow_args)),\n\u001b[1;32m    328\u001b[0m         \u001b[38;5;167;01mFutureWarning\u001b[39;00m,\n\u001b[1;32m    329\u001b[0m         stacklevel\u001b[38;5;241m=\u001b[39mfind_stack_level(),\n\u001b[1;32m    330\u001b[0m     )\n\u001b[0;32m--> 331\u001b[0m \u001b[38;5;28;01mreturn\u001b[39;00m \u001b[43mfunc\u001b[49m\u001b[43m(\u001b[49m\u001b[38;5;241;43m*\u001b[39;49m\u001b[43margs\u001b[49m\u001b[43m,\u001b[49m\u001b[43m \u001b[49m\u001b[38;5;241;43m*\u001b[39;49m\u001b[38;5;241;43m*\u001b[39;49m\u001b[43mkwargs\u001b[49m\u001b[43m)\u001b[49m\n",
      "File \u001b[0;32m/Library/Frameworks/Python.framework/Versions/3.10/lib/python3.10/site-packages/pandas/io/parsers/readers.py:950\u001b[0m, in \u001b[0;36mread_csv\u001b[0;34m(filepath_or_buffer, sep, delimiter, header, names, index_col, usecols, squeeze, prefix, mangle_dupe_cols, dtype, engine, converters, true_values, false_values, skipinitialspace, skiprows, skipfooter, nrows, na_values, keep_default_na, na_filter, verbose, skip_blank_lines, parse_dates, infer_datetime_format, keep_date_col, date_parser, dayfirst, cache_dates, iterator, chunksize, compression, thousands, decimal, lineterminator, quotechar, quoting, doublequote, escapechar, comment, encoding, encoding_errors, dialect, error_bad_lines, warn_bad_lines, on_bad_lines, delim_whitespace, low_memory, memory_map, float_precision, storage_options)\u001b[0m\n\u001b[1;32m    935\u001b[0m kwds_defaults \u001b[38;5;241m=\u001b[39m _refine_defaults_read(\n\u001b[1;32m    936\u001b[0m     dialect,\n\u001b[1;32m    937\u001b[0m     delimiter,\n\u001b[0;32m   (...)\u001b[0m\n\u001b[1;32m    946\u001b[0m     defaults\u001b[38;5;241m=\u001b[39m{\u001b[38;5;124m\"\u001b[39m\u001b[38;5;124mdelimiter\u001b[39m\u001b[38;5;124m\"\u001b[39m: \u001b[38;5;124m\"\u001b[39m\u001b[38;5;124m,\u001b[39m\u001b[38;5;124m\"\u001b[39m},\n\u001b[1;32m    947\u001b[0m )\n\u001b[1;32m    948\u001b[0m kwds\u001b[38;5;241m.\u001b[39mupdate(kwds_defaults)\n\u001b[0;32m--> 950\u001b[0m \u001b[38;5;28;01mreturn\u001b[39;00m \u001b[43m_read\u001b[49m\u001b[43m(\u001b[49m\u001b[43mfilepath_or_buffer\u001b[49m\u001b[43m,\u001b[49m\u001b[43m \u001b[49m\u001b[43mkwds\u001b[49m\u001b[43m)\u001b[49m\n",
      "File \u001b[0;32m/Library/Frameworks/Python.framework/Versions/3.10/lib/python3.10/site-packages/pandas/io/parsers/readers.py:605\u001b[0m, in \u001b[0;36m_read\u001b[0;34m(filepath_or_buffer, kwds)\u001b[0m\n\u001b[1;32m    602\u001b[0m _validate_names(kwds\u001b[38;5;241m.\u001b[39mget(\u001b[38;5;124m\"\u001b[39m\u001b[38;5;124mnames\u001b[39m\u001b[38;5;124m\"\u001b[39m, \u001b[38;5;28;01mNone\u001b[39;00m))\n\u001b[1;32m    604\u001b[0m \u001b[38;5;66;03m# Create the parser.\u001b[39;00m\n\u001b[0;32m--> 605\u001b[0m parser \u001b[38;5;241m=\u001b[39m \u001b[43mTextFileReader\u001b[49m\u001b[43m(\u001b[49m\u001b[43mfilepath_or_buffer\u001b[49m\u001b[43m,\u001b[49m\u001b[43m \u001b[49m\u001b[38;5;241;43m*\u001b[39;49m\u001b[38;5;241;43m*\u001b[39;49m\u001b[43mkwds\u001b[49m\u001b[43m)\u001b[49m\n\u001b[1;32m    607\u001b[0m \u001b[38;5;28;01mif\u001b[39;00m chunksize \u001b[38;5;129;01mor\u001b[39;00m iterator:\n\u001b[1;32m    608\u001b[0m     \u001b[38;5;28;01mreturn\u001b[39;00m parser\n",
      "File \u001b[0;32m/Library/Frameworks/Python.framework/Versions/3.10/lib/python3.10/site-packages/pandas/io/parsers/readers.py:1442\u001b[0m, in \u001b[0;36mTextFileReader.__init__\u001b[0;34m(self, f, engine, **kwds)\u001b[0m\n\u001b[1;32m   1439\u001b[0m     \u001b[38;5;28mself\u001b[39m\u001b[38;5;241m.\u001b[39moptions[\u001b[38;5;124m\"\u001b[39m\u001b[38;5;124mhas_index_names\u001b[39m\u001b[38;5;124m\"\u001b[39m] \u001b[38;5;241m=\u001b[39m kwds[\u001b[38;5;124m\"\u001b[39m\u001b[38;5;124mhas_index_names\u001b[39m\u001b[38;5;124m\"\u001b[39m]\n\u001b[1;32m   1441\u001b[0m \u001b[38;5;28mself\u001b[39m\u001b[38;5;241m.\u001b[39mhandles: IOHandles \u001b[38;5;241m|\u001b[39m \u001b[38;5;28;01mNone\u001b[39;00m \u001b[38;5;241m=\u001b[39m \u001b[38;5;28;01mNone\u001b[39;00m\n\u001b[0;32m-> 1442\u001b[0m \u001b[38;5;28mself\u001b[39m\u001b[38;5;241m.\u001b[39m_engine \u001b[38;5;241m=\u001b[39m \u001b[38;5;28;43mself\u001b[39;49m\u001b[38;5;241;43m.\u001b[39;49m\u001b[43m_make_engine\u001b[49m\u001b[43m(\u001b[49m\u001b[43mf\u001b[49m\u001b[43m,\u001b[49m\u001b[43m \u001b[49m\u001b[38;5;28;43mself\u001b[39;49m\u001b[38;5;241;43m.\u001b[39;49m\u001b[43mengine\u001b[49m\u001b[43m)\u001b[49m\n",
      "File \u001b[0;32m/Library/Frameworks/Python.framework/Versions/3.10/lib/python3.10/site-packages/pandas/io/parsers/readers.py:1735\u001b[0m, in \u001b[0;36mTextFileReader._make_engine\u001b[0;34m(self, f, engine)\u001b[0m\n\u001b[1;32m   1733\u001b[0m     \u001b[38;5;28;01mif\u001b[39;00m \u001b[38;5;124m\"\u001b[39m\u001b[38;5;124mb\u001b[39m\u001b[38;5;124m\"\u001b[39m \u001b[38;5;129;01mnot\u001b[39;00m \u001b[38;5;129;01min\u001b[39;00m mode:\n\u001b[1;32m   1734\u001b[0m         mode \u001b[38;5;241m+\u001b[39m\u001b[38;5;241m=\u001b[39m \u001b[38;5;124m\"\u001b[39m\u001b[38;5;124mb\u001b[39m\u001b[38;5;124m\"\u001b[39m\n\u001b[0;32m-> 1735\u001b[0m \u001b[38;5;28mself\u001b[39m\u001b[38;5;241m.\u001b[39mhandles \u001b[38;5;241m=\u001b[39m \u001b[43mget_handle\u001b[49m\u001b[43m(\u001b[49m\n\u001b[1;32m   1736\u001b[0m \u001b[43m    \u001b[49m\u001b[43mf\u001b[49m\u001b[43m,\u001b[49m\n\u001b[1;32m   1737\u001b[0m \u001b[43m    \u001b[49m\u001b[43mmode\u001b[49m\u001b[43m,\u001b[49m\n\u001b[1;32m   1738\u001b[0m \u001b[43m    \u001b[49m\u001b[43mencoding\u001b[49m\u001b[38;5;241;43m=\u001b[39;49m\u001b[38;5;28;43mself\u001b[39;49m\u001b[38;5;241;43m.\u001b[39;49m\u001b[43moptions\u001b[49m\u001b[38;5;241;43m.\u001b[39;49m\u001b[43mget\u001b[49m\u001b[43m(\u001b[49m\u001b[38;5;124;43m\"\u001b[39;49m\u001b[38;5;124;43mencoding\u001b[39;49m\u001b[38;5;124;43m\"\u001b[39;49m\u001b[43m,\u001b[49m\u001b[43m \u001b[49m\u001b[38;5;28;43;01mNone\u001b[39;49;00m\u001b[43m)\u001b[49m\u001b[43m,\u001b[49m\n\u001b[1;32m   1739\u001b[0m \u001b[43m    \u001b[49m\u001b[43mcompression\u001b[49m\u001b[38;5;241;43m=\u001b[39;49m\u001b[38;5;28;43mself\u001b[39;49m\u001b[38;5;241;43m.\u001b[39;49m\u001b[43moptions\u001b[49m\u001b[38;5;241;43m.\u001b[39;49m\u001b[43mget\u001b[49m\u001b[43m(\u001b[49m\u001b[38;5;124;43m\"\u001b[39;49m\u001b[38;5;124;43mcompression\u001b[39;49m\u001b[38;5;124;43m\"\u001b[39;49m\u001b[43m,\u001b[49m\u001b[43m \u001b[49m\u001b[38;5;28;43;01mNone\u001b[39;49;00m\u001b[43m)\u001b[49m\u001b[43m,\u001b[49m\n\u001b[1;32m   1740\u001b[0m \u001b[43m    \u001b[49m\u001b[43mmemory_map\u001b[49m\u001b[38;5;241;43m=\u001b[39;49m\u001b[38;5;28;43mself\u001b[39;49m\u001b[38;5;241;43m.\u001b[39;49m\u001b[43moptions\u001b[49m\u001b[38;5;241;43m.\u001b[39;49m\u001b[43mget\u001b[49m\u001b[43m(\u001b[49m\u001b[38;5;124;43m\"\u001b[39;49m\u001b[38;5;124;43mmemory_map\u001b[39;49m\u001b[38;5;124;43m\"\u001b[39;49m\u001b[43m,\u001b[49m\u001b[43m \u001b[49m\u001b[38;5;28;43;01mFalse\u001b[39;49;00m\u001b[43m)\u001b[49m\u001b[43m,\u001b[49m\n\u001b[1;32m   1741\u001b[0m \u001b[43m    \u001b[49m\u001b[43mis_text\u001b[49m\u001b[38;5;241;43m=\u001b[39;49m\u001b[43mis_text\u001b[49m\u001b[43m,\u001b[49m\n\u001b[1;32m   1742\u001b[0m \u001b[43m    \u001b[49m\u001b[43merrors\u001b[49m\u001b[38;5;241;43m=\u001b[39;49m\u001b[38;5;28;43mself\u001b[39;49m\u001b[38;5;241;43m.\u001b[39;49m\u001b[43moptions\u001b[49m\u001b[38;5;241;43m.\u001b[39;49m\u001b[43mget\u001b[49m\u001b[43m(\u001b[49m\u001b[38;5;124;43m\"\u001b[39;49m\u001b[38;5;124;43mencoding_errors\u001b[39;49m\u001b[38;5;124;43m\"\u001b[39;49m\u001b[43m,\u001b[49m\u001b[43m \u001b[49m\u001b[38;5;124;43m\"\u001b[39;49m\u001b[38;5;124;43mstrict\u001b[39;49m\u001b[38;5;124;43m\"\u001b[39;49m\u001b[43m)\u001b[49m\u001b[43m,\u001b[49m\n\u001b[1;32m   1743\u001b[0m \u001b[43m    \u001b[49m\u001b[43mstorage_options\u001b[49m\u001b[38;5;241;43m=\u001b[39;49m\u001b[38;5;28;43mself\u001b[39;49m\u001b[38;5;241;43m.\u001b[39;49m\u001b[43moptions\u001b[49m\u001b[38;5;241;43m.\u001b[39;49m\u001b[43mget\u001b[49m\u001b[43m(\u001b[49m\u001b[38;5;124;43m\"\u001b[39;49m\u001b[38;5;124;43mstorage_options\u001b[39;49m\u001b[38;5;124;43m\"\u001b[39;49m\u001b[43m,\u001b[49m\u001b[43m \u001b[49m\u001b[38;5;28;43;01mNone\u001b[39;49;00m\u001b[43m)\u001b[49m\u001b[43m,\u001b[49m\n\u001b[1;32m   1744\u001b[0m \u001b[43m\u001b[49m\u001b[43m)\u001b[49m\n\u001b[1;32m   1745\u001b[0m \u001b[38;5;28;01massert\u001b[39;00m \u001b[38;5;28mself\u001b[39m\u001b[38;5;241m.\u001b[39mhandles \u001b[38;5;129;01mis\u001b[39;00m \u001b[38;5;129;01mnot\u001b[39;00m \u001b[38;5;28;01mNone\u001b[39;00m\n\u001b[1;32m   1746\u001b[0m f \u001b[38;5;241m=\u001b[39m \u001b[38;5;28mself\u001b[39m\u001b[38;5;241m.\u001b[39mhandles\u001b[38;5;241m.\u001b[39mhandle\n",
      "File \u001b[0;32m/Library/Frameworks/Python.framework/Versions/3.10/lib/python3.10/site-packages/pandas/io/common.py:856\u001b[0m, in \u001b[0;36mget_handle\u001b[0;34m(path_or_buf, mode, encoding, compression, memory_map, is_text, errors, storage_options)\u001b[0m\n\u001b[1;32m    851\u001b[0m \u001b[38;5;28;01melif\u001b[39;00m \u001b[38;5;28misinstance\u001b[39m(handle, \u001b[38;5;28mstr\u001b[39m):\n\u001b[1;32m    852\u001b[0m     \u001b[38;5;66;03m# Check whether the filename is to be opened in binary mode.\u001b[39;00m\n\u001b[1;32m    853\u001b[0m     \u001b[38;5;66;03m# Binary mode does not support 'encoding' and 'newline'.\u001b[39;00m\n\u001b[1;32m    854\u001b[0m     \u001b[38;5;28;01mif\u001b[39;00m ioargs\u001b[38;5;241m.\u001b[39mencoding \u001b[38;5;129;01mand\u001b[39;00m \u001b[38;5;124m\"\u001b[39m\u001b[38;5;124mb\u001b[39m\u001b[38;5;124m\"\u001b[39m \u001b[38;5;129;01mnot\u001b[39;00m \u001b[38;5;129;01min\u001b[39;00m ioargs\u001b[38;5;241m.\u001b[39mmode:\n\u001b[1;32m    855\u001b[0m         \u001b[38;5;66;03m# Encoding\u001b[39;00m\n\u001b[0;32m--> 856\u001b[0m         handle \u001b[38;5;241m=\u001b[39m \u001b[38;5;28;43mopen\u001b[39;49m\u001b[43m(\u001b[49m\n\u001b[1;32m    857\u001b[0m \u001b[43m            \u001b[49m\u001b[43mhandle\u001b[49m\u001b[43m,\u001b[49m\n\u001b[1;32m    858\u001b[0m \u001b[43m            \u001b[49m\u001b[43mioargs\u001b[49m\u001b[38;5;241;43m.\u001b[39;49m\u001b[43mmode\u001b[49m\u001b[43m,\u001b[49m\n\u001b[1;32m    859\u001b[0m \u001b[43m            \u001b[49m\u001b[43mencoding\u001b[49m\u001b[38;5;241;43m=\u001b[39;49m\u001b[43mioargs\u001b[49m\u001b[38;5;241;43m.\u001b[39;49m\u001b[43mencoding\u001b[49m\u001b[43m,\u001b[49m\n\u001b[1;32m    860\u001b[0m \u001b[43m            \u001b[49m\u001b[43merrors\u001b[49m\u001b[38;5;241;43m=\u001b[39;49m\u001b[43merrors\u001b[49m\u001b[43m,\u001b[49m\n\u001b[1;32m    861\u001b[0m \u001b[43m            \u001b[49m\u001b[43mnewline\u001b[49m\u001b[38;5;241;43m=\u001b[39;49m\u001b[38;5;124;43m\"\u001b[39;49m\u001b[38;5;124;43m\"\u001b[39;49m\u001b[43m,\u001b[49m\n\u001b[1;32m    862\u001b[0m \u001b[43m        \u001b[49m\u001b[43m)\u001b[49m\n\u001b[1;32m    863\u001b[0m     \u001b[38;5;28;01melse\u001b[39;00m:\n\u001b[1;32m    864\u001b[0m         \u001b[38;5;66;03m# Binary mode\u001b[39;00m\n\u001b[1;32m    865\u001b[0m         handle \u001b[38;5;241m=\u001b[39m \u001b[38;5;28mopen\u001b[39m(handle, ioargs\u001b[38;5;241m.\u001b[39mmode)\n",
      "\u001b[0;31mFileNotFoundError\u001b[0m: [Errno 2] No such file or directory: '/Users/emmatosato/Documents/UNI_Locale/Erasmus/OST/ost-sm-change-detection/data_analysis/merged_data/test_pd1.csv'"
     ]
    }
   ],
   "source": [
    "# Load data\n",
    "test1 = pd.read_csv(\"/Users/emmatosato/Documents/UNI_Locale/Erasmus/OST/ost-sm-change-detection/static_work/data_analysis/merged_data/test_pd1.csv\")\n",
    "test2= pd.read_csv(\"/Users/emmatosato/Documents/UNI_Locale/Erasmus/OST/ost-sm-change-detection/static_work/data_analysis/merged_data/test_pd2.csv\")"
   ]
  },
  {
   "cell_type": "code",
   "execution_count": 3,
   "metadata": {},
   "outputs": [],
   "source": [
    "# Load data\n",
    "test1_scaled = pd.read_csv(\"/Users/emmatosato/Documents/UNI_Locale/Erasmus/OST/ost-sm-change-detection/data_analysis/preprocessed_data/scaled_test1.csv\")\n",
    "test2_scaled = pd.read_csv(\"/Users/emmatosato/Documents/UNI_Locale/Erasmus/OST/ost-sm-change-detection/data_analysis/preprocessed_data/scaled_test2.csv\")"
   ]
  },
  {
   "cell_type": "markdown",
   "metadata": {},
   "source": [
    "## Functions"
   ]
  },
  {
   "cell_type": "markdown",
   "metadata": {},
   "source": [
    "### Evaluation"
   ]
  },
  {
   "cell_type": "markdown",
   "metadata": {},
   "source": [
    "These functions assess the performance of change detection algorithms:\n",
    "- calculate_delay_of_detection: Computes the average delay between true and detected change points.\n",
    "\n",
    "- calculate_false_detection_rate: Calculates the rate of false detections relative to the total number of true change points.\n",
    "\n",
    "- calculate_miss_detection_rate: Determines the rate of missed detections by comparing detected points with true change points.\n",
    "\n",
    "- calculate_rate_of_drift: Measures the rate of detected changes over the total observation time."
   ]
  },
  {
   "cell_type": "code",
   "execution_count": 4,
   "metadata": {},
   "outputs": [],
   "source": [
    "# Definitions of functions\n",
    "def calculate_delay_of_detection(true_change_indexes, detected_indexes):\n",
    "    delays = [index - detected_index for detected_index, index in zip(detected_indexes, true_change_indexes)]\n",
    "\n",
    "    if len(delays) > 0:\n",
    "        average_delay = sum(delays) / len(delays)\n",
    "        return average_delay\n",
    "    else:\n",
    "        return 0  \n",
    "\n",
    "def calculate_false_detection_rate(true_change_indexes, detected_indexes):\n",
    "    total_drifts = len(true_change_indexes)\n",
    "    total_detected = len(detected_indexes)\n",
    "    false_detections = total_detected - total_drifts\n",
    "    fdr = false_detections / total_drifts\n",
    "    return fdr\n",
    "\n",
    "def calculate_miss_detection_rate(true_change_indexes, detected_indexes):\n",
    "    total_drifts = len(true_change_indexes)\n",
    "    total_detected = len(detected_indexes)\n",
    "    mdr = (total_drifts - total_detected) / total_drifts\n",
    "    return mdr\n",
    "\n",
    "def calculate_rate_of_drift(detected_indexes, total_time):\n",
    "    total_detected = len(detected_indexes)\n",
    "    rod = total_detected / total_time\n",
    "    return rod"
   ]
  },
  {
   "cell_type": "markdown",
   "metadata": {},
   "source": [
    "## Classification model"
   ]
  },
  {
   "cell_type": "markdown",
   "metadata": {},
   "source": [
    "Code for using a Random Forest classifier on a dataset."
   ]
  },
  {
   "cell_type": "markdown",
   "metadata": {},
   "source": [
    "Data Preprocessing:\n",
    "- Extracts features (X) and labels (y) from the dataset.\n",
    "- Splits the data into training and test sets.\n",
    "- Scales the feature data (X) for a separate model using test1_scaled."
   ]
  },
  {
   "cell_type": "code",
   "execution_count": 5,
   "metadata": {},
   "outputs": [],
   "source": [
    "X = test1.iloc[:,1:].drop(['label'], axis=1)\n",
    "X_scaled = test1_scaled.iloc[:,1:].drop(['label'], axis=1)\n",
    "y = test1['label']"
   ]
  },
  {
   "cell_type": "markdown",
   "metadata": {},
   "source": [
    "Model Training and Prediction:\n",
    "- Trains a Random Forest model on the original and scaled datasets.\n",
    "- Makes predictions on the test sets."
   ]
  },
  {
   "cell_type": "code",
   "execution_count": 7,
   "metadata": {},
   "outputs": [
    {
     "name": "stderr",
     "output_type": "stream",
     "text": [
      "/var/folders/07/b_mqfzkn0fzbvjz9y6nbfyf40000gn/T/ipykernel_15886/3876213612.py:13: DataConversionWarning: A column-vector y was passed when a 1d array was expected. Please change the shape of y to (n_samples,), for example using ravel().\n",
      "  rf_model.fit(train_data, train_labels)\n"
     ]
    }
   ],
   "source": [
    "# Split the data into training and test sets\n",
    "train_data, test_data, train_labels, test_labels = train_test_split(X, y.ravel(), test_size=0.2, random_state=42)\n",
    "\n",
    "# Rename\n",
    "train_labels = pd.DataFrame({'label': train_labels})\n",
    "test_labels = pd.DataFrame({'label': test_labels})\n",
    "\n",
    "stream_size = test_data.shape[0]\n",
    "true_attack_indexes = test_labels[test_labels['label'] == 1].index.values\n",
    "\n",
    "# Train a Random Forest model\n",
    "rf_model = RandomForestClassifier(n_estimators=100,class_weight='balanced', random_state=42)\n",
    "rf_model.fit(train_data, train_labels)\n",
    "\n",
    "# Make predictions on the test set\n",
    "rf_predictions = rf_model.predict(test_data)"
   ]
  },
  {
   "cell_type": "code",
   "execution_count": 8,
   "metadata": {},
   "outputs": [
    {
     "name": "stderr",
     "output_type": "stream",
     "text": [
      "/var/folders/07/b_mqfzkn0fzbvjz9y6nbfyf40000gn/T/ipykernel_15886/3748822139.py:12: DataConversionWarning: A column-vector y was passed when a 1d array was expected. Please change the shape of y to (n_samples,), for example using ravel().\n",
      "  rf_model_scaled.fit(train_scaled, train_labels_scaled)\n"
     ]
    }
   ],
   "source": [
    "# Split the data into training and test sets\n",
    "train_scaled, test_scaled, train_labels_scaled, test_labels_scaled = train_test_split(X_scaled, y.ravel(), test_size=0.2, random_state=42)\n",
    "\n",
    "# Rename\n",
    "train_labels_scaled = pd.DataFrame({'label': train_labels_scaled})\n",
    "test_labels_scaled = pd.DataFrame({'label': test_labels_scaled})\n",
    "\n",
    "true_attack_indexes_sc = test_labels_scaled[test_labels_scaled['label'] == 1].index.values\n",
    "\n",
    "# Train a Random Forest model\n",
    "rf_model_scaled = RandomForestClassifier(n_estimators=100, class_weight='balanced', random_state=42)\n",
    "rf_model_scaled.fit(train_scaled, train_labels_scaled)\n",
    "\n",
    "# Make predictions on the test set\n",
    "rf_predictions_scaled = rf_model_scaled.predict(test_scaled)"
   ]
  },
  {
   "cell_type": "markdown",
   "metadata": {},
   "source": [
    "Accuracy Calculation and confusion matrices calculations: the code computes the accuracy scores for both the original and scaled models."
   ]
  },
  {
   "cell_type": "code",
   "execution_count": 28,
   "metadata": {},
   "outputs": [
    {
     "name": "stdout",
     "output_type": "stream",
     "text": [
      "0.9996296296296296\n",
      "0.9412037037037037\n"
     ]
    }
   ],
   "source": [
    "# Accuracies\n",
    "acc = accuracy_score(test_labels, rf_predictions)\n",
    "print(acc)\n",
    "\n",
    "acc_scaled = accuracy_score(test_labels_scaled, rf_predictions_scaled)\n",
    "print(acc_scaled)\n",
    "\n",
    "# Calculate confusion matrix for scaled model\n",
    "conf_matrix_scaled = confusion_matrix(test_labels, rf_predictions_scaled)\n",
    "conf_matrix_non_scaled = confusion_matrix(test_labels_scaled, rf_predictions_scaled)"
   ]
  },
  {
   "cell_type": "markdown",
   "metadata": {},
   "source": [
    "Visualization."
   ]
  },
  {
   "cell_type": "code",
   "execution_count": 30,
   "metadata": {},
   "outputs": [
    {
     "data": {
      "image/png": "[encoded data removed]",
      "text/plain": [
       "<Figure size 500x300 with 1 Axes>"
      ]
     },
     "metadata": {},
     "output_type": "display_data"
    },
    {
     "data": {
      "image/png": "[encoded data removed]",
      "text/plain": [
       "<Figure size 500x300 with 1 Axes>"
      ]
     },
     "metadata": {},
     "output_type": "display_data"
    },
    {
     "data": {
      "image/png": "[encoded data removed]",
      "text/plain": [
       "<Figure size 600x400 with 1 Axes>"
      ]
     },
     "metadata": {},
     "output_type": "display_data"
    }
   ],
   "source": [
    "# Confusion Matrix Heatmap - Non-scaled\n",
    "plt.figure(figsize=(5, 3))\n",
    "sns.heatmap(conf_matrix_non_scaled, annot=True, fmt=\"d\", cmap=\"Blues\", cbar=False)\n",
    "plt.title(\"Confusion Matrix - Non-scaled Model\")\n",
    "plt.xlabel(\"Predicted\")\n",
    "plt.ylabel(\"Actual\")\n",
    "plt.show()\n",
    "\n",
    "\n",
    "# Confusion Matrix Heatmap - Scaled\n",
    "plt.figure(figsize=(5, 3))\n",
    "sns.heatmap(conf_matrix_scaled, annot=True, fmt=\"d\", cmap=\"Blues\", cbar=False)\n",
    "plt.title(\"Confusion Matrix - Scaled Model\")\n",
    "plt.xlabel(\"Predicted\")\n",
    "plt.ylabel(\"Actual\")\n",
    "plt.show()\n",
    "\n",
    "# Accuracy Comparison Bar Plot\n",
    "plt.figure(figsize=(6, 4))\n",
    "sns.barplot(x=[\"Non-scaled\", \"Scaled\"], y=[acc, acc_scaled], palette=\"viridis\")\n",
    "plt.title(\"Accuracy Comparison\")\n",
    "plt.xlabel(\"Data Scaling\")\n",
    "plt.ylabel(\"Accuracy\")\n",
    "plt.show()"
   ]
  },
  {
   "cell_type": "markdown",
   "metadata": {},
   "source": [
    "## CUMSUM Algorithm"
   ]
  },
  {
   "cell_type": "markdown",
   "metadata": {},
   "source": [
    "The cumulative sum (CUSUM) test is designed to give an alarm when the mean of the input data significantly deviates from its previous value.\n",
    "\n",
    "*References :*\n",
    "- Machine Learning for Data Streams book\n",
    "- Thomas, Flynn, and Yoo Shinjae. Change Detection with the Kernel Cumulative Sum Algorithm. ArXiv E-prints, 2017, https://doi.org/10.48550/arXiv.1903.01661."
   ]
  },
  {
   "cell_type": "code",
   "execution_count": 27,
   "metadata": {},
   "outputs": [],
   "source": [
    "class CUSUM:\n",
    "    def __init__(self, k=0.5, h=5):\n",
    "        self.k = k\n",
    "        self.h = h\n",
    "        self.g = 0\n",
    "\n",
    "    def add_element(self, error):\n",
    "        zt = error\n",
    "        self.g = max(0, self.g + zt - self.k)\n",
    "\n",
    "    def check_drift(self):\n",
    "        return self.g > self.h\n"
   ]
  },
  {
   "cell_type": "code",
   "execution_count": 80,
   "metadata": {},
   "outputs": [
    {
     "name": "stdout",
     "output_type": "stream",
     "text": [
      "Detected Change Points (CUSUM): [157, 158, 390, 391, 392, 393, 394, 395, 396, 397, 398, 399, 400, 401, 402, 403, 1060, 1061, 1062, 1063, 1064, 1065, 1066, 1067, 1068, 1069, 1070, 1071, 1072, 1073, 1154, 1155, 1156, 1157, 1158, 1248, 1249, 1250, 1260, 1267, 1268, 1269, 1270, 1482, 1483, 1484, 1485, 1486, 1487, 1798, 1799, 1804, 1805, 1806, 1807, 1808, 1809, 1815, 1816, 1817, 1818, 1819, 1820, 1821, 1822, 1823, 1824, 1825, 1826, 1827, 1828, 1829, 1830, 1831, 1832, 1833, 1834, 1835, 1836, 1837, 1838, 1839, 1893, 1894, 1895, 1999, 2000, 2001, 2002, 2005, 2006, 2007, 2008, 2009, 2010, 2011, 2012, 2019, 2020, 2021, 2022, 2431, 2432, 2462, 2471, 2472, 2473, 2474, 2475, 2476, 2477, 2478, 2479, 2480, 2481, 2482, 2502, 3559, 3560, 3561, 3562, 3563, 3564, 3565, 3566, 3567, 3568, 3569, 3570, 3578, 3579, 3580, 3608, 3609, 3610, 3638, 3639, 3640, 3725, 3726, 3727, 3728, 3729, 3730, 3731, 3732, 3733, 3734, 3735, 3738, 3739, 3740, 3741, 3742, 3743, 3744, 3745, 3746, 3747, 3748, 3749, 3750, 3751, 3752, 3753, 3754, 3755, 3756, 3757, 3758, 3759, 3760, 3761, 3762, 3763, 3764, 3765, 3766, 3767, 3768, 3769, 3770, 3771, 3772, 3773, 3774, 3775, 3776, 3777, 3778, 3779, 3780, 3781, 3782, 3783, 3784, 3785, 3786, 3787, 3788, 3789, 3790, 3791, 3792, 3793, 3794, 3795, 3796, 3797, 3798, 3799, 3800, 3801, 3802, 3803, 3804, 3805, 3806, 3807, 3808, 3809, 3810, 3811, 3812, 3813, 3814, 3815, 3816, 3817, 3818, 3819, 3820, 3821, 3822, 3823, 3824, 3825, 3826, 3827, 3828, 3829, 3830, 3831, 3832, 3833, 3834, 3835, 3836, 3842, 3843, 3844, 3845, 3846, 4296, 4401, 4402, 4403, 4404, 4405, 4406, 4407, 4411, 4412, 4413, 4414, 4415, 4416, 4417, 4467, 4468, 4469, 4474, 4475, 4476, 4477, 4478, 4479, 4480, 4481, 4482, 4483, 4484, 4485, 4486, 4487, 4488, 4489, 4494, 4495, 4496, 4497, 4498, 4499, 4505, 4506, 4507, 4508, 4509, 4598, 4599, 4600, 4601, 4823, 5008, 5009, 5010, 5013, 5014, 5015, 5016, 5017, 5018, 5019, 5020, 5452, 5453, 5454, 5455, 5461, 5462, 5463, 5464, 5465, 5473, 5474, 5475, 5480, 5481, 5482, 5483, 5484, 5485, 5492, 5493, 5494, 5495, 5496, 5497, 5498, 5499, 5500, 5501, 5502, 5503, 5504, 5505, 5506, 5507, 5508, 5509, 5510, 5511, 5512, 5513, 5514, 5515, 5516, 5517, 5518, 5519, 5520, 5521, 5522, 5523, 5524, 5525, 5526, 5527, 5528, 5529, 5530, 5531, 5532, 5533, 5534, 5535, 5536, 5537, 5538, 5539, 5540, 5541, 5542, 5543, 5544, 5545, 5747, 5748, 5749, 5750, 5751, 5752, 5753, 5754, 5755, 5756, 5757, 5758, 5759, 5760, 5761, 5762, 5763, 5764, 5765, 5766, 5767, 5768, 5958, 5959, 5960, 5961, 5970, 5971, 6121, 6122, 6626, 6627, 6628, 6629, 6630, 6631, 6632, 6633, 6634, 6635, 6636, 6637, 6638, 6639, 6857, 6858, 6859, 6860, 6861, 6862, 6863, 6864, 6868, 6869, 6870, 6871, 6872, 6873, 6874, 6875, 6876, 6877, 6878, 6879, 6880, 6881, 6882, 6883, 6884, 7041, 7042, 7043, 7044, 7045, 7055, 7288, 7289, 7290, 7293, 7294, 7295, 7296, 7297, 7298, 7299, 7300, 7322, 7323, 7324, 7325, 7326, 7327, 7328, 7329, 7330, 7331, 7332, 7333, 7334, 7335, 7336, 7337, 7338, 7339, 7340, 7341, 7342, 7343, 7344, 7345, 7346, 7347, 7348, 7349, 7350, 7351, 7352, 7353, 7354, 7355, 7356, 7357, 7358, 7359, 7360, 7361, 7362, 7363, 7364, 7365, 7366, 7367, 7368, 7369, 7370, 7371, 7372, 7373, 7374, 7375, 7376, 7377, 7378, 7379, 7380, 7381, 7382, 7383, 7384, 7385, 7386, 7387, 7388, 7389, 7390, 7391, 7392, 7393, 7394, 7395, 7396, 7397, 7398, 7399, 7400, 7401, 7402, 7403, 7404, 7405, 7406, 7407, 7408, 7409, 7410, 7411, 7412, 7413, 7414, 7415, 7416, 7417, 7418, 7419, 7420, 7421, 7423, 7424, 7425, 7426, 7427, 7428, 7429, 7430, 7431, 7432, 7433, 7434, 7435, 7436, 7437, 7438, 7439, 7440, 7441, 7442, 7443, 7444, 7445, 7446, 7447, 7448, 7449, 7450, 7451, 7452, 7453, 7454, 7455, 7456, 7457, 7458, 7459, 7460, 7461, 7528, 7650, 7651, 7652, 7653, 7654, 7660, 7661, 7662, 7663, 7664, 7846, 7847, 7855, 7856, 7857, 7967, 7980, 7981, 7982, 7983, 7984, 7985, 7986, 7987, 8188, 8299, 8300, 8301, 8302, 8303, 8304, 8305, 8306, 8307, 8308, 8309, 8310, 8311, 8312, 8313, 8314, 8315, 8320, 8321, 8322, 8323, 8324, 8325, 8543, 8544, 8545, 8546, 8547, 8548, 8549, 8550, 8551, 8552, 8553, 8554, 8559, 8560, 8561, 8562, 8563, 8564, 8567, 8568, 8569, 8570, 8571, 8572, 8573, 8574, 8575, 8576, 8577, 8578, 8579, 8580, 8581, 8582, 8583, 8584, 8585, 8586, 8587, 8588, 8589, 8590, 8591, 8592, 8593, 8594, 8595, 8596, 8597, 8598, 8599, 8600, 8601, 8602, 8603, 8604, 8605, 8606, 8607, 8608, 8609, 8610, 8611, 8612, 8613, 8614, 8936, 8941, 8942, 8943, 8944, 8945, 8946, 8947, 8948, 8949, 8950, 8951, 8952, 8953, 8954, 8955, 8956, 8957, 8958, 8959, 8960, 8961, 8962, 8963, 8964, 8965, 8966, 9304, 9305, 9306, 9307, 9308, 9310, 9311, 9312, 9313, 9314, 9315, 9316, 9317, 9318, 9319, 9320, 9321, 9322, 9323, 9324, 9325, 9326, 9327, 9328, 9329, 9330, 9331, 9332, 9333, 9334, 9335, 9336, 9337, 9338, 9540, 9541, 9542, 9543, 9544, 9545, 9546, 9547, 9548, 9549, 9550, 9551, 9552, 9553, 9554, 9555, 9556, 9557, 9558, 9559, 9560, 9561, 9562, 9563, 9564, 9863, 9864, 9865, 9951, 10274, 10307, 10310, 10311, 10312, 10313, 10314, 10315, 10316, 10317, 10318, 10319, 10320, 10321, 10322, 10323, 10324, 10325, 10326, 10327, 10328, 10329, 10330, 10331, 10332, 10333, 10334, 10335, 10336, 10337, 10544, 10545, 10546, 10547, 10548, 10549, 10550, 10551, 10552, 10553, 10554, 10555, 10556, 10557, 10558, 10559, 10610, 10611, 10612, 10613, 10616, 10617, 10618, 10619, 10620, 10621, 10622, 10623, 10624, 10625, 10626, 10627, 10628, 10629, 10630, 10631, 10632, 10633, 10634, 10635, 10636, 10637, 10638, 10639, 10640, 10641, 10642, 10643, 10644, 10645, 10646, 10647, 10648, 10649, 10650, 10651, 10652, 10653]\n"
     ]
    }
   ],
   "source": [
    "# Create an instance of the CUSUM class\n",
    "cusum_detector = CUSUM(k=0.1, h=2)  \n",
    "\n",
    "# List to store detected change points using CUSUM\n",
    "detected_indexes_cusum = []\n",
    "\n",
    "# Iterate through the DataFrame and apply CUSUM\n",
    "for i in range(stream_size):\n",
    "    prediction = rf_predictions[i]\n",
    "    label = test_labels['label'].iloc[i]\n",
    "\n",
    "    # Update CUSUM with the label (1 for anomaly, 0 for normal)\n",
    "    cusum_detector.add_element(label)\n",
    "\n",
    "    # Check for drift detection after processing each element\n",
    "    if cusum_detector.check_drift():\n",
    "        detected_indexes_cusum.append(i)\n",
    "\n",
    "# Print or use the detected change points\n",
    "print(\"Detected Change Points (CUSUM):\", detected_indexes_cusum)"
   ]
  },
  {
   "cell_type": "code",
   "execution_count": 81,
   "metadata": {},
   "outputs": [],
   "source": [
    "# Evaluate change detection performance using CUSUM\n",
    "average_delay_cusum = calculate_delay_of_detection(true_attack_indexes, detected_indexes_cusum)\n",
    "fdr_cusum = calculate_false_detection_rate(true_attack_indexes, detected_indexes_cusum)\n",
    "mdr_cusum = calculate_miss_detection_rate(true_attack_indexes, detected_indexes_cusum)\n",
    "rod_cusum = calculate_rate_of_drift(detected_indexes_cusum, total_time=stream_size - 500)"
   ]
  },
  {
   "cell_type": "code",
   "execution_count": 82,
   "metadata": {},
   "outputs": [
    {
     "name": "stdout",
     "output_type": "stream",
     "text": [
      "EDDM Metrics:\n",
      "Average Delay: 21011.28503937008\n",
      "False Detection Rate (FDR): 0.42362204724409447\n",
      "Miss Detection Rate (MDR): -0.42362204724409447\n",
      "Rate of Drift (ROD): 0.08776699029126214\n"
     ]
    }
   ],
   "source": [
    "# Print evaluation metrics for EDDM\n",
    "print(\"EDDM Metrics:\")\n",
    "print(\"Average Delay:\", average_delay_cusum)\n",
    "print(\"False Detection Rate (FDR):\", fdr_cusum)\n",
    "print(\"Miss Detection Rate (MDR):\", mdr_cusum)\n",
    "print(\"Rate of Drift (ROD):\", rod_cusum)"
   ]
  },
  {
   "cell_type": "markdown",
   "metadata": {},
   "source": [
    "## Early Drift Detection Method (EDDM)"
   ]
  },
  {
   "cell_type": "markdown",
   "metadata": {},
   "source": [
    "This method works by keeping track of the average distance between two errors instead of only the error rate. For this, it is necessary to keep track of the running average distance and the running standard deviation, as well as the maximum distance and the maximum standard deviation.\n",
    "\n",
    "The algorithm works similarly to the DDM algorithm. Like DDM, there are two threshold values that define the borderline between no change, warning zone, and drift detected.\n",
    "These are as follows:\n",
    "\n",
    "**Warning zone**\n",
    "$$ \\frac{(p_i + 2 * s_i)}{(p_{max} + 2 * s_{max})} < \\alpha $$ \n",
    "\n",
    "**Change detected**\n",
    "\n",
    "$$\\frac{(p_i + 2 * s_i)}{(p_{max} + 2 * s_{max})} < \\beta $$ \n",
    "\n",
    "\n",
    "\n",
    "\n",
    "$\\alpha$ and  $\\beta$ are set to 0.95 and 0.9, respectively.\n",
    "\n",
    "\n",
    "<br><br>\n",
    "\n",
    "*References:*\n",
    "Early Drift Detection Method. Manuel Baena-Garcia, Jose Del Campo-Avila, Raúl Fidalgo, Albert Bifet, Ricard Gavalda, Rafael Morales-Bueno. In Fourth International Workshop on Knowledge Discovery from Data Streams, 2006."
   ]
  },
  {
   "cell_type": "code",
   "execution_count": 62,
   "metadata": {},
   "outputs": [],
   "source": [
    "import numpy as np\n",
    "\n",
    "class EDDM:\n",
    "    def __init__(self, alpha=0.95, beta=0.9, min_num_instances=30):\n",
    "        self.alpha = alpha\n",
    "        self.beta = beta\n",
    "        self.min_num_instances = min_num_instances\n",
    "\n",
    "        # Initialize attributes\n",
    "        self.n = 0\n",
    "        self.in_concept_change = 0\n",
    "        self.in_warning_zone = 0\n",
    "        self.delay = 0\n",
    "        self.num_errors = 0\n",
    "        self.last_d = 0\n",
    "        self.d = 0\n",
    "        self.mean = 0\n",
    "        self.std_temp = 0\n",
    "        self.estimation = 0\n",
    "        self.m2s_max = 0\n",
    "\n",
    "    def add_element(self, prediction):\n",
    "        self.in_concept_change = 0\n",
    "        self.n += 1\n",
    "\n",
    "        if prediction == 1.0:\n",
    "            self.in_warning_zone = 0\n",
    "            self.delay = 0\n",
    "            self.num_errors += 1\n",
    "            self.last_d = self.d\n",
    "            self.d = self.n - 1\n",
    "            distance = self.d - self.last_d\n",
    "            old_mean = self.mean\n",
    "            self.mean = self.mean + (float(distance) - self.mean) / self.num_errors\n",
    "            self.estimation = self.mean\n",
    "            self.std_temp = self.std_temp + (distance - self.mean) * (distance - old_mean)\n",
    "            std = np.sqrt(self.std_temp / self.num_errors)\n",
    "            m2s = self.mean + 2 * std\n",
    "\n",
    "            if self.n < self.min_num_instances:\n",
    "                return\n",
    "\n",
    "            if m2s > self.m2s_max:\n",
    "                self.m2s_max = m2s\n",
    "            else:\n",
    "                p = m2s / self.m2s_max\n",
    "                threshold_warning = (self.mean + 2 * std) / (self.m2s_max + 2 * np.sqrt(self.std_temp))\n",
    "                threshold_drift = threshold_warning * self.beta\n",
    "\n",
    "                if (self.num_errors > self.min_num_instances) and (p < self.alpha):\n",
    "                    self.in_concept_change = 1\n",
    "                elif (self.num_errors > self.min_num_instances) and (p < self.beta):\n",
    "                    self.in_warning_zone = 1\n",
    "\n",
    "                else:\n",
    "                    self.in_warning_zone = 0\n",
    "\n",
    "    def detected_warning_zone(self):\n",
    "        return self.in_warning_zone\n",
    "\n",
    "    def detected_change(self):\n",
    "        return self.in_concept_change"
   ]
  },
  {
   "cell_type": "code",
   "execution_count": 76,
   "metadata": {},
   "outputs": [
    {
     "name": "stdout",
     "output_type": "stream",
     "text": [
      "Detected Change Points (EDDM): [555, 574, 640, 648, 661, 664, 683, 689, 693, 712, 730, 771, 779, 833, 846, 1104, 1108, 1128, 1150, 1151, 1154, 1179, 1192, 1222, 1227, 1238, 1242, 1248, 1260, 1267, 1318, 1375, 1481, 1482, 1815, 1818, 1826, 1889, 1893, 1909, 1925, 1928, 1966, 1968, 1994, 1997, 1999, 2005, 2019, 2045, 2055, 2056, 2077, 2094, 2108, 2129, 2131, 2152, 2164, 2177, 2194, 2217, 2227, 2245, 2279, 2291, 2299, 2316, 2344, 2359, 2383, 2386, 2405, 2424, 2426, 2431, 2451, 2453, 2462, 2471, 2473, 2497, 2502, 2526, 2543, 2584, 2593, 2596, 2604, 2615, 2627, 2634, 2673, 2696, 2720, 2726, 2742, 2756, 2758, 2773, 2800, 2818, 2825, 2866, 2877, 2881, 2899, 2914, 2918, 2931, 2936, 2973, 3013, 3018, 3024, 3114, 3125, 3154, 3162, 3206, 3225, 3235, 3236, 3249, 3285, 3309, 3323, 3325, 3339, 3352, 3354, 3382, 3395, 3410, 3416, 3485, 3511, 3518, 3526, 3542, 3543, 3553, 3559, 3561, 3578, 3591, 3602, 3608, 3630, 3633, 3638, 3656, 3685, 3688, 3717, 3724, 3725, 3726, 3738, 3739, 3740, 3741, 3745, 3746, 3787, 3793, 3794, 3817, 3842, 3876, 3879, 3885, 3959, 3960, 3986, 4002, 4006, 4035, 4051, 4054, 4068, 4092, 4096, 4109, 4165, 4187, 4203, 4225, 4230, 4246, 4254, 4265, 4268, 4288, 4293, 4296, 4369, 4399, 4400, 4401, 4411, 4461, 4466, 4467, 4474, 4480, 4494, 4505, 4520, 4536, 4553, 4563, 4566, 4572, 4588, 4596, 4598, 4621, 4633, 4650, 4681, 4696, 4703, 4721, 4728, 4747, 4765, 4794, 4805, 4810, 4819, 4823, 4874, 4885, 4908, 4918, 4966, 4992, 5000, 5004, 5008, 5013, 5034, 5056, 5061, 5128, 5154, 5168, 5188, 5203, 5207, 5217, 5263, 5319, 5322, 5348, 5384, 5389, 5393, 5437, 5441, 5450, 5452, 5461, 5473, 5480, 5492, 5494, 5499, 5506, 5507, 5517, 5578, 5580, 5620, 5651, 5674, 5713, 5740, 5741, 5747, 5749, 5757, 5799, 5841, 5858, 5871, 5882, 5901, 5909, 5920, 5939, 5953, 5957, 5958, 5970, 6003, 6024, 6063, 6070, 6085, 6104, 6112, 6120, 6121, 6153, 6176, 6177, 6187, 6209, 6223, 6237, 6344, 6352, 6368, 6415, 6485, 6494, 6527, 6534, 6541, 6552, 6582, 6586, 6606, 6621, 6625, 6626, 6629, 6667, 6695, 6703, 6734, 6743, 6760, 6763, 6803, 6814, 6822, 6846, 6851, 6856, 6857, 6868, 6875, 6933, 6971, 6997, 7003, 7037, 7039, 7041, 7055, 7094, 7108, 7110, 7164, 7174, 7207, 7252, 7257, 7282, 7283, 7288, 7293, 7315, 7321, 7322, 7323, 7324, 7336, 7337, 7347, 7369, 7378, 7381, 7400, 7423, 7426, 7432, 7449, 7520, 7524, 7528, 7581, 7646, 7647, 7650, 7660, 7701, 7710, 7728, 7731, 7758, 7766, 7776, 7801, 7819, 7823, 7833, 7840, 7846, 7855, 7897, 7927, 7932, 7959, 7961, 7967, 7978, 7980, 8017, 8018, 8057, 8125, 8129, 8180, 8187, 8188, 8200, 8210, 8236, 8254, 8287, 8295, 8298, 8299, 8302, 8320, 8381, 8397, 8409, 8465, 8469, 8480, 8484, 8536, 8540, 8543, 8545, 8559, 8567, 8572, 8578, 8581, 8587, 8633, 8637, 8736, 8757, 8759, 8788, 8844, 8855, 8888, 8892, 8928, 8930, 8936, 8941, 8946, 8948, 8985, 9002, 9020, 9038, 9041, 9060, 9076, 9126, 9134, 9173, 9232, 9237, 9249, 9258, 9290, 9296, 9299, 9304, 9310, 9319, 9329, 9358, 9360, 9369, 9427, 9440]\n"
     ]
    }
   ],
   "source": [
    "# Create an instance of the EDDM class\n",
    "eddm_detector = EDDM()\n",
    "\n",
    "# List to store detected change points using EDDM\n",
    "detected_indexes_eddm = []\n",
    "\n",
    "# Iterate through the DataFrame and apply EDDM\n",
    "for i in range(stream_size):\n",
    "    prediction = rf_predictions[i]\n",
    "    label = test_labels['label'].iloc[i]\n",
    "\n",
    "    # Update EDDM with the label (1 for anomaly, 0 for normal)\n",
    "    eddm_detector.add_element(label)\n",
    "\n",
    "    # Check for change detection after processing each element\n",
    "    if eddm_detector.detected_change():\n",
    "        detected_indexes_eddm.append(i)\n",
    "\n",
    "# Print or use the detected change points\n",
    "print(\"Detected Change Points (EDDM):\", detected_indexes_eddm)"
   ]
  },
  {
   "cell_type": "code",
   "execution_count": 77,
   "metadata": {},
   "outputs": [],
   "source": [
    "# Evaluate change detection performance using EDDM\n",
    "average_delay_eddm = calculate_delay_of_detection(true_attack_indexes, detected_indexes_eddm)\n",
    "fdr_eddm = calculate_false_detection_rate(true_attack_indexes, detected_indexes_eddm)\n",
    "mdr_eddm = calculate_miss_detection_rate(true_attack_indexes, detected_indexes_eddm)\n",
    "rod_eddm = calculate_rate_of_drift(detected_indexes_eddm, total_time=stream_size - 500)"
   ]
  },
  {
   "cell_type": "code",
   "execution_count": 78,
   "metadata": {},
   "outputs": [
    {
     "name": "stdout",
     "output_type": "stream",
     "text": [
      "EDDM Metrics:\n",
      "Average Delay: 20736.112704918032\n",
      "False Detection Rate (FDR): -0.231496062992126\n",
      "Miss Detection Rate (MDR): 0.231496062992126\n",
      "Rate of Drift (ROD): 0.04737864077669903\n"
     ]
    }
   ],
   "source": [
    "# Print evaluation metrics for EDDM\n",
    "print(\"EDDM Metrics:\")\n",
    "print(\"Average Delay:\", average_delay_eddm)\n",
    "print(\"False Detection Rate (FDR):\", fdr_eddm)\n",
    "print(\"Miss Detection Rate (MDR):\", mdr_eddm)\n",
    "print(\"Rate of Drift (ROD):\", rod_eddm)"
   ]
  },
  {
   "cell_type": "markdown",
   "metadata": {},
   "source": [
    "## ADaptive WINdowing (ADWIN)"
   ]
  },
  {
   "cell_type": "markdown",
   "metadata": {},
   "source": [
    "**ADWIN (ADaptive WINdowing)** is an adaptive sliding window algorithm for detecting change, and keeping updated statistics about a data stream.\n",
    "ADWIN allows algorithms not adapted for drifting data, to be resistant to this phenomenon.\n",
    "\n",
    "The general idea is to keep statistics from a window of variable size while detecting concept drift.\n",
    "\n",
    "The algorithm will decide the size of the window by cutting the statistics' window at different points and analysing the average of some statistic over these two windows. If the absolute value of the difference between the two averages surpasses a pre-defined threshold, change is detected at that point and all data before that time is discarded.\n"
   ]
  },
  {
   "cell_type": "code",
   "execution_count": null,
   "metadata": {},
   "outputs": [],
   "source": [
    "class ADWIN:\n",
    "    def __init__(self, delta=0.002):\n",
    "        self.delta = delta\n",
    "        self.window = []\n",
    "        self.total_count = 0\n",
    "\n",
    "    def add_element(self, error):\n",
    "        self.window.append(error)\n",
    "        self.total_count += 1\n",
    "\n",
    "        if len(self.window) > 1:\n",
    "            self.check_drift()\n",
    "\n",
    "    def check_drift(self):\n",
    "        num_buckets = len(self.window)\n",
    "\n",
    "        for i in range(1, num_buckets):\n",
    "            w0 = self.window[:i]\n",
    "            w1 = self.window[i:]\n",
    "\n",
    "            if self.test(w0, w1):\n",
    "                self.window.pop(0)\n",
    "                break\n",
    "\n",
    "    def test(self, w0, w1):\n",
    "        mean_w0 = sum(w0) / len(w0) if len(w0) > 0 else 0\n",
    "        mean_w1 = sum(w1) / len(w1) if len(w1) > 0 else 0\n",
    "\n",
    "        var_w0 = sum((x - mean_w0) ** 2 for x in w0) / len(w0) if len(w0) > 1 else 0\n",
    "        var_w1 = sum((x - mean_w1) ** 2 for x in w1) / len(w1) if len(w1) > 1 else 0\n",
    "\n",
    "        if mean_w1 == 0:\n",
    "            return False\n",
    "\n",
    "        p_value = (mean_w0 + 2 * (var_w0 ** 0.5)) / (mean_w1 + 2 * (var_w1 ** 0.5))\n",
    "        \n",
    "        return p_value < self.delta\n",
    "\n"
   ]
  },
  {
   "cell_type": "code",
   "execution_count": null,
   "metadata": {},
   "outputs": [],
   "source": [
    "# Initialize ADWIN for change detection\n",
    "adwin = ADWIN(delta=0.002)\n",
    "\n",
    "# List detected change points\n",
    "detected_indexes_adwin = []\n",
    "\n",
    "for i in range(stream_size):\n",
    "    error = int(rf_model_predictions[i] != test_labels.iloc[i])\n",
    "\n",
    "    # Update ADWIN with the error signal\n",
    "    adwin.add_element(error)\n",
    "\n",
    "    # Check for change detection\n",
    "    if adwin.check_drift():\n",
    "        detected_indexes_adwin.append(i)"
   ]
  },
  {
   "cell_type": "code",
   "execution_count": null,
   "metadata": {},
   "outputs": [],
   "source": [
    "# Evaluate change detection performance using ADWIN\n",
    "average_delay_adwin = calculate_delay_of_detection(true_attack_indexes, detected_indexes_adwin)\n",
    "fdr_adwin = calculate_false_detection_rate(true_attack_indexes, detected_indexes_adwin)\n",
    "mdr_adwin = calculate_miss_detection_rate(true_attack_indexes, detected_indexes_adwin)\n",
    "rod_adwin = calculate_rate_of_drift(detected_indexes_adwin, total_time=stream_size - 500)"
   ]
  },
  {
   "cell_type": "code",
   "execution_count": null,
   "metadata": {},
   "outputs": [],
   "source": []
  }
 ],
 "metadata": {
  "kernelspec": {
   "display_name": "Python 3 (ipykernel)",
   "language": "python",
   "name": "python3"
  },
  "language_info": {
   "codemirror_mode": {
    "name": "ipython",
    "version": 3
   },
   "file_extension": ".py",
   "mimetype": "text/x-python",
   "name": "python",
   "nbconvert_exporter": "python",
   "pygments_lexer": "ipython3",
   "version": "3.10.3"
  }
 },
 "nbformat": 4,
 "nbformat_minor": 4
}
