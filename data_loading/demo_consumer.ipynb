{
 "cells": [
  {
   "cell_type": "code",
   "execution_count": 1,
   "id": "initial_id",
   "metadata": {
    "ExecuteTime": {
     "end_time": "2023-11-26T21:37:08.310187400Z",
     "start_time": "2023-11-26T21:37:08.271222700Z"
    },
    "collapsed": true
   },
   "outputs": [],
   "source": [
    "from kafka import KafkaConsumer\n",
    "from json import loads\n",
    "from time import sleep"
   ]
  },
  {
   "cell_type": "code",
   "execution_count": 2,
   "id": "38a6bb7d5dc2555d",
   "metadata": {
    "ExecuteTime": {
     "end_time": "2023-11-26T21:45:15.258301700Z",
     "start_time": "2023-11-26T21:45:15.243800600Z"
    },
    "collapsed": false
   },
   "outputs": [],
   "source": [
    "class DemoConsumer:\n",
    "    def __init__(self, topic, bootstrap_servers):\n",
    "        self.topic = topic\n",
    "        self.bootstrap_servers = bootstrap_servers\n",
    "        self.consumer = KafkaConsumer(\n",
    "            self.topic,\n",
    "            bootstrap_servers=self.bootstrap_servers,\n",
    "            auto_offset_reset='earliest',\n",
    "            enable_auto_commit=True,\n",
    "            value_deserializer=lambda x: loads(x.decode('utf-8')))\n",
    "\n",
    "    def consume(self):\n",
    "        # write to file\n",
    "        with open('data.txt', 'w') as f:\n",
    "            for i, message in enumerate(self.consumer):\n",
    "                message = message.value\n",
    "                # convert dict to string\n",
    "                message = str(message)\n",
    "                f.write(message)\n",
    "                if i > 100:\n",
    "                    break"
   ]
  },
  {
   "cell_type": "code",
   "execution_count": 3,
   "id": "d87835d0c9e48433",
   "metadata": {
    "ExecuteTime": {
     "end_time": "2023-11-26T21:45:15.908959600Z",
     "start_time": "2023-11-26T21:45:15.640888600Z"
    },
    "collapsed": false
   },
   "outputs": [],
   "source": [
    "topic = 'hai-input'\n",
    "bootstrap_servers = ['localhost:9092']\n",
    "consumer = DemoConsumer(topic, bootstrap_servers)\n",
    "consumer.consume()"
   ]
  },
  {
   "cell_type": "code",
   "execution_count": null,
   "id": "c93612d3b1d90b1f",
   "metadata": {
    "collapsed": false
   },
   "outputs": [],
   "source": []
  }
 ],
 "metadata": {
  "kernelspec": {
   "display_name": "Python 3",
   "language": "python",
   "name": "python3"
  },
  "language_info": {
   "codemirror_mode": {
    "name": "ipython",
    "version": 3
   },
   "file_extension": ".py",
   "mimetype": "text/x-python",
   "name": "python",
   "nbconvert_exporter": "python",
   "pygments_lexer": "ipython3",
   "version": "3.11.5"
  }
 },
 "nbformat": 4,
 "nbformat_minor": 5
}
