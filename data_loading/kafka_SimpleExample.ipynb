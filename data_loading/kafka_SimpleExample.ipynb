{
 "cells": [
  {
   "cell_type": "code",
   "execution_count": 14,
   "metadata": {},
   "outputs": [],
   "source": [
    "from kafka import KafkaProducer\n",
    "from time import sleep \n",
    "import json\n",
    "\n"
   ]
  },
  {
   "cell_type": "code",
   "execution_count": 15,
   "metadata": {},
   "outputs": [],
   "source": [
    "producer = KafkaProducer (bootstrap_servers=[\"localhost:9092\"],api_version=(0,10,1)) # creating a kafka producer and connecting to kafka"
   ]
  },
  {
   "cell_type": "code",
   "execution_count": 16,
   "metadata": {},
   "outputs": [
    {
     "data": {
      "text/plain": [
       "<kafka.producer.future.FutureRecordMetadata at 0x7f33d16d6140>"
      ]
     },
     "execution_count": 16,
     "metadata": {},
     "output_type": "execute_result"
    }
   ],
   "source": [
    "producer.send ('hai_input',b'hello this is jiyan im sending this from python!')"
   ]
  },
  {
   "cell_type": "code",
   "execution_count": 16,
   "metadata": {},
   "outputs": [
    {
     "name": "stdout",
     "output_type": "stream",
     "text": [
      "messege sent  0\n",
      "messege sent  1\n",
      "messege sent  2\n",
      "messege sent  3\n",
      "messege sent  4\n",
      "messege sent  5\n",
      "messege sent  6\n",
      "messege sent  7\n",
      "messege sent  8\n",
      "messege sent  9\n"
     ]
    }
   ],
   "source": [
    "for i in  range(10):\n",
    "    message=\"Hello {} OST\".format(i) \n",
    " \n",
    "    producer.send('user',json.dumps(message).encode('utf-8')) # topic name and then messege #json.dumps(message).encode('utf-8')\n",
    "    sleep(2)\n",
    "    print(\"messege sent \",i)"
   ]
  },
  {
   "cell_type": "code",
   "execution_count": null,
   "metadata": {},
   "outputs": [],
   "source": []
  },
  {
   "cell_type": "code",
   "execution_count": null,
   "metadata": {},
   "outputs": [],
   "source": []
  }
 ],
 "metadata": {
  "kernelspec": {
   "display_name": "Python 3 (ipykernel)",
   "language": "python",
   "name": "python3"
  },
  "language_info": {
   "codemirror_mode": {
    "name": "ipython",
    "version": 3
   },
   "file_extension": ".py",
   "mimetype": "text/x-python",
   "name": "python",
   "nbconvert_exporter": "python",
   "pygments_lexer": "ipython3",
   "version": "3.10.13"
  }
 },
 "nbformat": 4,
 "nbformat_minor": 4
}
