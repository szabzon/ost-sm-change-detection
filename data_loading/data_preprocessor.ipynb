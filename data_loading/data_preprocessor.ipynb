{
 "cells": [
  {
   "cell_type": "code",
   "execution_count": 66,
   "id": "initial_id",
   "metadata": {
    "collapsed": true,
    "ExecuteTime": {
     "end_time": "2023-12-04T16:50:40.297802600Z",
     "start_time": "2023-12-04T16:50:40.287946400Z"
    }
   },
   "outputs": [],
   "source": [
    "from kafka import KafkaProducer, KafkaConsumer\n",
    "import json"
   ]
  },
  {
   "cell_type": "code",
   "execution_count": 67,
   "outputs": [],
   "source": [
    "# Consume the unprocessed kafka stream\n",
    "class StreamPreprocessor:\n",
    "    def __init__(\n",
    "        self, \n",
    "        input_topic, \n",
    "        output_topic, \n",
    "        input_keys,\n",
    "        bootstrap_servers='localhost:9092', \n",
    "        auto_offset_reset='earliest',\n",
    "    ):\n",
    "        self.input_topic = input_topic\n",
    "        self.output_topic = output_topic\n",
    "        self.input_keys = input_keys\n",
    "        self.consumer = KafkaConsumer(\n",
    "            input_topic, \n",
    "            bootstrap_servers=bootstrap_servers, \n",
    "            auto_offset_reset=auto_offset_reset,\n",
    "            enable_auto_commit=True,\n",
    "            value_deserializer=lambda x: json.loads(x.decode('utf-8')))\n",
    "        self.producer = KafkaProducer(bootstrap_servers=bootstrap_servers)\n",
    "    \n",
    "    def map_keys(self, message, input_keys):\n",
    "        #print(message)\n",
    "        output_dict = {\n",
    "            'time': message.pop('time'),\n",
    "            'features': {},\n",
    "            'labels': {}\n",
    "        }\n",
    "        for key in input_keys:\n",
    "            if key == 'time':\n",
    "                continue\n",
    "            if key.startswith('attack'):\n",
    "                output_dict['labels'][key] = message.pop(key)\n",
    "            else:\n",
    "                output_dict['features'][key] = message.pop(key)\n",
    "        \n",
    "        return output_dict\n",
    "    \n",
    "    def run(self):\n",
    "        for i, message in enumerate(self.consumer):\n",
    "            output_dict = self.map_keys(message.value, self.input_keys)\n",
    "            self.producer.send(self.output_topic, json.dumps(output_dict).encode('utf-8'))\n",
    "            if i % 10000 == 0:\n",
    "                print(f'Processed {i} messages')"
   ],
   "metadata": {
    "collapsed": false,
    "ExecuteTime": {
     "end_time": "2023-12-04T16:50:40.542562500Z",
     "start_time": "2023-12-04T16:50:40.532447700Z"
    }
   },
   "id": "f728398955a322f3"
  },
  {
   "cell_type": "code",
   "execution_count": 68,
   "outputs": [],
   "source": [
    "input_columns = ['time', 'P1_B2004', 'P1_B2016', 'P1_B3004', 'P1_B3005', 'P1_B4002', 'P1_B4005', 'P1_B400B', 'P1_B4022', 'P1_FCV01D', 'P1_FCV01Z', 'P1_FCV02D', 'P1_FCV02Z', 'P1_FCV03D', 'P1_FCV03Z', 'P1_FT01', 'P1_FT01Z', 'P1_FT02', 'P1_FT02Z', 'P1_FT03', 'P1_FT03Z', 'P1_LCV01D', 'P1_LCV01Z', 'P1_LIT01', 'P1_PCV01D', 'P1_PCV01Z', 'P1_PCV02D', 'P1_PCV02Z', 'P1_PIT01', 'P1_PIT02', 'P1_PP01AD', 'P1_PP01AR', 'P1_PP01BD', 'P1_PP01BR', 'P1_PP02D', 'P1_PP02R', 'P1_STSP', 'P1_TIT01', 'P1_TIT02', 'P2_24Vdc', 'P2_ASD', 'P2_AutoGO', 'P2_CO_rpm', 'P2_Emerg', 'P2_HILout', 'P2_MSD', 'P2_ManualGO', 'P2_OnOff', 'P2_RTR', 'P2_SIT01', 'P2_SIT02', 'P2_TripEx', 'P2_VT01', 'P2_VTR01', 'P2_VTR02', 'P2_VTR03', 'P2_VTR04', 'P2_VXT02', 'P2_VXT03', 'P2_VYT02', 'P2_VYT03', 'P3_FIT01', 'P3_LCP01D', 'P3_LCV01D', 'P3_LH', 'P3_LIT01', 'P3_LL', 'P3_PIT01', 'P4_HT_FD', 'P4_HT_LD', 'P4_HT_PO', 'P4_HT_PS', 'P4_LD', 'P4_ST_FD', 'P4_ST_GOV', 'P4_ST_LD', 'P4_ST_PO', 'P4_ST_PS', 'P4_ST_PT01', 'P4_ST_TT01', 'attack', 'attack_P1', 'attack_P2', 'attack_P3']"
   ],
   "metadata": {
    "collapsed": false,
    "ExecuteTime": {
     "end_time": "2023-12-04T16:50:41.128519800Z",
     "start_time": "2023-12-04T16:50:41.117954600Z"
    }
   },
   "id": "3a90b48facaadec2"
  },
  {
   "cell_type": "code",
   "execution_count": 69,
   "outputs": [],
   "source": [
    "stream_preprocessor = StreamPreprocessor('hai-input', 'hai-preprocessed', input_columns)"
   ],
   "metadata": {
    "collapsed": false,
    "ExecuteTime": {
     "end_time": "2023-12-04T16:50:41.803883400Z",
     "start_time": "2023-12-04T16:50:41.574622100Z"
    }
   },
   "id": "672a6901ddd99693"
  },
  {
   "cell_type": "code",
   "execution_count": null,
   "outputs": [
    {
     "name": "stdout",
     "output_type": "stream",
     "text": [
      "Processed 0 messages\n",
      "Processed 10000 messages\n",
      "Processed 20000 messages\n",
      "Processed 30000 messages\n",
      "Processed 40000 messages\n"
     ]
    }
   ],
   "source": [
    "stream_preprocessor.run()"
   ],
   "metadata": {
    "collapsed": false,
    "is_executing": true,
    "ExecuteTime": {
     "start_time": "2023-12-04T16:50:41.959683400Z"
    }
   },
   "id": "cd8981af91684061"
  },
  {
   "cell_type": "code",
   "execution_count": null,
   "outputs": [],
   "source": [],
   "metadata": {
    "collapsed": false
   },
   "id": "6a9c0a9d85744161"
  }
 ],
 "metadata": {
  "kernelspec": {
   "display_name": "Python 3",
   "language": "python",
   "name": "python3"
  },
  "language_info": {
   "codemirror_mode": {
    "name": "ipython",
    "version": 2
   },
   "file_extension": ".py",
   "mimetype": "text/x-python",
   "name": "python",
   "nbconvert_exporter": "python",
   "pygments_lexer": "ipython2",
   "version": "2.7.6"
  }
 },
 "nbformat": 4,
 "nbformat_minor": 5
}
