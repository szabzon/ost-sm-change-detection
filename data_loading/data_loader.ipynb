{
 "cells": [
  {
   "cell_type": "code",
   "execution_count": 7,
   "id": "initial_id",
   "metadata": {
    "ExecuteTime": {
     "end_time": "2023-11-26T21:36:10.631873600Z",
     "start_time": "2023-11-26T21:36:10.373161100Z"
    },
    "collapsed": true
   },
   "outputs": [],
   "source": [
    "import os\n",
    "import pandas as pd\n",
    "from kafka import KafkaProducer\n",
    "from time import sleep\n",
    "import json"
   ]
  },
  {
   "cell_type": "code",
   "execution_count": 8,
   "id": "a6c1945b",
   "metadata": {},
   "outputs": [],
   "source": [
    "\n",
    "def json_serializer(data):\n",
    "    return json.dumps(data).encode(\"utf-8\")"
   ]
  },
  {
   "cell_type": "code",
   "execution_count": 9,
   "id": "4704aae4fe6503d9",
   "metadata": {
    "ExecuteTime": {
     "end_time": "2023-11-26T21:36:10.647276900Z",
     "start_time": "2023-11-26T21:36:10.632856200Z"
    },
    "collapsed": false
   },
   "outputs": [],
   "source": [
    "class KafkaDataStreamer:\n",
    "    \"\"\"\n",
    "    Class to stream data to Kafka\n",
    "    The data is read from a CSV file and sent to Kafka topic\n",
    "    \"\"\"\n",
    "    def __init__(self, bootstrap_servers, topic):\n",
    "        \"\"\"\n",
    "        Initialize the Kafka producer\n",
    "        :param bootstrap_servers: bootstrap servers for the Kafka cluster\n",
    "        :param topic: Kafka topic to which the data is sent\n",
    "        \"\"\"\n",
    "        self.bootstrap_servers = bootstrap_servers\n",
    "        self.topic = topic\n",
    "        # Initialize the Kafka producer\n",
    "        self.producer = KafkaProducer(bootstrap_servers=self.bootstrap_servers, \n",
    "                                      value_serializer=json_serializer,\n",
    "                                      api_version=(0, 10, 1))\n",
    "\n",
    "    def stream_data(self, data_path):\n",
    "        \"\"\"\n",
    "        Read the data from the CSV file and send it to Kafka topic\n",
    "        :param data_path: the path to the CSV file\n",
    "        :return: \n",
    "        \"\"\"\n",
    "        counter = 0\n",
    "        data = pd.read_csv(data_path, sep=';')\n",
    "        for _, row in data.iterrows():\n",
    "            counter += 1\n",
    "            if counter < 5000:\n",
    "                continue\n",
    "            \n",
    "            message = row.to_dict()\n",
    "            self.producer.send(self.topic, value=message)\n",
    "\n",
    "            if counter > 7000:\n",
    "                break\n",
    "            \n",
    "            "
   ]
  },
  {
   "cell_type": "code",
   "execution_count": 10,
   "id": "30dbb479821b4306",
   "metadata": {
    "ExecuteTime": {
     "end_time": "2023-11-26T21:36:19.906204700Z",
     "start_time": "2023-11-26T21:36:13.627892800Z"
    },
    "collapsed": false
   },
   "outputs": [],
   "source": [
    "data_path = '../data_loading/hai-23_05/test1.csv'\n",
    "bootstrap_servers = ['localhost:9092']  # Update with your Kafka bootstrap servers\n",
    "topic = 'hai-input-mao-3'\n",
    "\n",
    "# Stream the stored data to Kafka\n",
    "streamer = KafkaDataStreamer(bootstrap_servers, topic)\n",
    "streamer.stream_data(data_path)"
   ]
  },
  {
   "cell_type": "code",
   "execution_count": null,
   "id": "3d3330ff35648870",
   "metadata": {
    "collapsed": false
   },
   "outputs": [],
   "source": []
  },
  {
   "cell_type": "code",
   "execution_count": null,
   "id": "33c196ad",
   "metadata": {},
   "outputs": [],
   "source": []
  }
 ],
 "metadata": {
  "kernelspec": {
   "display_name": "Python 3",
   "language": "python",
   "name": "python3"
  },
  "language_info": {
   "codemirror_mode": {
    "name": "ipython",
    "version": 3
   },
   "file_extension": ".py",
   "mimetype": "text/x-python",
   "name": "python",
   "nbconvert_exporter": "python",
   "pygments_lexer": "ipython3",
   "version": "3.9.18"
  }
 },
 "nbformat": 4,
 "nbformat_minor": 5
}
