{
 "cells": [
  {
   "cell_type": "code",
   "execution_count": 68,
   "id": "initial_id",
   "metadata": {
    "collapsed": true,
    "ExecuteTime": {
     "end_time": "2023-12-02T18:21:27.332817300Z",
     "start_time": "2023-12-02T18:21:27.315240400Z"
    }
   },
   "outputs": [],
   "source": [
    "import os\n",
    "import pandas as pd\n",
    "from kafka import KafkaProducer\n",
    "from time import sleep"
   ]
  },
  {
   "cell_type": "code",
   "execution_count": 69,
   "id": "4704aae4fe6503d9",
   "metadata": {
    "collapsed": false,
    "ExecuteTime": {
     "end_time": "2023-12-02T18:21:27.581438800Z",
     "start_time": "2023-12-02T18:21:27.564009600Z"
    }
   },
   "outputs": [],
   "source": [
    "class KafkaDataStreamer:\n",
    "    \"\"\"\n",
    "    Class to stream data to Kafka\n",
    "    The data is read from a CSV file and sent to Kafka topic\n",
    "    \"\"\"\n",
    "    def __init__(self, bootstrap_servers, topic):\n",
    "        \"\"\"\n",
    "        Initialize the Kafka producer\n",
    "        :param bootstrap_servers: bootstrap servers for the Kafka cluster\n",
    "        :param topic: Kafka topic to which the data is sent\n",
    "        \"\"\"\n",
    "        self.bootstrap_servers = bootstrap_servers\n",
    "        self.topic = topic\n",
    "        # Initialize the Kafka producer\n",
    "        self.producer = KafkaProducer(bootstrap_servers=self.bootstrap_servers, api_version=(0, 10, 1))\n",
    "\n",
    "    def stream_data(self, data_path):\n",
    "        \"\"\"\n",
    "        Read the data from the CSV file and send it to Kafka topic\n",
    "        :param data_path: the path to the CSV file\n",
    "        :return: \n",
    "        \"\"\"\n",
    "\n",
    "        '''data = pd.read_csv(data_path)\n",
    "        for _, row in data.iterrows():\n",
    "            message = row.to_json()\n",
    "            self.producer.send(self.topic, value=message.encode('utf-8'))'''\n",
    "        \n",
    "        self.producer.send(self.topic, value='{\"id\": \"1\", \"name\": \"test\"}'.encode('utf-8'))\n",
    "            "
   ]
  },
  {
   "cell_type": "code",
   "execution_count": 70,
   "id": "30dbb479821b4306",
   "metadata": {
    "collapsed": false,
    "ExecuteTime": {
     "end_time": "2023-12-02T18:21:27.967442200Z",
     "start_time": "2023-12-02T18:21:27.929320900Z"
    }
   },
   "outputs": [],
   "source": [
    "data_folder = '../../hai_dataset/hai/hai-23.05'\n",
    "data_path = os.path.join(data_folder, 'hai-test1.csv').replace(os.sep, '/')\n",
    "bootstrap_servers = ['localhost:9092']  # Update with your Kafka bootstrap servers\n",
    "topic = 'hai-input'\n",
    "\n",
    "# Stream the stored data to Kafka\n",
    "streamer = KafkaDataStreamer(bootstrap_servers, topic)\n",
    "streamer.stream_data(data_path)"
   ]
  },
  {
   "cell_type": "code",
   "execution_count": null,
   "id": "3d3330ff35648870",
   "metadata": {
    "collapsed": false
   },
   "outputs": [],
   "source": []
  }
 ],
 "metadata": {
  "kernelspec": {
   "display_name": "Python 3",
   "language": "python",
   "name": "python3"
  },
  "language_info": {
   "codemirror_mode": {
    "name": "ipython",
    "version": 3
   },
   "file_extension": ".py",
   "mimetype": "text/x-python",
   "name": "python",
   "nbconvert_exporter": "python",
   "pygments_lexer": "ipython3",
   "version": "3.10.13"
  }
 },
 "nbformat": 4,
 "nbformat_minor": 5
}
