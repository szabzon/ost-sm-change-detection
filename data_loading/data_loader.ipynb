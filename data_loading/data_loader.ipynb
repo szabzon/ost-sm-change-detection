{
 "cells": [
  {
   "cell_type": "code",
   "execution_count": 5,
   "id": "initial_id",
   "metadata": {
    "collapsed": true,
    "ExecuteTime": {
     "end_time": "2023-11-22T20:15:10.203916600Z",
     "start_time": "2023-11-22T20:15:10.184879200Z"
    }
   },
   "outputs": [],
   "source": [
    "import os\n",
    "import pandas as pd\n",
    "from kafka import KafkaProducer\n",
    "from time import sleep"
   ]
  },
  {
   "cell_type": "code",
   "execution_count": 8,
   "outputs": [],
   "source": [
    "class KafkaDataStreamer:\n",
    "    \"\"\"\n",
    "    Class to stream data to Kafka\n",
    "    The data is read from a CSV file and sent to Kafka topic\n",
    "    \"\"\"\n",
    "    def __init__(self, bootstrap_servers, topic):\n",
    "        \"\"\"\n",
    "        Initialize the Kafka producer\n",
    "        :param bootstrap_servers: bootstrap servers for the Kafka cluster\n",
    "        :param topic: Kafka topic to which the data is sent\n",
    "        \"\"\"\n",
    "        self.bootstrap_servers = bootstrap_servers\n",
    "        self.topic = topic\n",
    "        # Initialize the Kafka producer\n",
    "        self.producer = KafkaProducer(bootstrap_servers=self.bootstrap_servers, api_version=(0, 10, 1))\n",
    "\n",
    "    def stream_data(self, data_path):\n",
    "        \"\"\"\n",
    "        Read the data from the CSV file and send it to Kafka topic\n",
    "        :param data_path: the path to the CSV file\n",
    "        :return: \n",
    "        \"\"\"\n",
    "        data = pd.read_csv(data_path)\n",
    "        for _, row in data.iterrows():\n",
    "            message = row.to_json()\n",
    "            self.producer.send(self.topic, value=message)\n",
    "            sleep(0.1)\n",
    "            "
   ],
   "metadata": {
    "collapsed": false,
    "ExecuteTime": {
     "end_time": "2023-11-22T20:19:46.586033500Z",
     "start_time": "2023-11-22T20:19:46.575130600Z"
    }
   },
   "id": "4704aae4fe6503d9"
  },
  {
   "cell_type": "code",
   "execution_count": 12,
   "outputs": [
    {
     "ename": "KafkaTimeoutError",
     "evalue": "KafkaTimeoutError: Failed to update metadata after 60.0 secs.",
     "output_type": "error",
     "traceback": [
      "\u001B[1;31m---------------------------------------------------------------------------\u001B[0m",
      "\u001B[1;31mKafkaTimeoutError\u001B[0m                         Traceback (most recent call last)",
      "Cell \u001B[1;32mIn[12], line 8\u001B[0m\n\u001B[0;32m      6\u001B[0m \u001B[38;5;66;03m# Stream the stored data to Kafka\u001B[39;00m\n\u001B[0;32m      7\u001B[0m streamer \u001B[38;5;241m=\u001B[39m KafkaDataStreamer(bootstrap_servers, topic)\n\u001B[1;32m----> 8\u001B[0m \u001B[43mstreamer\u001B[49m\u001B[38;5;241;43m.\u001B[39;49m\u001B[43mstream_data\u001B[49m\u001B[43m(\u001B[49m\u001B[43mdata_path\u001B[49m\u001B[43m)\u001B[49m\n",
      "Cell \u001B[1;32mIn[8], line 11\u001B[0m, in \u001B[0;36mKafkaDataStreamer.stream_data\u001B[1;34m(self, data_path)\u001B[0m\n\u001B[0;32m      9\u001B[0m \u001B[38;5;28;01mfor\u001B[39;00m _, row \u001B[38;5;129;01min\u001B[39;00m data\u001B[38;5;241m.\u001B[39miterrows():\n\u001B[0;32m     10\u001B[0m     message \u001B[38;5;241m=\u001B[39m row\u001B[38;5;241m.\u001B[39mto_json()\n\u001B[1;32m---> 11\u001B[0m     \u001B[38;5;28;43mself\u001B[39;49m\u001B[38;5;241;43m.\u001B[39;49m\u001B[43mproducer\u001B[49m\u001B[38;5;241;43m.\u001B[39;49m\u001B[43msend\u001B[49m\u001B[43m(\u001B[49m\u001B[38;5;28;43mself\u001B[39;49m\u001B[38;5;241;43m.\u001B[39;49m\u001B[43mtopic\u001B[49m\u001B[43m,\u001B[49m\u001B[43m \u001B[49m\u001B[43mvalue\u001B[49m\u001B[38;5;241;43m=\u001B[39;49m\u001B[43mmessage\u001B[49m\u001B[43m)\u001B[49m\n\u001B[0;32m     12\u001B[0m     sleep(\u001B[38;5;241m0.1\u001B[39m)\n",
      "File \u001B[1;32m~\\AppData\\Local\\Programs\\Python\\Python310\\lib\\site-packages\\kafka\\producer\\kafka.py:576\u001B[0m, in \u001B[0;36mKafkaProducer.send\u001B[1;34m(self, topic, value, key, headers, partition, timestamp_ms)\u001B[0m\n\u001B[0;32m    574\u001B[0m key_bytes \u001B[38;5;241m=\u001B[39m value_bytes \u001B[38;5;241m=\u001B[39m \u001B[38;5;28;01mNone\u001B[39;00m\n\u001B[0;32m    575\u001B[0m \u001B[38;5;28;01mtry\u001B[39;00m:\n\u001B[1;32m--> 576\u001B[0m     \u001B[38;5;28;43mself\u001B[39;49m\u001B[38;5;241;43m.\u001B[39;49m\u001B[43m_wait_on_metadata\u001B[49m\u001B[43m(\u001B[49m\u001B[43mtopic\u001B[49m\u001B[43m,\u001B[49m\u001B[43m \u001B[49m\u001B[38;5;28;43mself\u001B[39;49m\u001B[38;5;241;43m.\u001B[39;49m\u001B[43mconfig\u001B[49m\u001B[43m[\u001B[49m\u001B[38;5;124;43m'\u001B[39;49m\u001B[38;5;124;43mmax_block_ms\u001B[39;49m\u001B[38;5;124;43m'\u001B[39;49m\u001B[43m]\u001B[49m\u001B[43m \u001B[49m\u001B[38;5;241;43m/\u001B[39;49m\u001B[43m \u001B[49m\u001B[38;5;241;43m1000.0\u001B[39;49m\u001B[43m)\u001B[49m\n\u001B[0;32m    578\u001B[0m     key_bytes \u001B[38;5;241m=\u001B[39m \u001B[38;5;28mself\u001B[39m\u001B[38;5;241m.\u001B[39m_serialize(\n\u001B[0;32m    579\u001B[0m         \u001B[38;5;28mself\u001B[39m\u001B[38;5;241m.\u001B[39mconfig[\u001B[38;5;124m'\u001B[39m\u001B[38;5;124mkey_serializer\u001B[39m\u001B[38;5;124m'\u001B[39m],\n\u001B[0;32m    580\u001B[0m         topic, key)\n\u001B[0;32m    581\u001B[0m     value_bytes \u001B[38;5;241m=\u001B[39m \u001B[38;5;28mself\u001B[39m\u001B[38;5;241m.\u001B[39m_serialize(\n\u001B[0;32m    582\u001B[0m         \u001B[38;5;28mself\u001B[39m\u001B[38;5;241m.\u001B[39mconfig[\u001B[38;5;124m'\u001B[39m\u001B[38;5;124mvalue_serializer\u001B[39m\u001B[38;5;124m'\u001B[39m],\n\u001B[0;32m    583\u001B[0m         topic, value)\n",
      "File \u001B[1;32m~\\AppData\\Local\\Programs\\Python\\Python310\\lib\\site-packages\\kafka\\producer\\kafka.py:702\u001B[0m, in \u001B[0;36mKafkaProducer._wait_on_metadata\u001B[1;34m(self, topic, max_wait)\u001B[0m\n\u001B[0;32m    700\u001B[0m elapsed \u001B[38;5;241m=\u001B[39m time\u001B[38;5;241m.\u001B[39mtime() \u001B[38;5;241m-\u001B[39m begin\n\u001B[0;32m    701\u001B[0m \u001B[38;5;28;01mif\u001B[39;00m \u001B[38;5;129;01mnot\u001B[39;00m metadata_event\u001B[38;5;241m.\u001B[39mis_set():\n\u001B[1;32m--> 702\u001B[0m     \u001B[38;5;28;01mraise\u001B[39;00m Errors\u001B[38;5;241m.\u001B[39mKafkaTimeoutError(\n\u001B[0;32m    703\u001B[0m         \u001B[38;5;124m\"\u001B[39m\u001B[38;5;124mFailed to update metadata after \u001B[39m\u001B[38;5;132;01m%.1f\u001B[39;00m\u001B[38;5;124m secs.\u001B[39m\u001B[38;5;124m\"\u001B[39m \u001B[38;5;241m%\u001B[39m (max_wait,))\n\u001B[0;32m    704\u001B[0m \u001B[38;5;28;01melif\u001B[39;00m topic \u001B[38;5;129;01min\u001B[39;00m \u001B[38;5;28mself\u001B[39m\u001B[38;5;241m.\u001B[39m_metadata\u001B[38;5;241m.\u001B[39munauthorized_topics:\n\u001B[0;32m    705\u001B[0m     \u001B[38;5;28;01mraise\u001B[39;00m Errors\u001B[38;5;241m.\u001B[39mTopicAuthorizationFailedError(topic)\n",
      "\u001B[1;31mKafkaTimeoutError\u001B[0m: KafkaTimeoutError: Failed to update metadata after 60.0 secs."
     ]
    }
   ],
   "source": [
    "data_folder = 'hai-23_05'\n",
    "data_path = os.path.join(data_folder, 'hai-train1.csv').replace(os.sep, '/')\n",
    "bootstrap_servers = 'localhost:9092'  # Update with your Kafka bootstrap servers\n",
    "topic = 'HAI1'\n",
    "\n",
    "# Stream the stored data to Kafka\n",
    "streamer = KafkaDataStreamer(bootstrap_servers, topic)\n",
    "streamer.stream_data(data_path)"
   ],
   "metadata": {
    "collapsed": false,
    "ExecuteTime": {
     "end_time": "2023-11-22T20:24:27.160374200Z",
     "start_time": "2023-11-22T20:23:27.101232900Z"
    }
   },
   "id": "30dbb479821b4306"
  },
  {
   "cell_type": "code",
   "execution_count": null,
   "outputs": [],
   "source": [],
   "metadata": {
    "collapsed": false
   },
   "id": "3d3330ff35648870"
  }
 ],
 "metadata": {
  "kernelspec": {
   "display_name": "Python 3",
   "language": "python",
   "name": "python3"
  },
  "language_info": {
   "codemirror_mode": {
    "name": "ipython",
    "version": 2
   },
   "file_extension": ".py",
   "mimetype": "text/x-python",
   "name": "python",
   "nbconvert_exporter": "python",
   "pygments_lexer": "ipython2",
   "version": "2.7.6"
  }
 },
 "nbformat": 4,
 "nbformat_minor": 5
}
